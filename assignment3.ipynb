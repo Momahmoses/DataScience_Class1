{
 "cells": [
  {
   "cell_type": "code",
   "execution_count": 24,
   "metadata": {},
   "outputs": [
    {
     "data": {
      "text/html": [
       "<div>\n",
       "<style scoped>\n",
       "    .dataframe tbody tr th:only-of-type {\n",
       "        vertical-align: middle;\n",
       "    }\n",
       "\n",
       "    .dataframe tbody tr th {\n",
       "        vertical-align: top;\n",
       "    }\n",
       "\n",
       "    .dataframe thead th {\n",
       "        text-align: right;\n",
       "    }\n",
       "</style>\n",
       "<table border=\"1\" class=\"dataframe\">\n",
       "  <thead>\n",
       "    <tr style=\"text-align: right;\">\n",
       "      <th></th>\n",
       "      <th>Unnamed: 0</th>\n",
       "      <th>Title</th>\n",
       "      <th>Release Date</th>\n",
       "      <th>Description</th>\n",
       "      <th>Rating</th>\n",
       "      <th>No of Persons Voted</th>\n",
       "      <th>Directed by</th>\n",
       "      <th>Written by</th>\n",
       "      <th>Duration</th>\n",
       "      <th>Genres</th>\n",
       "    </tr>\n",
       "  </thead>\n",
       "  <tbody>\n",
       "    <tr>\n",
       "      <th>0</th>\n",
       "      <td>0</td>\n",
       "      <td>Dekalog (1988)</td>\n",
       "      <td>Mar 22, 1996</td>\n",
       "      <td>This masterwork by Krzysztof Kieślowski is one...</td>\n",
       "      <td>7.4</td>\n",
       "      <td>118</td>\n",
       "      <td>Krzysztof Kieslowski</td>\n",
       "      <td>Krzysztof Kieslowski, Krzysztof Piesiewicz</td>\n",
       "      <td>9 h 32 m</td>\n",
       "      <td>Drama</td>\n",
       "    </tr>\n",
       "    <tr>\n",
       "      <th>1</th>\n",
       "      <td>1</td>\n",
       "      <td>Three Colors: Red</td>\n",
       "      <td>Nov 23, 1994</td>\n",
       "      <td>Krzysztof Kieslowski closes his Three Colors t...</td>\n",
       "      <td>8.3</td>\n",
       "      <td>241</td>\n",
       "      <td>Krzysztof Kieslowski</td>\n",
       "      <td>Krzysztof Kieslowski, Krzysztof Piesiewicz, Ag...</td>\n",
       "      <td>1 h 39 m</td>\n",
       "      <td>Drama,Mystery,Romance</td>\n",
       "    </tr>\n",
       "    <tr>\n",
       "      <th>2</th>\n",
       "      <td>2</td>\n",
       "      <td>The Conformist</td>\n",
       "      <td>Oct 22, 1970</td>\n",
       "      <td>Set in Rome in the 1930s, this re-release of B...</td>\n",
       "      <td>7.3</td>\n",
       "      <td>106</td>\n",
       "      <td>Bernardo Bertolucci</td>\n",
       "      <td>Alberto Moravia, Bernardo Bertolucci</td>\n",
       "      <td>1 h 47 m</td>\n",
       "      <td>Drama</td>\n",
       "    </tr>\n",
       "    <tr>\n",
       "      <th>3</th>\n",
       "      <td>3</td>\n",
       "      <td>Tokyo Story</td>\n",
       "      <td>Mar 13, 1972</td>\n",
       "      <td>Yasujiro Ozu’s Tokyo Story follows an aging co...</td>\n",
       "      <td>8.1</td>\n",
       "      <td>147</td>\n",
       "      <td>Yasujirô Ozu</td>\n",
       "      <td>Kôgo Noda, Yasujirô Ozu</td>\n",
       "      <td>2 h 16 m</td>\n",
       "      <td>Drama</td>\n",
       "    </tr>\n",
       "    <tr>\n",
       "      <th>4</th>\n",
       "      <td>4</td>\n",
       "      <td>The Leopard (re-release)</td>\n",
       "      <td>Aug 13, 2004</td>\n",
       "      <td>Set in Sicily in 1860, Luchino Visconti's spec...</td>\n",
       "      <td>7.8</td>\n",
       "      <td>85</td>\n",
       "      <td>Luchino Visconti</td>\n",
       "      <td>Giuseppe Tomasi di Lampedusa, Suso Cecchi D'Am...</td>\n",
       "      <td>3 h 7 m</td>\n",
       "      <td>Drama,History</td>\n",
       "    </tr>\n",
       "  </tbody>\n",
       "</table>\n",
       "</div>"
      ],
      "text/plain": [
       "   Unnamed: 0                     Title  Release Date  \\\n",
       "0           0            Dekalog (1988)  Mar 22, 1996   \n",
       "1           1         Three Colors: Red  Nov 23, 1994   \n",
       "2           2            The Conformist  Oct 22, 1970   \n",
       "3           3               Tokyo Story  Mar 13, 1972   \n",
       "4           4  The Leopard (re-release)  Aug 13, 2004   \n",
       "\n",
       "                                         Description  Rating  \\\n",
       "0  This masterwork by Krzysztof Kieślowski is one...     7.4   \n",
       "1  Krzysztof Kieslowski closes his Three Colors t...     8.3   \n",
       "2  Set in Rome in the 1930s, this re-release of B...     7.3   \n",
       "3  Yasujiro Ozu’s Tokyo Story follows an aging co...     8.1   \n",
       "4  Set in Sicily in 1860, Luchino Visconti's spec...     7.8   \n",
       "\n",
       "  No of Persons Voted           Directed by  \\\n",
       "0                 118  Krzysztof Kieslowski   \n",
       "1                 241  Krzysztof Kieslowski   \n",
       "2                 106   Bernardo Bertolucci   \n",
       "3                 147          Yasujirô Ozu   \n",
       "4                  85      Luchino Visconti   \n",
       "\n",
       "                                          Written by  Duration  \\\n",
       "0         Krzysztof Kieslowski, Krzysztof Piesiewicz  9 h 32 m   \n",
       "1  Krzysztof Kieslowski, Krzysztof Piesiewicz, Ag...  1 h 39 m   \n",
       "2               Alberto Moravia, Bernardo Bertolucci  1 h 47 m   \n",
       "3                            Kôgo Noda, Yasujirô Ozu  2 h 16 m   \n",
       "4  Giuseppe Tomasi di Lampedusa, Suso Cecchi D'Am...   3 h 7 m   \n",
       "\n",
       "                  Genres  \n",
       "0                  Drama  \n",
       "1  Drama,Mystery,Romance  \n",
       "2                  Drama  \n",
       "3                  Drama  \n",
       "4          Drama,History  "
      ]
     },
     "execution_count": 24,
     "metadata": {},
     "output_type": "execute_result"
    }
   ],
   "source": [
    "import pandas as pd\n",
    "import numpy as np\n",
    "df = pd.read_csv('16k_Movies.csv')\n",
    "df.head()\n"
   ]
  },
  {
   "cell_type": "code",
   "execution_count": 25,
   "metadata": {},
   "outputs": [
    {
     "data": {
      "text/html": [
       "<div>\n",
       "<style scoped>\n",
       "    .dataframe tbody tr th:only-of-type {\n",
       "        vertical-align: middle;\n",
       "    }\n",
       "\n",
       "    .dataframe tbody tr th {\n",
       "        vertical-align: top;\n",
       "    }\n",
       "\n",
       "    .dataframe thead th {\n",
       "        text-align: right;\n",
       "    }\n",
       "</style>\n",
       "<table border=\"1\" class=\"dataframe\">\n",
       "  <thead>\n",
       "    <tr style=\"text-align: right;\">\n",
       "      <th></th>\n",
       "      <th>Unnamed: 0</th>\n",
       "      <th>Title</th>\n",
       "      <th>Release Date</th>\n",
       "      <th>Description</th>\n",
       "      <th>Rating</th>\n",
       "      <th>No of Persons Voted</th>\n",
       "      <th>Directed by</th>\n",
       "      <th>Written by</th>\n",
       "      <th>Duration</th>\n",
       "      <th>Genres</th>\n",
       "    </tr>\n",
       "  </thead>\n",
       "  <tbody>\n",
       "    <tr>\n",
       "      <th>0</th>\n",
       "      <td>0</td>\n",
       "      <td>Dekalog (1988)</td>\n",
       "      <td>Mar 22, 1996</td>\n",
       "      <td>This masterwork by Krzysztof Kieślowski is one...</td>\n",
       "      <td>7.4</td>\n",
       "      <td>118</td>\n",
       "      <td>Krzysztof Kieslowski</td>\n",
       "      <td>Krzysztof Kieslowski, Krzysztof Piesiewicz</td>\n",
       "      <td>9 h 32 m</td>\n",
       "      <td>Drama</td>\n",
       "    </tr>\n",
       "    <tr>\n",
       "      <th>1</th>\n",
       "      <td>1</td>\n",
       "      <td>Three Colors: Red</td>\n",
       "      <td>Nov 23, 1994</td>\n",
       "      <td>Krzysztof Kieslowski closes his Three Colors t...</td>\n",
       "      <td>8.3</td>\n",
       "      <td>241</td>\n",
       "      <td>Krzysztof Kieslowski</td>\n",
       "      <td>Krzysztof Kieslowski, Krzysztof Piesiewicz, Ag...</td>\n",
       "      <td>1 h 39 m</td>\n",
       "      <td>Drama,Mystery,Romance</td>\n",
       "    </tr>\n",
       "    <tr>\n",
       "      <th>2</th>\n",
       "      <td>2</td>\n",
       "      <td>The Conformist</td>\n",
       "      <td>Oct 22, 1970</td>\n",
       "      <td>Set in Rome in the 1930s, this re-release of B...</td>\n",
       "      <td>7.3</td>\n",
       "      <td>106</td>\n",
       "      <td>Bernardo Bertolucci</td>\n",
       "      <td>Alberto Moravia, Bernardo Bertolucci</td>\n",
       "      <td>1 h 47 m</td>\n",
       "      <td>Drama</td>\n",
       "    </tr>\n",
       "    <tr>\n",
       "      <th>3</th>\n",
       "      <td>3</td>\n",
       "      <td>Tokyo Story</td>\n",
       "      <td>Mar 13, 1972</td>\n",
       "      <td>Yasujiro Ozu’s Tokyo Story follows an aging co...</td>\n",
       "      <td>8.1</td>\n",
       "      <td>147</td>\n",
       "      <td>Yasujirô Ozu</td>\n",
       "      <td>Kôgo Noda, Yasujirô Ozu</td>\n",
       "      <td>2 h 16 m</td>\n",
       "      <td>Drama</td>\n",
       "    </tr>\n",
       "    <tr>\n",
       "      <th>4</th>\n",
       "      <td>4</td>\n",
       "      <td>The Leopard (re-release)</td>\n",
       "      <td>Aug 13, 2004</td>\n",
       "      <td>Set in Sicily in 1860, Luchino Visconti's spec...</td>\n",
       "      <td>7.8</td>\n",
       "      <td>85</td>\n",
       "      <td>Luchino Visconti</td>\n",
       "      <td>Giuseppe Tomasi di Lampedusa, Suso Cecchi D'Am...</td>\n",
       "      <td>3 h 7 m</td>\n",
       "      <td>Drama,History</td>\n",
       "    </tr>\n",
       "    <tr>\n",
       "      <th>...</th>\n",
       "      <td>...</td>\n",
       "      <td>...</td>\n",
       "      <td>...</td>\n",
       "      <td>...</td>\n",
       "      <td>...</td>\n",
       "      <td>...</td>\n",
       "      <td>...</td>\n",
       "      <td>...</td>\n",
       "      <td>...</td>\n",
       "      <td>...</td>\n",
       "    </tr>\n",
       "    <tr>\n",
       "      <th>16285</th>\n",
       "      <td>16285</td>\n",
       "      <td>Boys to Men</td>\n",
       "      <td>Apr 27, 2001</td>\n",
       "      <td>Compilation of 4 short films from different di...</td>\n",
       "      <td>NaN</td>\n",
       "      <td>NaN</td>\n",
       "      <td>NaN</td>\n",
       "      <td>NaN</td>\n",
       "      <td>\\n        https://www.amazon.com/Boys-Men-Phil...</td>\n",
       "      <td>Drama</td>\n",
       "    </tr>\n",
       "    <tr>\n",
       "      <th>16286</th>\n",
       "      <td>16286</td>\n",
       "      <td>Saint Misbehavin': The Wavy Gravy Movie</td>\n",
       "      <td>Dec 10, 2010</td>\n",
       "      <td>Beginning with Woodstock ‘99, director Michell...</td>\n",
       "      <td>NaN</td>\n",
       "      <td>NaN</td>\n",
       "      <td>Michelle Esrick</td>\n",
       "      <td>NaN</td>\n",
       "      <td>Not Rated</td>\n",
       "      <td>Documentary</td>\n",
       "    </tr>\n",
       "    <tr>\n",
       "      <th>16287</th>\n",
       "      <td>16287</td>\n",
       "      <td>Collectors</td>\n",
       "      <td>Oct 1, 2000</td>\n",
       "      <td>America is drawn to the macabre handiwork of t...</td>\n",
       "      <td>NaN</td>\n",
       "      <td>NaN</td>\n",
       "      <td>Julian P. Hobbs</td>\n",
       "      <td>NaN</td>\n",
       "      <td>1 h 20 m</td>\n",
       "      <td>Documentary</td>\n",
       "    </tr>\n",
       "    <tr>\n",
       "      <th>16288</th>\n",
       "      <td>16288</td>\n",
       "      <td>Bonhoeffer</td>\n",
       "      <td>Jun 20, 2003</td>\n",
       "      <td>Dramatic documentary about the young German pa...</td>\n",
       "      <td>NaN</td>\n",
       "      <td>NaN</td>\n",
       "      <td>Martin Doblmeier</td>\n",
       "      <td>Martin Doblmeier</td>\n",
       "      <td>1 h 33 m</td>\n",
       "      <td>Documentary,Biography,History,War</td>\n",
       "    </tr>\n",
       "    <tr>\n",
       "      <th>16289</th>\n",
       "      <td>16289</td>\n",
       "      <td>7th Street</td>\n",
       "      <td>Jan 17, 2003</td>\n",
       "      <td>This documentary explores change in one of the...</td>\n",
       "      <td>NaN</td>\n",
       "      <td>NaN</td>\n",
       "      <td>Josh Pais</td>\n",
       "      <td>Josh Pais</td>\n",
       "      <td>\\n        http://www.7thstreetmovie.com/\\n    ...</td>\n",
       "      <td>Documentary</td>\n",
       "    </tr>\n",
       "  </tbody>\n",
       "</table>\n",
       "<p>16290 rows × 10 columns</p>\n",
       "</div>"
      ],
      "text/plain": [
       "       Unnamed: 0                                    Title  Release Date  \\\n",
       "0               0                           Dekalog (1988)  Mar 22, 1996   \n",
       "1               1                        Three Colors: Red  Nov 23, 1994   \n",
       "2               2                           The Conformist  Oct 22, 1970   \n",
       "3               3                              Tokyo Story  Mar 13, 1972   \n",
       "4               4                 The Leopard (re-release)  Aug 13, 2004   \n",
       "...           ...                                      ...           ...   \n",
       "16285       16285                              Boys to Men  Apr 27, 2001   \n",
       "16286       16286  Saint Misbehavin': The Wavy Gravy Movie  Dec 10, 2010   \n",
       "16287       16287                               Collectors   Oct 1, 2000   \n",
       "16288       16288                               Bonhoeffer  Jun 20, 2003   \n",
       "16289       16289                               7th Street  Jan 17, 2003   \n",
       "\n",
       "                                             Description  Rating  \\\n",
       "0      This masterwork by Krzysztof Kieślowski is one...     7.4   \n",
       "1      Krzysztof Kieslowski closes his Three Colors t...     8.3   \n",
       "2      Set in Rome in the 1930s, this re-release of B...     7.3   \n",
       "3      Yasujiro Ozu’s Tokyo Story follows an aging co...     8.1   \n",
       "4      Set in Sicily in 1860, Luchino Visconti's spec...     7.8   \n",
       "...                                                  ...     ...   \n",
       "16285  Compilation of 4 short films from different di...     NaN   \n",
       "16286  Beginning with Woodstock ‘99, director Michell...     NaN   \n",
       "16287  America is drawn to the macabre handiwork of t...     NaN   \n",
       "16288  Dramatic documentary about the young German pa...     NaN   \n",
       "16289  This documentary explores change in one of the...     NaN   \n",
       "\n",
       "      No of Persons Voted           Directed by  \\\n",
       "0                     118  Krzysztof Kieslowski   \n",
       "1                     241  Krzysztof Kieslowski   \n",
       "2                     106   Bernardo Bertolucci   \n",
       "3                     147          Yasujirô Ozu   \n",
       "4                      85      Luchino Visconti   \n",
       "...                   ...                   ...   \n",
       "16285                 NaN                   NaN   \n",
       "16286                 NaN       Michelle Esrick   \n",
       "16287                 NaN       Julian P. Hobbs   \n",
       "16288                 NaN      Martin Doblmeier   \n",
       "16289                 NaN             Josh Pais   \n",
       "\n",
       "                                              Written by  \\\n",
       "0             Krzysztof Kieslowski, Krzysztof Piesiewicz   \n",
       "1      Krzysztof Kieslowski, Krzysztof Piesiewicz, Ag...   \n",
       "2                   Alberto Moravia, Bernardo Bertolucci   \n",
       "3                                Kôgo Noda, Yasujirô Ozu   \n",
       "4      Giuseppe Tomasi di Lampedusa, Suso Cecchi D'Am...   \n",
       "...                                                  ...   \n",
       "16285                                                NaN   \n",
       "16286                                                NaN   \n",
       "16287                                                NaN   \n",
       "16288                                   Martin Doblmeier   \n",
       "16289                                          Josh Pais   \n",
       "\n",
       "                                                Duration  \\\n",
       "0                                               9 h 32 m   \n",
       "1                                               1 h 39 m   \n",
       "2                                               1 h 47 m   \n",
       "3                                               2 h 16 m   \n",
       "4                                                3 h 7 m   \n",
       "...                                                  ...   \n",
       "16285  \\n        https://www.amazon.com/Boys-Men-Phil...   \n",
       "16286                                          Not Rated   \n",
       "16287                                           1 h 20 m   \n",
       "16288                                           1 h 33 m   \n",
       "16289  \\n        http://www.7thstreetmovie.com/\\n    ...   \n",
       "\n",
       "                                  Genres  \n",
       "0                                  Drama  \n",
       "1                  Drama,Mystery,Romance  \n",
       "2                                  Drama  \n",
       "3                                  Drama  \n",
       "4                          Drama,History  \n",
       "...                                  ...  \n",
       "16285                              Drama  \n",
       "16286                        Documentary  \n",
       "16287                        Documentary  \n",
       "16288  Documentary,Biography,History,War  \n",
       "16289                        Documentary  \n",
       "\n",
       "[16290 rows x 10 columns]"
      ]
     },
     "execution_count": 25,
     "metadata": {},
     "output_type": "execute_result"
    }
   ],
   "source": [
    "df.drop_duplicates()"
   ]
  },
  {
   "cell_type": "code",
   "execution_count": 26,
   "metadata": {},
   "outputs": [
    {
     "data": {
      "text/plain": [
       "0        False\n",
       "1        False\n",
       "2        False\n",
       "3        False\n",
       "4        False\n",
       "         ...  \n",
       "16285    False\n",
       "16286    False\n",
       "16287    False\n",
       "16288    False\n",
       "16289    False\n",
       "Length: 16290, dtype: bool"
      ]
     },
     "execution_count": 26,
     "metadata": {},
     "output_type": "execute_result"
    }
   ],
   "source": [
    "df.duplicated()"
   ]
  },
  {
   "cell_type": "code",
   "execution_count": 27,
   "metadata": {},
   "outputs": [
    {
     "data": {
      "text/plain": [
       "Unnamed: 0                0\n",
       "Title                     0\n",
       "Release Date              0\n",
       "Description               0\n",
       "Rating                 3444\n",
       "No of Persons Voted    3461\n",
       "Directed by               7\n",
       "Written by              963\n",
       "Duration                 13\n",
       "Genres                    5\n",
       "dtype: int64"
      ]
     },
     "execution_count": 27,
     "metadata": {},
     "output_type": "execute_result"
    }
   ],
   "source": [
    "df.isnull().sum()"
   ]
  },
  {
   "cell_type": "code",
   "execution_count": 28,
   "metadata": {},
   "outputs": [
    {
     "name": "stderr",
     "output_type": "stream",
     "text": [
      "C:\\Users\\USER\\AppData\\Local\\Temp\\ipykernel_3784\\1133144006.py:1: FutureWarning: Series.fillna with 'method' is deprecated and will raise in a future version. Use obj.ffill() or obj.bfill() instead.\n",
      "  df['Genres'] = df['Genres'].fillna(method='ffill')\n"
     ]
    }
   ],
   "source": [
    "df['Genres'] = df['Genres'].fillna(method='ffill')"
   ]
  },
  {
   "cell_type": "code",
   "execution_count": 29,
   "metadata": {},
   "outputs": [
    {
     "data": {
      "text/plain": [
       "np.int64(0)"
      ]
     },
     "execution_count": 29,
     "metadata": {},
     "output_type": "execute_result"
    }
   ],
   "source": [
    "df['Genres'].isnull().sum()"
   ]
  },
  {
   "cell_type": "code",
   "execution_count": 30,
   "metadata": {},
   "outputs": [
    {
     "name": "stderr",
     "output_type": "stream",
     "text": [
      "C:\\Users\\USER\\AppData\\Local\\Temp\\ipykernel_3784\\2036964898.py:1: FutureWarning: Series.fillna with 'method' is deprecated and will raise in a future version. Use obj.ffill() or obj.bfill() instead.\n",
      "  df['No of Persons Voted'] = df['No of Persons Voted'].fillna(method= 'backfill')\n"
     ]
    }
   ],
   "source": [
    "df['No of Persons Voted'] = df['No of Persons Voted'].fillna(method= 'backfill')"
   ]
  },
  {
   "cell_type": "code",
   "execution_count": 31,
   "metadata": {},
   "outputs": [
    {
     "data": {
      "text/plain": [
       "np.int64(7)"
      ]
     },
     "execution_count": 31,
     "metadata": {},
     "output_type": "execute_result"
    }
   ],
   "source": [
    "df['No of Persons Voted'].isnull().sum()"
   ]
  },
  {
   "cell_type": "code",
   "execution_count": 32,
   "metadata": {},
   "outputs": [
    {
     "name": "stderr",
     "output_type": "stream",
     "text": [
      "C:\\Users\\USER\\AppData\\Local\\Temp\\ipykernel_3784\\2766833199.py:1: FutureWarning: Series.fillna with 'method' is deprecated and will raise in a future version. Use obj.ffill() or obj.bfill() instead.\n",
      "  df['No of Persons Voted'] = df['No of Persons Voted'].fillna(method= 'ffill')\n"
     ]
    }
   ],
   "source": [
    "df['No of Persons Voted'] = df['No of Persons Voted'].fillna(method= 'ffill')"
   ]
  },
  {
   "cell_type": "code",
   "execution_count": 33,
   "metadata": {},
   "outputs": [
    {
     "data": {
      "text/plain": [
       "np.int64(0)"
      ]
     },
     "execution_count": 33,
     "metadata": {},
     "output_type": "execute_result"
    }
   ],
   "source": [
    "df['No of Persons Voted'].isnull().sum()"
   ]
  },
  {
   "cell_type": "code",
   "execution_count": 34,
   "metadata": {},
   "outputs": [],
   "source": [
    "df['Rating'] = df['Rating'].astype('float')"
   ]
  },
  {
   "cell_type": "code",
   "execution_count": 35,
   "metadata": {},
   "outputs": [],
   "source": [
    "df['Rating'] = df['Rating'].fillna(df['Rating'].mean())"
   ]
  },
  {
   "cell_type": "code",
   "execution_count": 36,
   "metadata": {},
   "outputs": [
    {
     "ename": "ValueError",
     "evalue": "invalid literal for int() with base 10: '4,102'",
     "output_type": "error",
     "traceback": [
      "\u001b[1;31m---------------------------------------------------------------------------\u001b[0m",
      "\u001b[1;31mValueError\u001b[0m                                Traceback (most recent call last)",
      "Cell \u001b[1;32mIn[36], line 1\u001b[0m\n\u001b[1;32m----> 1\u001b[0m df[\u001b[39m'\u001b[39m\u001b[39mNo of Persons Voted\u001b[39m\u001b[39m'\u001b[39m] \u001b[39m=\u001b[39m df[\u001b[39m'\u001b[39;49m\u001b[39mNo of Persons Voted\u001b[39;49m\u001b[39m'\u001b[39;49m]\u001b[39m.\u001b[39;49mastype(\u001b[39m'\u001b[39;49m\u001b[39mint\u001b[39;49m\u001b[39m'\u001b[39;49m)\n",
      "File \u001b[1;32mc:\\Users\\USER\\AppData\\Local\\Programs\\Python\\Python311\\Lib\\site-packages\\pandas\\core\\generic.py:6643\u001b[0m, in \u001b[0;36mNDFrame.astype\u001b[1;34m(self, dtype, copy, errors)\u001b[0m\n\u001b[0;32m   6637\u001b[0m     results \u001b[39m=\u001b[39m [\n\u001b[0;32m   6638\u001b[0m         ser\u001b[39m.\u001b[39mastype(dtype, copy\u001b[39m=\u001b[39mcopy, errors\u001b[39m=\u001b[39merrors) \u001b[39mfor\u001b[39;00m _, ser \u001b[39min\u001b[39;00m \u001b[39mself\u001b[39m\u001b[39m.\u001b[39mitems()\n\u001b[0;32m   6639\u001b[0m     ]\n\u001b[0;32m   6641\u001b[0m \u001b[39melse\u001b[39;00m:\n\u001b[0;32m   6642\u001b[0m     \u001b[39m# else, only a single dtype is given\u001b[39;00m\n\u001b[1;32m-> 6643\u001b[0m     new_data \u001b[39m=\u001b[39m \u001b[39mself\u001b[39;49m\u001b[39m.\u001b[39;49m_mgr\u001b[39m.\u001b[39;49mastype(dtype\u001b[39m=\u001b[39;49mdtype, copy\u001b[39m=\u001b[39;49mcopy, errors\u001b[39m=\u001b[39;49merrors)\n\u001b[0;32m   6644\u001b[0m     res \u001b[39m=\u001b[39m \u001b[39mself\u001b[39m\u001b[39m.\u001b[39m_constructor_from_mgr(new_data, axes\u001b[39m=\u001b[39mnew_data\u001b[39m.\u001b[39maxes)\n\u001b[0;32m   6645\u001b[0m     \u001b[39mreturn\u001b[39;00m res\u001b[39m.\u001b[39m__finalize__(\u001b[39mself\u001b[39m, method\u001b[39m=\u001b[39m\u001b[39m\"\u001b[39m\u001b[39mastype\u001b[39m\u001b[39m\"\u001b[39m)\n",
      "File \u001b[1;32mc:\\Users\\USER\\AppData\\Local\\Programs\\Python\\Python311\\Lib\\site-packages\\pandas\\core\\internals\\managers.py:430\u001b[0m, in \u001b[0;36mBaseBlockManager.astype\u001b[1;34m(self, dtype, copy, errors)\u001b[0m\n\u001b[0;32m    427\u001b[0m \u001b[39melif\u001b[39;00m using_copy_on_write():\n\u001b[0;32m    428\u001b[0m     copy \u001b[39m=\u001b[39m \u001b[39mFalse\u001b[39;00m\n\u001b[1;32m--> 430\u001b[0m \u001b[39mreturn\u001b[39;00m \u001b[39mself\u001b[39;49m\u001b[39m.\u001b[39;49mapply(\n\u001b[0;32m    431\u001b[0m     \u001b[39m\"\u001b[39;49m\u001b[39mastype\u001b[39;49m\u001b[39m\"\u001b[39;49m,\n\u001b[0;32m    432\u001b[0m     dtype\u001b[39m=\u001b[39;49mdtype,\n\u001b[0;32m    433\u001b[0m     copy\u001b[39m=\u001b[39;49mcopy,\n\u001b[0;32m    434\u001b[0m     errors\u001b[39m=\u001b[39;49merrors,\n\u001b[0;32m    435\u001b[0m     using_cow\u001b[39m=\u001b[39;49musing_copy_on_write(),\n\u001b[0;32m    436\u001b[0m )\n",
      "File \u001b[1;32mc:\\Users\\USER\\AppData\\Local\\Programs\\Python\\Python311\\Lib\\site-packages\\pandas\\core\\internals\\managers.py:363\u001b[0m, in \u001b[0;36mBaseBlockManager.apply\u001b[1;34m(self, f, align_keys, **kwargs)\u001b[0m\n\u001b[0;32m    361\u001b[0m         applied \u001b[39m=\u001b[39m b\u001b[39m.\u001b[39mapply(f, \u001b[39m*\u001b[39m\u001b[39m*\u001b[39mkwargs)\n\u001b[0;32m    362\u001b[0m     \u001b[39melse\u001b[39;00m:\n\u001b[1;32m--> 363\u001b[0m         applied \u001b[39m=\u001b[39m \u001b[39mgetattr\u001b[39;49m(b, f)(\u001b[39m*\u001b[39;49m\u001b[39m*\u001b[39;49mkwargs)\n\u001b[0;32m    364\u001b[0m     result_blocks \u001b[39m=\u001b[39m extend_blocks(applied, result_blocks)\n\u001b[0;32m    366\u001b[0m out \u001b[39m=\u001b[39m \u001b[39mtype\u001b[39m(\u001b[39mself\u001b[39m)\u001b[39m.\u001b[39mfrom_blocks(result_blocks, \u001b[39mself\u001b[39m\u001b[39m.\u001b[39maxes)\n",
      "File \u001b[1;32mc:\\Users\\USER\\AppData\\Local\\Programs\\Python\\Python311\\Lib\\site-packages\\pandas\\core\\internals\\blocks.py:758\u001b[0m, in \u001b[0;36mBlock.astype\u001b[1;34m(self, dtype, copy, errors, using_cow, squeeze)\u001b[0m\n\u001b[0;32m    755\u001b[0m         \u001b[39mraise\u001b[39;00m \u001b[39mValueError\u001b[39;00m(\u001b[39m\"\u001b[39m\u001b[39mCan not squeeze with more than one column.\u001b[39m\u001b[39m\"\u001b[39m)\n\u001b[0;32m    756\u001b[0m     values \u001b[39m=\u001b[39m values[\u001b[39m0\u001b[39m, :]  \u001b[39m# type: ignore[call-overload]\u001b[39;00m\n\u001b[1;32m--> 758\u001b[0m new_values \u001b[39m=\u001b[39m astype_array_safe(values, dtype, copy\u001b[39m=\u001b[39;49mcopy, errors\u001b[39m=\u001b[39;49merrors)\n\u001b[0;32m    760\u001b[0m new_values \u001b[39m=\u001b[39m maybe_coerce_values(new_values)\n\u001b[0;32m    762\u001b[0m refs \u001b[39m=\u001b[39m \u001b[39mNone\u001b[39;00m\n",
      "File \u001b[1;32mc:\\Users\\USER\\AppData\\Local\\Programs\\Python\\Python311\\Lib\\site-packages\\pandas\\core\\dtypes\\astype.py:237\u001b[0m, in \u001b[0;36mastype_array_safe\u001b[1;34m(values, dtype, copy, errors)\u001b[0m\n\u001b[0;32m    234\u001b[0m     dtype \u001b[39m=\u001b[39m dtype\u001b[39m.\u001b[39mnumpy_dtype\n\u001b[0;32m    236\u001b[0m \u001b[39mtry\u001b[39;00m:\n\u001b[1;32m--> 237\u001b[0m     new_values \u001b[39m=\u001b[39m astype_array(values, dtype, copy\u001b[39m=\u001b[39;49mcopy)\n\u001b[0;32m    238\u001b[0m \u001b[39mexcept\u001b[39;00m (\u001b[39mValueError\u001b[39;00m, \u001b[39mTypeError\u001b[39;00m):\n\u001b[0;32m    239\u001b[0m     \u001b[39m# e.g. _astype_nansafe can fail on object-dtype of strings\u001b[39;00m\n\u001b[0;32m    240\u001b[0m     \u001b[39m#  trying to convert to float\u001b[39;00m\n\u001b[0;32m    241\u001b[0m     \u001b[39mif\u001b[39;00m errors \u001b[39m==\u001b[39m \u001b[39m\"\u001b[39m\u001b[39mignore\u001b[39m\u001b[39m\"\u001b[39m:\n",
      "File \u001b[1;32mc:\\Users\\USER\\AppData\\Local\\Programs\\Python\\Python311\\Lib\\site-packages\\pandas\\core\\dtypes\\astype.py:182\u001b[0m, in \u001b[0;36mastype_array\u001b[1;34m(values, dtype, copy)\u001b[0m\n\u001b[0;32m    179\u001b[0m     values \u001b[39m=\u001b[39m values\u001b[39m.\u001b[39mastype(dtype, copy\u001b[39m=\u001b[39mcopy)\n\u001b[0;32m    181\u001b[0m \u001b[39melse\u001b[39;00m:\n\u001b[1;32m--> 182\u001b[0m     values \u001b[39m=\u001b[39m _astype_nansafe(values, dtype, copy\u001b[39m=\u001b[39;49mcopy)\n\u001b[0;32m    184\u001b[0m \u001b[39m# in pandas we don't store numpy str dtypes, so convert to object\u001b[39;00m\n\u001b[0;32m    185\u001b[0m \u001b[39mif\u001b[39;00m \u001b[39misinstance\u001b[39m(dtype, np\u001b[39m.\u001b[39mdtype) \u001b[39mand\u001b[39;00m \u001b[39missubclass\u001b[39m(values\u001b[39m.\u001b[39mdtype\u001b[39m.\u001b[39mtype, \u001b[39mstr\u001b[39m):\n",
      "File \u001b[1;32mc:\\Users\\USER\\AppData\\Local\\Programs\\Python\\Python311\\Lib\\site-packages\\pandas\\core\\dtypes\\astype.py:133\u001b[0m, in \u001b[0;36m_astype_nansafe\u001b[1;34m(arr, dtype, copy, skipna)\u001b[0m\n\u001b[0;32m    129\u001b[0m     \u001b[39mraise\u001b[39;00m \u001b[39mValueError\u001b[39;00m(msg)\n\u001b[0;32m    131\u001b[0m \u001b[39mif\u001b[39;00m copy \u001b[39mor\u001b[39;00m arr\u001b[39m.\u001b[39mdtype \u001b[39m==\u001b[39m \u001b[39mobject\u001b[39m \u001b[39mor\u001b[39;00m dtype \u001b[39m==\u001b[39m \u001b[39mobject\u001b[39m:\n\u001b[0;32m    132\u001b[0m     \u001b[39m# Explicit copy, or required since NumPy can't view from / to object.\u001b[39;00m\n\u001b[1;32m--> 133\u001b[0m     \u001b[39mreturn\u001b[39;00m arr\u001b[39m.\u001b[39;49mastype(dtype, copy\u001b[39m=\u001b[39;49m\u001b[39mTrue\u001b[39;49;00m)\n\u001b[0;32m    135\u001b[0m \u001b[39mreturn\u001b[39;00m arr\u001b[39m.\u001b[39mastype(dtype, copy\u001b[39m=\u001b[39mcopy)\n",
      "\u001b[1;31mValueError\u001b[0m: invalid literal for int() with base 10: '4,102'"
     ]
    }
   ],
   "source": [
    "df['No of Persons Voted'] = df['No of Persons Voted'].astype('int')"
   ]
  },
  {
   "cell_type": "code",
   "execution_count": null,
   "metadata": {},
   "outputs": [
    {
     "data": {
      "text/plain": [
       "array(['118', '241', '106', '147', '85', '4,102', '2,677', '446', '134',\n",
       "       '22', '67', '23', '1,872', '120', '233', '111', '214', '150', '49',\n",
       "       '248', '2,098', '102', '887', '1,850', '1,666', '91', '1,694',\n",
       "       '1,064', '77', '28', '30', '1,801', '21', '109', '3,711', '38',\n",
       "       '62', '44', '2,336', '388', '232', '287', '46', '367', '977',\n",
       "       '3,197', '1,306', '75', '793', '1,405', '1,993', '731', '602',\n",
       "       '31', '3,385', '189', '1,325', '29', '76', '162', '1,371', '195',\n",
       "       '563', '7', '69', '48', '363', '813', '57', '87', '177', '250',\n",
       "       '3,220', '1,251', '4', '5', '121', '694', '2,531', '17', '1,087',\n",
       "       '39', '34', '317', '197', '737', '585', '18', '52', '24', '1,108',\n",
       "       '45', '216', '12', '178', '41', '1,047', '126', '11', '53', '160',\n",
       "       '32', '60', '208', '1,329', '399', '33', '58', '35', '405', '88',\n",
       "       '36', '610', '89', '1,997', '234', '2,657', '125', '65', '99',\n",
       "       '132', '1,266', '207', '90', '56', '219', '13', '19', '612', '68',\n",
       "       '6', '628', '15', '169', '78', '454', '95', '64', '14', '100',\n",
       "       '309', '217', '54', '1,821', '113', '25', '101', '555', '51', '20',\n",
       "       '362', '151', '1,327', '325', '130', '4,420', '196', '474', '149',\n",
       "       '42', '142', '279', '1,309', '431', '574', '70', '137', '16', '26',\n",
       "       '47', '1,101', '554', '1,355', '172', '415', '1,901', '192',\n",
       "       '1,159', '175', '10', '83', '225', '599', '201', '37', '1,386',\n",
       "       '2,757', '204', '98', '266', '63', '285', '402', '59', '1,764',\n",
       "       '500', '224', '262', '629', '218', '119', '256', '268', '426',\n",
       "       '1,490', '112', '637', '43', '209', '333', '155', '40', '9',\n",
       "       '1,028', '1,029', '354', '322', '213', '310', '8', '1,073',\n",
       "       '1,499', '123', '1,704', '306', '316', '190', '346', '370', '921',\n",
       "       '84', '767', '1,233', '27', '522', '127', '988', '3,629', '2,155',\n",
       "       '66', '50', '1,908', '258', '244', '408', '140', '71', '324',\n",
       "       '781', '1,074', '357', '144', '129', '823', '281', '331', '1,199',\n",
       "       '374', '179', '527', '2,400', '152', '597', '93', '1,094', '104',\n",
       "       '255', '114', '79', '254', '170', '1,376', '82', '122', '499',\n",
       "       '1,239', '55', '86', '670', '290', '168', '1,107', '103', '141',\n",
       "       '97', '215', '136', '1,123', '330', '74', '660', '133', '253',\n",
       "       '243', '1,468', '875', '108', '455', '1,952', '296', '542',\n",
       "       '1,692', '135', '313', '146', '272', '1,456', '502', '180', '466',\n",
       "       '188', '61', '105', '335', '212', '128', '341', '719', '203', '81',\n",
       "       '433', '131', '284', '73', '323', '506', '1,298', '334', '337',\n",
       "       '5,286', '908', '259', '867', '611', '1,127', '1,439', '72', '911',\n",
       "       '1,390', '185', '1,053', '568', '293', '282', '508', '640',\n",
       "       '1,238', '994', '1,092', '110', '10,639', '569', '148', '622',\n",
       "       '529', '786', '286', '96', '329', '424', '2,395', '2,023', '280',\n",
       "       '1,544', '922', '161', '327', '173', '906', '617', '452', '481',\n",
       "       '222', '1,372', '360', '552', '538', '1,522', '808', '2,168',\n",
       "       '745', '429', '888', '228', '2,385', '548', '1,516', '116', '384',\n",
       "       '955', '1,392', '80', '525', '1,158', '235', '530', '223', '549',\n",
       "       '395', '199', '798', '302', '603', '1,232', '2,805', '2,029',\n",
       "       '409', '165', '239', '951', '425', '205', '489', '159', '648',\n",
       "       '410', '240', '202', '245', '434', '153', '701', '2,669', '817',\n",
       "       '858', '194', '971', '1,975', '956', '553', '158', '236', '920',\n",
       "       '642', '221', '94', '600', '725', '834', '838', '726', '312',\n",
       "       '1,250', '2,061', '822', '307', '299', '210', '1,015', '1,160',\n",
       "       '929', '187', '782', '182', '406', '8,181', '2,222', '498', '647',\n",
       "       '361', '260', '92', '107', '755', '1,017', '535', '166', '1,598',\n",
       "       '156', '358', '264', '1,282', '1,743', '512', '251', '342',\n",
       "       '2,251', '450', '294', '449', '943', '505', '273', '115', '732',\n",
       "       '1,295', '343', '825', '1,096', '191', '460', '411', '383', '382',\n",
       "       '927', '269', '311', '9,430', '265', '5,946', '154', '1,438',\n",
       "       '621', '143', '1,696', '308', '668', '1,003', '345', '157', '261',\n",
       "       '504', '900', '1,055', '206', '176', '478', '237', '174', '614',\n",
       "       '665', '292', '193', '828', '3,054', '403', '267', '3,671', '246',\n",
       "       '186', '4,062', '735', '871', '117', '230', '677', '1,046', '181',\n",
       "       '303', '1,385', '1,580', '494', '397', '761', '145', '231',\n",
       "       '2,512', '227', '400', '546', '774', '866', '1,277', '815',\n",
       "       '1,476', '1,378', '4,015', '2,517', '700', '702', '993', '220',\n",
       "       '249', '453', '422', '4,136', '533', '1,943', '591', '139', '332',\n",
       "       '592', '6,468', '624', '658', '949', '818', '2,332', '472', '375',\n",
       "       '351', '558', '682', '297', '416', '163', '2,083', '1,982',\n",
       "       '1,135', '301', '2,622', '579', '1,118', '839', '1,042', '226',\n",
       "       '444', '676', '328', '486', '1,293', '482', '283', '257', '964',\n",
       "       '713', '242', '1,036', '458', '717', '1,052', '1,703', '171',\n",
       "       '636', '870', '451', '721', '376', '347', '2,111', '1,404', '238',\n",
       "       '394', '390', '705', '2,825', '915', '138', '430', '890', '344',\n",
       "       '356', '736', '646', '3,182', '536', '440', '413', '765', '1,921',\n",
       "       '879', '877', '124', '421', '827', '515', '760', '584', '805',\n",
       "       '1,560', '355', '576', '491', '167', '381', '734', '436', '970',\n",
       "       '276', '1,507', '407', '495', '551', '566', '396', '1,427', '961',\n",
       "       '338', '350', '349', '1,453', '428', '369', '1,661', '1,855',\n",
       "       '229', '513', '1,450', '1,480', '969', '2,037', '656', '471',\n",
       "       '387', '465', '661', '1,272', '608', '484', '1,750', '1,106',\n",
       "       '200', '4,919', '1,714', '348', '1,088', '891', '1,164', '414',\n",
       "       '1,145', '2,356', '353', '469', '1,172', '1,090', '462', '1,219',\n",
       "       '632', '470', '379', '477', '689', '445', '314', '270', '1,089',\n",
       "       '442', '2,247', '1,091', '183', '2,166', '385', '531', '393',\n",
       "       '623', '3,213', '2,103', '696', '418', '184', '288', '711', '613',\n",
       "       '564', '378', '1,377', '398', '291', '986', '456', '1,881',\n",
       "       '2,237', '1,504', '926', '295', '507', '3,898', '1,061', '468',\n",
       "       '715', '663', '804', '1,448', '1,851', '800', '3,507', '441',\n",
       "       '1,350', '1,269', '373', '606', '1,762', '475', '6,756', '2,719',\n",
       "       '604', '1,197', '846', '2,311', '1,043', '981', '380', '571',\n",
       "       '816', '1,253', '417', '575', '567', '339', '473', '164', '1,133',\n",
       "       '902', '1,341', '899', '401', '277', '1,364', '1,025', '198',\n",
       "       '2,109', '2,782', '787', '364', '881', '812', '518', '662',\n",
       "       '1,254', '318', '437', '709', '247', '412', '720', '729', '996',\n",
       "       '580', '935', '463', '1,463', '289', '1,767', '3,217', '443',\n",
       "       '1,318', '1,002', '1,391', '488', '467', '368', '771', '1,410',\n",
       "       '987', '952', '479', '590', '7,742', '321', '570', '644', '497',\n",
       "       '493', '541', '404', '3,056', '650', '1,992', '524', '528',\n",
       "       '2,078', '763', '679', '1,124', '1,482', '799', '589', '587',\n",
       "       '365', '595', '1,795', '671', '252', '359', '4,232', '271',\n",
       "       '1,120', '496', '1,671', '593', '633', '1,798', '6,382', '1,866',\n",
       "       '757', '1,006', '2,169', '340', '6,006', '643', '1,962', '941',\n",
       "       '315', '211', '1,730', '485', '631', '483', '1,067', '1,563',\n",
       "       '688', '821', '523', '958', '438', '2,179', '562', '776', '652',\n",
       "       '278', '304', '742', '305', '905', '934', '274', '1,175', '487',\n",
       "       '386', '615', '708', '697', '550', '718', '565', '784', '1,050',\n",
       "       '1,523', '802', '841', '1,914', '698', '1,177', '263', '912',\n",
       "       '300', '2,630', '844', '510', '607', '537', '298', '7,337', '626',\n",
       "       '853', '605', '352', '1,247', '319', '649', '872', '432', '886',\n",
       "       '559', '3,805', '728', '439', '516', '695', '586', '753', '895',\n",
       "       '1,409', '275', '638', '639', '520', '845', '954', '655', '1,740',\n",
       "       '1,100', '706', '1,182', '645', '3,127', '581', '377', '490',\n",
       "       '691', '371', '457', '641', '811', '389', '539', '509', '673',\n",
       "       '464', '620', '627', '777', '320', '503', '461', '419', '2,152'],\n",
       "      dtype=object)"
      ]
     },
     "execution_count": 94,
     "metadata": {},
     "output_type": "execute_result"
    }
   ],
   "source": [
    "df['No of Persons Voted'].unique()"
   ]
  },
  {
   "cell_type": "code",
   "execution_count": null,
   "metadata": {},
   "outputs": [],
   "source": [
    "df['No of Persons Voted'] = df['No of Persons Voted'].rename(\",\" \"\", inplace = True)"
   ]
  },
  {
   "cell_type": "code",
   "execution_count": null,
   "metadata": {},
   "outputs": [
    {
     "data": {
      "text/plain": [
       "array(['118', '241', '106', '147', '85', '4,102', '2,677', '446', '134',\n",
       "       '22', '67', '23', '1,872', '120', '233', '111', '214', '150', '49',\n",
       "       '248', '2,098', '102', '887', '1,850', '1,666', '91', '1,694',\n",
       "       '1,064', '77', '28', '30', '1,801', '21', '109', '3,711', '38',\n",
       "       '62', '44', '2,336', '388', '232', '287', '46', '367', '977',\n",
       "       '3,197', '1,306', '75', '793', '1,405', '1,993', '731', '602',\n",
       "       '31', '3,385', '189', '1,325', '29', '76', '162', '1,371', '195',\n",
       "       '563', '7', '69', '48', '363', '813', '57', '87', '177', '250',\n",
       "       '3,220', '1,251', '4', '5', '121', '694', '2,531', '17', '1,087',\n",
       "       '39', '34', '317', '197', '737', '585', '18', '52', '24', '1,108',\n",
       "       '45', '216', '12', '178', '41', '1,047', '126', '11', '53', '160',\n",
       "       '32', '60', '208', '1,329', '399', '33', '58', '35', '405', '88',\n",
       "       '36', '610', '89', '1,997', '234', '2,657', '125', '65', '99',\n",
       "       '132', '1,266', '207', '90', '56', '219', '13', '19', '612', '68',\n",
       "       '6', '628', '15', '169', '78', '454', '95', '64', '14', '100',\n",
       "       '309', '217', '54', '1,821', '113', '25', '101', '555', '51', '20',\n",
       "       '362', '151', '1,327', '325', '130', '4,420', '196', '474', '149',\n",
       "       '42', '142', '279', '1,309', '431', '574', '70', '137', '16', '26',\n",
       "       '47', '1,101', '554', '1,355', '172', '415', '1,901', '192',\n",
       "       '1,159', '175', '10', '83', '225', '599', '201', '37', '1,386',\n",
       "       '2,757', '204', '98', '266', '63', '285', '402', '59', '1,764',\n",
       "       '500', '224', '262', '629', '218', '119', '256', '268', '426',\n",
       "       '1,490', '112', '637', '43', '209', '333', '155', '40', '9',\n",
       "       '1,028', '1,029', '354', '322', '213', '310', '8', '1,073',\n",
       "       '1,499', '123', '1,704', '306', '316', '190', '346', '370', '921',\n",
       "       '84', '767', '1,233', '27', '522', '127', '988', '3,629', '2,155',\n",
       "       '66', '50', '1,908', '258', '244', '408', '140', '71', '324',\n",
       "       '781', '1,074', '357', '144', '129', '823', '281', '331', '1,199',\n",
       "       '374', '179', '527', '2,400', '152', '597', '93', '1,094', '104',\n",
       "       '255', '114', '79', '254', '170', '1,376', '82', '122', '499',\n",
       "       '1,239', '55', '86', '670', '290', '168', '1,107', '103', '141',\n",
       "       '97', '215', '136', '1,123', '330', '74', '660', '133', '253',\n",
       "       '243', '1,468', '875', '108', '455', '1,952', '296', '542',\n",
       "       '1,692', '135', '313', '146', '272', '1,456', '502', '180', '466',\n",
       "       '188', '61', '105', '335', '212', '128', '341', '719', '203', '81',\n",
       "       '433', '131', '284', '73', '323', '506', '1,298', '334', '337',\n",
       "       '5,286', '908', '259', '867', '611', '1,127', '1,439', '72', '911',\n",
       "       '1,390', '185', '1,053', '568', '293', '282', '508', '640',\n",
       "       '1,238', '994', '1,092', '110', '10,639', '569', '148', '622',\n",
       "       '529', '786', '286', '96', '329', '424', '2,395', '2,023', '280',\n",
       "       '1,544', '922', '161', '327', '173', '906', '617', '452', '481',\n",
       "       '222', '1,372', '360', '552', '538', '1,522', '808', '2,168',\n",
       "       '745', '429', '888', '228', '2,385', '548', '1,516', '116', '384',\n",
       "       '955', '1,392', '80', '525', '1,158', '235', '530', '223', '549',\n",
       "       '395', '199', '798', '302', '603', '1,232', '2,805', '2,029',\n",
       "       '409', '165', '239', '951', '425', '205', '489', '159', '648',\n",
       "       '410', '240', '202', '245', '434', '153', '701', '2,669', '817',\n",
       "       '858', '194', '971', '1,975', '956', '553', '158', '236', '920',\n",
       "       '642', '221', '94', '600', '725', '834', '838', '726', '312',\n",
       "       '1,250', '2,061', '822', '307', '299', '210', '1,015', '1,160',\n",
       "       '929', '187', '782', '182', '406', '8,181', '2,222', '498', '647',\n",
       "       '361', '260', '92', '107', '755', '1,017', '535', '166', '1,598',\n",
       "       '156', '358', '264', '1,282', '1,743', '512', '251', '342',\n",
       "       '2,251', '450', '294', '449', '943', '505', '273', '115', '732',\n",
       "       '1,295', '343', '825', '1,096', '191', '460', '411', '383', '382',\n",
       "       '927', '269', '311', '9,430', '265', '5,946', '154', '1,438',\n",
       "       '621', '143', '1,696', '308', '668', '1,003', '345', '157', '261',\n",
       "       '504', '900', '1,055', '206', '176', '478', '237', '174', '614',\n",
       "       '665', '292', '193', '828', '3,054', '403', '267', '3,671', '246',\n",
       "       '186', '4,062', '735', '871', '117', '230', '677', '1,046', '181',\n",
       "       '303', '1,385', '1,580', '494', '397', '761', '145', '231',\n",
       "       '2,512', '227', '400', '546', '774', '866', '1,277', '815',\n",
       "       '1,476', '1,378', '4,015', '2,517', '700', '702', '993', '220',\n",
       "       '249', '453', '422', '4,136', '533', '1,943', '591', '139', '332',\n",
       "       '592', '6,468', '624', '658', '949', '818', '2,332', '472', '375',\n",
       "       '351', '558', '682', '297', '416', '163', '2,083', '1,982',\n",
       "       '1,135', '301', '2,622', '579', '1,118', '839', '1,042', '226',\n",
       "       '444', '676', '328', '486', '1,293', '482', '283', '257', '964',\n",
       "       '713', '242', '1,036', '458', '717', '1,052', '1,703', '171',\n",
       "       '636', '870', '451', '721', '376', '347', '2,111', '1,404', '238',\n",
       "       '394', '390', '705', '2,825', '915', '138', '430', '890', '344',\n",
       "       '356', '736', '646', '3,182', '536', '440', '413', '765', '1,921',\n",
       "       '879', '877', '124', '421', '827', '515', '760', '584', '805',\n",
       "       '1,560', '355', '576', '491', '167', '381', '734', '436', '970',\n",
       "       '276', '1,507', '407', '495', '551', '566', '396', '1,427', '961',\n",
       "       '338', '350', '349', '1,453', '428', '369', '1,661', '1,855',\n",
       "       '229', '513', '1,450', '1,480', '969', '2,037', '656', '471',\n",
       "       '387', '465', '661', '1,272', '608', '484', '1,750', '1,106',\n",
       "       '200', '4,919', '1,714', '348', '1,088', '891', '1,164', '414',\n",
       "       '1,145', '2,356', '353', '469', '1,172', '1,090', '462', '1,219',\n",
       "       '632', '470', '379', '477', '689', '445', '314', '270', '1,089',\n",
       "       '442', '2,247', '1,091', '183', '2,166', '385', '531', '393',\n",
       "       '623', '3,213', '2,103', '696', '418', '184', '288', '711', '613',\n",
       "       '564', '378', '1,377', '398', '291', '986', '456', '1,881',\n",
       "       '2,237', '1,504', '926', '295', '507', '3,898', '1,061', '468',\n",
       "       '715', '663', '804', '1,448', '1,851', '800', '3,507', '441',\n",
       "       '1,350', '1,269', '373', '606', '1,762', '475', '6,756', '2,719',\n",
       "       '604', '1,197', '846', '2,311', '1,043', '981', '380', '571',\n",
       "       '816', '1,253', '417', '575', '567', '339', '473', '164', '1,133',\n",
       "       '902', '1,341', '899', '401', '277', '1,364', '1,025', '198',\n",
       "       '2,109', '2,782', '787', '364', '881', '812', '518', '662',\n",
       "       '1,254', '318', '437', '709', '247', '412', '720', '729', '996',\n",
       "       '580', '935', '463', '1,463', '289', '1,767', '3,217', '443',\n",
       "       '1,318', '1,002', '1,391', '488', '467', '368', '771', '1,410',\n",
       "       '987', '952', '479', '590', '7,742', '321', '570', '644', '497',\n",
       "       '493', '541', '404', '3,056', '650', '1,992', '524', '528',\n",
       "       '2,078', '763', '679', '1,124', '1,482', '799', '589', '587',\n",
       "       '365', '595', '1,795', '671', '252', '359', '4,232', '271',\n",
       "       '1,120', '496', '1,671', '593', '633', '1,798', '6,382', '1,866',\n",
       "       '757', '1,006', '2,169', '340', '6,006', '643', '1,962', '941',\n",
       "       '315', '211', '1,730', '485', '631', '483', '1,067', '1,563',\n",
       "       '688', '821', '523', '958', '438', '2,179', '562', '776', '652',\n",
       "       '278', '304', '742', '305', '905', '934', '274', '1,175', '487',\n",
       "       '386', '615', '708', '697', '550', '718', '565', '784', '1,050',\n",
       "       '1,523', '802', '841', '1,914', '698', '1,177', '263', '912',\n",
       "       '300', '2,630', '844', '510', '607', '537', '298', '7,337', '626',\n",
       "       '853', '605', '352', '1,247', '319', '649', '872', '432', '886',\n",
       "       '559', '3,805', '728', '439', '516', '695', '586', '753', '895',\n",
       "       '1,409', '275', '638', '639', '520', '845', '954', '655', '1,740',\n",
       "       '1,100', '706', '1,182', '645', '3,127', '581', '377', '490',\n",
       "       '691', '371', '457', '641', '811', '389', '539', '509', '673',\n",
       "       '464', '620', '627', '777', '320', '503', '461', '419', '2,152'],\n",
       "      dtype=object)"
      ]
     },
     "execution_count": 96,
     "metadata": {},
     "output_type": "execute_result"
    }
   ],
   "source": [
    "df['No of Persons Voted'].unique()"
   ]
  },
  {
   "cell_type": "code",
   "execution_count": null,
   "metadata": {},
   "outputs": [],
   "source": [
    "df['Duration'] = df['Duration'].str.replace('  ', ':')"
   ]
  },
  {
   "cell_type": "code",
   "execution_count": null,
   "metadata": {},
   "outputs": [],
   "source": [
    "df['No of Persons Voted'] = df['No of Persons Voted'].str.replace(',','')"
   ]
  },
  {
   "cell_type": "code",
   "execution_count": null,
   "metadata": {},
   "outputs": [
    {
     "data": {
      "text/plain": [
       "array(['118', '241', '106', '147', '85', '4102', '2677', '446', '134',\n",
       "       '22', '67', '23', '1872', '120', '233', '111', '214', '150', '49',\n",
       "       '248', '2098', '102', '887', '1850', '1666', '91', '1694', '1064',\n",
       "       '77', '28', '30', '1801', '21', '109', '3711', '38', '62', '44',\n",
       "       '2336', '388', '232', '287', '46', '367', '977', '3197', '1306',\n",
       "       '75', '793', '1405', '1993', '731', '602', '31', '3385', '189',\n",
       "       '1325', '29', '76', '162', '1371', '195', '563', '7', '69', '48',\n",
       "       '363', '813', '57', '87', '177', '250', '3220', '1251', '4', '5',\n",
       "       '121', '694', '2531', '17', '1087', '39', '34', '317', '197',\n",
       "       '737', '585', '18', '52', '24', '1108', '45', '216', '12', '178',\n",
       "       '41', '1047', '126', '11', '53', '160', '32', '60', '208', '1329',\n",
       "       '399', '33', '58', '35', '405', '88', '36', '610', '89', '1997',\n",
       "       '234', '2657', '125', '65', '99', '132', '1266', '207', '90', '56',\n",
       "       '219', '13', '19', '612', '68', '6', '628', '15', '169', '78',\n",
       "       '454', '95', '64', '14', '100', '309', '217', '54', '1821', '113',\n",
       "       '25', '101', '555', '51', '20', '362', '151', '1327', '325', '130',\n",
       "       '4420', '196', '474', '149', '42', '142', '279', '1309', '431',\n",
       "       '574', '70', '137', '16', '26', '47', '1101', '554', '1355', '172',\n",
       "       '415', '1901', '192', '1159', '175', '10', '83', '225', '599',\n",
       "       '201', '37', '1386', '2757', '204', '98', '266', '63', '285',\n",
       "       '402', '59', '1764', '500', '224', '262', '629', '218', '119',\n",
       "       '256', '268', '426', '1490', '112', '637', '43', '209', '333',\n",
       "       '155', '40', '9', '1028', '1029', '354', '322', '213', '310', '8',\n",
       "       '1073', '1499', '123', '1704', '306', '316', '190', '346', '370',\n",
       "       '921', '84', '767', '1233', '27', '522', '127', '988', '3629',\n",
       "       '2155', '66', '50', '1908', '258', '244', '408', '140', '71',\n",
       "       '324', '781', '1074', '357', '144', '129', '823', '281', '331',\n",
       "       '1199', '374', '179', '527', '2400', '152', '597', '93', '1094',\n",
       "       '104', '255', '114', '79', '254', '170', '1376', '82', '122',\n",
       "       '499', '1239', '55', '86', '670', '290', '168', '1107', '103',\n",
       "       '141', '97', '215', '136', '1123', '330', '74', '660', '133',\n",
       "       '253', '243', '1468', '875', '108', '455', '1952', '296', '542',\n",
       "       '1692', '135', '313', '146', '272', '1456', '502', '180', '466',\n",
       "       '188', '61', '105', '335', '212', '128', '341', '719', '203', '81',\n",
       "       '433', '131', '284', '73', '323', '506', '1298', '334', '337',\n",
       "       '5286', '908', '259', '867', '611', '1127', '1439', '72', '911',\n",
       "       '1390', '185', '1053', '568', '293', '282', '508', '640', '1238',\n",
       "       '994', '1092', '110', '10639', '569', '148', '622', '529', '786',\n",
       "       '286', '96', '329', '424', '2395', '2023', '280', '1544', '922',\n",
       "       '161', '327', '173', '906', '617', '452', '481', '222', '1372',\n",
       "       '360', '552', '538', '1522', '808', '2168', '745', '429', '888',\n",
       "       '228', '2385', '548', '1516', '116', '384', '955', '1392', '80',\n",
       "       '525', '1158', '235', '530', '223', '549', '395', '199', '798',\n",
       "       '302', '603', '1232', '2805', '2029', '409', '165', '239', '951',\n",
       "       '425', '205', '489', '159', '648', '410', '240', '202', '245',\n",
       "       '434', '153', '701', '2669', '817', '858', '194', '971', '1975',\n",
       "       '956', '553', '158', '236', '920', '642', '221', '94', '600',\n",
       "       '725', '834', '838', '726', '312', '1250', '2061', '822', '307',\n",
       "       '299', '210', '1015', '1160', '929', '187', '782', '182', '406',\n",
       "       '8181', '2222', '498', '647', '361', '260', '92', '107', '755',\n",
       "       '1017', '535', '166', '1598', '156', '358', '264', '1282', '1743',\n",
       "       '512', '251', '342', '2251', '450', '294', '449', '943', '505',\n",
       "       '273', '115', '732', '1295', '343', '825', '1096', '191', '460',\n",
       "       '411', '383', '382', '927', '269', '311', '9430', '265', '5946',\n",
       "       '154', '1438', '621', '143', '1696', '308', '668', '1003', '345',\n",
       "       '157', '261', '504', '900', '1055', '206', '176', '478', '237',\n",
       "       '174', '614', '665', '292', '193', '828', '3054', '403', '267',\n",
       "       '3671', '246', '186', '4062', '735', '871', '117', '230', '677',\n",
       "       '1046', '181', '303', '1385', '1580', '494', '397', '761', '145',\n",
       "       '231', '2512', '227', '400', '546', '774', '866', '1277', '815',\n",
       "       '1476', '1378', '4015', '2517', '700', '702', '993', '220', '249',\n",
       "       '453', '422', '4136', '533', '1943', '591', '139', '332', '592',\n",
       "       '6468', '624', '658', '949', '818', '2332', '472', '375', '351',\n",
       "       '558', '682', '297', '416', '163', '2083', '1982', '1135', '301',\n",
       "       '2622', '579', '1118', '839', '1042', '226', '444', '676', '328',\n",
       "       '486', '1293', '482', '283', '257', '964', '713', '242', '1036',\n",
       "       '458', '717', '1052', '1703', '171', '636', '870', '451', '721',\n",
       "       '376', '347', '2111', '1404', '238', '394', '390', '705', '2825',\n",
       "       '915', '138', '430', '890', '344', '356', '736', '646', '3182',\n",
       "       '536', '440', '413', '765', '1921', '879', '877', '124', '421',\n",
       "       '827', '515', '760', '584', '805', '1560', '355', '576', '491',\n",
       "       '167', '381', '734', '436', '970', '276', '1507', '407', '495',\n",
       "       '551', '566', '396', '1427', '961', '338', '350', '349', '1453',\n",
       "       '428', '369', '1661', '1855', '229', '513', '1450', '1480', '969',\n",
       "       '2037', '656', '471', '387', '465', '661', '1272', '608', '484',\n",
       "       '1750', '1106', '200', '4919', '1714', '348', '1088', '891',\n",
       "       '1164', '414', '1145', '2356', '353', '469', '1172', '1090', '462',\n",
       "       '1219', '632', '470', '379', '477', '689', '445', '314', '270',\n",
       "       '1089', '442', '2247', '1091', '183', '2166', '385', '531', '393',\n",
       "       '623', '3213', '2103', '696', '418', '184', '288', '711', '613',\n",
       "       '564', '378', '1377', '398', '291', '986', '456', '1881', '2237',\n",
       "       '1504', '926', '295', '507', '3898', '1061', '468', '715', '663',\n",
       "       '804', '1448', '1851', '800', '3507', '441', '1350', '1269', '373',\n",
       "       '606', '1762', '475', '6756', '2719', '604', '1197', '846', '2311',\n",
       "       '1043', '981', '380', '571', '816', '1253', '417', '575', '567',\n",
       "       '339', '473', '164', '1133', '902', '1341', '899', '401', '277',\n",
       "       '1364', '1025', '198', '2109', '2782', '787', '364', '881', '812',\n",
       "       '518', '662', '1254', '318', '437', '709', '247', '412', '720',\n",
       "       '729', '996', '580', '935', '463', '1463', '289', '1767', '3217',\n",
       "       '443', '1318', '1002', '1391', '488', '467', '368', '771', '1410',\n",
       "       '987', '952', '479', '590', '7742', '321', '570', '644', '497',\n",
       "       '493', '541', '404', '3056', '650', '1992', '524', '528', '2078',\n",
       "       '763', '679', '1124', '1482', '799', '589', '587', '365', '595',\n",
       "       '1795', '671', '252', '359', '4232', '271', '1120', '496', '1671',\n",
       "       '593', '633', '1798', '6382', '1866', '757', '1006', '2169', '340',\n",
       "       '6006', '643', '1962', '941', '315', '211', '1730', '485', '631',\n",
       "       '483', '1067', '1563', '688', '821', '523', '958', '438', '2179',\n",
       "       '562', '776', '652', '278', '304', '742', '305', '905', '934',\n",
       "       '274', '1175', '487', '386', '615', '708', '697', '550', '718',\n",
       "       '565', '784', '1050', '1523', '802', '841', '1914', '698', '1177',\n",
       "       '263', '912', '300', '2630', '844', '510', '607', '537', '298',\n",
       "       '7337', '626', '853', '605', '352', '1247', '319', '649', '872',\n",
       "       '432', '886', '559', '3805', '728', '439', '516', '695', '586',\n",
       "       '753', '895', '1409', '275', '638', '639', '520', '845', '954',\n",
       "       '655', '1740', '1100', '706', '1182', '645', '3127', '581', '377',\n",
       "       '490', '691', '371', '457', '641', '811', '389', '539', '509',\n",
       "       '673', '464', '620', '627', '777', '320', '503', '461', '419',\n",
       "       '2152'], dtype=object)"
      ]
     },
     "execution_count": 99,
     "metadata": {},
     "output_type": "execute_result"
    }
   ],
   "source": [
    "df['No of Persons Voted'].unique()"
   ]
  },
  {
   "cell_type": "code",
   "execution_count": null,
   "metadata": {},
   "outputs": [],
   "source": [
    "df['No of Persons Voted'] = df['No of Persons Voted'].astype('int')"
   ]
  },
  {
   "cell_type": "code",
   "execution_count": null,
   "metadata": {},
   "outputs": [
    {
     "data": {
      "text/plain": [
       "count    16290.000000\n",
       "mean       132.686618\n",
       "std        362.970571\n",
       "min          4.000000\n",
       "25%         10.000000\n",
       "50%         29.000000\n",
       "75%        110.000000\n",
       "max      10639.000000\n",
       "Name: No of Persons Voted, dtype: float64"
      ]
     },
     "execution_count": 101,
     "metadata": {},
     "output_type": "execute_result"
    }
   ],
   "source": [
    "df['No of Persons Voted'].describe()"
   ]
  },
  {
   "cell_type": "code",
   "execution_count": null,
   "metadata": {},
   "outputs": [
    {
     "data": {
      "text/plain": [
       "Unnamed: 0             False\n",
       "Title                   True\n",
       "Release Date            True\n",
       "Description             True\n",
       "Rating                  True\n",
       "No of Persons Voted     True\n",
       "Directed by             True\n",
       "Written by              True\n",
       "Duration                True\n",
       "Genres                  True\n",
       "dtype: bool"
      ]
     },
     "execution_count": 102,
     "metadata": {},
     "output_type": "execute_result"
    }
   ],
   "source": [
    "df.all()"
   ]
  },
  {
   "cell_type": "code",
   "execution_count": null,
   "metadata": {},
   "outputs": [
    {
     "data": {
      "text/plain": [
       "0        Mar 22, 1996\n",
       "1        Nov 23, 1994\n",
       "2        Oct 22, 1970\n",
       "3        Mar 13, 1972\n",
       "4        Aug 13, 2004\n",
       "             ...     \n",
       "16285    Apr 27, 2001\n",
       "16286    Dec 10, 2010\n",
       "16287     Oct 1, 2000\n",
       "16288    Jun 20, 2003\n",
       "16289    Jan 17, 2003\n",
       "Name: Release Date, Length: 16290, dtype: object"
      ]
     },
     "execution_count": 103,
     "metadata": {},
     "output_type": "execute_result"
    }
   ],
   "source": [
    "df['Release Date']"
   ]
  },
  {
   "cell_type": "code",
   "execution_count": null,
   "metadata": {},
   "outputs": [
    {
     "data": {
      "text/plain": [
       "np.int64(0)"
      ]
     },
     "execution_count": 104,
     "metadata": {},
     "output_type": "execute_result"
    }
   ],
   "source": [
    "df['Release Date'].isnull().sum()"
   ]
  },
  {
   "cell_type": "code",
   "execution_count": null,
   "metadata": {},
   "outputs": [
    {
     "data": {
      "text/plain": [
       "Unnamed: 0                0\n",
       "Title                     0\n",
       "Release Date              0\n",
       "Description               0\n",
       "Rating                 3444\n",
       "No of Persons Voted       0\n",
       "Directed by               7\n",
       "Written by              963\n",
       "Duration                 13\n",
       "Genres                    0\n",
       "dtype: int64"
      ]
     },
     "execution_count": 105,
     "metadata": {},
     "output_type": "execute_result"
    }
   ],
   "source": [
    "df.isnull().sum()"
   ]
  },
  {
   "cell_type": "code",
   "execution_count": null,
   "metadata": {},
   "outputs": [],
   "source": [
    "df['Rating'] = df['Rating'].fillna(df['Rating'].mean())"
   ]
  },
  {
   "cell_type": "code",
   "execution_count": null,
   "metadata": {},
   "outputs": [
    {
     "data": {
      "text/plain": [
       "np.int64(0)"
      ]
     },
     "execution_count": 107,
     "metadata": {},
     "output_type": "execute_result"
    }
   ],
   "source": [
    "df['Rating'].isnull().sum()"
   ]
  },
  {
   "cell_type": "code",
   "execution_count": null,
   "metadata": {},
   "outputs": [
    {
     "name": "stderr",
     "output_type": "stream",
     "text": [
      "C:\\Users\\USER\\AppData\\Local\\Temp\\ipykernel_6320\\1939221209.py:1: FutureWarning: Series.fillna with 'method' is deprecated and will raise in a future version. Use obj.ffill() or obj.bfill() instead.\n",
      "  df['Written by'] = df['Written by'].fillna(method = 'ffill')\n"
     ]
    }
   ],
   "source": [
    "df['Written by'] = df['Written by'].fillna(method = 'ffill')"
   ]
  },
  {
   "cell_type": "code",
   "execution_count": null,
   "metadata": {},
   "outputs": [
    {
     "name": "stderr",
     "output_type": "stream",
     "text": [
      "C:\\Users\\USER\\AppData\\Local\\Temp\\ipykernel_6320\\3387351354.py:1: FutureWarning: Series.fillna with 'method' is deprecated and will raise in a future version. Use obj.ffill() or obj.bfill() instead.\n",
      "  df['Directed by'] = df['Directed by'].fillna(method = 'ffill')\n"
     ]
    }
   ],
   "source": [
    "df['Directed by'] = df['Directed by'].fillna(method = 'ffill')"
   ]
  },
  {
   "cell_type": "code",
   "execution_count": null,
   "metadata": {},
   "outputs": [
    {
     "data": {
      "text/plain": [
       "Unnamed: 0              0\n",
       "Title                   0\n",
       "Release Date            0\n",
       "Description             0\n",
       "Rating                  0\n",
       "No of Persons Voted     0\n",
       "Directed by             0\n",
       "Written by              0\n",
       "Duration               13\n",
       "Genres                  0\n",
       "dtype: int64"
      ]
     },
     "execution_count": 110,
     "metadata": {},
     "output_type": "execute_result"
    }
   ],
   "source": [
    "df.isnull().sum()"
   ]
  },
  {
   "cell_type": "code",
   "execution_count": null,
   "metadata": {},
   "outputs": [
    {
     "name": "stderr",
     "output_type": "stream",
     "text": [
      "C:\\Users\\USER\\AppData\\Local\\Temp\\ipykernel_6320\\4286404772.py:1: FutureWarning: Series.fillna with 'method' is deprecated and will raise in a future version. Use obj.ffill() or obj.bfill() instead.\n",
      "  df['Duration'] = df['Duration'].fillna(method = 'ffill')\n"
     ]
    }
   ],
   "source": [
    "df['Duration'] = df['Duration'].fillna(method = 'ffill')"
   ]
  },
  {
   "cell_type": "code",
   "execution_count": null,
   "metadata": {},
   "outputs": [
    {
     "data": {
      "text/plain": [
       "Unnamed: 0             0\n",
       "Title                  0\n",
       "Release Date           0\n",
       "Description            0\n",
       "Rating                 0\n",
       "No of Persons Voted    0\n",
       "Directed by            0\n",
       "Written by             0\n",
       "Duration               0\n",
       "Genres                 0\n",
       "dtype: int64"
      ]
     },
     "execution_count": 112,
     "metadata": {},
     "output_type": "execute_result"
    }
   ],
   "source": [
    "df.isnull().sum()"
   ]
  },
  {
   "cell_type": "code",
   "execution_count": null,
   "metadata": {},
   "outputs": [],
   "source": [
    "\n",
    "df.drop('Unnamed: 0', axis = 1, inplace = True)"
   ]
  },
  {
   "cell_type": "code",
   "execution_count": null,
   "metadata": {},
   "outputs": [
    {
     "data": {
      "text/html": [
       "<div>\n",
       "<style scoped>\n",
       "    .dataframe tbody tr th:only-of-type {\n",
       "        vertical-align: middle;\n",
       "    }\n",
       "\n",
       "    .dataframe tbody tr th {\n",
       "        vertical-align: top;\n",
       "    }\n",
       "\n",
       "    .dataframe thead th {\n",
       "        text-align: right;\n",
       "    }\n",
       "</style>\n",
       "<table border=\"1\" class=\"dataframe\">\n",
       "  <thead>\n",
       "    <tr style=\"text-align: right;\">\n",
       "      <th></th>\n",
       "      <th>Title</th>\n",
       "      <th>Release Date</th>\n",
       "      <th>Description</th>\n",
       "      <th>Rating</th>\n",
       "      <th>No of Persons Voted</th>\n",
       "      <th>Directed by</th>\n",
       "      <th>Written by</th>\n",
       "      <th>Duration</th>\n",
       "      <th>Genres</th>\n",
       "    </tr>\n",
       "  </thead>\n",
       "  <tbody>\n",
       "    <tr>\n",
       "      <th>0</th>\n",
       "      <td>Dekalog (1988)</td>\n",
       "      <td>Mar 22, 1996</td>\n",
       "      <td>This masterwork by Krzysztof Kieślowski is one...</td>\n",
       "      <td>7.4</td>\n",
       "      <td>118</td>\n",
       "      <td>Krzysztof Kieslowski</td>\n",
       "      <td>Krzysztof Kieslowski, Krzysztof Piesiewicz</td>\n",
       "      <td>9 h 32 m</td>\n",
       "      <td>Drama</td>\n",
       "    </tr>\n",
       "    <tr>\n",
       "      <th>1</th>\n",
       "      <td>Three Colors: Red</td>\n",
       "      <td>Nov 23, 1994</td>\n",
       "      <td>Krzysztof Kieslowski closes his Three Colors t...</td>\n",
       "      <td>8.3</td>\n",
       "      <td>241</td>\n",
       "      <td>Krzysztof Kieslowski</td>\n",
       "      <td>Krzysztof Kieslowski, Krzysztof Piesiewicz, Ag...</td>\n",
       "      <td>1 h 39 m</td>\n",
       "      <td>Drama,Mystery,Romance</td>\n",
       "    </tr>\n",
       "    <tr>\n",
       "      <th>2</th>\n",
       "      <td>The Conformist</td>\n",
       "      <td>Oct 22, 1970</td>\n",
       "      <td>Set in Rome in the 1930s, this re-release of B...</td>\n",
       "      <td>7.3</td>\n",
       "      <td>106</td>\n",
       "      <td>Bernardo Bertolucci</td>\n",
       "      <td>Alberto Moravia, Bernardo Bertolucci</td>\n",
       "      <td>1 h 47 m</td>\n",
       "      <td>Drama</td>\n",
       "    </tr>\n",
       "    <tr>\n",
       "      <th>3</th>\n",
       "      <td>Tokyo Story</td>\n",
       "      <td>Mar 13, 1972</td>\n",
       "      <td>Yasujiro Ozu’s Tokyo Story follows an aging co...</td>\n",
       "      <td>8.1</td>\n",
       "      <td>147</td>\n",
       "      <td>Yasujirô Ozu</td>\n",
       "      <td>Kôgo Noda, Yasujirô Ozu</td>\n",
       "      <td>2 h 16 m</td>\n",
       "      <td>Drama</td>\n",
       "    </tr>\n",
       "    <tr>\n",
       "      <th>4</th>\n",
       "      <td>The Leopard (re-release)</td>\n",
       "      <td>Aug 13, 2004</td>\n",
       "      <td>Set in Sicily in 1860, Luchino Visconti's spec...</td>\n",
       "      <td>7.8</td>\n",
       "      <td>85</td>\n",
       "      <td>Luchino Visconti</td>\n",
       "      <td>Giuseppe Tomasi di Lampedusa, Suso Cecchi D'Am...</td>\n",
       "      <td>3 h 7 m</td>\n",
       "      <td>Drama,History</td>\n",
       "    </tr>\n",
       "  </tbody>\n",
       "</table>\n",
       "</div>"
      ],
      "text/plain": [
       "                      Title  Release Date  \\\n",
       "0            Dekalog (1988)  Mar 22, 1996   \n",
       "1         Three Colors: Red  Nov 23, 1994   \n",
       "2            The Conformist  Oct 22, 1970   \n",
       "3               Tokyo Story  Mar 13, 1972   \n",
       "4  The Leopard (re-release)  Aug 13, 2004   \n",
       "\n",
       "                                         Description  Rating  \\\n",
       "0  This masterwork by Krzysztof Kieślowski is one...     7.4   \n",
       "1  Krzysztof Kieslowski closes his Three Colors t...     8.3   \n",
       "2  Set in Rome in the 1930s, this re-release of B...     7.3   \n",
       "3  Yasujiro Ozu’s Tokyo Story follows an aging co...     8.1   \n",
       "4  Set in Sicily in 1860, Luchino Visconti's spec...     7.8   \n",
       "\n",
       "   No of Persons Voted           Directed by  \\\n",
       "0                  118  Krzysztof Kieslowski   \n",
       "1                  241  Krzysztof Kieslowski   \n",
       "2                  106   Bernardo Bertolucci   \n",
       "3                  147          Yasujirô Ozu   \n",
       "4                   85      Luchino Visconti   \n",
       "\n",
       "                                          Written by  Duration  \\\n",
       "0         Krzysztof Kieslowski, Krzysztof Piesiewicz  9 h 32 m   \n",
       "1  Krzysztof Kieslowski, Krzysztof Piesiewicz, Ag...  1 h 39 m   \n",
       "2               Alberto Moravia, Bernardo Bertolucci  1 h 47 m   \n",
       "3                            Kôgo Noda, Yasujirô Ozu  2 h 16 m   \n",
       "4  Giuseppe Tomasi di Lampedusa, Suso Cecchi D'Am...   3 h 7 m   \n",
       "\n",
       "                  Genres  \n",
       "0                  Drama  \n",
       "1  Drama,Mystery,Romance  \n",
       "2                  Drama  \n",
       "3                  Drama  \n",
       "4          Drama,History  "
      ]
     },
     "execution_count": 123,
     "metadata": {},
     "output_type": "execute_result"
    }
   ],
   "source": [
    "df.head()"
   ]
  },
  {
   "cell_type": "code",
   "execution_count": null,
   "metadata": {},
   "outputs": [
    {
     "data": {
      "text/plain": [
       "Unnamed: 0             0\n",
       "Title                  0\n",
       "Release Date           0\n",
       "Description            0\n",
       "Rating                 0\n",
       "No of Persons Voted    0\n",
       "Directed by            0\n",
       "Written by             0\n",
       "Duration               0\n",
       "Genres                 0\n",
       "dtype: int64"
      ]
     },
     "execution_count": 117,
     "metadata": {},
     "output_type": "execute_result"
    }
   ],
   "source": [
    "df.isnull().sum()"
   ]
  },
  {
   "cell_type": "code",
   "execution_count": null,
   "metadata": {},
   "outputs": [
    {
     "data": {
      "text/plain": [
       "(16290, 10)"
      ]
     },
     "execution_count": 15,
     "metadata": {},
     "output_type": "execute_result"
    }
   ],
   "source": [
    "df.shape"
   ]
  },
  {
   "cell_type": "code",
   "execution_count": null,
   "metadata": {},
   "outputs": [],
   "source": [
    "# pd.set_option('max_columns',200)"
   ]
  },
  {
   "cell_type": "code",
   "execution_count": null,
   "metadata": {},
   "outputs": [
    {
     "data": {
      "text/plain": [
       "Index(['Unnamed: 0', 'Title', 'Release Date', 'Description', 'Rating',\n",
       "       'No of Persons Voted', 'Directed by', 'Written by', 'Duration',\n",
       "       'Genres'],\n",
       "      dtype='object')"
      ]
     },
     "execution_count": 24,
     "metadata": {},
     "output_type": "execute_result"
    }
   ],
   "source": [
    "df.columns"
   ]
  },
  {
   "cell_type": "code",
   "execution_count": null,
   "metadata": {},
   "outputs": [
    {
     "data": {
      "text/html": [
       "<div>\n",
       "<style scoped>\n",
       "    .dataframe tbody tr th:only-of-type {\n",
       "        vertical-align: middle;\n",
       "    }\n",
       "\n",
       "    .dataframe tbody tr th {\n",
       "        vertical-align: top;\n",
       "    }\n",
       "\n",
       "    .dataframe thead th {\n",
       "        text-align: right;\n",
       "    }\n",
       "</style>\n",
       "<table border=\"1\" class=\"dataframe\">\n",
       "  <thead>\n",
       "    <tr style=\"text-align: right;\">\n",
       "      <th></th>\n",
       "      <th>Unnamed: 0</th>\n",
       "      <th>Rating</th>\n",
       "    </tr>\n",
       "  </thead>\n",
       "  <tbody>\n",
       "    <tr>\n",
       "      <th>count</th>\n",
       "      <td>16290.000000</td>\n",
       "      <td>16290.000000</td>\n",
       "    </tr>\n",
       "    <tr>\n",
       "      <th>mean</th>\n",
       "      <td>8144.500000</td>\n",
       "      <td>6.617632</td>\n",
       "    </tr>\n",
       "    <tr>\n",
       "      <th>std</th>\n",
       "      <td>4702.662278</td>\n",
       "      <td>1.256782</td>\n",
       "    </tr>\n",
       "    <tr>\n",
       "      <th>min</th>\n",
       "      <td>0.000000</td>\n",
       "      <td>0.300000</td>\n",
       "    </tr>\n",
       "    <tr>\n",
       "      <th>25%</th>\n",
       "      <td>4072.250000</td>\n",
       "      <td>6.100000</td>\n",
       "    </tr>\n",
       "    <tr>\n",
       "      <th>50%</th>\n",
       "      <td>8144.500000</td>\n",
       "      <td>6.617632</td>\n",
       "    </tr>\n",
       "    <tr>\n",
       "      <th>75%</th>\n",
       "      <td>12216.750000</td>\n",
       "      <td>7.400000</td>\n",
       "    </tr>\n",
       "    <tr>\n",
       "      <th>max</th>\n",
       "      <td>16289.000000</td>\n",
       "      <td>10.000000</td>\n",
       "    </tr>\n",
       "  </tbody>\n",
       "</table>\n",
       "</div>"
      ],
      "text/plain": [
       "         Unnamed: 0        Rating\n",
       "count  16290.000000  16290.000000\n",
       "mean    8144.500000      6.617632\n",
       "std     4702.662278      1.256782\n",
       "min        0.000000      0.300000\n",
       "25%     4072.250000      6.100000\n",
       "50%     8144.500000      6.617632\n",
       "75%    12216.750000      7.400000\n",
       "max    16289.000000     10.000000"
      ]
     },
     "execution_count": 25,
     "metadata": {},
     "output_type": "execute_result"
    }
   ],
   "source": [
    "df.describe()"
   ]
  },
  {
   "cell_type": "code",
   "execution_count": null,
   "metadata": {},
   "outputs": [
    {
     "ename": "ValueError",
     "evalue": "Unable to parse string \"4,102\" at position 5",
     "output_type": "error",
     "traceback": [
      "\u001b[1;31m---------------------------------------------------------------------------\u001b[0m",
      "\u001b[1;31mValueError\u001b[0m                                Traceback (most recent call last)",
      "File \u001b[1;32mlib.pyx:2391\u001b[0m, in \u001b[0;36mpandas._libs.lib.maybe_convert_numeric\u001b[1;34m()\u001b[0m\n",
      "\u001b[1;31mValueError\u001b[0m: Unable to parse string \"4,102\"",
      "\nDuring handling of the above exception, another exception occurred:\n",
      "\u001b[1;31mValueError\u001b[0m                                Traceback (most recent call last)",
      "Cell \u001b[1;32mIn[26], line 1\u001b[0m\n\u001b[1;32m----> 1\u001b[0m df[\u001b[39m'\u001b[39m\u001b[39mNo of Persons Voted\u001b[39m\u001b[39m'\u001b[39m] \u001b[39m=\u001b[39m pd\u001b[39m.\u001b[39;49mto_numeric(df[\u001b[39m'\u001b[39;49m\u001b[39mNo of Persons Voted\u001b[39;49m\u001b[39m'\u001b[39;49m])\n",
      "File \u001b[1;32mc:\\Users\\USER\\AppData\\Local\\Programs\\Python\\Python311\\Lib\\site-packages\\pandas\\core\\tools\\numeric.py:232\u001b[0m, in \u001b[0;36mto_numeric\u001b[1;34m(arg, errors, downcast, dtype_backend)\u001b[0m\n\u001b[0;32m    230\u001b[0m coerce_numeric \u001b[39m=\u001b[39m errors \u001b[39mnot\u001b[39;00m \u001b[39min\u001b[39;00m (\u001b[39m\"\u001b[39m\u001b[39mignore\u001b[39m\u001b[39m\"\u001b[39m, \u001b[39m\"\u001b[39m\u001b[39mraise\u001b[39m\u001b[39m\"\u001b[39m)\n\u001b[0;32m    231\u001b[0m \u001b[39mtry\u001b[39;00m:\n\u001b[1;32m--> 232\u001b[0m     values, new_mask \u001b[39m=\u001b[39m lib\u001b[39m.\u001b[39;49mmaybe_convert_numeric(  \u001b[39m# type: ignore[call-overload]\u001b[39;49;00m\n\u001b[0;32m    233\u001b[0m         values,\n\u001b[0;32m    234\u001b[0m         \u001b[39mset\u001b[39;49m(),\n\u001b[0;32m    235\u001b[0m         coerce_numeric\u001b[39m=\u001b[39;49mcoerce_numeric,\n\u001b[0;32m    236\u001b[0m         convert_to_masked_nullable\u001b[39m=\u001b[39;49mdtype_backend \u001b[39mis\u001b[39;49;00m \u001b[39mnot\u001b[39;49;00m lib\u001b[39m.\u001b[39;49mno_default\n\u001b[0;32m    237\u001b[0m         \u001b[39mor\u001b[39;49;00m \u001b[39misinstance\u001b[39;49m(values_dtype, StringDtype)\n\u001b[0;32m    238\u001b[0m         \u001b[39mand\u001b[39;49;00m \u001b[39mnot\u001b[39;49;00m values_dtype\u001b[39m.\u001b[39;49mstorage \u001b[39m==\u001b[39;49m \u001b[39m\"\u001b[39;49m\u001b[39mpyarrow_numpy\u001b[39;49m\u001b[39m\"\u001b[39;49m,\n\u001b[0;32m    239\u001b[0m     )\n\u001b[0;32m    240\u001b[0m \u001b[39mexcept\u001b[39;00m (\u001b[39mValueError\u001b[39;00m, \u001b[39mTypeError\u001b[39;00m):\n\u001b[0;32m    241\u001b[0m     \u001b[39mif\u001b[39;00m errors \u001b[39m==\u001b[39m \u001b[39m\"\u001b[39m\u001b[39mraise\u001b[39m\u001b[39m\"\u001b[39m:\n",
      "File \u001b[1;32mlib.pyx:2433\u001b[0m, in \u001b[0;36mpandas._libs.lib.maybe_convert_numeric\u001b[1;34m()\u001b[0m\n",
      "\u001b[1;31mValueError\u001b[0m: Unable to parse string \"4,102\" at position 5"
     ]
    }
   ],
   "source": [
    "df['No of Persons Voted'] = pd.to_numeric(df['No of Persons Voted'])"
   ]
  },
  {
   "cell_type": "code",
   "execution_count": null,
   "metadata": {},
   "outputs": [],
   "source": [
    "df['No of Persons Voted'] = df['No of Persons Voted'].str.replace(',' ,'')"
   ]
  },
  {
   "cell_type": "code",
   "execution_count": null,
   "metadata": {},
   "outputs": [],
   "source": [
    "df['No of Persons Voted'] = pd.to_numeric(df['No of Persons Voted'])"
   ]
  },
  {
   "cell_type": "code",
   "execution_count": null,
   "metadata": {},
   "outputs": [
    {
     "data": {
      "text/html": [
       "<div>\n",
       "<style scoped>\n",
       "    .dataframe tbody tr th:only-of-type {\n",
       "        vertical-align: middle;\n",
       "    }\n",
       "\n",
       "    .dataframe tbody tr th {\n",
       "        vertical-align: top;\n",
       "    }\n",
       "\n",
       "    .dataframe thead th {\n",
       "        text-align: right;\n",
       "    }\n",
       "</style>\n",
       "<table border=\"1\" class=\"dataframe\">\n",
       "  <thead>\n",
       "    <tr style=\"text-align: right;\">\n",
       "      <th></th>\n",
       "      <th>Unnamed: 0</th>\n",
       "      <th>Rating</th>\n",
       "      <th>No of Persons Voted</th>\n",
       "    </tr>\n",
       "  </thead>\n",
       "  <tbody>\n",
       "    <tr>\n",
       "      <th>count</th>\n",
       "      <td>16290.000000</td>\n",
       "      <td>16290.000000</td>\n",
       "      <td>16290.000000</td>\n",
       "    </tr>\n",
       "    <tr>\n",
       "      <th>mean</th>\n",
       "      <td>8144.500000</td>\n",
       "      <td>6.617632</td>\n",
       "      <td>132.686618</td>\n",
       "    </tr>\n",
       "    <tr>\n",
       "      <th>std</th>\n",
       "      <td>4702.662278</td>\n",
       "      <td>1.256782</td>\n",
       "      <td>362.970571</td>\n",
       "    </tr>\n",
       "    <tr>\n",
       "      <th>min</th>\n",
       "      <td>0.000000</td>\n",
       "      <td>0.300000</td>\n",
       "      <td>4.000000</td>\n",
       "    </tr>\n",
       "    <tr>\n",
       "      <th>25%</th>\n",
       "      <td>4072.250000</td>\n",
       "      <td>6.100000</td>\n",
       "      <td>10.000000</td>\n",
       "    </tr>\n",
       "    <tr>\n",
       "      <th>50%</th>\n",
       "      <td>8144.500000</td>\n",
       "      <td>6.617632</td>\n",
       "      <td>29.000000</td>\n",
       "    </tr>\n",
       "    <tr>\n",
       "      <th>75%</th>\n",
       "      <td>12216.750000</td>\n",
       "      <td>7.400000</td>\n",
       "      <td>110.000000</td>\n",
       "    </tr>\n",
       "    <tr>\n",
       "      <th>max</th>\n",
       "      <td>16289.000000</td>\n",
       "      <td>10.000000</td>\n",
       "      <td>10639.000000</td>\n",
       "    </tr>\n",
       "  </tbody>\n",
       "</table>\n",
       "</div>"
      ],
      "text/plain": [
       "         Unnamed: 0        Rating  No of Persons Voted\n",
       "count  16290.000000  16290.000000         16290.000000\n",
       "mean    8144.500000      6.617632           132.686618\n",
       "std     4702.662278      1.256782           362.970571\n",
       "min        0.000000      0.300000             4.000000\n",
       "25%     4072.250000      6.100000            10.000000\n",
       "50%     8144.500000      6.617632            29.000000\n",
       "75%    12216.750000      7.400000           110.000000\n",
       "max    16289.000000     10.000000         10639.000000"
      ]
     },
     "execution_count": 35,
     "metadata": {},
     "output_type": "execute_result"
    }
   ],
   "source": [
    "df.describe()\n"
   ]
  },
  {
   "cell_type": "code",
   "execution_count": null,
   "metadata": {},
   "outputs": [],
   "source": [
    "df['Release Date'] = pd.to_datetime(df['Release Date'])"
   ]
  },
  {
   "cell_type": "code",
   "execution_count": null,
   "metadata": {},
   "outputs": [
    {
     "data": {
      "text/plain": [
       "Unnamed: 0                      int64\n",
       "Title                          object\n",
       "Release Date           datetime64[ns]\n",
       "Description                    object\n",
       "Rating                        float64\n",
       "No of Persons Voted             int64\n",
       "Directed by                    object\n",
       "Written by                     object\n",
       "Duration                       object\n",
       "Genres                         object\n",
       "dtype: object"
      ]
     },
     "execution_count": 37,
     "metadata": {},
     "output_type": "execute_result"
    }
   ],
   "source": [
    "df.dtypes"
   ]
  },
  {
   "cell_type": "code",
   "execution_count": 37,
   "metadata": {},
   "outputs": [],
   "source": [
    "df['Duration'] = df['Duration'].str.replace(len(df['Duration']) >= 11 , '1 h 45 m')"
   ]
  },
  {
   "cell_type": "code",
   "execution_count": 38,
   "metadata": {},
   "outputs": [
    {
     "data": {
      "text/plain": [
       "array([nan])"
      ]
     },
     "execution_count": 38,
     "metadata": {},
     "output_type": "execute_result"
    }
   ],
   "source": [
    "df['Duration'].unique()"
   ]
  },
  {
   "cell_type": "code",
   "execution_count": null,
   "metadata": {},
   "outputs": [
    {
     "data": {
      "text/plain": [
       "0       NaN\n",
       "1       NaN\n",
       "2       NaN\n",
       "3       NaN\n",
       "4       NaN\n",
       "         ..\n",
       "16285   NaN\n",
       "16286   NaN\n",
       "16287   NaN\n",
       "16288   NaN\n",
       "16289   NaN\n",
       "Name: Duration, Length: 16290, dtype: float64"
      ]
     },
     "execution_count": 22,
     "metadata": {},
     "output_type": "execute_result"
    }
   ],
   "source": [
    "df['Duration']"
   ]
  },
  {
   "cell_type": "code",
   "execution_count": null,
   "metadata": {},
   "outputs": [],
   "source": []
  }
 ],
 "metadata": {
  "kernelspec": {
   "display_name": "Python 3",
   "language": "python",
   "name": "python3"
  },
  "language_info": {
   "codemirror_mode": {
    "name": "ipython",
    "version": 3
   },
   "file_extension": ".py",
   "mimetype": "text/x-python",
   "name": "python",
   "nbconvert_exporter": "python",
   "pygments_lexer": "ipython3",
   "version": "3.11.3"
  },
  "orig_nbformat": 4
 },
 "nbformat": 4,
 "nbformat_minor": 2
}
