{
 "cells": [
  {
   "cell_type": "markdown",
   "id": "9c65796d-709b-4631-a747-5e9df5b3891d",
   "metadata": {},
   "source": [
    "# FuNcTiOn"
   ]
  },
  {
   "cell_type": "code",
   "execution_count": null,
   "id": "44ff0768-9860-4d9e-a318-294c4757b1df",
   "metadata": {},
   "outputs": [],
   "source": [
    "# variable length function are of two types:\n",
    "# non key word \n",
    "# the keyword "
   ]
  },
  {
   "cell_type": "code",
   "execution_count": 2,
   "id": "f4031e85-acc9-477e-821b-7e5387d3f0fe",
   "metadata": {},
   "outputs": [
    {
     "name": "stdout",
     "output_type": "stream",
     "text": [
      "The average or mean score of the following numbers (45, 34, 32, 55, 66) is 46.4\n"
     ]
    }
   ],
   "source": [
    "def average(*numbers):\n",
    "    # returns the average of the \n",
    "    avg = sum(numbers) / len(numbers)\n",
    "    print(f'The average or mean score of the following numbers {numbers} is {round(avg,2)}')\n",
    "average(45,34,32,55,66)"
   ]
  },
  {
   "cell_type": "code",
   "execution_count": 3,
   "id": "bd2714cd-5323-4f56-abfd-b334edf531b9",
   "metadata": {},
   "outputs": [
    {
     "name": "stdout",
     "output_type": "stream",
     "text": [
      "The average or mean score of the following numbers (45, 67, 4, 3, 100, 887, 56, 22, 6, 76, 9, 6) is 106.75\n"
     ]
    }
   ],
   "source": [
    "# Tupple unpacking\n",
    "score = [45,67,4,3,100,887,56,22,6,76,9,6]\n",
    "average(*score)"
   ]
  },
  {
   "cell_type": "markdown",
   "id": "cac30394-4540-465e-addd-af89b030b134",
   "metadata": {},
   "source": [
    "#  VARIABLE LEGNTH OF KEYWORD ARGUMENTS"
   ]
  },
  {
   "cell_type": "code",
   "execution_count": 6,
   "id": "77ca3c00-e172-43ac-bc87-251d2dfb31eb",
   "metadata": {},
   "outputs": [
    {
     "name": "stdout",
     "output_type": "stream",
     "text": [
      "Name :: ['Sam', 'Faith', 'James']\n",
      "Age :: [23, 44, 23]\n",
      "Gender :: ['Male', 'Female', 'Male']\n"
     ]
    }
   ],
   "source": [
    "def registration_data(** details):\n",
    "    # FUNTION TO REGISTER A USER WITH THE PROVIDED DETAILS\n",
    "    for key, value in details.items():\n",
    "        print(f'{key} :: {value}')\n",
    "registration_data(Name= ['Sam','Faith', 'James'], Age= [23,44,23], Gender=['Male', 'Female', 'Male'])\n"
   ]
  },
  {
   "cell_type": "code",
   "execution_count": 7,
   "id": "0bff0fc9-b635-4055-bfa1-46429ad93500",
   "metadata": {},
   "outputs": [
    {
     "data": {
      "text/plain": [
       "119"
      ]
     },
     "execution_count": 7,
     "metadata": {},
     "output_type": "execute_result"
    }
   ],
   "source": [
    "# LAMBDA FUNTION\n",
    "# THIS IS USED TO PERFORM VERY SHORT FUNTIONS IN AN OPERATION AND IT IS NON REPEATABLE\n",
    "(lambda x,y: x + y)(53,66)"
   ]
  },
  {
   "cell_type": "markdown",
   "id": "31e827ce-d846-47d3-8e5f-7af766ba2a1b",
   "metadata": {},
   "source": [
    "# IF STATEMENT USING LAMBDA\n"
   ]
  },
  {
   "cell_type": "code",
   "execution_count": 8,
   "id": "c7c5ecd3-60f0-4ce8-82b3-2459cfe62ee5",
   "metadata": {},
   "outputs": [
    {
     "name": "stdin",
     "output_type": "stream",
     "text": [
      "Enter a password tje\n"
     ]
    },
    {
     "data": {
      "text/plain": [
       "'password is below 8'"
      ]
     },
     "execution_count": 8,
     "metadata": {},
     "output_type": "execute_result"
    }
   ],
   "source": [
    "(lambda password: 'password is above 8'if len(password) >=8 else 'password is below 8')(input('Enter a password'))"
   ]
  },
  {
   "cell_type": "markdown",
   "id": "55d79ed0-2bc2-4795-9096-98d0cca76f7a",
   "metadata": {},
   "source": [
    "# MAP AND FILTER"
   ]
  },
  {
   "cell_type": "code",
   "execution_count": null,
   "id": "1a1adba7-0549-42c1-b9bb-cb373dddd5cc",
   "metadata": {},
   "outputs": [],
   "source": [
    "# MAP MEANS MODIFICATION AND FILTER MEANS TO SELECT\n",
    "# LAMBDA CAN BE USED TO MODIFY OR SELECT FUNTIONS"
   ]
  },
  {
   "cell_type": "code",
   "execution_count": 9,
   "id": "6f1532d8-33fc-4f72-a8f6-69d41f2ad036",
   "metadata": {},
   "outputs": [
    {
     "name": "stdout",
     "output_type": "stream",
     "text": [
      "[6.708203932499369, 8.18535277187245, 2.0, 1.7320508075688772, 10.0, 29.782545223670862, 7.483314773547883, 4.69041575982343, 2.449489742783178, 8.717797887081348, 3.0, 2.449489742783178]\n"
     ]
    }
   ],
   "source": [
    "import math\n",
    "modified_value = list(map( x: math.sqrt(x), score))\n",
    "print(modified_value)"
   ]
  },
  {
   "cell_type": "code",
   "execution_count": 12,
   "id": "52191a87-2968-44c3-a5c6-5f759809f548",
   "metadata": {},
   "outputs": [
    {
     "name": "stdout",
     "output_type": "stream",
     "text": [
      "[6.71, 8.19, 2.0, 1.73, 10.0, 29.78, 7.48, 4.69, 2.45, 8.72, 3.0, 2.45]\n"
     ]
    }
   ],
   "source": [
    "import math \n",
    "modified_value2 = list(map(lambda x: round(math.sqrt(x), 2), score))\n",
    "print(modified_value2)"
   ]
  },
  {
   "cell_type": "code",
   "execution_count": null,
   "id": "7ecafe9c-73ae-482d-a885-db58534b964e",
   "metadata": {},
   "outputs": [],
   "source": [
    "# FILTER"
   ]
  },
  {
   "cell_type": "code",
   "execution_count": 13,
   "id": "3d13a9bc-9465-4ab7-b51b-26da5b1fc9f4",
   "metadata": {},
   "outputs": [
    {
     "name": "stdout",
     "output_type": "stream",
     "text": [
      "[45, 67, 100, 887, 56, 22, 76]\n"
     ]
    }
   ],
   "source": [
    "selected_value = list(filter(lambda x: x > 20, score))\n",
    "print(selected_value)"
   ]
  },
  {
   "cell_type": "code",
   "execution_count": 16,
   "id": "4266eb57-615f-4813-81bf-4683a7ba85d1",
   "metadata": {},
   "outputs": [
    {
     "name": "stdout",
     "output_type": "stream",
     "text": [
      "[4, 100, 56, 22, 6, 76, 6]\n"
     ]
    }
   ],
   "source": [
    "# FROM SCORE, FILTER OUT THE ODD AND EVEN NUMBERS\n",
    "even_numbers = list(filter(lambda x: x%2 == 0, score))\n",
    "print(even_numbers)"
   ]
  },
  {
   "cell_type": "code",
   "execution_count": 19,
   "id": "f1c9701b-32af-4b22-8d33-654fd5e45e75",
   "metadata": {},
   "outputs": [
    {
     "name": "stdout",
     "output_type": "stream",
     "text": [
      "[45, 67, 3, 887, 9]\n"
     ]
    }
   ],
   "source": [
    "odd_numbers = list(filter(lambda x: x%2 != 0, score))\n",
    "print(odd_numbers)"
   ]
  },
  {
   "cell_type": "markdown",
   "id": "2f5ff1bc-946b-4a7e-a4e7-2d7c68f1293f",
   "metadata": {},
   "source": [
    "# DATE AND TIME"
   ]
  },
  {
   "cell_type": "code",
   "execution_count": 20,
   "id": "3447578e-60e8-46db-b4df-a2ceea95f526",
   "metadata": {},
   "outputs": [
    {
     "name": "stdout",
     "output_type": "stream",
     "text": [
      "['MAXYEAR', 'MINYEAR', 'UTC', '__all__', '__builtins__', '__cached__', '__doc__', '__file__', '__loader__', '__name__', '__package__', '__spec__', 'date', 'datetime', 'datetime_CAPI', 'sys', 'time', 'timedelta', 'timezone', 'tzinfo']\n"
     ]
    }
   ],
   "source": [
    "# DATE AND TIME IS A MODUKE SO WE HAVE TO IMPORT IT\n",
    "import datetime\n",
    "print(dir(datetime))"
   ]
  },
  {
   "cell_type": "code",
   "execution_count": 21,
   "id": "17eec1a2-506b-4645-9c6c-b26d36eafe78",
   "metadata": {},
   "outputs": [
    {
     "data": {
      "text/plain": [
       "datetime.date(2024, 7, 23)"
      ]
     },
     "execution_count": 21,
     "metadata": {},
     "output_type": "execute_result"
    }
   ],
   "source": [
    "date1 = datetime.date(2024,7,23)\n",
    "date1"
   ]
  },
  {
   "cell_type": "code",
   "execution_count": 22,
   "id": "7af2d097-7a2d-42a2-97ee-164ccb68e4af",
   "metadata": {},
   "outputs": [
    {
     "name": "stdout",
     "output_type": "stream",
     "text": [
      "2024\n",
      "7\n",
      "23\n",
      "1\n",
      "2\n"
     ]
    }
   ],
   "source": [
    "print(date1.year)\n",
    "print(date1.month)\n",
    "print(date1.day)\n",
    "print(date1.weekday())\n",
    "print(date1.isoweekday())\n"
   ]
  },
  {
   "cell_type": "markdown",
   "id": "bde3973d-e00d-4be8-8d2d-7eaba45ba943",
   "metadata": {},
   "source": [
    "# TO GET THE CURRENT DATE"
   ]
  },
  {
   "cell_type": "code",
   "execution_count": 23,
   "id": "917f79c1-843f-4a19-ac4a-354c5af71e27",
   "metadata": {},
   "outputs": [
    {
     "name": "stdout",
     "output_type": "stream",
     "text": [
      "2024-08-30\n"
     ]
    }
   ],
   "source": [
    "current_date = datetime.date.today()\n",
    "print(current_date)"
   ]
  },
  {
   "cell_type": "markdown",
   "id": "4ceaef5e-d74b-4e75-af9e-3997df067d17",
   "metadata": {},
   "source": [
    "# STRING FORMAT TIME"
   ]
  },
  {
   "cell_type": "code",
   "execution_count": null,
   "id": "333cc19f-474b-4398-bd27-df54fb932c38",
   "metadata": {},
   "outputs": [],
   "source": [
    "# THIS IS USD FOR THE MODIFICATION OF DATE AND TIME"
   ]
  },
  {
   "cell_type": "code",
   "execution_count": 27,
   "id": "8de72292-238c-460b-baec-efc87a7c7a79",
   "metadata": {},
   "outputs": [
    {
     "name": "stdout",
     "output_type": "stream",
     "text": [
      "Friday\n"
     ]
    }
   ],
   "source": [
    "print(current_date.strftime('%A'))"
   ]
  },
  {
   "cell_type": "code",
   "execution_count": 28,
   "id": "d972501f-aec3-4357-9e89-e1729936fd06",
   "metadata": {},
   "outputs": [
    {
     "name": "stdout",
     "output_type": "stream",
     "text": [
      "Friday\n",
      "Fri\n",
      "August\n",
      "Aug\n",
      "08\n",
      "30\n",
      "2024\n",
      "24\n"
     ]
    }
   ],
   "source": [
    "print(current_date.strftime('%A'))\n",
    "print(current_date.strftime('%a'))\n",
    "print(current_date.strftime('%B'))\n",
    "print(current_date.strftime('%b'))\n",
    "print(current_date.strftime('%m'))\n",
    "print(current_date.strftime('%d'))\n",
    "print(current_date.strftime('%Y'))\n",
    "print(current_date.strftime('%y'))"
   ]
  },
  {
   "cell_type": "code",
   "execution_count": 29,
   "id": "13153bd9-c9ad-44d8-b768-a336991cacc1",
   "metadata": {},
   "outputs": [
    {
     "name": "stdout",
     "output_type": "stream",
     "text": [
      " today is 30th of August, 2024\n"
     ]
    }
   ],
   "source": [
    "print(current_date.strftime(' today is %dth of %B, %Y'))"
   ]
  },
  {
   "cell_type": "code",
   "execution_count": 30,
   "id": "3e680fb1-6c15-4ba3-bb11-dab68cee86b0",
   "metadata": {},
   "outputs": [
    {
     "name": "stdout",
     "output_type": "stream",
     "text": [
      "243\n"
     ]
    }
   ],
   "source": [
    "print(current_date.strftime('%j'))"
   ]
  },
  {
   "cell_type": "markdown",
   "id": "3ed78fe8-210f-4896-a2a0-241992b3325e",
   "metadata": {},
   "source": [
    "# TIME"
   ]
  },
  {
   "cell_type": "code",
   "execution_count": 33,
   "id": "8fbc35b7-7dfa-4d63-90eb-5e14eab4ca3b",
   "metadata": {},
   "outputs": [
    {
     "data": {
      "text/plain": [
       "datetime.time(12, 34, 54, 34223)"
      ]
     },
     "execution_count": 33,
     "metadata": {},
     "output_type": "execute_result"
    }
   ],
   "source": [
    "time1 = datetime.time(12,34,54,34223)\n",
    "time1"
   ]
  },
  {
   "cell_type": "code",
   "execution_count": 34,
   "id": "3369e6ae-f114-417d-a67b-43751a98f2ec",
   "metadata": {},
   "outputs": [
    {
     "name": "stdout",
     "output_type": "stream",
     "text": [
      "16:53:26.992802\n"
     ]
    }
   ],
   "source": [
    "current_time = datetime.datetime.now().time()\n",
    "print(current_time)"
   ]
  },
  {
   "cell_type": "code",
   "execution_count": 35,
   "id": "40dcd224-5d05-4a22-bd7b-01a4ec9a8217",
   "metadata": {},
   "outputs": [
    {
     "name": "stdout",
     "output_type": "stream",
     "text": [
      "16\n"
     ]
    }
   ],
   "source": [
    "print(current_time.strftime('%H'))"
   ]
  },
  {
   "cell_type": "code",
   "execution_count": 38,
   "id": "29d1aa77-29ad-405c-a61c-43d9ab33240c",
   "metadata": {},
   "outputs": [
    {
     "name": "stdout",
     "output_type": "stream",
     "text": [
      "04\n",
      "01\n",
      "53\n",
      "26\n",
      "992802\n",
      "PM\n",
      "00\n",
      "04:53:26 PM\n",
      "01\n",
      "\n"
     ]
    }
   ],
   "source": [
    "print(current_time.strftime('%I'))\n",
    "print(current_time.strftime('%W'))\n",
    "print(current_time.strftime('%M'))\n",
    "print(current_time.strftime('%S'))\n",
    "print(current_time.strftime('%f'))\n",
    "print(current_time.strftime('%p'))\n",
    "print(current_time.strftime('%U'))\n",
    "print(current_time.strftime('%r'))\n",
    "print(current_time.strftime('%W'))\n",
    "print(current_time.strftime('%z'))"
   ]
  },
  {
   "cell_type": "code",
   "execution_count": 41,
   "id": "6cdb6fc8-0fdf-4143-b543-04f8946118c9",
   "metadata": {},
   "outputs": [
    {
     "name": "stdin",
     "output_type": "stream",
     "text": [
      "Enter your appointment date [mm/dd/yyyy] 04/30/2021\n"
     ]
    },
    {
     "name": "stdout",
     "output_type": "stream",
     "text": [
      "2021-04-30\n"
     ]
    }
   ],
   "source": [
    "# strptime \"parse\" converts a str to date format\n",
    "strappdate = input('Enter your appointment date [mm/dd/yyyy]')\n",
    "appdate = datetime.datetime.strptime(strappdate, '%m/%d/%Y').date()\n",
    "print(appdate)"
   ]
  },
  {
   "cell_type": "markdown",
   "id": "834cd529-1242-4736-87b7-29689907ff18",
   "metadata": {},
   "source": [
    "# TIME DELTA"
   ]
  },
  {
   "cell_type": "code",
   "execution_count": 42,
   "id": "a13d1afa-6e8f-4cf0-bc6b-6f25acb33db5",
   "metadata": {},
   "outputs": [
    {
     "data": {
      "text/plain": [
       "datetime.timedelta(days=38)"
      ]
     },
     "execution_count": 42,
     "metadata": {},
     "output_type": "execute_result"
    }
   ],
   "source": [
    "# this is the difference between two dates or datetime\n",
    "current_date - date1"
   ]
  },
  {
   "cell_type": "code",
   "execution_count": 45,
   "id": "82cef973-d820-4a95-85d3-eb1cf3e40c15",
   "metadata": {},
   "outputs": [
    {
     "data": {
      "text/plain": [
       "datetime.date(2025, 3, 18)"
      ]
     },
     "execution_count": 45,
     "metadata": {},
     "output_type": "execute_result"
    }
   ],
   "source": [
    "current_date + datetime.timedelta(days = 200)"
   ]
  },
  {
   "cell_type": "markdown",
   "id": "31ba168a-c036-4b61-904f-21340de1b2bb",
   "metadata": {},
   "source": [
    "# CLASS ACTIVITY"
   ]
  },
  {
   "cell_type": "code",
   "execution_count": 48,
   "id": "541ed506-6baf-4a85-bf7c-5e3a9b74d0f2",
   "metadata": {},
   "outputs": [
    {
     "name": "stdin",
     "output_type": "stream",
     "text": [
      "Enter your appointment date [mm/dd/yyyy]:  12/04/2024\n"
     ]
    },
    {
     "name": "stdout",
     "output_type": "stream",
     "text": [
      "Hello User, you have 13 weeks and 0 days until your set appointment date. \n"
     ]
    }
   ],
   "source": [
    "# write a program to tell a user how many weeks and days they have left until their appointment date from the currnt date\n",
    "strappdate = input('Enter your appointment date [mm/dd/yyyy]: ')\n",
    "appdate = datetime.datetime.strptime(strappdate, '%m/%d/%Y').date()\n",
    "current_date = datetime.date.today()\n",
    "difference_in_days = appdate - current_date\n",
    "no_weeks = difference_in_days.days // 7\n",
    "no_of_days = difference_in_days.days & 7\n",
    "print(f'Hello User, you have {no_weeks} weeks and {no_of_days} days until your set appointment date. ')"
   ]
  },
  {
   "cell_type": "code",
   "execution_count": null,
   "id": "e698d822-8179-447c-83b7-8ac96f24eaad",
   "metadata": {},
   "outputs": [],
   "source": []
  }
 ],
 "metadata": {
  "kernelspec": {
   "display_name": "Python 3 (ipykernel)",
   "language": "python",
   "name": "python3"
  },
  "language_info": {
   "codemirror_mode": {
    "name": "ipython",
    "version": 3
   },
   "file_extension": ".py",
   "mimetype": "text/x-python",
   "name": "python",
   "nbconvert_exporter": "python",
   "pygments_lexer": "ipython3",
   "version": "3.11.7"
  }
 },
 "nbformat": 4,
 "nbformat_minor": 5
}
