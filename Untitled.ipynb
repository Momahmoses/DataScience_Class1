{
 "cells": [
  {
   "cell_type": "code",
   "execution_count": 15,
   "id": "76cf0be6-a476-4a37-8272-217c014ad2c9",
   "metadata": {},
   "outputs": [
    {
     "data": {
      "text/html": [
       "<div>\n",
       "<style scoped>\n",
       "    .dataframe tbody tr th:only-of-type {\n",
       "        vertical-align: middle;\n",
       "    }\n",
       "\n",
       "    .dataframe tbody tr th {\n",
       "        vertical-align: top;\n",
       "    }\n",
       "\n",
       "    .dataframe thead th {\n",
       "        text-align: right;\n",
       "    }\n",
       "</style>\n",
       "<table border=\"1\" class=\"dataframe\">\n",
       "  <thead>\n",
       "    <tr style=\"text-align: right;\">\n",
       "      <th></th>\n",
       "      <th>Name</th>\n",
       "    </tr>\n",
       "  </thead>\n",
       "  <tbody>\n",
       "    <tr>\n",
       "      <th>1</th>\n",
       "      <td>Wale Adenuga</td>\n",
       "    </tr>\n",
       "    <tr>\n",
       "      <th>2</th>\n",
       "      <td>Prince Ugo</td>\n",
       "    </tr>\n",
       "    <tr>\n",
       "      <th>3</th>\n",
       "      <td>Iron Mike</td>\n",
       "    </tr>\n",
       "  </tbody>\n",
       "</table>\n",
       "</div>"
      ],
      "text/plain": [
       "           Name\n",
       "1  Wale Adenuga\n",
       "2    Prince Ugo\n",
       "3     Iron Mike"
      ]
     },
     "execution_count": 15,
     "metadata": {},
     "output_type": "execute_result"
    }
   ],
   "source": [
    "import numpy as np\n",
    "import pandas as pd\n",
    "\n",
    "col_name = ['Name']\n",
    "sit_no = np.arange(1,4)\n",
    "name = 'Wale Adenuga', 'Prince Ugo', ' Iron Mike'\n",
    "data = pd.DataFrame( index = sit_no, data =name, columns = col_name) # generating a table using panda note: index is used as the row in panda\n",
    "data"
   ]
  },
  {
   "cell_type": "code",
   "execution_count": 18,
   "id": "906220b1-9b72-4367-8b37-5d942c9579c7",
   "metadata": {},
   "outputs": [],
   "source": [
    "data['Age'] = np.random.randint(16,18,3).reshape(3,1)"
   ]
  },
  {
   "cell_type": "code",
   "execution_count": 19,
   "id": "c6a83dc5-a97b-49ad-a681-e66b274a595d",
   "metadata": {},
   "outputs": [
    {
     "data": {
      "text/html": [
       "<div>\n",
       "<style scoped>\n",
       "    .dataframe tbody tr th:only-of-type {\n",
       "        vertical-align: middle;\n",
       "    }\n",
       "\n",
       "    .dataframe tbody tr th {\n",
       "        vertical-align: top;\n",
       "    }\n",
       "\n",
       "    .dataframe thead th {\n",
       "        text-align: right;\n",
       "    }\n",
       "</style>\n",
       "<table border=\"1\" class=\"dataframe\">\n",
       "  <thead>\n",
       "    <tr style=\"text-align: right;\">\n",
       "      <th></th>\n",
       "      <th>Name</th>\n",
       "      <th>Exam Score</th>\n",
       "      <th>Age</th>\n",
       "    </tr>\n",
       "  </thead>\n",
       "  <tbody>\n",
       "    <tr>\n",
       "      <th>1</th>\n",
       "      <td>Wale Adenuga</td>\n",
       "      <td>63</td>\n",
       "      <td>16</td>\n",
       "    </tr>\n",
       "    <tr>\n",
       "      <th>2</th>\n",
       "      <td>Prince Ugo</td>\n",
       "      <td>44</td>\n",
       "      <td>16</td>\n",
       "    </tr>\n",
       "    <tr>\n",
       "      <th>3</th>\n",
       "      <td>Iron Mike</td>\n",
       "      <td>33</td>\n",
       "      <td>17</td>\n",
       "    </tr>\n",
       "  </tbody>\n",
       "</table>\n",
       "</div>"
      ],
      "text/plain": [
       "           Name  Exam Score  Age\n",
       "1  Wale Adenuga          63   16\n",
       "2    Prince Ugo          44   16\n",
       "3     Iron Mike          33   17"
      ]
     },
     "execution_count": 19,
     "metadata": {},
     "output_type": "execute_result"
    }
   ],
   "source": [
    "data"
   ]
  },
  {
   "cell_type": "code",
   "execution_count": 22,
   "id": "caf2e73e-2499-4a55-8c28-a48716bf5766",
   "metadata": {},
   "outputs": [
    {
     "data": {
      "text/html": [
       "<div>\n",
       "<style scoped>\n",
       "    .dataframe tbody tr th:only-of-type {\n",
       "        vertical-align: middle;\n",
       "    }\n",
       "\n",
       "    .dataframe tbody tr th {\n",
       "        vertical-align: top;\n",
       "    }\n",
       "\n",
       "    .dataframe thead th {\n",
       "        text-align: right;\n",
       "    }\n",
       "</style>\n",
       "<table border=\"1\" class=\"dataframe\">\n",
       "  <thead>\n",
       "    <tr style=\"text-align: right;\">\n",
       "      <th></th>\n",
       "      <th>Name</th>\n",
       "      <th>Exam Score</th>\n",
       "      <th>Age</th>\n",
       "      <th>City</th>\n",
       "    </tr>\n",
       "  </thead>\n",
       "  <tbody>\n",
       "    <tr>\n",
       "      <th>1</th>\n",
       "      <td>Wale Adenuga</td>\n",
       "      <td>63</td>\n",
       "      <td>16</td>\n",
       "      <td>Abuja</td>\n",
       "    </tr>\n",
       "    <tr>\n",
       "      <th>2</th>\n",
       "      <td>Prince Ugo</td>\n",
       "      <td>44</td>\n",
       "      <td>16</td>\n",
       "      <td>Lagos</td>\n",
       "    </tr>\n",
       "    <tr>\n",
       "      <th>3</th>\n",
       "      <td>Iron Mike</td>\n",
       "      <td>33</td>\n",
       "      <td>17</td>\n",
       "      <td>UK</td>\n",
       "    </tr>\n",
       "  </tbody>\n",
       "</table>\n",
       "</div>"
      ],
      "text/plain": [
       "           Name  Exam Score  Age   City\n",
       "1  Wale Adenuga          63   16  Abuja\n",
       "2    Prince Ugo          44   16  Lagos\n",
       "3     Iron Mike          33   17     UK"
      ]
     },
     "execution_count": 22,
     "metadata": {},
     "output_type": "execute_result"
    }
   ],
   "source": [
    "data['City'] = 'Abuja', 'Lagos', 'UK'\n",
    "data"
   ]
  },
  {
   "cell_type": "code",
   "execution_count": 31,
   "id": "d81e9bce-52bd-43d5-9c91-9de4e282b6ec",
   "metadata": {},
   "outputs": [],
   "source": [
    "data['Salary'] = 40000, 50000, 60000"
   ]
  },
  {
   "cell_type": "code",
   "execution_count": 32,
   "id": "831d2abd-7dcb-40f7-9a11-bc63a3c741c2",
   "metadata": {},
   "outputs": [
    {
     "data": {
      "text/html": [
       "<div>\n",
       "<style scoped>\n",
       "    .dataframe tbody tr th:only-of-type {\n",
       "        vertical-align: middle;\n",
       "    }\n",
       "\n",
       "    .dataframe tbody tr th {\n",
       "        vertical-align: top;\n",
       "    }\n",
       "\n",
       "    .dataframe thead th {\n",
       "        text-align: right;\n",
       "    }\n",
       "</style>\n",
       "<table border=\"1\" class=\"dataframe\">\n",
       "  <thead>\n",
       "    <tr style=\"text-align: right;\">\n",
       "      <th></th>\n",
       "      <th>Name</th>\n",
       "      <th>Exam Score</th>\n",
       "      <th>Age</th>\n",
       "      <th>City</th>\n",
       "      <th>Salary</th>\n",
       "      <th>Wealth</th>\n",
       "    </tr>\n",
       "  </thead>\n",
       "  <tbody>\n",
       "    <tr>\n",
       "      <th>1</th>\n",
       "      <td>Wale Adenuga</td>\n",
       "      <td>63</td>\n",
       "      <td>16</td>\n",
       "      <td>Abuja</td>\n",
       "      <td>40000</td>\n",
       "      <td>4000040000400004000040000400004000040000400004...</td>\n",
       "    </tr>\n",
       "    <tr>\n",
       "      <th>2</th>\n",
       "      <td>Prince Ugo</td>\n",
       "      <td>44</td>\n",
       "      <td>16</td>\n",
       "      <td>Lagos</td>\n",
       "      <td>50000</td>\n",
       "      <td>5000050000500005000050000500005000050000500005...</td>\n",
       "    </tr>\n",
       "    <tr>\n",
       "      <th>3</th>\n",
       "      <td>Iron Mike</td>\n",
       "      <td>33</td>\n",
       "      <td>17</td>\n",
       "      <td>UK</td>\n",
       "      <td>60000</td>\n",
       "      <td>6000060000600006000060000600006000060000600006...</td>\n",
       "    </tr>\n",
       "  </tbody>\n",
       "</table>\n",
       "</div>"
      ],
      "text/plain": [
       "           Name  Exam Score  Age   City  Salary  \\\n",
       "1  Wale Adenuga          63   16  Abuja   40000   \n",
       "2    Prince Ugo          44   16  Lagos   50000   \n",
       "3     Iron Mike          33   17     UK   60000   \n",
       "\n",
       "                                              Wealth  \n",
       "1  4000040000400004000040000400004000040000400004...  \n",
       "2  5000050000500005000050000500005000050000500005...  \n",
       "3  6000060000600006000060000600006000060000600006...  "
      ]
     },
     "execution_count": 32,
     "metadata": {},
     "output_type": "execute_result"
    }
   ],
   "source": [
    "data"
   ]
  },
  {
   "cell_type": "code",
   "execution_count": 34,
   "id": "022b6e03-774d-4f17-b6a1-78f6fa49d421",
   "metadata": {},
   "outputs": [
    {
     "data": {
      "text/html": [
       "<div>\n",
       "<style scoped>\n",
       "    .dataframe tbody tr th:only-of-type {\n",
       "        vertical-align: middle;\n",
       "    }\n",
       "\n",
       "    .dataframe tbody tr th {\n",
       "        vertical-align: top;\n",
       "    }\n",
       "\n",
       "    .dataframe thead th {\n",
       "        text-align: right;\n",
       "    }\n",
       "</style>\n",
       "<table border=\"1\" class=\"dataframe\">\n",
       "  <thead>\n",
       "    <tr style=\"text-align: right;\">\n",
       "      <th></th>\n",
       "      <th>Name</th>\n",
       "      <th>Exam Score</th>\n",
       "      <th>Age</th>\n",
       "      <th>City</th>\n",
       "      <th>Salary</th>\n",
       "      <th>Wealth</th>\n",
       "      <th>multi</th>\n",
       "    </tr>\n",
       "  </thead>\n",
       "  <tbody>\n",
       "    <tr>\n",
       "      <th>1</th>\n",
       "      <td>Wale Adenuga</td>\n",
       "      <td>63</td>\n",
       "      <td>16</td>\n",
       "      <td>Abuja</td>\n",
       "      <td>40000</td>\n",
       "      <td>4000040000400004000040000400004000040000400004...</td>\n",
       "      <td>640000</td>\n",
       "    </tr>\n",
       "    <tr>\n",
       "      <th>2</th>\n",
       "      <td>Prince Ugo</td>\n",
       "      <td>44</td>\n",
       "      <td>16</td>\n",
       "      <td>Lagos</td>\n",
       "      <td>50000</td>\n",
       "      <td>5000050000500005000050000500005000050000500005...</td>\n",
       "      <td>800000</td>\n",
       "    </tr>\n",
       "    <tr>\n",
       "      <th>3</th>\n",
       "      <td>Iron Mike</td>\n",
       "      <td>33</td>\n",
       "      <td>17</td>\n",
       "      <td>UK</td>\n",
       "      <td>60000</td>\n",
       "      <td>6000060000600006000060000600006000060000600006...</td>\n",
       "      <td>1020000</td>\n",
       "    </tr>\n",
       "  </tbody>\n",
       "</table>\n",
       "</div>"
      ],
      "text/plain": [
       "           Name  Exam Score  Age   City  Salary  \\\n",
       "1  Wale Adenuga          63   16  Abuja   40000   \n",
       "2    Prince Ugo          44   16  Lagos   50000   \n",
       "3     Iron Mike          33   17     UK   60000   \n",
       "\n",
       "                                              Wealth    multi  \n",
       "1  4000040000400004000040000400004000040000400004...   640000  \n",
       "2  5000050000500005000050000500005000050000500005...   800000  \n",
       "3  6000060000600006000060000600006000060000600006...  1020000  "
      ]
     },
     "execution_count": 34,
     "metadata": {},
     "output_type": "execute_result"
    }
   ],
   "source": [
    " data['multi'] = data['Salary'] * data['Age']\n",
    "data"
   ]
  },
  {
   "cell_type": "code",
   "execution_count": 2,
   "id": "57b6ba3d-a695-4408-bb92-bfb3c81139df",
   "metadata": {},
   "outputs": [
    {
     "ename": "NameError",
     "evalue": "name 'data' is not defined",
     "output_type": "error",
     "traceback": [
      "\u001b[1;31m---------------------------------------------------------------------------\u001b[0m",
      "\u001b[1;31mNameError\u001b[0m                                 Traceback (most recent call last)",
      "Cell \u001b[1;32mIn[2], line 1\u001b[0m\n\u001b[1;32m----> 1\u001b[0m data\u001b[38;5;241m.\u001b[39mdrop[\u001b[38;5;124m'\u001b[39m\u001b[38;5;124mwealth\u001b[39m\u001b[38;5;124m'\u001b[39m]\n\u001b[0;32m      2\u001b[0m data\n",
      "\u001b[1;31mNameError\u001b[0m: name 'data' is not defined"
     ]
    }
   ],
   "source": [
    " data.drop['wealth']\n",
    "data"
   ]
  },
  {
   "cell_type": "code",
   "execution_count": null,
   "id": "5bb1a195-4380-4d0a-aeac-b02a041f8350",
   "metadata": {},
   "outputs": [],
   "source": []
  }
 ],
 "metadata": {
  "kernelspec": {
   "display_name": "Python 3 (ipykernel)",
   "language": "python",
   "name": "python3"
  },
  "language_info": {
   "codemirror_mode": {
    "name": "ipython",
    "version": 3
   },
   "file_extension": ".py",
   "mimetype": "text/x-python",
   "name": "python",
   "nbconvert_exporter": "python",
   "pygments_lexer": "ipython3",
   "version": "3.11.7"
  }
 },
 "nbformat": 4,
 "nbformat_minor": 5
}
