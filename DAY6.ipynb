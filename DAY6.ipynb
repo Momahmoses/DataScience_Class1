{
 "cells": [
  {
   "cell_type": "code",
   "execution_count": 1,
   "id": "60a28864-496b-4490-8f26-840e21338267",
   "metadata": {},
   "outputs": [
    {
     "name": "stdout",
     "output_type": "stream",
     "text": [
      "Select your shipping location:\n",
      "1. Lagos\n",
      "2. Abuja\n",
      "3. Port Harcourt\n",
      "4. Kano\n",
      "5. Ibadan\n",
      "6. Benin City\n",
      "No Destination Recorgnised, Please restart the program and select a valid location\n",
      "Thank you for choosing our shipping service!\n"
     ]
    }
   ],
   "source": [
    "print('Select your shipping location:')\n",
    "print('1. Lagos')\n",
    "print('2. Abuja')\n",
    "print('3. Port Harcourt')\n",
    "print('4. Kano')\n",
    "print('5. Ibadan')\n",
    "print('6. Benin City')\n",
    "\n",
    "choice = input('Enter the number corresponding to your location: ')\n",
    "if choice == '1':\n",
    "    location = 'Lagos'\n",
    "    cost = 2000\n",
    "    print(f'Shipping to {location} will cost {cost}')\n",
    "elif choice ==\"2\":\n",
    "    location = 'Abuja'\n",
    "    cost = 2500\n",
    "    print('Shipping to ' + location + ' will cost ' + str(cost)+  '.')\n",
    "elif choice ==\"3\":\n",
    "    location = 'Port Harcourt'\n",
    "    cost = 2200\n",
    "    print(f'Shipping to {location} will cost {cost}')\n",
    "elif choice ==\"4\":\n",
    "    location = 'Kano'\n",
    "    cost = 2700\n",
    "    print(f'Shipping to {location} will cost {cost}')\n",
    "elif choice ==\"5\":\n",
    "    location = 'Ibadan'\n",
    "    cost = 1800\n",
    "    print(f'Shipping to {location} will cost {cost}')\n",
    "elif choice ==\"6\":\n",
    "    location = 'Benin City'\n",
    "    cost = 2300\n",
    "    print(f'Shipping to {location} will cost {cost}')\n",
    "else:\n",
    "    print('No Destination Recorgnised, Please restart the program and select a valid location')\n",
    "print('Thank you for choosing our shipping service!')"
   ]
  },
  {
   "attachments": {},
   "cell_type": "markdown",
   "id": "5ca4d23f-ea12-441d-9c76-0ffaf8b886c4",
   "metadata": {},
   "source": [
    "#  FUNCTION\n"
   ]
  },
  {
   "cell_type": "code",
   "execution_count": 2,
   "id": "6ed7fab8-314a-4898-89e9-7f2eb020ea23",
   "metadata": {},
   "outputs": [],
   "source": [
    "# A FUNTION IS A REUSABLE BLOCK OF CODE THAT PERFORMS A SPECIFIC TASK\n",
    "# IT TAKES INPUT, PROCESSES IT, AND RETURNS AN OUTPUT HELPING TO ORGARNIZE THE MODULARIZED CODE\n",
    "### PRINCIPLES OF FUNTIONS\n",
    "# IN SIMPLE TERM, FUNTIONS HELPS TO BREAKDOWN COMPLICATED TASK INTO SMALLER, EASY TO UNDERSTAND STEPS. INSTEAD OF REPEATING THE SAME CODE OVER AND OVER\n",
    "# YOU CANUSE A FUNTION TO DO JOBS WHENEVER YOU NEED IT. THIS MAKES THE CODE EASIER TO READ, FIX, AND UPDATE.\n",
    "# IMPORTANCE OF FUNTIONS \n",
    "# FUNTIONS ARE REALLY IMPORTANT FOR WRITTING GOOD CODE. THEY HELP YOU BUILD PROGRAMS IN SMALL, MANAGEABLE PIECES, WHICH MAKES BIG PROJECTS EASIER TO WORK ON\n",
    "#FIX AND AD NEW FEATURES TO. FUNCTIONS ALSO LETS YOU REUSE CODE INSTEAD OF WRITTING THE SAME CODE MULTIPLE TIMES\n",
    "#SAVING TIME AND EFFORT"
   ]
  },
  {
   "cell_type": "code",
   "execution_count": 3,
   "id": "6212b673-34b1-4f24-bfb9-ec358d0e9054",
   "metadata": {},
   "outputs": [
    {
     "name": "stdout",
     "output_type": "stream",
     "text": [
      "Welcome to python\n"
     ]
    }
   ],
   "source": [
    "#FUNTIONS WITHOUT PARAMETERS\n",
    "def greet():\n",
    "    print('Welcome to python')\n",
    "greet()"
   ]
  },
  {
   "cell_type": "code",
   "execution_count": 4,
   "id": "a0093344-5097-45a3-97df-b5ca32d16574",
   "metadata": {},
   "outputs": [],
   "source": [
    "# Functions with Parameters\n",
    "def greet2(name):\n",
    "    print(f'hello {name}, welcome to python class ')"
   ]
  },
  {
   "cell_type": "code",
   "execution_count": 5,
   "id": "96603544-4b49-488a-afee-9f66264f6226",
   "metadata": {},
   "outputs": [
    {
     "name": "stdout",
     "output_type": "stream",
     "text": [
      "hello Sam, welcome to python class \n"
     ]
    }
   ],
   "source": [
    "greet2('Sam')"
   ]
  },
  {
   "cell_type": "code",
   "execution_count": 6,
   "id": "3d6b1fdb-1c98-453b-a26d-04ad44611858",
   "metadata": {},
   "outputs": [
    {
     "name": "stdout",
     "output_type": "stream",
     "text": [
      "hello Emmanuel, welcome to python class \n"
     ]
    }
   ],
   "source": [
    "greet2('Emmanuel')"
   ]
  },
  {
   "cell_type": "code",
   "execution_count": 7,
   "id": "3a42efe5-86ee-4ea4-a14e-209f8a009f5c",
   "metadata": {},
   "outputs": [],
   "source": [
    "# CLASS PRACTICE\n",
    "# WRITE A PYTHON PROGRAM FOR A RESTAURANT THAT OFFERS SIX DIFFERENT MEAL OPTIONS. THE PROGRAM SHOULD:\n",
    "# DISPLAY THE MENU WITH SIX CHOICES\n",
    "# ASK THE CUSTOMER TO SELECT A MEAL BY ENTERINGG THE CORRESPONDING NUMBER\n",
    "# ASK THE CUSTOMER TO SELECT A MEAL  BY ENTERING THE CORRESPONDING NUMBER\n",
    "# USE A FUNTION TO CONFIRM THE ORDER AND CALCULATE THE PRICE BASED ON THE SELECTED MEAL AND QUANTITY\n",
    "# THE PROGRAM SHOULD USE CONDITIONS TO HANDLE DIFFERENT MEAL CHOICES AND DISPLAY THE TOTAL COST.\n",
    "\n",
    "def Kitchen_Order():\n",
    "    print('WELCOME TO MEX KITCHEN, THE HOME OF GLORIOUS DELICACIES')\n",
    "    print('HERE ARE OUR MENU:')\n",
    "    print('1. CHICKEN RICE, 5,000')\n",
    "    print('2. FISH RICE, 7500')\n",
    "    print('3. BEANS RICE, 4000')\n",
    "    print('4. CHICKEN PIZZA, 15000')\n",
    "    print('5. FISH PIZA, 18000')\n",
    "    print('6. BEANS PIZZA, 7,000')\n",
    "    choice = input('Kindly provide your order using the number attached on to any of the meal of your choice on the menu: ')\n",
    "    quantity = float(input('Enter your order quantity: '))\n",
    "    if choice == '1':\n",
    "        print(f'Your order is Chicken Rice, quantity: {quantity}, total:{quantity * 5000}')\n",
    "    elif choice == '2':\n",
    "        print(f'Your order is Fish Rice, quantity: {quantity}, total:{quantity * 7500}')\n",
    "    elif choice == '3':\n",
    "        print(f'Your order is Beans Rice, quantity: {quantity}, total:{quantity * 4000}')\n",
    "    elif choice == '4':\n",
    "        print(f'Your order is Chicken Pizza, quantity: {quantity}, total:{quantity * 15000}')\n",
    "    elif choice == '5':\n",
    "        print(f'Your order is Fish Pizza, quantity: {quantity}, total:{quantity * 18000}')\n",
    "    elif choice == '6':\n",
    "        print(f'Your order is Beans Pizza, quantity: {quantity}, total:{quantity * 7000}')"
   ]
  },
  {
   "cell_type": "code",
   "execution_count": 8,
   "id": "64f2290a-ad54-4bc8-ba5a-81b73ee065ef",
   "metadata": {},
   "outputs": [
    {
     "name": "stdout",
     "output_type": "stream",
     "text": [
      "WELCOME TO MEX KITCHEN, THE HOME OF GLORIOUS DELICACIES\n",
      "HERE ARE OUR MENU:\n",
      "1. CHICKEN RICE, 5,000\n",
      "2. FISH RICE, 7500\n",
      "3. BEANS RICE, 4000\n",
      "4. CHICKEN PIZZA, 15000\n",
      "5. FISH PIZA, 18000\n",
      "6. BEANS PIZZA, 7,000\n"
     ]
    },
    {
     "ename": "ValueError",
     "evalue": "could not convert string to float: ''",
     "output_type": "error",
     "traceback": [
      "\u001b[1;31m---------------------------------------------------------------------------\u001b[0m",
      "\u001b[1;31mValueError\u001b[0m                                Traceback (most recent call last)",
      "Cell \u001b[1;32mIn[8], line 1\u001b[0m\n\u001b[1;32m----> 1\u001b[0m Kitchen_Order()\n",
      "Cell \u001b[1;32mIn[7], line 19\u001b[0m, in \u001b[0;36mKitchen_Order\u001b[1;34m()\u001b[0m\n\u001b[0;32m     17\u001b[0m \u001b[39mprint\u001b[39m(\u001b[39m'\u001b[39m\u001b[39m6. BEANS PIZZA, 7,000\u001b[39m\u001b[39m'\u001b[39m)\n\u001b[0;32m     18\u001b[0m choice \u001b[39m=\u001b[39m \u001b[39minput\u001b[39m(\u001b[39m'\u001b[39m\u001b[39mKindly provide your order using the number attached on to any of the meal of your choice on the menu: \u001b[39m\u001b[39m'\u001b[39m)\n\u001b[1;32m---> 19\u001b[0m quantity \u001b[39m=\u001b[39m \u001b[39mfloat\u001b[39;49m(\u001b[39minput\u001b[39;49m(\u001b[39m'\u001b[39;49m\u001b[39mEnter your order quantity: \u001b[39;49m\u001b[39m'\u001b[39;49m))\n\u001b[0;32m     20\u001b[0m \u001b[39mif\u001b[39;00m choice \u001b[39m==\u001b[39m \u001b[39m'\u001b[39m\u001b[39m1\u001b[39m\u001b[39m'\u001b[39m:\n\u001b[0;32m     21\u001b[0m     \u001b[39mprint\u001b[39m(\u001b[39mf\u001b[39m\u001b[39m'\u001b[39m\u001b[39mYour order is Chicken Rice, quantity: \u001b[39m\u001b[39m{\u001b[39;00mquantity\u001b[39m}\u001b[39;00m\u001b[39m, total:\u001b[39m\u001b[39m{\u001b[39;00mquantity\u001b[39m \u001b[39m\u001b[39m*\u001b[39m\u001b[39m \u001b[39m\u001b[39m5000\u001b[39m\u001b[39m}\u001b[39;00m\u001b[39m'\u001b[39m)\n",
      "\u001b[1;31mValueError\u001b[0m: could not convert string to float: ''"
     ]
    }
   ],
   "source": [
    "Kitchen_Order()"
   ]
  },
  {
   "cell_type": "code",
   "execution_count": null,
   "id": "e862a000-f402-4f23-bc2c-23e6f402cd9b",
   "metadata": {},
   "outputs": [
    {
     "name": "stdout",
     "output_type": "stream",
     "text": [
      "Kindly provide your order using the number attached on to any of the meal of your choice on the menu:  3\n",
      "Enter your order quantity:  5\n"
     ]
    },
    {
     "name": "stdout",
     "output_type": "stream",
     "text": [
      "WELCOME TO MEX KITCHEN, THE HOME OF GLORIOUS DELICACIES\n",
      "HERE ARE OUR MENU:\n",
      "1. CHICKEN RICE, 5,000\n",
      "2. FISH RICE, 7500\n",
      "3. BEANS RICE, 4000\n",
      "4. CHICKEN PIZZA, 15000\n",
      "5. FISH PIZA, 18000\n",
      "6. BEANS PIZZA, 7,000\n",
      "Your order is Beans Rice, quantity: 5.0, total:20000.0\n"
     ]
    }
   ],
   "source": [
    "def Kitchen_Order(choice, quantity ):\n",
    "    print('WELCOME TO MEX KITCHEN, THE HOME OF GLORIOUS DELICACIES')\n",
    "    print('HERE ARE OUR MENU:')\n",
    "    print('1. CHICKEN RICE, 5,000')\n",
    "    print('2. FISH RICE, 7500')\n",
    "    print('3. BEANS RICE, 4000')\n",
    "    print('4. CHICKEN PIZZA, 15000')\n",
    "    print('5. FISH PIZA, 18000')\n",
    "    print('6. BEANS PIZZA, 7,000')\n",
    "   \n",
    "    if choice == '1':\n",
    "        print(f'Your order is Chicken Rice, quantity: {quantity}, total:{quantity * 5000}')\n",
    "    elif choice == '2':\n",
    "        print(f'Your order is Fish Rice, quantity: {quantity}, total:{quantity * 7500}')\n",
    "    elif choice == '3':\n",
    "        print(f'Your order is Beans Rice, quantity: {quantity}, total:{quantity * 4000}')\n",
    "    elif choice == '4':\n",
    "        print(f'Your order is Chicken Pizza, quantity: {quantity}, total:{quantity * 15000}')\n",
    "    elif choice == '5':\n",
    "        print(f'Your order is Fish Pizza, quantity: {quantity}, total:{quantity * 18000}')\n",
    "    elif choice == '6':\n",
    "        print(f'Your order is Beans Pizza, quantity: {quantity}, total:{quantity * 7000}') \n",
    "Kitchen_Order(input('Kindly provide your order using the number attached on to any of the meal of your choice on the menu: '),float(input('Enter your order quantity: ')))"
   ]
  },
  {
   "cell_type": "code",
   "execution_count": null,
   "id": "d5ae64c5-df8d-4dda-87fa-bbabcbf01b43",
   "metadata": {},
   "outputs": [],
   "source": []
  }
 ],
 "metadata": {
  "kernelspec": {
   "display_name": "Python 3 (ipykernel)",
   "language": "python",
   "name": "python3"
  },
  "language_info": {
   "codemirror_mode": {
    "name": "ipython",
    "version": 3
   },
   "file_extension": ".py",
   "mimetype": "text/x-python",
   "name": "python",
   "nbconvert_exporter": "python",
   "pygments_lexer": "ipython3",
   "version": "3.11.3"
  }
 },
 "nbformat": 4,
 "nbformat_minor": 5
}
