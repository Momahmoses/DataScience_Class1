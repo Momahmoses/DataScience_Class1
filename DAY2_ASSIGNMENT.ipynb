{
 "cells": [
  {
   "cell_type": "markdown",
   "id": "c7ec8f6e-9b94-4198-8284-4c3034842491",
   "metadata": {},
   "source": [
    "# NUMBER ONE"
   ]
  },
  {
   "cell_type": "code",
   "execution_count": 4,
   "id": "9ae535b5-d3e5-4484-81c4-03871e38a28f",
   "metadata": {},
   "outputs": [
    {
     "name": "stdin",
     "output_type": "stream",
     "text": [
      "what is the square slice of the rectangle?  12\n",
      "what is the length of the short side of the cake?  3\n"
     ]
    },
    {
     "name": "stdout",
     "output_type": "stream",
     "text": [
      "The rectangular square slice of the cake is: 12cm \n",
      "The length of the short side of the cake is: 3.0cm \n",
      "The length of the long side of the cake is: 4.0cm\n"
     ]
    }
   ],
   "source": [
    "rectangle_square_slice = int(input('what is the squ are slice of the rectangle? '))\n",
    "short_side_of_the_cake = float(input('what is the length of the short side of the cake? '))\n",
    "long_side_of_the_cake = rectangle_square_slice / short _side_of_the_cake\n",
    "print(f'The rectangular square slice of the cake is: {rectangle_square_slice}cm \\nThe length of the short side of the cake is: {short_side_of_the_cake}cm \\nThe length of the long side of the cake is: {long_side_of_the_cake}cm')"
   ]
  },
  {
   "cell_type": "markdown",
   "id": "5f48861c-3bfa-4dde-9593-1e7bb4404df5",
   "metadata": {},
   "source": [
    "# NUMBER TWO"
   ]
  },
  {
   "cell_type": "code",
   "execution_count": 7,
   "id": "37366813-17e1-41c9-8672-54d5a5a9af8f",
   "metadata": {},
   "outputs": [
    {
     "name": "stdout",
     "output_type": "stream",
     "text": [
      "The train travelled for 4hours\n"
     ]
    }
   ],
   "source": [
    "train_leaves_station_A = 9\n",
    "train_arrives_station_B = 13\n",
    "travel_hour_of_the_train  = train_arrives_station_B - train_leaves_station_A\n",
    "print(f'The train travelled for {travel_hour_of_the_train}hours')"
   ]
  },
  {
   "cell_type": "markdown",
   "id": "412b241e-a875-4854-b144-5c209c3657af",
   "metadata": {},
   "source": [
    "# NUMBER 3"
   ]
  },
  {
   "cell_type": "code",
   "execution_count": 8,
   "id": "7c257939-aa25-467c-a73c-6b9569403d74",
   "metadata": {},
   "outputs": [
    {
     "name": "stdin",
     "output_type": "stream",
     "text": [
      "How many red marbles are in the bag?  3\n",
      "How many blue marbles are in the bag?  5\n",
      "How many green marbles are in the bag?  2\n"
     ]
    },
    {
     "name": "stdout",
     "output_type": "stream",
     "text": [
      "The number of red marbles is: 3\n",
      "The number of blue marbles is: 5\n",
      "The number of green marbles is: 2\n",
      "The total number of marbles in the bag is: 10\n"
     ]
    }
   ],
   "source": [
    "no_of_red_marbles = int(input('How many red marbles are in the bag? '))\n",
    "no_of_blue_marbles = int(input('How many blue marbles are in the bag? '))\n",
    "no_of_green_marbles = int(input('How many green marbles are in the bag? '))\n",
    "total_number_of_marbles_in_the_bag = no_of_red_marbles + no_of_blue_marbles + no_of_green_marbles\n",
    "print(f'The number of red marbles is: {no_of_red_marbles}\\nThe number of blue marbles is: {no_of_blue_marbles}\\nThe number of green marbles is: {no_of_green_marbles}\\nThe total number of marbles in the bag is: {total_number_of_marbles_in_the_bag}')"
   ]
  },
  {
   "cell_type": "markdown",
   "id": "d3493f94-287c-443e-b1e6-1d3c223517aa",
   "metadata": {},
   "source": [
    "# NUMBER 4"
   ]
  },
  {
   "cell_type": "code",
   "execution_count": 9,
   "id": "f468acec-6dfc-4297-aa0b-ba376f1dc4bc",
   "metadata": {},
   "outputs": [
    {
     "name": "stdin",
     "output_type": "stream",
     "text": [
      "How much has Michael saved so far? 15\n",
      "How much is the video game?  42\n"
     ]
    },
    {
     "name": "stdout",
     "output_type": "stream",
     "text": [
      "Mr Michael having saved $15 to purchase a video game worth $42 needs to save an extra $27 in order to purchase the game\n"
     ]
    }
   ],
   "source": [
    "michael_saved = int(input('How much has Michael saved so far?'))\n",
    "price_of_the_video_game = int(input('How much is the video game? '))\n",
    "amount_remaining = price_of_the_video_game - michael_saved\n",
    "print(f'Mr Michael having saved ${michael_saved} to purchase a video game worth ${price_of_the_video_game} needs to save an extra ${amount_remaining} in order to purchase the game')"
   ]
  },
  {
   "cell_type": "code",
   "execution_count": null,
   "id": "f084bbdc-e872-49e1-a399-a806ce666adf",
   "metadata": {},
   "outputs": [],
   "source": []
  }
 ],
 "metadata": {
  "kernelspec": {
   "display_name": "Python 3 (ipykernel)",
   "language": "python",
   "name": "python3"
  },
  "language_info": {
   "codemirror_mode": {
    "name": "ipython",
    "version": 3
   },
   "file_extension": ".py",
   "mimetype": "text/x-python",
   "name": "python",
   "nbconvert_exporter": "python",
   "pygments_lexer": "ipython3",
   "version": "3.11.7"
  }
 },
 "nbformat": 4,
 "nbformat_minor": 5
}
