{
 "cells": [
  {
   "cell_type": "code",
   "execution_count": 1,
   "metadata": {},
   "outputs": [
    {
     "data": {
      "text/html": [
       "<div>\n",
       "<style scoped>\n",
       "    .dataframe tbody tr th:only-of-type {\n",
       "        vertical-align: middle;\n",
       "    }\n",
       "\n",
       "    .dataframe tbody tr th {\n",
       "        vertical-align: top;\n",
       "    }\n",
       "\n",
       "    .dataframe thead th {\n",
       "        text-align: right;\n",
       "    }\n",
       "</style>\n",
       "<table border=\"1\" class=\"dataframe\">\n",
       "  <thead>\n",
       "    <tr style=\"text-align: right;\">\n",
       "      <th></th>\n",
       "      <th>Unnamed: 0</th>\n",
       "      <th>Title</th>\n",
       "      <th>Release Date</th>\n",
       "      <th>Description</th>\n",
       "      <th>Rating</th>\n",
       "      <th>No of Persons Voted</th>\n",
       "      <th>Directed by</th>\n",
       "      <th>Written by</th>\n",
       "      <th>Duration</th>\n",
       "      <th>Genres</th>\n",
       "    </tr>\n",
       "  </thead>\n",
       "  <tbody>\n",
       "    <tr>\n",
       "      <th>0</th>\n",
       "      <td>0</td>\n",
       "      <td>Dekalog (1988)</td>\n",
       "      <td>Mar 22, 1996</td>\n",
       "      <td>This masterwork by Krzysztof Kieślowski is one...</td>\n",
       "      <td>7.4</td>\n",
       "      <td>118</td>\n",
       "      <td>Krzysztof Kieslowski</td>\n",
       "      <td>Krzysztof Kieslowski, Krzysztof Piesiewicz</td>\n",
       "      <td>9 h 32 m</td>\n",
       "      <td>Drama</td>\n",
       "    </tr>\n",
       "    <tr>\n",
       "      <th>1</th>\n",
       "      <td>1</td>\n",
       "      <td>Three Colors: Red</td>\n",
       "      <td>Nov 23, 1994</td>\n",
       "      <td>Krzysztof Kieslowski closes his Three Colors t...</td>\n",
       "      <td>8.3</td>\n",
       "      <td>241</td>\n",
       "      <td>Krzysztof Kieslowski</td>\n",
       "      <td>Krzysztof Kieslowski, Krzysztof Piesiewicz, Ag...</td>\n",
       "      <td>1 h 39 m</td>\n",
       "      <td>Drama,Mystery,Romance</td>\n",
       "    </tr>\n",
       "    <tr>\n",
       "      <th>2</th>\n",
       "      <td>2</td>\n",
       "      <td>The Conformist</td>\n",
       "      <td>Oct 22, 1970</td>\n",
       "      <td>Set in Rome in the 1930s, this re-release of B...</td>\n",
       "      <td>7.3</td>\n",
       "      <td>106</td>\n",
       "      <td>Bernardo Bertolucci</td>\n",
       "      <td>Alberto Moravia, Bernardo Bertolucci</td>\n",
       "      <td>1 h 47 m</td>\n",
       "      <td>Drama</td>\n",
       "    </tr>\n",
       "    <tr>\n",
       "      <th>3</th>\n",
       "      <td>3</td>\n",
       "      <td>Tokyo Story</td>\n",
       "      <td>Mar 13, 1972</td>\n",
       "      <td>Yasujiro Ozu’s Tokyo Story follows an aging co...</td>\n",
       "      <td>8.1</td>\n",
       "      <td>147</td>\n",
       "      <td>Yasujirô Ozu</td>\n",
       "      <td>Kôgo Noda, Yasujirô Ozu</td>\n",
       "      <td>2 h 16 m</td>\n",
       "      <td>Drama</td>\n",
       "    </tr>\n",
       "    <tr>\n",
       "      <th>4</th>\n",
       "      <td>4</td>\n",
       "      <td>The Leopard (re-release)</td>\n",
       "      <td>Aug 13, 2004</td>\n",
       "      <td>Set in Sicily in 1860, Luchino Visconti's spec...</td>\n",
       "      <td>7.8</td>\n",
       "      <td>85</td>\n",
       "      <td>Luchino Visconti</td>\n",
       "      <td>Giuseppe Tomasi di Lampedusa, Suso Cecchi D'Am...</td>\n",
       "      <td>3 h 7 m</td>\n",
       "      <td>Drama,History</td>\n",
       "    </tr>\n",
       "  </tbody>\n",
       "</table>\n",
       "</div>"
      ],
      "text/plain": [
       "   Unnamed: 0                     Title  Release Date  \\\n",
       "0           0            Dekalog (1988)  Mar 22, 1996   \n",
       "1           1         Three Colors: Red  Nov 23, 1994   \n",
       "2           2            The Conformist  Oct 22, 1970   \n",
       "3           3               Tokyo Story  Mar 13, 1972   \n",
       "4           4  The Leopard (re-release)  Aug 13, 2004   \n",
       "\n",
       "                                         Description  Rating  \\\n",
       "0  This masterwork by Krzysztof Kieślowski is one...     7.4   \n",
       "1  Krzysztof Kieslowski closes his Three Colors t...     8.3   \n",
       "2  Set in Rome in the 1930s, this re-release of B...     7.3   \n",
       "3  Yasujiro Ozu’s Tokyo Story follows an aging co...     8.1   \n",
       "4  Set in Sicily in 1860, Luchino Visconti's spec...     7.8   \n",
       "\n",
       "  No of Persons Voted           Directed by  \\\n",
       "0                 118  Krzysztof Kieslowski   \n",
       "1                 241  Krzysztof Kieslowski   \n",
       "2                 106   Bernardo Bertolucci   \n",
       "3                 147          Yasujirô Ozu   \n",
       "4                  85      Luchino Visconti   \n",
       "\n",
       "                                          Written by  Duration  \\\n",
       "0         Krzysztof Kieslowski, Krzysztof Piesiewicz  9 h 32 m   \n",
       "1  Krzysztof Kieslowski, Krzysztof Piesiewicz, Ag...  1 h 39 m   \n",
       "2               Alberto Moravia, Bernardo Bertolucci  1 h 47 m   \n",
       "3                            Kôgo Noda, Yasujirô Ozu  2 h 16 m   \n",
       "4  Giuseppe Tomasi di Lampedusa, Suso Cecchi D'Am...   3 h 7 m   \n",
       "\n",
       "                  Genres  \n",
       "0                  Drama  \n",
       "1  Drama,Mystery,Romance  \n",
       "2                  Drama  \n",
       "3                  Drama  \n",
       "4          Drama,History  "
      ]
     },
     "execution_count": 1,
     "metadata": {},
     "output_type": "execute_result"
    }
   ],
   "source": [
    "import pandas as pd\n",
    "import numpy as np\n",
    "df = pd.read_csv('16k_Movies.csv')\n",
    "df.head()"
   ]
  },
  {
   "cell_type": "code",
   "execution_count": 2,
   "metadata": {},
   "outputs": [
    {
     "data": {
      "text/html": [
       "<div>\n",
       "<style scoped>\n",
       "    .dataframe tbody tr th:only-of-type {\n",
       "        vertical-align: middle;\n",
       "    }\n",
       "\n",
       "    .dataframe tbody tr th {\n",
       "        vertical-align: top;\n",
       "    }\n",
       "\n",
       "    .dataframe thead th {\n",
       "        text-align: right;\n",
       "    }\n",
       "</style>\n",
       "<table border=\"1\" class=\"dataframe\">\n",
       "  <thead>\n",
       "    <tr style=\"text-align: right;\">\n",
       "      <th></th>\n",
       "      <th>Unnamed: 0</th>\n",
       "      <th>Title</th>\n",
       "      <th>Release Date</th>\n",
       "      <th>Description</th>\n",
       "      <th>Rating</th>\n",
       "      <th>No of Persons Voted</th>\n",
       "      <th>Directed by</th>\n",
       "      <th>Written by</th>\n",
       "      <th>Duration</th>\n",
       "      <th>Genres</th>\n",
       "    </tr>\n",
       "  </thead>\n",
       "  <tbody>\n",
       "    <tr>\n",
       "      <th>16285</th>\n",
       "      <td>16285</td>\n",
       "      <td>Boys to Men</td>\n",
       "      <td>Apr 27, 2001</td>\n",
       "      <td>Compilation of 4 short films from different di...</td>\n",
       "      <td>NaN</td>\n",
       "      <td>NaN</td>\n",
       "      <td>NaN</td>\n",
       "      <td>NaN</td>\n",
       "      <td>\\n        https://www.amazon.com/Boys-Men-Phil...</td>\n",
       "      <td>Drama</td>\n",
       "    </tr>\n",
       "    <tr>\n",
       "      <th>16286</th>\n",
       "      <td>16286</td>\n",
       "      <td>Saint Misbehavin': The Wavy Gravy Movie</td>\n",
       "      <td>Dec 10, 2010</td>\n",
       "      <td>Beginning with Woodstock ‘99, director Michell...</td>\n",
       "      <td>NaN</td>\n",
       "      <td>NaN</td>\n",
       "      <td>Michelle Esrick</td>\n",
       "      <td>NaN</td>\n",
       "      <td>Not Rated</td>\n",
       "      <td>Documentary</td>\n",
       "    </tr>\n",
       "    <tr>\n",
       "      <th>16287</th>\n",
       "      <td>16287</td>\n",
       "      <td>Collectors</td>\n",
       "      <td>Oct 1, 2000</td>\n",
       "      <td>America is drawn to the macabre handiwork of t...</td>\n",
       "      <td>NaN</td>\n",
       "      <td>NaN</td>\n",
       "      <td>Julian P. Hobbs</td>\n",
       "      <td>NaN</td>\n",
       "      <td>1 h 20 m</td>\n",
       "      <td>Documentary</td>\n",
       "    </tr>\n",
       "    <tr>\n",
       "      <th>16288</th>\n",
       "      <td>16288</td>\n",
       "      <td>Bonhoeffer</td>\n",
       "      <td>Jun 20, 2003</td>\n",
       "      <td>Dramatic documentary about the young German pa...</td>\n",
       "      <td>NaN</td>\n",
       "      <td>NaN</td>\n",
       "      <td>Martin Doblmeier</td>\n",
       "      <td>Martin Doblmeier</td>\n",
       "      <td>1 h 33 m</td>\n",
       "      <td>Documentary,Biography,History,War</td>\n",
       "    </tr>\n",
       "    <tr>\n",
       "      <th>16289</th>\n",
       "      <td>16289</td>\n",
       "      <td>7th Street</td>\n",
       "      <td>Jan 17, 2003</td>\n",
       "      <td>This documentary explores change in one of the...</td>\n",
       "      <td>NaN</td>\n",
       "      <td>NaN</td>\n",
       "      <td>Josh Pais</td>\n",
       "      <td>Josh Pais</td>\n",
       "      <td>\\n        http://www.7thstreetmovie.com/\\n    ...</td>\n",
       "      <td>Documentary</td>\n",
       "    </tr>\n",
       "  </tbody>\n",
       "</table>\n",
       "</div>"
      ],
      "text/plain": [
       "       Unnamed: 0                                    Title  Release Date  \\\n",
       "16285       16285                              Boys to Men  Apr 27, 2001   \n",
       "16286       16286  Saint Misbehavin': The Wavy Gravy Movie  Dec 10, 2010   \n",
       "16287       16287                               Collectors   Oct 1, 2000   \n",
       "16288       16288                               Bonhoeffer  Jun 20, 2003   \n",
       "16289       16289                               7th Street  Jan 17, 2003   \n",
       "\n",
       "                                             Description  Rating  \\\n",
       "16285  Compilation of 4 short films from different di...     NaN   \n",
       "16286  Beginning with Woodstock ‘99, director Michell...     NaN   \n",
       "16287  America is drawn to the macabre handiwork of t...     NaN   \n",
       "16288  Dramatic documentary about the young German pa...     NaN   \n",
       "16289  This documentary explores change in one of the...     NaN   \n",
       "\n",
       "      No of Persons Voted       Directed by        Written by  \\\n",
       "16285                 NaN               NaN               NaN   \n",
       "16286                 NaN   Michelle Esrick               NaN   \n",
       "16287                 NaN   Julian P. Hobbs               NaN   \n",
       "16288                 NaN  Martin Doblmeier  Martin Doblmeier   \n",
       "16289                 NaN         Josh Pais         Josh Pais   \n",
       "\n",
       "                                                Duration  \\\n",
       "16285  \\n        https://www.amazon.com/Boys-Men-Phil...   \n",
       "16286                                          Not Rated   \n",
       "16287                                           1 h 20 m   \n",
       "16288                                           1 h 33 m   \n",
       "16289  \\n        http://www.7thstreetmovie.com/\\n    ...   \n",
       "\n",
       "                                  Genres  \n",
       "16285                              Drama  \n",
       "16286                        Documentary  \n",
       "16287                        Documentary  \n",
       "16288  Documentary,Biography,History,War  \n",
       "16289                        Documentary  "
      ]
     },
     "execution_count": 2,
     "metadata": {},
     "output_type": "execute_result"
    }
   ],
   "source": [
    "df.tail()\n"
   ]
  },
  {
   "cell_type": "code",
   "execution_count": 3,
   "metadata": {},
   "outputs": [
    {
     "data": {
      "text/plain": [
       "Unnamed: 0             False\n",
       "Title                   True\n",
       "Release Date            True\n",
       "Description             True\n",
       "Rating                  True\n",
       "No of Persons Voted     True\n",
       "Directed by             True\n",
       "Written by              True\n",
       "Duration                True\n",
       "Genres                  True\n",
       "dtype: bool"
      ]
     },
     "execution_count": 3,
     "metadata": {},
     "output_type": "execute_result"
    }
   ],
   "source": [
    "df.all()\n"
   ]
  },
  {
   "cell_type": "code",
   "execution_count": 4,
   "metadata": {},
   "outputs": [
    {
     "data": {
      "text/plain": [
       "Unnamed: 0                0\n",
       "Title                     0\n",
       "Release Date              0\n",
       "Description               0\n",
       "Rating                 3444\n",
       "No of Persons Voted    3461\n",
       "Directed by               7\n",
       "Written by              963\n",
       "Duration                 13\n",
       "Genres                    5\n",
       "dtype: int64"
      ]
     },
     "execution_count": 4,
     "metadata": {},
     "output_type": "execute_result"
    }
   ],
   "source": [
    "df.isnull().sum()"
   ]
  },
  {
   "cell_type": "code",
   "execution_count": 5,
   "metadata": {},
   "outputs": [
    {
     "data": {
      "text/plain": [
       "0                                 Dekalog (1988)\n",
       "1                              Three Colors: Red\n",
       "2                                 The Conformist\n",
       "3                                    Tokyo Story\n",
       "4                       The Leopard (re-release)\n",
       "                          ...                   \n",
       "16285                                Boys to Men\n",
       "16286    Saint Misbehavin': The Wavy Gravy Movie\n",
       "16287                                 Collectors\n",
       "16288                                 Bonhoeffer\n",
       "16289                                 7th Street\n",
       "Name: Title, Length: 16290, dtype: object"
      ]
     },
     "execution_count": 5,
     "metadata": {},
     "output_type": "execute_result"
    }
   ],
   "source": [
    "df['Title']"
   ]
  },
  {
   "cell_type": "code",
   "execution_count": 6,
   "metadata": {},
   "outputs": [
    {
     "data": {
      "text/plain": [
       "0        False\n",
       "1        False\n",
       "2        False\n",
       "3        False\n",
       "4        False\n",
       "         ...  \n",
       "16285    False\n",
       "16286    False\n",
       "16287    False\n",
       "16288    False\n",
       "16289    False\n",
       "Name: Title, Length: 16290, dtype: bool"
      ]
     },
     "execution_count": 6,
     "metadata": {},
     "output_type": "execute_result"
    }
   ],
   "source": [
    "df['Title'].isnull()"
   ]
  },
  {
   "cell_type": "code",
   "execution_count": 7,
   "metadata": {},
   "outputs": [
    {
     "data": {
      "text/plain": [
       "array([ 7.4,  8.3,  7.3,  8.1,  7.8,  9.3,  7.5,  8.6,  8.4,  7.7,  nan,\n",
       "        6.3,  8.8,  8.2,  8.5,  8. ,  8.7,  7.6,  7.9,  6.1,  6.9,  5.7,\n",
       "        6.8,  8.9,  7. ,  6.5,  5.5,  7.1,  7.2,  4.9,  5.3,  5.9,  4.8,\n",
       "        6.4,  0.9,  9. ,  6. ,  5.1,  6.7,  6.6,  5.4,  9.1,  2.5,  5.2,\n",
       "        6.2,  5. ,  4. ,  3.9,  4.7,  2. ,  4.3,  5.6,  4.5,  5.8,  9.2,\n",
       "        4.4,  4.1,  9.8,  3.5,  3.8,  3. ,  4.2,  2.8,  0.6,  3.4,  2.4,\n",
       "        2.2,  2.3,  9.4,  4.6,  3.6,  3.2,  2.7,  9.6,  2.9,  3.3,  9.7,\n",
       "        3.7,  9.5,  1.6,  1.8,  1. ,  1.3,  2.1,  3.1,  1.5,  1.7,  9.9,\n",
       "        1.9,  0.8,  2.6,  0.4,  0.3,  0.5,  1.4,  1.1,  1.2,  0.7, 10. ])"
      ]
     },
     "execution_count": 7,
     "metadata": {},
     "output_type": "execute_result"
    }
   ],
   "source": [
    "df['Rating'].unique()"
   ]
  },
  {
   "cell_type": "code",
   "execution_count": 8,
   "metadata": {},
   "outputs": [
    {
     "data": {
      "text/plain": [
       "count    12846.000000\n",
       "mean         6.617632\n",
       "std          1.415272\n",
       "min          0.300000\n",
       "25%          5.800000\n",
       "50%          6.800000\n",
       "75%          7.600000\n",
       "max         10.000000\n",
       "Name: Rating, dtype: float64"
      ]
     },
     "execution_count": 8,
     "metadata": {},
     "output_type": "execute_result"
    }
   ],
   "source": [
    "df['Rating'].describe()"
   ]
  },
  {
   "cell_type": "code",
   "execution_count": 9,
   "metadata": {},
   "outputs": [
    {
     "data": {
      "text/html": [
       "<div>\n",
       "<style scoped>\n",
       "    .dataframe tbody tr th:only-of-type {\n",
       "        vertical-align: middle;\n",
       "    }\n",
       "\n",
       "    .dataframe tbody tr th {\n",
       "        vertical-align: top;\n",
       "    }\n",
       "\n",
       "    .dataframe thead th {\n",
       "        text-align: right;\n",
       "    }\n",
       "</style>\n",
       "<table border=\"1\" class=\"dataframe\">\n",
       "  <thead>\n",
       "    <tr style=\"text-align: right;\">\n",
       "      <th></th>\n",
       "      <th>Unnamed: 0</th>\n",
       "      <th>Rating</th>\n",
       "    </tr>\n",
       "  </thead>\n",
       "  <tbody>\n",
       "    <tr>\n",
       "      <th>count</th>\n",
       "      <td>16290.000000</td>\n",
       "      <td>12846.000000</td>\n",
       "    </tr>\n",
       "    <tr>\n",
       "      <th>mean</th>\n",
       "      <td>8144.500000</td>\n",
       "      <td>6.617632</td>\n",
       "    </tr>\n",
       "    <tr>\n",
       "      <th>std</th>\n",
       "      <td>4702.662278</td>\n",
       "      <td>1.415272</td>\n",
       "    </tr>\n",
       "    <tr>\n",
       "      <th>min</th>\n",
       "      <td>0.000000</td>\n",
       "      <td>0.300000</td>\n",
       "    </tr>\n",
       "    <tr>\n",
       "      <th>25%</th>\n",
       "      <td>4072.250000</td>\n",
       "      <td>5.800000</td>\n",
       "    </tr>\n",
       "    <tr>\n",
       "      <th>50%</th>\n",
       "      <td>8144.500000</td>\n",
       "      <td>6.800000</td>\n",
       "    </tr>\n",
       "    <tr>\n",
       "      <th>75%</th>\n",
       "      <td>12216.750000</td>\n",
       "      <td>7.600000</td>\n",
       "    </tr>\n",
       "    <tr>\n",
       "      <th>max</th>\n",
       "      <td>16289.000000</td>\n",
       "      <td>10.000000</td>\n",
       "    </tr>\n",
       "  </tbody>\n",
       "</table>\n",
       "</div>"
      ],
      "text/plain": [
       "         Unnamed: 0        Rating\n",
       "count  16290.000000  12846.000000\n",
       "mean    8144.500000      6.617632\n",
       "std     4702.662278      1.415272\n",
       "min        0.000000      0.300000\n",
       "25%     4072.250000      5.800000\n",
       "50%     8144.500000      6.800000\n",
       "75%    12216.750000      7.600000\n",
       "max    16289.000000     10.000000"
      ]
     },
     "execution_count": 9,
     "metadata": {},
     "output_type": "execute_result"
    }
   ],
   "source": [
    "df.describe()"
   ]
  },
  {
   "cell_type": "code",
   "execution_count": 10,
   "metadata": {},
   "outputs": [
    {
     "name": "stdout",
     "output_type": "stream",
     "text": [
      "<class 'pandas.core.frame.DataFrame'>\n",
      "RangeIndex: 16290 entries, 0 to 16289\n",
      "Data columns (total 10 columns):\n",
      " #   Column               Non-Null Count  Dtype  \n",
      "---  ------               --------------  -----  \n",
      " 0   Unnamed: 0           16290 non-null  int64  \n",
      " 1   Title                16290 non-null  object \n",
      " 2   Release Date         16290 non-null  object \n",
      " 3   Description          16290 non-null  object \n",
      " 4   Rating               12846 non-null  float64\n",
      " 5   No of Persons Voted  12829 non-null  object \n",
      " 6   Directed by          16283 non-null  object \n",
      " 7   Written by           15327 non-null  object \n",
      " 8   Duration             16277 non-null  object \n",
      " 9   Genres               16285 non-null  object \n",
      "dtypes: float64(1), int64(1), object(8)\n",
      "memory usage: 1.2+ MB\n"
     ]
    }
   ],
   "source": [
    "df.info()"
   ]
  },
  {
   "attachments": {},
   "cell_type": "markdown",
   "metadata": {},
   "source": [
    "# No 1"
   ]
  },
  {
   "cell_type": "code",
   "execution_count": 11,
   "metadata": {},
   "outputs": [
    {
     "data": {
      "text/plain": [
       "np.int64(3444)"
      ]
     },
     "execution_count": 11,
     "metadata": {},
     "output_type": "execute_result"
    }
   ],
   "source": [
    "df['Rating'].isnull().sum()"
   ]
  },
  {
   "cell_type": "code",
   "execution_count": 12,
   "metadata": {},
   "outputs": [
    {
     "data": {
      "text/plain": [
       "np.float64(21.141804788213626)"
      ]
     },
     "execution_count": 12,
     "metadata": {},
     "output_type": "execute_result"
    }
   ],
   "source": [
    "per_missing_rating = df['Rating'].isnull().sum()/len(df['Rating']) * 100\n",
    "per_missing_rating"
   ]
  },
  {
   "cell_type": "code",
   "execution_count": 13,
   "metadata": {},
   "outputs": [
    {
     "data": {
      "text/plain": [
       "np.float64(0.0)"
      ]
     },
     "execution_count": 13,
     "metadata": {},
     "output_type": "execute_result"
    }
   ],
   "source": [
    "per_missing_description = df['Description'].isnull().sum()/len(df['Description']) * 100\n",
    "per_missing_description"
   ]
  },
  {
   "cell_type": "code",
   "execution_count": 14,
   "metadata": {},
   "outputs": [
    {
     "data": {
      "text/plain": [
       "np.float64(0.042971147943523635)"
      ]
     },
     "execution_count": 14,
     "metadata": {},
     "output_type": "execute_result"
    }
   ],
   "source": [
    "per_missing_directed_by = df['Directed by'].isnull().sum()/len(df['Directed by']) * 100\n",
    "per_missing_directed_by"
   ]
  },
  {
   "cell_type": "code",
   "execution_count": 15,
   "metadata": {},
   "outputs": [
    {
     "data": {
      "text/plain": [
       "np.float64(5.911602209944752)"
      ]
     },
     "execution_count": 15,
     "metadata": {},
     "output_type": "execute_result"
    }
   ],
   "source": [
    "per_missing_written_by = df['Written by'].isnull().sum()/len(df['Written by']) * 100\n",
    "per_missing_written_by"
   ]
  },
  {
   "attachments": {},
   "cell_type": "markdown",
   "metadata": {},
   "source": [
    "# TO FILL UP THE NULL VALUES"
   ]
  },
  {
   "cell_type": "markdown",
   "metadata": {},
   "source": []
  },
  {
   "cell_type": "code",
   "execution_count": 16,
   "metadata": {},
   "outputs": [
    {
     "data": {
      "text/html": [
       "<div>\n",
       "<style scoped>\n",
       "    .dataframe tbody tr th:only-of-type {\n",
       "        vertical-align: middle;\n",
       "    }\n",
       "\n",
       "    .dataframe tbody tr th {\n",
       "        vertical-align: top;\n",
       "    }\n",
       "\n",
       "    .dataframe thead th {\n",
       "        text-align: right;\n",
       "    }\n",
       "</style>\n",
       "<table border=\"1\" class=\"dataframe\">\n",
       "  <thead>\n",
       "    <tr style=\"text-align: right;\">\n",
       "      <th></th>\n",
       "      <th>Unnamed: 0</th>\n",
       "      <th>Title</th>\n",
       "      <th>Release Date</th>\n",
       "      <th>Description</th>\n",
       "      <th>Rating</th>\n",
       "      <th>No of Persons Voted</th>\n",
       "      <th>Directed by</th>\n",
       "      <th>Written by</th>\n",
       "      <th>Duration</th>\n",
       "      <th>Genres</th>\n",
       "    </tr>\n",
       "  </thead>\n",
       "  <tbody>\n",
       "    <tr>\n",
       "      <th>0</th>\n",
       "      <td>False</td>\n",
       "      <td>False</td>\n",
       "      <td>False</td>\n",
       "      <td>False</td>\n",
       "      <td>False</td>\n",
       "      <td>False</td>\n",
       "      <td>False</td>\n",
       "      <td>False</td>\n",
       "      <td>False</td>\n",
       "      <td>False</td>\n",
       "    </tr>\n",
       "    <tr>\n",
       "      <th>1</th>\n",
       "      <td>False</td>\n",
       "      <td>False</td>\n",
       "      <td>False</td>\n",
       "      <td>False</td>\n",
       "      <td>False</td>\n",
       "      <td>False</td>\n",
       "      <td>False</td>\n",
       "      <td>False</td>\n",
       "      <td>False</td>\n",
       "      <td>False</td>\n",
       "    </tr>\n",
       "    <tr>\n",
       "      <th>2</th>\n",
       "      <td>False</td>\n",
       "      <td>False</td>\n",
       "      <td>False</td>\n",
       "      <td>False</td>\n",
       "      <td>False</td>\n",
       "      <td>False</td>\n",
       "      <td>False</td>\n",
       "      <td>False</td>\n",
       "      <td>False</td>\n",
       "      <td>False</td>\n",
       "    </tr>\n",
       "    <tr>\n",
       "      <th>3</th>\n",
       "      <td>False</td>\n",
       "      <td>False</td>\n",
       "      <td>False</td>\n",
       "      <td>False</td>\n",
       "      <td>False</td>\n",
       "      <td>False</td>\n",
       "      <td>False</td>\n",
       "      <td>False</td>\n",
       "      <td>False</td>\n",
       "      <td>False</td>\n",
       "    </tr>\n",
       "    <tr>\n",
       "      <th>4</th>\n",
       "      <td>False</td>\n",
       "      <td>False</td>\n",
       "      <td>False</td>\n",
       "      <td>False</td>\n",
       "      <td>False</td>\n",
       "      <td>False</td>\n",
       "      <td>False</td>\n",
       "      <td>False</td>\n",
       "      <td>False</td>\n",
       "      <td>False</td>\n",
       "    </tr>\n",
       "    <tr>\n",
       "      <th>...</th>\n",
       "      <td>...</td>\n",
       "      <td>...</td>\n",
       "      <td>...</td>\n",
       "      <td>...</td>\n",
       "      <td>...</td>\n",
       "      <td>...</td>\n",
       "      <td>...</td>\n",
       "      <td>...</td>\n",
       "      <td>...</td>\n",
       "      <td>...</td>\n",
       "    </tr>\n",
       "    <tr>\n",
       "      <th>16285</th>\n",
       "      <td>False</td>\n",
       "      <td>False</td>\n",
       "      <td>False</td>\n",
       "      <td>False</td>\n",
       "      <td>True</td>\n",
       "      <td>True</td>\n",
       "      <td>True</td>\n",
       "      <td>True</td>\n",
       "      <td>False</td>\n",
       "      <td>False</td>\n",
       "    </tr>\n",
       "    <tr>\n",
       "      <th>16286</th>\n",
       "      <td>False</td>\n",
       "      <td>False</td>\n",
       "      <td>False</td>\n",
       "      <td>False</td>\n",
       "      <td>True</td>\n",
       "      <td>True</td>\n",
       "      <td>False</td>\n",
       "      <td>True</td>\n",
       "      <td>False</td>\n",
       "      <td>False</td>\n",
       "    </tr>\n",
       "    <tr>\n",
       "      <th>16287</th>\n",
       "      <td>False</td>\n",
       "      <td>False</td>\n",
       "      <td>False</td>\n",
       "      <td>False</td>\n",
       "      <td>True</td>\n",
       "      <td>True</td>\n",
       "      <td>False</td>\n",
       "      <td>True</td>\n",
       "      <td>False</td>\n",
       "      <td>False</td>\n",
       "    </tr>\n",
       "    <tr>\n",
       "      <th>16288</th>\n",
       "      <td>False</td>\n",
       "      <td>False</td>\n",
       "      <td>False</td>\n",
       "      <td>False</td>\n",
       "      <td>True</td>\n",
       "      <td>True</td>\n",
       "      <td>False</td>\n",
       "      <td>False</td>\n",
       "      <td>False</td>\n",
       "      <td>False</td>\n",
       "    </tr>\n",
       "    <tr>\n",
       "      <th>16289</th>\n",
       "      <td>False</td>\n",
       "      <td>False</td>\n",
       "      <td>False</td>\n",
       "      <td>False</td>\n",
       "      <td>True</td>\n",
       "      <td>True</td>\n",
       "      <td>False</td>\n",
       "      <td>False</td>\n",
       "      <td>False</td>\n",
       "      <td>False</td>\n",
       "    </tr>\n",
       "  </tbody>\n",
       "</table>\n",
       "<p>16290 rows × 10 columns</p>\n",
       "</div>"
      ],
      "text/plain": [
       "       Unnamed: 0  Title  Release Date  Description  Rating  \\\n",
       "0           False  False         False        False   False   \n",
       "1           False  False         False        False   False   \n",
       "2           False  False         False        False   False   \n",
       "3           False  False         False        False   False   \n",
       "4           False  False         False        False   False   \n",
       "...           ...    ...           ...          ...     ...   \n",
       "16285       False  False         False        False    True   \n",
       "16286       False  False         False        False    True   \n",
       "16287       False  False         False        False    True   \n",
       "16288       False  False         False        False    True   \n",
       "16289       False  False         False        False    True   \n",
       "\n",
       "       No of Persons Voted  Directed by  Written by  Duration  Genres  \n",
       "0                    False        False       False     False   False  \n",
       "1                    False        False       False     False   False  \n",
       "2                    False        False       False     False   False  \n",
       "3                    False        False       False     False   False  \n",
       "4                    False        False       False     False   False  \n",
       "...                    ...          ...         ...       ...     ...  \n",
       "16285                 True         True        True     False   False  \n",
       "16286                 True        False        True     False   False  \n",
       "16287                 True        False        True     False   False  \n",
       "16288                 True        False       False     False   False  \n",
       "16289                 True        False       False     False   False  \n",
       "\n",
       "[16290 rows x 10 columns]"
      ]
     },
     "execution_count": 16,
     "metadata": {},
     "output_type": "execute_result"
    }
   ],
   "source": [
    "df.isnull()\n"
   ]
  },
  {
   "cell_type": "code",
   "execution_count": 17,
   "metadata": {},
   "outputs": [
    {
     "data": {
      "text/html": [
       "<div>\n",
       "<style scoped>\n",
       "    .dataframe tbody tr th:only-of-type {\n",
       "        vertical-align: middle;\n",
       "    }\n",
       "\n",
       "    .dataframe tbody tr th {\n",
       "        vertical-align: top;\n",
       "    }\n",
       "\n",
       "    .dataframe thead th {\n",
       "        text-align: right;\n",
       "    }\n",
       "</style>\n",
       "<table border=\"1\" class=\"dataframe\">\n",
       "  <thead>\n",
       "    <tr style=\"text-align: right;\">\n",
       "      <th></th>\n",
       "      <th>Unnamed: 0</th>\n",
       "      <th>Title</th>\n",
       "      <th>Release Date</th>\n",
       "      <th>Description</th>\n",
       "      <th>Rating</th>\n",
       "      <th>No of Persons Voted</th>\n",
       "      <th>Directed by</th>\n",
       "      <th>Written by</th>\n",
       "      <th>Duration</th>\n",
       "      <th>Genres</th>\n",
       "    </tr>\n",
       "  </thead>\n",
       "  <tbody>\n",
       "    <tr>\n",
       "      <th>16285</th>\n",
       "      <td>16285</td>\n",
       "      <td>Boys to Men</td>\n",
       "      <td>Apr 27, 2001</td>\n",
       "      <td>Compilation of 4 short films from different di...</td>\n",
       "      <td>NaN</td>\n",
       "      <td>NaN</td>\n",
       "      <td>NaN</td>\n",
       "      <td>NaN</td>\n",
       "      <td>\\n        https://www.amazon.com/Boys-Men-Phil...</td>\n",
       "      <td>Drama</td>\n",
       "    </tr>\n",
       "    <tr>\n",
       "      <th>16286</th>\n",
       "      <td>16286</td>\n",
       "      <td>Saint Misbehavin': The Wavy Gravy Movie</td>\n",
       "      <td>Dec 10, 2010</td>\n",
       "      <td>Beginning with Woodstock ‘99, director Michell...</td>\n",
       "      <td>NaN</td>\n",
       "      <td>NaN</td>\n",
       "      <td>Michelle Esrick</td>\n",
       "      <td>NaN</td>\n",
       "      <td>Not Rated</td>\n",
       "      <td>Documentary</td>\n",
       "    </tr>\n",
       "    <tr>\n",
       "      <th>16287</th>\n",
       "      <td>16287</td>\n",
       "      <td>Collectors</td>\n",
       "      <td>Oct 1, 2000</td>\n",
       "      <td>America is drawn to the macabre handiwork of t...</td>\n",
       "      <td>NaN</td>\n",
       "      <td>NaN</td>\n",
       "      <td>Julian P. Hobbs</td>\n",
       "      <td>NaN</td>\n",
       "      <td>1 h 20 m</td>\n",
       "      <td>Documentary</td>\n",
       "    </tr>\n",
       "    <tr>\n",
       "      <th>16288</th>\n",
       "      <td>16288</td>\n",
       "      <td>Bonhoeffer</td>\n",
       "      <td>Jun 20, 2003</td>\n",
       "      <td>Dramatic documentary about the young German pa...</td>\n",
       "      <td>NaN</td>\n",
       "      <td>NaN</td>\n",
       "      <td>Martin Doblmeier</td>\n",
       "      <td>Martin Doblmeier</td>\n",
       "      <td>1 h 33 m</td>\n",
       "      <td>Documentary,Biography,History,War</td>\n",
       "    </tr>\n",
       "    <tr>\n",
       "      <th>16289</th>\n",
       "      <td>16289</td>\n",
       "      <td>7th Street</td>\n",
       "      <td>Jan 17, 2003</td>\n",
       "      <td>This documentary explores change in one of the...</td>\n",
       "      <td>NaN</td>\n",
       "      <td>NaN</td>\n",
       "      <td>Josh Pais</td>\n",
       "      <td>Josh Pais</td>\n",
       "      <td>\\n        http://www.7thstreetmovie.com/\\n    ...</td>\n",
       "      <td>Documentary</td>\n",
       "    </tr>\n",
       "  </tbody>\n",
       "</table>\n",
       "</div>"
      ],
      "text/plain": [
       "       Unnamed: 0                                    Title  Release Date  \\\n",
       "16285       16285                              Boys to Men  Apr 27, 2001   \n",
       "16286       16286  Saint Misbehavin': The Wavy Gravy Movie  Dec 10, 2010   \n",
       "16287       16287                               Collectors   Oct 1, 2000   \n",
       "16288       16288                               Bonhoeffer  Jun 20, 2003   \n",
       "16289       16289                               7th Street  Jan 17, 2003   \n",
       "\n",
       "                                             Description  Rating  \\\n",
       "16285  Compilation of 4 short films from different di...     NaN   \n",
       "16286  Beginning with Woodstock ‘99, director Michell...     NaN   \n",
       "16287  America is drawn to the macabre handiwork of t...     NaN   \n",
       "16288  Dramatic documentary about the young German pa...     NaN   \n",
       "16289  This documentary explores change in one of the...     NaN   \n",
       "\n",
       "      No of Persons Voted       Directed by        Written by  \\\n",
       "16285                 NaN               NaN               NaN   \n",
       "16286                 NaN   Michelle Esrick               NaN   \n",
       "16287                 NaN   Julian P. Hobbs               NaN   \n",
       "16288                 NaN  Martin Doblmeier  Martin Doblmeier   \n",
       "16289                 NaN         Josh Pais         Josh Pais   \n",
       "\n",
       "                                                Duration  \\\n",
       "16285  \\n        https://www.amazon.com/Boys-Men-Phil...   \n",
       "16286                                          Not Rated   \n",
       "16287                                           1 h 20 m   \n",
       "16288                                           1 h 33 m   \n",
       "16289  \\n        http://www.7thstreetmovie.com/\\n    ...   \n",
       "\n",
       "                                  Genres  \n",
       "16285                              Drama  \n",
       "16286                        Documentary  \n",
       "16287                        Documentary  \n",
       "16288  Documentary,Biography,History,War  \n",
       "16289                        Documentary  "
      ]
     },
     "execution_count": 17,
     "metadata": {},
     "output_type": "execute_result"
    }
   ],
   "source": [
    "df.tail()"
   ]
  },
  {
   "cell_type": "code",
   "execution_count": 18,
   "metadata": {},
   "outputs": [
    {
     "name": "stderr",
     "output_type": "stream",
     "text": [
      "C:\\Users\\USER\\AppData\\Local\\Temp\\ipykernel_2184\\272988431.py:2: FutureWarning: A value is trying to be set on a copy of a DataFrame or Series through chained assignment using an inplace method.\n",
      "The behavior will change in pandas 3.0. This inplace method will never work because the intermediate object on which we are setting values always behaves as a copy.\n",
      "\n",
      "For example, when doing 'df[col].method(value, inplace=True)', try using 'df.method({col: value}, inplace=True)' or df[col] = df[col].method(value) instead, to perform the operation inplace on the original object.\n",
      "\n",
      "\n",
      "  df['Rating'].fillna(np.mean(df['Rating']), inplace = True)\n"
     ]
    },
    {
     "data": {
      "text/plain": [
       "np.int64(0)"
      ]
     },
     "execution_count": 18,
     "metadata": {},
     "output_type": "execute_result"
    }
   ],
   "source": [
    "# FILLING THE NULL CELLS WITHT THE MEAN OF THE COLUMN\n",
    "df['Rating'].fillna(np.mean(df['Rating']), inplace = True)\n",
    "df['Rating'].isnull().sum()"
   ]
  },
  {
   "cell_type": "code",
   "execution_count": 19,
   "metadata": {},
   "outputs": [
    {
     "data": {
      "text/html": [
       "<div>\n",
       "<style scoped>\n",
       "    .dataframe tbody tr th:only-of-type {\n",
       "        vertical-align: middle;\n",
       "    }\n",
       "\n",
       "    .dataframe tbody tr th {\n",
       "        vertical-align: top;\n",
       "    }\n",
       "\n",
       "    .dataframe thead th {\n",
       "        text-align: right;\n",
       "    }\n",
       "</style>\n",
       "<table border=\"1\" class=\"dataframe\">\n",
       "  <thead>\n",
       "    <tr style=\"text-align: right;\">\n",
       "      <th></th>\n",
       "      <th>Unnamed: 0</th>\n",
       "      <th>Title</th>\n",
       "      <th>Release Date</th>\n",
       "      <th>Description</th>\n",
       "      <th>Rating</th>\n",
       "      <th>No of Persons Voted</th>\n",
       "      <th>Directed by</th>\n",
       "      <th>Written by</th>\n",
       "      <th>Duration</th>\n",
       "      <th>Genres</th>\n",
       "    </tr>\n",
       "  </thead>\n",
       "  <tbody>\n",
       "    <tr>\n",
       "      <th>16285</th>\n",
       "      <td>16285</td>\n",
       "      <td>Boys to Men</td>\n",
       "      <td>Apr 27, 2001</td>\n",
       "      <td>Compilation of 4 short films from different di...</td>\n",
       "      <td>6.617632</td>\n",
       "      <td>NaN</td>\n",
       "      <td>NaN</td>\n",
       "      <td>NaN</td>\n",
       "      <td>\\n        https://www.amazon.com/Boys-Men-Phil...</td>\n",
       "      <td>Drama</td>\n",
       "    </tr>\n",
       "    <tr>\n",
       "      <th>16286</th>\n",
       "      <td>16286</td>\n",
       "      <td>Saint Misbehavin': The Wavy Gravy Movie</td>\n",
       "      <td>Dec 10, 2010</td>\n",
       "      <td>Beginning with Woodstock ‘99, director Michell...</td>\n",
       "      <td>6.617632</td>\n",
       "      <td>NaN</td>\n",
       "      <td>Michelle Esrick</td>\n",
       "      <td>NaN</td>\n",
       "      <td>Not Rated</td>\n",
       "      <td>Documentary</td>\n",
       "    </tr>\n",
       "    <tr>\n",
       "      <th>16287</th>\n",
       "      <td>16287</td>\n",
       "      <td>Collectors</td>\n",
       "      <td>Oct 1, 2000</td>\n",
       "      <td>America is drawn to the macabre handiwork of t...</td>\n",
       "      <td>6.617632</td>\n",
       "      <td>NaN</td>\n",
       "      <td>Julian P. Hobbs</td>\n",
       "      <td>NaN</td>\n",
       "      <td>1 h 20 m</td>\n",
       "      <td>Documentary</td>\n",
       "    </tr>\n",
       "    <tr>\n",
       "      <th>16288</th>\n",
       "      <td>16288</td>\n",
       "      <td>Bonhoeffer</td>\n",
       "      <td>Jun 20, 2003</td>\n",
       "      <td>Dramatic documentary about the young German pa...</td>\n",
       "      <td>6.617632</td>\n",
       "      <td>NaN</td>\n",
       "      <td>Martin Doblmeier</td>\n",
       "      <td>Martin Doblmeier</td>\n",
       "      <td>1 h 33 m</td>\n",
       "      <td>Documentary,Biography,History,War</td>\n",
       "    </tr>\n",
       "    <tr>\n",
       "      <th>16289</th>\n",
       "      <td>16289</td>\n",
       "      <td>7th Street</td>\n",
       "      <td>Jan 17, 2003</td>\n",
       "      <td>This documentary explores change in one of the...</td>\n",
       "      <td>6.617632</td>\n",
       "      <td>NaN</td>\n",
       "      <td>Josh Pais</td>\n",
       "      <td>Josh Pais</td>\n",
       "      <td>\\n        http://www.7thstreetmovie.com/\\n    ...</td>\n",
       "      <td>Documentary</td>\n",
       "    </tr>\n",
       "  </tbody>\n",
       "</table>\n",
       "</div>"
      ],
      "text/plain": [
       "       Unnamed: 0                                    Title  Release Date  \\\n",
       "16285       16285                              Boys to Men  Apr 27, 2001   \n",
       "16286       16286  Saint Misbehavin': The Wavy Gravy Movie  Dec 10, 2010   \n",
       "16287       16287                               Collectors   Oct 1, 2000   \n",
       "16288       16288                               Bonhoeffer  Jun 20, 2003   \n",
       "16289       16289                               7th Street  Jan 17, 2003   \n",
       "\n",
       "                                             Description    Rating  \\\n",
       "16285  Compilation of 4 short films from different di...  6.617632   \n",
       "16286  Beginning with Woodstock ‘99, director Michell...  6.617632   \n",
       "16287  America is drawn to the macabre handiwork of t...  6.617632   \n",
       "16288  Dramatic documentary about the young German pa...  6.617632   \n",
       "16289  This documentary explores change in one of the...  6.617632   \n",
       "\n",
       "      No of Persons Voted       Directed by        Written by  \\\n",
       "16285                 NaN               NaN               NaN   \n",
       "16286                 NaN   Michelle Esrick               NaN   \n",
       "16287                 NaN   Julian P. Hobbs               NaN   \n",
       "16288                 NaN  Martin Doblmeier  Martin Doblmeier   \n",
       "16289                 NaN         Josh Pais         Josh Pais   \n",
       "\n",
       "                                                Duration  \\\n",
       "16285  \\n        https://www.amazon.com/Boys-Men-Phil...   \n",
       "16286                                          Not Rated   \n",
       "16287                                           1 h 20 m   \n",
       "16288                                           1 h 33 m   \n",
       "16289  \\n        http://www.7thstreetmovie.com/\\n    ...   \n",
       "\n",
       "                                  Genres  \n",
       "16285                              Drama  \n",
       "16286                        Documentary  \n",
       "16287                        Documentary  \n",
       "16288  Documentary,Biography,History,War  \n",
       "16289                        Documentary  "
      ]
     },
     "execution_count": 19,
     "metadata": {},
     "output_type": "execute_result"
    }
   ],
   "source": [
    "df.tail()"
   ]
  },
  {
   "cell_type": "code",
   "execution_count": 20,
   "metadata": {},
   "outputs": [
    {
     "ename": "SyntaxError",
     "evalue": "invalid syntax. Perhaps you forgot a comma? (189299606.py, line 1)",
     "output_type": "error",
     "traceback": [
      "\u001b[1;36m  Cell \u001b[1;32mIn[20], line 1\u001b[1;36m\u001b[0m\n\u001b[1;33m    df.fillna({No of Persons Voted: df['No of Persons Voted'].mean()}, inplace=True)\u001b[0m\n\u001b[1;37m               ^\u001b[0m\n\u001b[1;31mSyntaxError\u001b[0m\u001b[1;31m:\u001b[0m invalid syntax. Perhaps you forgot a comma?\n"
     ]
    }
   ],
   "source": [
    "df.fillna({No of Persons Voted: df['No of Persons Voted'].mean()}, inplace=True)"
   ]
  },
  {
   "cell_type": "code",
   "execution_count": null,
   "metadata": {},
   "outputs": [
    {
     "ename": "SyntaxError",
     "evalue": "invalid syntax. Perhaps you forgot a comma? (463149225.py, line 1)",
     "output_type": "error",
     "traceback": [
      "\u001b[1;36m  Cell \u001b[1;32mIn[89], line 1\u001b[1;36m\u001b[0m\n\u001b[1;33m    df[No of Persons Voted] = df[No of Persons Voted].fillna(df['No of Persons Voted'].mean(), inplace = True)\u001b[0m\n\u001b[1;37m       ^\u001b[0m\n\u001b[1;31mSyntaxError\u001b[0m\u001b[1;31m:\u001b[0m invalid syntax. Perhaps you forgot a comma?\n"
     ]
    }
   ],
   "source": [
    "df[No of Persons Voted] = df[No of Persons Voted].fillna(df['No of Persons Voted'].mean(), inplace = True)"
   ]
  },
  {
   "cell_type": "code",
   "execution_count": null,
   "metadata": {},
   "outputs": [
    {
     "ename": "TypeError",
     "evalue": "can only concatenate str (not \"int\") to str",
     "output_type": "error",
     "traceback": [
      "\u001b[1;31m---------------------------------------------------------------------------\u001b[0m",
      "\u001b[1;31mTypeError\u001b[0m                                 Traceback (most recent call last)",
      "Cell \u001b[1;32mIn[90], line 2\u001b[0m\n\u001b[0;32m      1\u001b[0m \u001b[39m# FILLING THE NULL CELLS WITHT THE MEAN OF THE COLUMN\u001b[39;00m\n\u001b[1;32m----> 2\u001b[0m df[\u001b[39m'\u001b[39m\u001b[39mNo of Persons Voted\u001b[39m\u001b[39m'\u001b[39m]\u001b[39m.\u001b[39mfillna(np\u001b[39m.\u001b[39;49mmean(df[\u001b[39m'\u001b[39;49m\u001b[39mNo of Persons Voted\u001b[39;49m\u001b[39m'\u001b[39;49m]), inplace \u001b[39m=\u001b[39m \u001b[39mTrue\u001b[39;00m)\n\u001b[0;32m      3\u001b[0m df[\u001b[39m'\u001b[39m\u001b[39mNo of Persons Voted\u001b[39m\u001b[39m'\u001b[39m]\u001b[39m.\u001b[39misnull()\u001b[39m.\u001b[39msum()\n",
      "File \u001b[1;32mc:\\Users\\USER\\AppData\\Local\\Programs\\Python\\Python311\\Lib\\site-packages\\numpy\\_core\\fromnumeric.py:3902\u001b[0m, in \u001b[0;36mmean\u001b[1;34m(a, axis, dtype, out, keepdims, where)\u001b[0m\n\u001b[0;32m   3900\u001b[0m         \u001b[39mpass\u001b[39;00m\n\u001b[0;32m   3901\u001b[0m     \u001b[39melse\u001b[39;00m:\n\u001b[1;32m-> 3902\u001b[0m         \u001b[39mreturn\u001b[39;00m mean(axis\u001b[39m=\u001b[39;49maxis, dtype\u001b[39m=\u001b[39;49mdtype, out\u001b[39m=\u001b[39;49mout, \u001b[39m*\u001b[39;49m\u001b[39m*\u001b[39;49mkwargs)\n\u001b[0;32m   3904\u001b[0m \u001b[39mreturn\u001b[39;00m _methods\u001b[39m.\u001b[39m_mean(a, axis\u001b[39m=\u001b[39maxis, dtype\u001b[39m=\u001b[39mdtype,\n\u001b[0;32m   3905\u001b[0m                       out\u001b[39m=\u001b[39mout, \u001b[39m*\u001b[39m\u001b[39m*\u001b[39mkwargs)\n",
      "File \u001b[1;32mc:\\Users\\USER\\AppData\\Local\\Programs\\Python\\Python311\\Lib\\site-packages\\pandas\\core\\series.py:6549\u001b[0m, in \u001b[0;36mSeries.mean\u001b[1;34m(self, axis, skipna, numeric_only, **kwargs)\u001b[0m\n\u001b[0;32m   6541\u001b[0m \u001b[39m@doc\u001b[39m(make_doc(\u001b[39m\"\u001b[39m\u001b[39mmean\u001b[39m\u001b[39m\"\u001b[39m, ndim\u001b[39m=\u001b[39m\u001b[39m1\u001b[39m))\n\u001b[0;32m   6542\u001b[0m \u001b[39mdef\u001b[39;00m \u001b[39mmean\u001b[39m(\n\u001b[0;32m   6543\u001b[0m     \u001b[39mself\u001b[39m,\n\u001b[1;32m   (...)\u001b[0m\n\u001b[0;32m   6547\u001b[0m     \u001b[39m*\u001b[39m\u001b[39m*\u001b[39mkwargs,\n\u001b[0;32m   6548\u001b[0m ):\n\u001b[1;32m-> 6549\u001b[0m     \u001b[39mreturn\u001b[39;00m NDFrame\u001b[39m.\u001b[39;49mmean(\u001b[39mself\u001b[39;49m, axis, skipna, numeric_only, \u001b[39m*\u001b[39;49m\u001b[39m*\u001b[39;49mkwargs)\n",
      "File \u001b[1;32mc:\\Users\\USER\\AppData\\Local\\Programs\\Python\\Python311\\Lib\\site-packages\\pandas\\core\\generic.py:12420\u001b[0m, in \u001b[0;36mNDFrame.mean\u001b[1;34m(self, axis, skipna, numeric_only, **kwargs)\u001b[0m\n\u001b[0;32m  12413\u001b[0m \u001b[39mdef\u001b[39;00m \u001b[39mmean\u001b[39m(\n\u001b[0;32m  12414\u001b[0m     \u001b[39mself\u001b[39m,\n\u001b[0;32m  12415\u001b[0m     axis: Axis \u001b[39m|\u001b[39m \u001b[39mNone\u001b[39;00m \u001b[39m=\u001b[39m \u001b[39m0\u001b[39m,\n\u001b[1;32m   (...)\u001b[0m\n\u001b[0;32m  12418\u001b[0m     \u001b[39m*\u001b[39m\u001b[39m*\u001b[39mkwargs,\n\u001b[0;32m  12419\u001b[0m ) \u001b[39m-\u001b[39m\u001b[39m>\u001b[39m Series \u001b[39m|\u001b[39m \u001b[39mfloat\u001b[39m:\n\u001b[1;32m> 12420\u001b[0m     \u001b[39mreturn\u001b[39;00m \u001b[39mself\u001b[39;49m\u001b[39m.\u001b[39;49m_stat_function(\n\u001b[0;32m  12421\u001b[0m         \u001b[39m\"\u001b[39;49m\u001b[39mmean\u001b[39;49m\u001b[39m\"\u001b[39;49m, nanops\u001b[39m.\u001b[39;49mnanmean, axis, skipna, numeric_only, \u001b[39m*\u001b[39;49m\u001b[39m*\u001b[39;49mkwargs\n\u001b[0;32m  12422\u001b[0m     )\n",
      "File \u001b[1;32mc:\\Users\\USER\\AppData\\Local\\Programs\\Python\\Python311\\Lib\\site-packages\\pandas\\core\\generic.py:12377\u001b[0m, in \u001b[0;36mNDFrame._stat_function\u001b[1;34m(self, name, func, axis, skipna, numeric_only, **kwargs)\u001b[0m\n\u001b[0;32m  12373\u001b[0m nv\u001b[39m.\u001b[39mvalidate_func(name, (), kwargs)\n\u001b[0;32m  12375\u001b[0m validate_bool_kwarg(skipna, \u001b[39m\"\u001b[39m\u001b[39mskipna\u001b[39m\u001b[39m\"\u001b[39m, none_allowed\u001b[39m=\u001b[39m\u001b[39mFalse\u001b[39;00m)\n\u001b[1;32m> 12377\u001b[0m \u001b[39mreturn\u001b[39;00m \u001b[39mself\u001b[39;49m\u001b[39m.\u001b[39;49m_reduce(\n\u001b[0;32m  12378\u001b[0m     func, name\u001b[39m=\u001b[39;49mname, axis\u001b[39m=\u001b[39;49maxis, skipna\u001b[39m=\u001b[39;49mskipna, numeric_only\u001b[39m=\u001b[39;49mnumeric_only\n\u001b[0;32m  12379\u001b[0m )\n",
      "File \u001b[1;32mc:\\Users\\USER\\AppData\\Local\\Programs\\Python\\Python311\\Lib\\site-packages\\pandas\\core\\series.py:6457\u001b[0m, in \u001b[0;36mSeries._reduce\u001b[1;34m(self, op, name, axis, skipna, numeric_only, filter_type, **kwds)\u001b[0m\n\u001b[0;32m   6452\u001b[0m     \u001b[39m# GH#47500 - change to TypeError to match other methods\u001b[39;00m\n\u001b[0;32m   6453\u001b[0m     \u001b[39mraise\u001b[39;00m \u001b[39mTypeError\u001b[39;00m(\n\u001b[0;32m   6454\u001b[0m         \u001b[39mf\u001b[39m\u001b[39m\"\u001b[39m\u001b[39mSeries.\u001b[39m\u001b[39m{\u001b[39;00mname\u001b[39m}\u001b[39;00m\u001b[39m does not allow \u001b[39m\u001b[39m{\u001b[39;00mkwd_name\u001b[39m}\u001b[39;00m\u001b[39m=\u001b[39m\u001b[39m{\u001b[39;00mnumeric_only\u001b[39m}\u001b[39;00m\u001b[39m \u001b[39m\u001b[39m\"\u001b[39m\n\u001b[0;32m   6455\u001b[0m         \u001b[39m\"\u001b[39m\u001b[39mwith non-numeric dtypes.\u001b[39m\u001b[39m\"\u001b[39m\n\u001b[0;32m   6456\u001b[0m     )\n\u001b[1;32m-> 6457\u001b[0m \u001b[39mreturn\u001b[39;00m op(delegate, skipna\u001b[39m=\u001b[39;49mskipna, \u001b[39m*\u001b[39;49m\u001b[39m*\u001b[39;49mkwds)\n",
      "File \u001b[1;32mc:\\Users\\USER\\AppData\\Local\\Programs\\Python\\Python311\\Lib\\site-packages\\pandas\\core\\nanops.py:147\u001b[0m, in \u001b[0;36mbottleneck_switch.__call__.<locals>.f\u001b[1;34m(values, axis, skipna, **kwds)\u001b[0m\n\u001b[0;32m    145\u001b[0m         result \u001b[39m=\u001b[39m alt(values, axis\u001b[39m=\u001b[39maxis, skipna\u001b[39m=\u001b[39mskipna, \u001b[39m*\u001b[39m\u001b[39m*\u001b[39mkwds)\n\u001b[0;32m    146\u001b[0m \u001b[39melse\u001b[39;00m:\n\u001b[1;32m--> 147\u001b[0m     result \u001b[39m=\u001b[39m alt(values, axis\u001b[39m=\u001b[39;49maxis, skipna\u001b[39m=\u001b[39;49mskipna, \u001b[39m*\u001b[39;49m\u001b[39m*\u001b[39;49mkwds)\n\u001b[0;32m    149\u001b[0m \u001b[39mreturn\u001b[39;00m result\n",
      "File \u001b[1;32mc:\\Users\\USER\\AppData\\Local\\Programs\\Python\\Python311\\Lib\\site-packages\\pandas\\core\\nanops.py:404\u001b[0m, in \u001b[0;36m_datetimelike_compat.<locals>.new_func\u001b[1;34m(values, axis, skipna, mask, **kwargs)\u001b[0m\n\u001b[0;32m    401\u001b[0m \u001b[39mif\u001b[39;00m datetimelike \u001b[39mand\u001b[39;00m mask \u001b[39mis\u001b[39;00m \u001b[39mNone\u001b[39;00m:\n\u001b[0;32m    402\u001b[0m     mask \u001b[39m=\u001b[39m isna(values)\n\u001b[1;32m--> 404\u001b[0m result \u001b[39m=\u001b[39m func(values, axis\u001b[39m=\u001b[39;49maxis, skipna\u001b[39m=\u001b[39;49mskipna, mask\u001b[39m=\u001b[39;49mmask, \u001b[39m*\u001b[39;49m\u001b[39m*\u001b[39;49mkwargs)\n\u001b[0;32m    406\u001b[0m \u001b[39mif\u001b[39;00m datetimelike:\n\u001b[0;32m    407\u001b[0m     result \u001b[39m=\u001b[39m _wrap_results(result, orig_values\u001b[39m.\u001b[39mdtype, fill_value\u001b[39m=\u001b[39miNaT)\n",
      "File \u001b[1;32mc:\\Users\\USER\\AppData\\Local\\Programs\\Python\\Python311\\Lib\\site-packages\\pandas\\core\\nanops.py:719\u001b[0m, in \u001b[0;36mnanmean\u001b[1;34m(values, axis, skipna, mask)\u001b[0m\n\u001b[0;32m    716\u001b[0m     dtype_count \u001b[39m=\u001b[39m dtype\n\u001b[0;32m    718\u001b[0m count \u001b[39m=\u001b[39m _get_counts(values\u001b[39m.\u001b[39mshape, mask, axis, dtype\u001b[39m=\u001b[39mdtype_count)\n\u001b[1;32m--> 719\u001b[0m the_sum \u001b[39m=\u001b[39m values\u001b[39m.\u001b[39;49msum(axis, dtype\u001b[39m=\u001b[39;49mdtype_sum)\n\u001b[0;32m    720\u001b[0m the_sum \u001b[39m=\u001b[39m _ensure_numeric(the_sum)\n\u001b[0;32m    722\u001b[0m \u001b[39mif\u001b[39;00m axis \u001b[39mis\u001b[39;00m \u001b[39mnot\u001b[39;00m \u001b[39mNone\u001b[39;00m \u001b[39mand\u001b[39;00m \u001b[39mgetattr\u001b[39m(the_sum, \u001b[39m\"\u001b[39m\u001b[39mndim\u001b[39m\u001b[39m\"\u001b[39m, \u001b[39mFalse\u001b[39;00m):\n",
      "File \u001b[1;32mc:\\Users\\USER\\AppData\\Local\\Programs\\Python\\Python311\\Lib\\site-packages\\numpy\\_core\\_methods.py:53\u001b[0m, in \u001b[0;36m_sum\u001b[1;34m(a, axis, dtype, out, keepdims, initial, where)\u001b[0m\n\u001b[0;32m     51\u001b[0m \u001b[39mdef\u001b[39;00m \u001b[39m_sum\u001b[39m(a, axis\u001b[39m=\u001b[39m\u001b[39mNone\u001b[39;00m, dtype\u001b[39m=\u001b[39m\u001b[39mNone\u001b[39;00m, out\u001b[39m=\u001b[39m\u001b[39mNone\u001b[39;00m, keepdims\u001b[39m=\u001b[39m\u001b[39mFalse\u001b[39;00m,\n\u001b[0;32m     52\u001b[0m          initial\u001b[39m=\u001b[39m_NoValue, where\u001b[39m=\u001b[39m\u001b[39mTrue\u001b[39;00m):\n\u001b[1;32m---> 53\u001b[0m     \u001b[39mreturn\u001b[39;00m umr_sum(a, axis, dtype, out, keepdims, initial, where)\n",
      "\u001b[1;31mTypeError\u001b[0m: can only concatenate str (not \"int\") to str"
     ]
    }
   ],
   "source": [
    "# FILLING THE NULL CELLS WITHT THE MEAN OF THE COLUMN\n",
    "df['No of Persons Voted'].fillna(np.mean(df['No of Persons Voted']), inplace = True)\n",
    "df['No of Persons Voted'].isnull().sum()"
   ]
  },
  {
   "cell_type": "code",
   "execution_count": null,
   "metadata": {},
   "outputs": [
    {
     "data": {
      "text/plain": [
       "count     12829\n",
       "unique      977\n",
       "top           4\n",
       "freq        600\n",
       "Name: No of Persons Voted, dtype: object"
      ]
     },
     "execution_count": 91,
     "metadata": {},
     "output_type": "execute_result"
    }
   ],
   "source": [
    "df['No of Persons Voted'].describe()"
   ]
  },
  {
   "cell_type": "code",
   "execution_count": null,
   "metadata": {},
   "outputs": [
    {
     "name": "stderr",
     "output_type": "stream",
     "text": [
      "C:\\Users\\USER\\AppData\\Local\\Temp\\ipykernel_2296\\1970251742.py:2: FutureWarning: DataFrame.fillna with 'method' is deprecated and will raise in a future version. Use obj.ffill() or obj.bfill() instead.\n",
      "  df.fillna(method = 'ffill', inplace = True)\n"
     ]
    },
    {
     "data": {
      "text/html": [
       "<div>\n",
       "<style scoped>\n",
       "    .dataframe tbody tr th:only-of-type {\n",
       "        vertical-align: middle;\n",
       "    }\n",
       "\n",
       "    .dataframe tbody tr th {\n",
       "        vertical-align: top;\n",
       "    }\n",
       "\n",
       "    .dataframe thead th {\n",
       "        text-align: right;\n",
       "    }\n",
       "</style>\n",
       "<table border=\"1\" class=\"dataframe\">\n",
       "  <thead>\n",
       "    <tr style=\"text-align: right;\">\n",
       "      <th></th>\n",
       "      <th>Unnamed: 0</th>\n",
       "      <th>Title</th>\n",
       "      <th>Release Date</th>\n",
       "      <th>Description</th>\n",
       "      <th>Rating</th>\n",
       "      <th>No of Persons Voted</th>\n",
       "      <th>Directed by</th>\n",
       "      <th>Written by</th>\n",
       "      <th>Duration</th>\n",
       "      <th>Genres</th>\n",
       "    </tr>\n",
       "  </thead>\n",
       "  <tbody>\n",
       "    <tr>\n",
       "      <th>16285</th>\n",
       "      <td>16285</td>\n",
       "      <td>Boys to Men</td>\n",
       "      <td>Apr 27, 2001</td>\n",
       "      <td>Compilation of 4 short films from different di...</td>\n",
       "      <td>6.617632</td>\n",
       "      <td>10</td>\n",
       "      <td>Mark Christensen</td>\n",
       "      <td>Mark Christensen, Brian Hamill</td>\n",
       "      <td>\\n        https://www.amazon.com/Boys-Men-Phil...</td>\n",
       "      <td>Drama</td>\n",
       "    </tr>\n",
       "    <tr>\n",
       "      <th>16286</th>\n",
       "      <td>16286</td>\n",
       "      <td>Saint Misbehavin': The Wavy Gravy Movie</td>\n",
       "      <td>Dec 10, 2010</td>\n",
       "      <td>Beginning with Woodstock ‘99, director Michell...</td>\n",
       "      <td>6.617632</td>\n",
       "      <td>10</td>\n",
       "      <td>Michelle Esrick</td>\n",
       "      <td>Mark Christensen, Brian Hamill</td>\n",
       "      <td>Not Rated</td>\n",
       "      <td>Documentary</td>\n",
       "    </tr>\n",
       "    <tr>\n",
       "      <th>16287</th>\n",
       "      <td>16287</td>\n",
       "      <td>Collectors</td>\n",
       "      <td>Oct 1, 2000</td>\n",
       "      <td>America is drawn to the macabre handiwork of t...</td>\n",
       "      <td>6.617632</td>\n",
       "      <td>10</td>\n",
       "      <td>Julian P. Hobbs</td>\n",
       "      <td>Mark Christensen, Brian Hamill</td>\n",
       "      <td>1 h 20 m</td>\n",
       "      <td>Documentary</td>\n",
       "    </tr>\n",
       "    <tr>\n",
       "      <th>16288</th>\n",
       "      <td>16288</td>\n",
       "      <td>Bonhoeffer</td>\n",
       "      <td>Jun 20, 2003</td>\n",
       "      <td>Dramatic documentary about the young German pa...</td>\n",
       "      <td>6.617632</td>\n",
       "      <td>10</td>\n",
       "      <td>Martin Doblmeier</td>\n",
       "      <td>Martin Doblmeier</td>\n",
       "      <td>1 h 33 m</td>\n",
       "      <td>Documentary,Biography,History,War</td>\n",
       "    </tr>\n",
       "    <tr>\n",
       "      <th>16289</th>\n",
       "      <td>16289</td>\n",
       "      <td>7th Street</td>\n",
       "      <td>Jan 17, 2003</td>\n",
       "      <td>This documentary explores change in one of the...</td>\n",
       "      <td>6.617632</td>\n",
       "      <td>10</td>\n",
       "      <td>Josh Pais</td>\n",
       "      <td>Josh Pais</td>\n",
       "      <td>\\n        http://www.7thstreetmovie.com/\\n    ...</td>\n",
       "      <td>Documentary</td>\n",
       "    </tr>\n",
       "  </tbody>\n",
       "</table>\n",
       "</div>"
      ],
      "text/plain": [
       "       Unnamed: 0                                    Title  Release Date  \\\n",
       "16285       16285                              Boys to Men  Apr 27, 2001   \n",
       "16286       16286  Saint Misbehavin': The Wavy Gravy Movie  Dec 10, 2010   \n",
       "16287       16287                               Collectors   Oct 1, 2000   \n",
       "16288       16288                               Bonhoeffer  Jun 20, 2003   \n",
       "16289       16289                               7th Street  Jan 17, 2003   \n",
       "\n",
       "                                             Description    Rating  \\\n",
       "16285  Compilation of 4 short films from different di...  6.617632   \n",
       "16286  Beginning with Woodstock ‘99, director Michell...  6.617632   \n",
       "16287  America is drawn to the macabre handiwork of t...  6.617632   \n",
       "16288  Dramatic documentary about the young German pa...  6.617632   \n",
       "16289  This documentary explores change in one of the...  6.617632   \n",
       "\n",
       "      No of Persons Voted       Directed by                      Written by  \\\n",
       "16285                  10  Mark Christensen  Mark Christensen, Brian Hamill   \n",
       "16286                  10   Michelle Esrick  Mark Christensen, Brian Hamill   \n",
       "16287                  10   Julian P. Hobbs  Mark Christensen, Brian Hamill   \n",
       "16288                  10  Martin Doblmeier                Martin Doblmeier   \n",
       "16289                  10         Josh Pais                       Josh Pais   \n",
       "\n",
       "                                                Duration  \\\n",
       "16285  \\n        https://www.amazon.com/Boys-Men-Phil...   \n",
       "16286                                          Not Rated   \n",
       "16287                                           1 h 20 m   \n",
       "16288                                           1 h 33 m   \n",
       "16289  \\n        http://www.7thstreetmovie.com/\\n    ...   \n",
       "\n",
       "                                  Genres  \n",
       "16285                              Drama  \n",
       "16286                        Documentary  \n",
       "16287                        Documentary  \n",
       "16288  Documentary,Biography,History,War  \n",
       "16289                        Documentary  "
      ]
     },
     "execution_count": 228,
     "metadata": {},
     "output_type": "execute_result"
    }
   ],
   "source": [
    "# filling the strings using forward fill method\n",
    "df.fillna(method = 'ffill', inplace = True)\n",
    "df.tail()\n"
   ]
  },
  {
   "cell_type": "code",
   "execution_count": null,
   "metadata": {},
   "outputs": [
    {
     "data": {
      "text/plain": [
       "count    16290.000000\n",
       "mean         6.617632\n",
       "std          1.256782\n",
       "min          0.300000\n",
       "25%          6.100000\n",
       "50%          6.617632\n",
       "75%          7.400000\n",
       "max         10.000000\n",
       "Name: Rating, dtype: float64"
      ]
     },
     "execution_count": 229,
     "metadata": {},
     "output_type": "execute_result"
    }
   ],
   "source": [
    "  df['Rating'].describe()"
   ]
  },
  {
   "cell_type": "code",
   "execution_count": null,
   "metadata": {},
   "outputs": [
    {
     "data": {
      "text/plain": [
       "count     16290\n",
       "unique     1663\n",
       "top       Drama\n",
       "freq       1521\n",
       "Name: Genres, dtype: object"
      ]
     },
     "execution_count": 230,
     "metadata": {},
     "output_type": "execute_result"
    }
   ],
   "source": [
    " # HOW MANY UNIQUE VALUES ARE IN THE COLUMN OF GENRE\n",
    " \n",
    " df['Genres'].describe()"
   ]
  },
  {
   "cell_type": "code",
   "execution_count": null,
   "metadata": {},
   "outputs": [
    {
     "name": "stdout",
     "output_type": "stream",
     "text": [
      "       Unnamed: 0                          Title  Release Date  \\\n",
      "156           156  Never Rarely Sometimes Always  Mar 13, 2020   \n",
      "262           262                    Wojnarowicz  Mar 19, 2021   \n",
      "507           507            Maria Full of Grace  Jul 16, 2004   \n",
      "518           518                 The Wicker Man   Aug 7, 1974   \n",
      "519           519                 The Wicker Man   Aug 7, 1974   \n",
      "...           ...                            ...           ...   \n",
      "16273       16273                      Strippers   Dec 8, 2000   \n",
      "16274       16274                         Vulgar  Apr 26, 2002   \n",
      "16276       16276             The Singing Forest  Nov 14, 2003   \n",
      "16277       16277    The Garbage Pail Kids Movie  Aug 22, 1987   \n",
      "16279       16279                United Passions   Jun 5, 2015   \n",
      "\n",
      "                                             Description  Rating  \\\n",
      "156    Faced with an unintended pregnancy and a lack ...     0.9   \n",
      "262    Wojnarowicz: F**k You F*ggot F**ker is a fiery...     2.5   \n",
      "507    This film follows a bright, gutsy young woman ...     2.0   \n",
      "518    A police sergeant is sent to a Scottish island...     2.0   \n",
      "519    A police sergeant is sent to a Scottish island...     2.0   \n",
      "...                                                  ...     ...   \n",
      "16273  Alan is having an horrendous day...he loses hi...     2.7   \n",
      "16274  The misadventures of Will, a struggling profes...     2.0   \n",
      "16276  Two lovers, killed during the Holocaust, are r...     1.7   \n",
      "16277  Dodger must confront the struggles of life as ...     1.0   \n",
      "16279  Three men—Jules Rimet (Gérard Depardieu), Joao...     0.8   \n",
      "\n",
      "      No of Persons Voted        Directed by  \\\n",
      "156                 1,997      Eliza Hittman   \n",
      "262                     4        Chris McKim   \n",
      "507                   197     Joshua Marston   \n",
      "518                   152        Neil LaBute   \n",
      "519                   152        Neil LaBute   \n",
      "...                   ...                ...   \n",
      "16273                  16        Jorge Ameer   \n",
      "16274                  49      Bryan Johnson   \n",
      "16276                  32        Jorge Ameer   \n",
      "16277                  21        Rod Amateau   \n",
      "16279                 248  Frédéric Auburtin   \n",
      "\n",
      "                                        Written by  Duration  \\\n",
      "156                                  Eliza Hittman  1 h 41 m   \n",
      "262    Julian Fellowes, Robert Altman, Bob Balaban  1 h 45 m   \n",
      "507                                 Joshua Marston  1 h 41 m   \n",
      "518                   Neil LaBute, Anthony Shaffer  1 h 42 m   \n",
      "519                   Neil LaBute, Anthony Shaffer  1 h 42 m   \n",
      "...                                            ...       ...   \n",
      "16273                                  Jorge Ameer  1 h 11 m   \n",
      "16274                                Bryan Johnson  1 h 27 m   \n",
      "16276                                  Jorge Ameer  1 h 35 m   \n",
      "16277        Linda Palmer, Rod Amateau, John Pound  1 h 40 m   \n",
      "16279         Frédéric Auburtin, Jean-Paul Delfino  1 h 50 m   \n",
      "\n",
      "                                        Genres  \n",
      "156                                      Drama  \n",
      "262                                Documentary  \n",
      "507                                Crime,Drama  \n",
      "518                    Horror,Mystery,Thriller  \n",
      "519                    Horror,Mystery,Thriller  \n",
      "...                                        ...  \n",
      "16273                             Drama,Comedy  \n",
      "16274                     Crime,Drama,Thriller  \n",
      "16276                    Drama,Fantasy,Romance  \n",
      "16277  Adventure,Comedy,Family,Fantasy,Musical  \n",
      "16279                      Drama,History,Sport  \n",
      "\n",
      "[215 rows x 10 columns]\n"
     ]
    }
   ],
   "source": [
    "# identify any extreme outliers using Z-scored:\n",
    "from scipy import stats\n",
    "z_scores = stats.zscore(df['Rating'])\n",
    "outliers = df[(z_scores > 3) | (z_scores < -3)]\n",
    "print(outliers)"
   ]
  },
  {
   "cell_type": "code",
   "execution_count": null,
   "metadata": {},
   "outputs": [
    {
     "data": {
      "text/plain": [
       "1663"
      ]
     },
     "execution_count": 232,
     "metadata": {},
     "output_type": "execute_result"
    }
   ],
   "source": [
    " len(df['Genres'].unique())\n",
    " "
   ]
  },
  {
   "cell_type": "code",
   "execution_count": null,
   "metadata": {},
   "outputs": [
    {
     "data": {
      "text/plain": [
       "Genres\n",
       "Drama                                                                     1521\n",
       "Documentary                                                               1018\n",
       "Comedy,Drama                                                               788\n",
       "Comedy,Drama,Romance                                                       644\n",
       "Drama,Romance                                                              575\n",
       "                                                                          ... \n",
       "Animation,Adventure,Comedy,Drama,Family,Fantasy,Mystery,Romance,Sci-Fi       1\n",
       "Documentary,Biography,Comedy,Drama,Family                                    1\n",
       "Animation,Action,Adventure,Comedy,Crime,Family,Fantasy,Mystery,Sci-Fi        1\n",
       "Documentary,Biography,Drama,History,Mystery                                  1\n",
       "Comedy,Crime,Family,Sci-Fi                                                   1\n",
       "Name: count, Length: 1663, dtype: int64"
      ]
     },
     "execution_count": 34,
     "metadata": {},
     "output_type": "execute_result"
    }
   ],
   "source": [
    "# to know the highest unique values\n",
    "df['Genres'].value_counts()"
   ]
  },
  {
   "cell_type": "code",
   "execution_count": null,
   "metadata": {},
   "outputs": [
    {
     "name": "stdout",
     "output_type": "stream",
     "text": [
      "<class 'pandas.core.frame.DataFrame'>\n",
      "RangeIndex: 16290 entries, 0 to 16289\n",
      "Data columns (total 10 columns):\n",
      " #   Column               Non-Null Count  Dtype  \n",
      "---  ------               --------------  -----  \n",
      " 0   Unnamed: 0           16290 non-null  int64  \n",
      " 1   Title                16290 non-null  object \n",
      " 2   Release Date         16290 non-null  object \n",
      " 3   Description          16290 non-null  object \n",
      " 4   Rating               16290 non-null  float64\n",
      " 5   No of Persons Voted  16290 non-null  object \n",
      " 6   Directed by          16290 non-null  object \n",
      " 7   Written by           16290 non-null  object \n",
      " 8   Duration             16290 non-null  object \n",
      " 9   Genres               16290 non-null  object \n",
      "dtypes: float64(1), int64(1), object(8)\n",
      "memory usage: 1.2+ MB\n"
     ]
    }
   ],
   "source": [
    "# to configure the date \n",
    "\n",
    "df.info()"
   ]
  },
  {
   "cell_type": "code",
   "execution_count": null,
   "metadata": {},
   "outputs": [
    {
     "name": "stdout",
     "output_type": "stream",
     "text": [
      "<class 'pandas.core.frame.DataFrame'>\n",
      "RangeIndex: 16290 entries, 0 to 16289\n",
      "Data columns (total 10 columns):\n",
      " #   Column               Non-Null Count  Dtype         \n",
      "---  ------               --------------  -----         \n",
      " 0   Unnamed: 0           16290 non-null  int64         \n",
      " 1   Title                16290 non-null  object        \n",
      " 2   Release Date         16290 non-null  datetime64[ns]\n",
      " 3   Description          16290 non-null  object        \n",
      " 4   Rating               16290 non-null  float64       \n",
      " 5   No of Persons Voted  16290 non-null  object        \n",
      " 6   Directed by          16290 non-null  object        \n",
      " 7   Written by           16290 non-null  object        \n",
      " 8   Duration             16290 non-null  object        \n",
      " 9   Genres               16290 non-null  object        \n",
      "dtypes: datetime64[ns](1), float64(1), int64(1), object(7)\n",
      "memory usage: 1.2+ MB\n"
     ]
    }
   ],
   "source": [
    "df['Release Date'] = pd.to_datetime(df['Release Date'])\n",
    "df.info()"
   ]
  },
  {
   "cell_type": "code",
   "execution_count": null,
   "metadata": {},
   "outputs": [
    {
     "data": {
      "text/plain": [
       "Release Date\n",
       "2017-04-07    21\n",
       "2013-10-18    20\n",
       "2013-10-04    20\n",
       "2013-11-01    20\n",
       "2017-03-03    19\n",
       "              ..\n",
       "2023-12-05     1\n",
       "2004-01-21     1\n",
       "1983-04-24     1\n",
       "2005-11-30     1\n",
       "2000-10-01     1\n",
       "Name: count, Length: 3855, dtype: int64"
      ]
     },
     "execution_count": 235,
     "metadata": {},
     "output_type": "execute_result"
    }
   ],
   "source": [
    "df['Release Date'].value_counts()"
   ]
  },
  {
   "cell_type": "code",
   "execution_count": null,
   "metadata": {},
   "outputs": [
    {
     "data": {
      "text/plain": [
       "0       1996-03-22\n",
       "1       1994-11-23\n",
       "2       1970-10-22\n",
       "3       1972-03-13\n",
       "4       2004-08-13\n",
       "           ...    \n",
       "16285   2001-04-27\n",
       "16286   2010-12-10\n",
       "16287   2000-10-01\n",
       "16288   2003-06-20\n",
       "16289   2003-01-17\n",
       "Name: Release Date, Length: 16290, dtype: datetime64[ns]"
      ]
     },
     "execution_count": 236,
     "metadata": {},
     "output_type": "execute_result"
    }
   ],
   "source": [
    "df['Release Date']"
   ]
  },
  {
   "cell_type": "code",
   "execution_count": null,
   "metadata": {},
   "outputs": [
    {
     "data": {
      "text/plain": [
       "np.int64(1597)"
      ]
     },
     "execution_count": 237,
     "metadata": {},
     "output_type": "execute_result"
    }
   ],
   "source": [
    "df['Title'].duplicated().sum()"
   ]
  },
  {
   "cell_type": "code",
   "execution_count": null,
   "metadata": {},
   "outputs": [
    {
     "data": {
      "text/plain": [
       "0                                 Dekalog (1988)\n",
       "1                              Three Colors: Red\n",
       "2                                 The Conformist\n",
       "3                                    Tokyo Story\n",
       "4                       The Leopard (re-release)\n",
       "                          ...                   \n",
       "16285                                Boys to Men\n",
       "16286    Saint Misbehavin': The Wavy Gravy Movie\n",
       "16287                                 Collectors\n",
       "16288                                 Bonhoeffer\n",
       "16289                                 7th Street\n",
       "Name: Title, Length: 16290, dtype: object"
      ]
     },
     "execution_count": 238,
     "metadata": {},
     "output_type": "execute_result"
    }
   ],
   "source": [
    "df['Title']"
   ]
  },
  {
   "cell_type": "code",
   "execution_count": null,
   "metadata": {},
   "outputs": [
    {
     "data": {
      "text/plain": [
       "0                                 Dekalog (1988)\n",
       "1                              Three Colors: Red\n",
       "2                                 The Conformist\n",
       "3                                    Tokyo Story\n",
       "4                       The Leopard (re-release)\n",
       "                          ...                   \n",
       "16285                                Boys to Men\n",
       "16286    Saint Misbehavin': The Wavy Gravy Movie\n",
       "16287                                 Collectors\n",
       "16288                                 Bonhoeffer\n",
       "16289                                 7th Street\n",
       "Name: Title, Length: 14693, dtype: object"
      ]
     },
     "execution_count": 239,
     "metadata": {},
     "output_type": "execute_result"
    }
   ],
   "source": [
    "# trying to drop the duplicated values\n",
    "df['Title'].drop_duplicates()"
   ]
  },
  {
   "cell_type": "code",
   "execution_count": null,
   "metadata": {},
   "outputs": [
    {
     "data": {
      "text/plain": [
       "np.int64(1597)"
      ]
     },
     "execution_count": 240,
     "metadata": {},
     "output_type": "execute_result"
    }
   ],
   "source": [
    "df['Title'].duplicated().sum()"
   ]
  },
  {
   "cell_type": "code",
   "execution_count": null,
   "metadata": {},
   "outputs": [
    {
     "name": "stdout",
     "output_type": "stream",
     "text": [
      "<class 'pandas.core.frame.DataFrame'>\n",
      "RangeIndex: 16290 entries, 0 to 16289\n",
      "Data columns (total 10 columns):\n",
      " #   Column               Non-Null Count  Dtype         \n",
      "---  ------               --------------  -----         \n",
      " 0   Unnamed: 0           16290 non-null  int64         \n",
      " 1   Title                16290 non-null  object        \n",
      " 2   Release Date         16290 non-null  datetime64[ns]\n",
      " 3   Description          16290 non-null  object        \n",
      " 4   Rating               16290 non-null  float64       \n",
      " 5   No of Persons Voted  16290 non-null  object        \n",
      " 6   Directed by          16290 non-null  object        \n",
      " 7   Written by           16290 non-null  object        \n",
      " 8   Duration             16290 non-null  object        \n",
      " 9   Genres               16290 non-null  object        \n",
      "dtypes: datetime64[ns](1), float64(1), int64(1), object(7)\n",
      "memory usage: 1.2+ MB\n"
     ]
    }
   ],
   "source": [
    "df.info()"
   ]
  },
  {
   "cell_type": "code",
   "execution_count": null,
   "metadata": {},
   "outputs": [
    {
     "data": {
      "text/plain": [
       "count           16290\n",
       "unique           7379\n",
       "top       Woody Allen\n",
       "freq               50\n",
       "Name: Directed by, dtype: object"
      ]
     },
     "execution_count": 242,
     "metadata": {},
     "output_type": "execute_result"
    }
   ],
   "source": [
    "# to check the frequency distribution of the column called Directed by and written by column\n",
    "df['Directed by'].describe()"
   ]
  },
  {
   "cell_type": "code",
   "execution_count": null,
   "metadata": {},
   "outputs": [
    {
     "data": {
      "text/plain": [
       "count           16290\n",
       "unique          11787\n",
       "top       Woody Allen\n",
       "freq               46\n",
       "Name: Written by, dtype: object"
      ]
     },
     "execution_count": 243,
     "metadata": {},
     "output_type": "execute_result"
    }
   ],
   "source": [
    "df['Written by'].describe()"
   ]
  },
  {
   "cell_type": "code",
   "execution_count": null,
   "metadata": {},
   "outputs": [
    {
     "ename": "NameError",
     "evalue": "name 'df' is not defined",
     "output_type": "error",
     "traceback": [
      "\u001b[1;31m---------------------------------------------------------------------------\u001b[0m",
      "\u001b[1;31mNameError\u001b[0m                                 Traceback (most recent call last)",
      "Cell \u001b[1;32mIn[3], line 2\u001b[0m\n\u001b[0;32m      1\u001b[0m \u001b[39m# to create a new column that classifies movies based on their duration as short or long movies\u001b[39;00m\n\u001b[1;32m----> 2\u001b[0m df[\u001b[39m'\u001b[39m\u001b[39mDuration\u001b[39m\u001b[39m'\u001b[39m]\u001b[39m.\u001b[39minfo()\n",
      "\u001b[1;31mNameError\u001b[0m: name 'df' is not defined"
     ]
    }
   ],
   "source": [
    "# to create a new column that classifies movies based on their duration as short or long movies\n",
    "df['Duration'].info()"
   ]
  },
  {
   "cell_type": "code",
   "execution_count": null,
   "metadata": {},
   "outputs": [
    {
     "data": {
      "text/plain": [
       "0                                                 9 h 32 m\n",
       "1                                                 1 h 39 m\n",
       "2                                                 1 h 47 m\n",
       "3                                                 2 h 16 m\n",
       "4                                                  3 h 7 m\n",
       "                               ...                        \n",
       "16285    \\n        https://www.amazon.com/Boys-Men-Phil...\n",
       "16286                                            Not Rated\n",
       "16287                                             1 h 20 m\n",
       "16288                                             1 h 33 m\n",
       "16289    \\n        http://www.7thstreetmovie.com/\\n    ...\n",
       "Name: Duration, Length: 16290, dtype: object"
      ]
     },
     "execution_count": 245,
     "metadata": {},
     "output_type": "execute_result"
    }
   ],
   "source": [
    "df['Duration']\n"
   ]
  },
  {
   "cell_type": "code",
   "execution_count": null,
   "metadata": {},
   "outputs": [
    {
     "ename": "NameError",
     "evalue": "name 'pd' is not defined",
     "output_type": "error",
     "traceback": [
      "\u001b[1;31m---------------------------------------------------------------------------\u001b[0m",
      "\u001b[1;31mNameError\u001b[0m                                 Traceback (most recent call last)",
      "Cell \u001b[1;32mIn[4], line 1\u001b[0m\n\u001b[1;32m----> 1\u001b[0m df[\u001b[39m'\u001b[39m\u001b[39mDuration\u001b[39m\u001b[39m'\u001b[39m] \u001b[39m=\u001b[39m pd\u001b[39m.\u001b[39mto_timedelta(df[\u001b[39m'\u001b[39m\u001b[39mDuration\u001b[39m\u001b[39m'\u001b[39m])\n",
      "\u001b[1;31mNameError\u001b[0m: name 'pd' is not defined"
     ]
    }
   ],
   "source": [
    "df['Duration'] = pd.to_timedelta(df['Duration'])\n"
   ]
  },
  {
   "cell_type": "code",
   "execution_count": null,
   "metadata": {},
   "outputs": [],
   "source": []
  },
  {
   "cell_type": "code",
   "execution_count": null,
   "metadata": {},
   "outputs": [
    {
     "ename": "NameError",
     "evalue": "name 'df' is not defined",
     "output_type": "error",
     "traceback": [
      "\u001b[1;31m---------------------------------------------------------------------------\u001b[0m",
      "\u001b[1;31mNameError\u001b[0m                                 Traceback (most recent call last)",
      "Cell \u001b[1;32mIn[5], line 1\u001b[0m\n\u001b[1;32m----> 1\u001b[0m df\u001b[39m.\u001b[39minfo()\n",
      "\u001b[1;31mNameError\u001b[0m: name 'df' is not defined"
     ]
    }
   ],
   "source": [
    "df.info()"
   ]
  },
  {
   "cell_type": "code",
   "execution_count": null,
   "metadata": {},
   "outputs": [
    {
     "ename": "NameError",
     "evalue": "name 'df' is not defined",
     "output_type": "error",
     "traceback": [
      "\u001b[1;31m---------------------------------------------------------------------------\u001b[0m",
      "\u001b[1;31mNameError\u001b[0m                                 Traceback (most recent call last)",
      "Cell \u001b[1;32mIn[6], line 1\u001b[0m\n\u001b[1;32m----> 1\u001b[0m df\u001b[39m.\u001b[39misnull()\u001b[39m.\u001b[39msum()\n",
      "\u001b[1;31mNameError\u001b[0m: name 'df' is not defined"
     ]
    }
   ],
   "source": [
    "df.isnull().sum()"
   ]
  },
  {
   "cell_type": "code",
   "execution_count": null,
   "metadata": {},
   "outputs": [
    {
     "ename": "NameError",
     "evalue": "name 'df' is not defined",
     "output_type": "error",
     "traceback": [
      "\u001b[1;31m---------------------------------------------------------------------------\u001b[0m",
      "\u001b[1;31mNameError\u001b[0m                                 Traceback (most recent call last)",
      "Cell \u001b[1;32mIn[7], line 1\u001b[0m\n\u001b[1;32m----> 1\u001b[0m df\u001b[39m.\u001b[39mtail()\n",
      "\u001b[1;31mNameError\u001b[0m: name 'df' is not defined"
     ]
    }
   ],
   "source": [
    "df.tail()"
   ]
  },
  {
   "cell_type": "code",
   "execution_count": null,
   "metadata": {},
   "outputs": [
    {
     "ename": "NameError",
     "evalue": "name 'df' is not defined",
     "output_type": "error",
     "traceback": [
      "\u001b[1;31m---------------------------------------------------------------------------\u001b[0m",
      "\u001b[1;31mNameError\u001b[0m                                 Traceback (most recent call last)",
      "Cell \u001b[1;32mIn[8], line 2\u001b[0m\n\u001b[0;32m      1\u001b[0m \u001b[39m# filling the strings using forward fill method\u001b[39;00m\n\u001b[1;32m----> 2\u001b[0m df[\u001b[39m'\u001b[39m\u001b[39mNo of Persons Voted\u001b[39m\u001b[39m'\u001b[39m]\u001b[39m.\u001b[39mfillna(method \u001b[39m=\u001b[39m \u001b[39m'\u001b[39m\u001b[39mffill\u001b[39m\u001b[39m'\u001b[39m, inplace \u001b[39m=\u001b[39m \u001b[39mTrue\u001b[39;00m)\n\u001b[0;32m      3\u001b[0m df\u001b[39m.\u001b[39mtail()\n",
      "\u001b[1;31mNameError\u001b[0m: name 'df' is not defined"
     ]
    }
   ],
   "source": [
    "# filling the strings using forward fill method\n",
    "df['No of Persons Voted'].fillna(method = 'ffill', inplace = True)\n",
    "df.tail()"
   ]
  },
  {
   "cell_type": "code",
   "execution_count": null,
   "metadata": {},
   "outputs": [
    {
     "ename": "NameError",
     "evalue": "name 'df' is not defined",
     "output_type": "error",
     "traceback": [
      "\u001b[1;31m---------------------------------------------------------------------------\u001b[0m",
      "\u001b[1;31mNameError\u001b[0m                                 Traceback (most recent call last)",
      "Cell \u001b[1;32mIn[9], line 2\u001b[0m\n\u001b[0;32m      1\u001b[0m \u001b[39m# filling the strings using forward fill method\u001b[39;00m\n\u001b[1;32m----> 2\u001b[0m df[\u001b[39m'\u001b[39m\u001b[39mDirected by\u001b[39m\u001b[39m'\u001b[39m]\u001b[39m.\u001b[39mfillna(method \u001b[39m=\u001b[39m \u001b[39m'\u001b[39m\u001b[39mffill\u001b[39m\u001b[39m'\u001b[39m, inplace \u001b[39m=\u001b[39m \u001b[39mTrue\u001b[39;00m)\n",
      "\u001b[1;31mNameError\u001b[0m: name 'df' is not defined"
     ]
    }
   ],
   "source": [
    "# filling the strings using forward fill method\n",
    "df['Directed by'].fillna(method = 'ffill', inplace = True)"
   ]
  },
  {
   "cell_type": "code",
   "execution_count": null,
   "metadata": {},
   "outputs": [
    {
     "ename": "NameError",
     "evalue": "name 'df' is not defined",
     "output_type": "error",
     "traceback": [
      "\u001b[1;31m---------------------------------------------------------------------------\u001b[0m",
      "\u001b[1;31mNameError\u001b[0m                                 Traceback (most recent call last)",
      "Cell \u001b[1;32mIn[10], line 1\u001b[0m\n\u001b[1;32m----> 1\u001b[0m df[\u001b[39m'\u001b[39m\u001b[39mWritten by\u001b[39m\u001b[39m'\u001b[39m]\u001b[39m.\u001b[39mfillna(method \u001b[39m=\u001b[39m \u001b[39m'\u001b[39m\u001b[39mffill\u001b[39m\u001b[39m'\u001b[39m, inplace \u001b[39m=\u001b[39m \u001b[39mTrue\u001b[39;00m)\n",
      "\u001b[1;31mNameError\u001b[0m: name 'df' is not defined"
     ]
    }
   ],
   "source": [
    "df['Written by'].fillna(method = 'ffill', inplace = True)"
   ]
  },
  {
   "cell_type": "code",
   "execution_count": null,
   "metadata": {},
   "outputs": [
    {
     "ename": "NameError",
     "evalue": "name 'df' is not defined",
     "output_type": "error",
     "traceback": [
      "\u001b[1;31m---------------------------------------------------------------------------\u001b[0m",
      "\u001b[1;31mNameError\u001b[0m                                 Traceback (most recent call last)",
      "Cell \u001b[1;32mIn[11], line 1\u001b[0m\n\u001b[1;32m----> 1\u001b[0m df[\u001b[39m'\u001b[39m\u001b[39mDuration\u001b[39m\u001b[39m'\u001b[39m]\u001b[39m.\u001b[39mfillna(method \u001b[39m=\u001b[39m \u001b[39m'\u001b[39m\u001b[39mffill\u001b[39m\u001b[39m'\u001b[39m, inplace \u001b[39m=\u001b[39m \u001b[39mTrue\u001b[39;00m)\n",
      "\u001b[1;31mNameError\u001b[0m: name 'df' is not defined"
     ]
    }
   ],
   "source": [
    "df['Duration'].fillna(method = 'ffill', inplace = True)"
   ]
  },
  {
   "cell_type": "code",
   "execution_count": null,
   "metadata": {},
   "outputs": [
    {
     "ename": "NameError",
     "evalue": "name 'df' is not defined",
     "output_type": "error",
     "traceback": [
      "\u001b[1;31m---------------------------------------------------------------------------\u001b[0m",
      "\u001b[1;31mNameError\u001b[0m                                 Traceback (most recent call last)",
      "Cell \u001b[1;32mIn[12], line 1\u001b[0m\n\u001b[1;32m----> 1\u001b[0m df[\u001b[39m'\u001b[39m\u001b[39mGenres\u001b[39m\u001b[39m'\u001b[39m]\u001b[39m.\u001b[39mfillna(method \u001b[39m=\u001b[39m \u001b[39m'\u001b[39m\u001b[39mffill\u001b[39m\u001b[39m'\u001b[39m, inplace \u001b[39m=\u001b[39m \u001b[39mTrue\u001b[39;00m)\n",
      "\u001b[1;31mNameError\u001b[0m: name 'df' is not defined"
     ]
    }
   ],
   "source": [
    "df['Genres'].fillna(method = 'ffill', inplace = True)"
   ]
  },
  {
   "cell_type": "code",
   "execution_count": null,
   "metadata": {},
   "outputs": [
    {
     "ename": "NameError",
     "evalue": "name 'df' is not defined",
     "output_type": "error",
     "traceback": [
      "\u001b[1;31m---------------------------------------------------------------------------\u001b[0m",
      "\u001b[1;31mNameError\u001b[0m                                 Traceback (most recent call last)",
      "Cell \u001b[1;32mIn[13], line 1\u001b[0m\n\u001b[1;32m----> 1\u001b[0m df\u001b[39m.\u001b[39misnull()\u001b[39m.\u001b[39msum()\n",
      "\u001b[1;31mNameError\u001b[0m: name 'df' is not defined"
     ]
    }
   ],
   "source": [
    "df.isnull().sum()"
   ]
  },
  {
   "cell_type": "code",
   "execution_count": null,
   "metadata": {},
   "outputs": [
    {
     "ename": "NameError",
     "evalue": "name 'pd' is not defined",
     "output_type": "error",
     "traceback": [
      "\u001b[1;31m---------------------------------------------------------------------------\u001b[0m",
      "\u001b[1;31mNameError\u001b[0m                                 Traceback (most recent call last)",
      "Cell \u001b[1;32mIn[14], line 1\u001b[0m\n\u001b[1;32m----> 1\u001b[0m df[\u001b[39m'\u001b[39m\u001b[39mDuration\u001b[39m\u001b[39m'\u001b[39m] \u001b[39m=\u001b[39m pd\u001b[39m.\u001b[39mto_timedelta(df[\u001b[39m'\u001b[39m\u001b[39mDuration\u001b[39m\u001b[39m'\u001b[39m])\n",
      "\u001b[1;31mNameError\u001b[0m: name 'pd' is not defined"
     ]
    }
   ],
   "source": [
    "df['Duration'] = pd.to_timedelta(df['Duration'])\n"
   ]
  },
  {
   "cell_type": "code",
   "execution_count": null,
   "metadata": {},
   "outputs": [
    {
     "ename": "NameError",
     "evalue": "name 'df' is not defined",
     "output_type": "error",
     "traceback": [
      "\u001b[1;31m---------------------------------------------------------------------------\u001b[0m",
      "\u001b[1;31mNameError\u001b[0m                                 Traceback (most recent call last)",
      "Cell \u001b[1;32mIn[15], line 1\u001b[0m\n\u001b[1;32m----> 1\u001b[0m df[\u001b[39m'\u001b[39m\u001b[39mDuration\u001b[39m\u001b[39m'\u001b[39m]\u001b[39m.\u001b[39madd(\u001b[39m'\u001b[39m\u001b[39m00| s\u001b[39m\u001b[39m'\u001b[39m)\n",
      "\u001b[1;31mNameError\u001b[0m: name 'df' is not defined"
     ]
    }
   ],
   "source": [
    "df['Duration'].add('00| s')\n"
   ]
  },
  {
   "cell_type": "code",
   "execution_count": null,
   "metadata": {},
   "outputs": [
    {
     "ename": "NameError",
     "evalue": "name 'pd' is not defined",
     "output_type": "error",
     "traceback": [
      "\u001b[1;31m---------------------------------------------------------------------------\u001b[0m",
      "\u001b[1;31mNameError\u001b[0m                                 Traceback (most recent call last)",
      "Cell \u001b[1;32mIn[16], line 1\u001b[0m\n\u001b[1;32m----> 1\u001b[0m df[\u001b[39m'\u001b[39m\u001b[39mDuration\u001b[39m\u001b[39m'\u001b[39m] \u001b[39m=\u001b[39m pd\u001b[39m.\u001b[39mto_timedelta(df[\u001b[39m'\u001b[39m\u001b[39mDuration\u001b[39m\u001b[39m'\u001b[39m])\n",
      "\u001b[1;31mNameError\u001b[0m: name 'pd' is not defined"
     ]
    }
   ],
   "source": [
    "df['Duration'] = pd.to_timedelta(df['Duration'])\n"
   ]
  },
  {
   "cell_type": "code",
   "execution_count": null,
   "metadata": {},
   "outputs": [
    {
     "ename": "NameError",
     "evalue": "name 'df' is not defined",
     "output_type": "error",
     "traceback": [
      "\u001b[1;31m---------------------------------------------------------------------------\u001b[0m",
      "\u001b[1;31mNameError\u001b[0m                                 Traceback (most recent call last)",
      "Cell \u001b[1;32mIn[17], line 1\u001b[0m\n\u001b[1;32m----> 1\u001b[0m df[\u001b[39m'\u001b[39m\u001b[39mDuration\u001b[39m\u001b[39m'\u001b[39m]\u001b[39m.\u001b[39mreplace(\u001b[39m'\u001b[39m\u001b[39m h\u001b[39m\u001b[39m'\u001b[39m, \u001b[39m'\u001b[39m\u001b[39m:\u001b[39m\u001b[39m'\u001b[39m, inplace \u001b[39m=\u001b[39m \u001b[39mTrue\u001b[39;00m)\n",
      "\u001b[1;31mNameError\u001b[0m: name 'df' is not defined"
     ]
    }
   ],
   "source": [
    "df['Duration'].replace(' h', ':', inplace = True)\n"
   ]
  },
  {
   "cell_type": "code",
   "execution_count": null,
   "metadata": {},
   "outputs": [
    {
     "ename": "NameError",
     "evalue": "name 'df' is not defined",
     "output_type": "error",
     "traceback": [
      "\u001b[1;31m---------------------------------------------------------------------------\u001b[0m",
      "\u001b[1;31mNameError\u001b[0m                                 Traceback (most recent call last)",
      "Cell \u001b[1;32mIn[18], line 1\u001b[0m\n\u001b[1;32m----> 1\u001b[0m df[\u001b[39m'\u001b[39m\u001b[39mDuration\u001b[39m\u001b[39m'\u001b[39m]\n",
      "\u001b[1;31mNameError\u001b[0m: name 'df' is not defined"
     ]
    }
   ],
   "source": [
    "df['Duration']"
   ]
  },
  {
   "cell_type": "code",
   "execution_count": null,
   "metadata": {},
   "outputs": [
    {
     "ename": "NameError",
     "evalue": "name 'df' is not defined",
     "output_type": "error",
     "traceback": [
      "\u001b[1;31m---------------------------------------------------------------------------\u001b[0m",
      "\u001b[1;31mNameError\u001b[0m                                 Traceback (most recent call last)",
      "Cell \u001b[1;32mIn[19], line 1\u001b[0m\n\u001b[1;32m----> 1\u001b[0m df[\u001b[39m'\u001b[39m\u001b[39mNo of Persons Voted\u001b[39m\u001b[39m'\u001b[39m] \u001b[39m=\u001b[39m df[\u001b[39m'\u001b[39m\u001b[39mNo of Persons Voted\u001b[39m\u001b[39m'\u001b[39m]\u001b[39m.\u001b[39mstr\u001b[39m.\u001b[39mreplace(\u001b[39m'\u001b[39m\u001b[39m,\u001b[39m\u001b[39m'\u001b[39m, \u001b[39m\"\u001b[39m\u001b[39m\"\u001b[39m)\u001b[39m.\u001b[39mastype(\u001b[39mint\u001b[39m)\n",
      "\u001b[1;31mNameError\u001b[0m: name 'df' is not defined"
     ]
    }
   ],
   "source": [
    "df['No of Persons Voted'] = df['No of Persons Voted'].str.replace(',', \"\").astype(int)"
   ]
  },
  {
   "cell_type": "code",
   "execution_count": null,
   "metadata": {},
   "outputs": [
    {
     "ename": "NameError",
     "evalue": "name 'df' is not defined",
     "output_type": "error",
     "traceback": [
      "\u001b[1;31m---------------------------------------------------------------------------\u001b[0m",
      "\u001b[1;31mNameError\u001b[0m                                 Traceback (most recent call last)",
      "Cell \u001b[1;32mIn[20], line 1\u001b[0m\n\u001b[1;32m----> 1\u001b[0m df\u001b[39m.\u001b[39minfo()\n",
      "\u001b[1;31mNameError\u001b[0m: name 'df' is not defined"
     ]
    }
   ],
   "source": [
    "df.info()"
   ]
  },
  {
   "cell_type": "code",
   "execution_count": null,
   "metadata": {},
   "outputs": [
    {
     "ename": "NameError",
     "evalue": "name 'df' is not defined",
     "output_type": "error",
     "traceback": [
      "\u001b[1;31m---------------------------------------------------------------------------\u001b[0m",
      "\u001b[1;31mNameError\u001b[0m                                 Traceback (most recent call last)",
      "Cell \u001b[1;32mIn[21], line 2\u001b[0m\n\u001b[0;32m      1\u001b[0m \u001b[39m# converting the Rating column to int\u001b[39;00m\n\u001b[1;32m----> 2\u001b[0m df[\u001b[39m'\u001b[39m\u001b[39mRating\u001b[39m\u001b[39m'\u001b[39m] \u001b[39m=\u001b[39m df[\u001b[39m'\u001b[39m\u001b[39mRating\u001b[39m\u001b[39m'\u001b[39m]\u001b[39m.\u001b[39mastype(\u001b[39mint\u001b[39m)\n",
      "\u001b[1;31mNameError\u001b[0m: name 'df' is not defined"
     ]
    }
   ],
   "source": [
    "# converting the Rating column to int\n",
    "df['Rating'] = df['Rating'].astype(int)"
   ]
  },
  {
   "cell_type": "code",
   "execution_count": null,
   "metadata": {},
   "outputs": [
    {
     "ename": "NameError",
     "evalue": "name 'df' is not defined",
     "output_type": "error",
     "traceback": [
      "\u001b[1;31m---------------------------------------------------------------------------\u001b[0m",
      "\u001b[1;31mNameError\u001b[0m                                 Traceback (most recent call last)",
      "Cell \u001b[1;32mIn[22], line 1\u001b[0m\n\u001b[1;32m----> 1\u001b[0m df\u001b[39m.\u001b[39minfo()\n",
      "\u001b[1;31mNameError\u001b[0m: name 'df' is not defined"
     ]
    }
   ],
   "source": [
    "df.info()"
   ]
  },
  {
   "cell_type": "code",
   "execution_count": null,
   "metadata": {},
   "outputs": [
    {
     "ename": "NameError",
     "evalue": "name 'df' is not defined",
     "output_type": "error",
     "traceback": [
      "\u001b[1;31m---------------------------------------------------------------------------\u001b[0m",
      "\u001b[1;31mNameError\u001b[0m                                 Traceback (most recent call last)",
      "Cell \u001b[1;32mIn[23], line 1\u001b[0m\n\u001b[1;32m----> 1\u001b[0m df[\u001b[39m'\u001b[39m\u001b[39mRating\u001b[39m\u001b[39m'\u001b[39m]\n",
      "\u001b[1;31mNameError\u001b[0m: name 'df' is not defined"
     ]
    }
   ],
   "source": [
    "df['Rating']"
   ]
  },
  {
   "cell_type": "code",
   "execution_count": null,
   "metadata": {},
   "outputs": [
    {
     "ename": "NameError",
     "evalue": "name 'df' is not defined",
     "output_type": "error",
     "traceback": [
      "\u001b[1;31m---------------------------------------------------------------------------\u001b[0m",
      "\u001b[1;31mNameError\u001b[0m                                 Traceback (most recent call last)",
      "Cell \u001b[1;32mIn[24], line 1\u001b[0m\n\u001b[1;32m----> 1\u001b[0m df\u001b[39m.\u001b[39minfo()\n",
      "\u001b[1;31mNameError\u001b[0m: name 'df' is not defined"
     ]
    }
   ],
   "source": [
    "df.info()"
   ]
  },
  {
   "cell_type": "code",
   "execution_count": null,
   "metadata": {},
   "outputs": [
    {
     "ename": "NameError",
     "evalue": "name 'df' is not defined",
     "output_type": "error",
     "traceback": [
      "\u001b[1;31m---------------------------------------------------------------------------\u001b[0m",
      "\u001b[1;31mNameError\u001b[0m                                 Traceback (most recent call last)",
      "Cell \u001b[1;32mIn[25], line 1\u001b[0m\n\u001b[1;32m----> 1\u001b[0m df[\u001b[39m'\u001b[39m\u001b[39mDuration\u001b[39m\u001b[39m'\u001b[39m]\u001b[39m.\u001b[39munique()\n",
      "\u001b[1;31mNameError\u001b[0m: name 'df' is not defined"
     ]
    }
   ],
   "source": [
    "df['Duration'].unique()"
   ]
  },
  {
   "cell_type": "code",
   "execution_count": null,
   "metadata": {},
   "outputs": [
    {
     "ename": "NameError",
     "evalue": "name 'df' is not defined",
     "output_type": "error",
     "traceback": [
      "\u001b[1;31m---------------------------------------------------------------------------\u001b[0m",
      "\u001b[1;31mNameError\u001b[0m                                 Traceback (most recent call last)",
      "Cell \u001b[1;32mIn[26], line 1\u001b[0m\n\u001b[1;32m----> 1\u001b[0m df[\u001b[39m'\u001b[39m\u001b[39mDuration\u001b[39m\u001b[39m'\u001b[39m]\u001b[39m.\u001b[39mreplace({\u001b[39m'\u001b[39m\u001b[39mNot Rated\u001b[39m\u001b[39m'\u001b[39m: \u001b[39m'\u001b[39m\u001b[39m1 h 10m\u001b[39m\u001b[39m'\u001b[39m}, inplace \u001b[39m=\u001b[39m \u001b[39mTrue\u001b[39;00m)\n",
      "\u001b[1;31mNameError\u001b[0m: name 'df' is not defined"
     ]
    }
   ],
   "source": [
    "df['Duration'].replace({'Not Rated': '1 h 10m'}, inplace = True)\n"
   ]
  },
  {
   "cell_type": "code",
   "execution_count": null,
   "metadata": {},
   "outputs": [
    {
     "ename": "NameError",
     "evalue": "name 'df' is not defined",
     "output_type": "error",
     "traceback": [
      "\u001b[1;31m---------------------------------------------------------------------------\u001b[0m",
      "\u001b[1;31mNameError\u001b[0m                                 Traceback (most recent call last)",
      "Cell \u001b[1;32mIn[27], line 1\u001b[0m\n\u001b[1;32m----> 1\u001b[0m df[\u001b[39m'\u001b[39m\u001b[39mDuration\u001b[39m\u001b[39m'\u001b[39m]\u001b[39m.\u001b[39munique()\n",
      "\u001b[1;31mNameError\u001b[0m: name 'df' is not defined"
     ]
    }
   ],
   "source": [
    "df['Duration'].unique()"
   ]
  },
  {
   "cell_type": "code",
   "execution_count": null,
   "metadata": {},
   "outputs": [
    {
     "ename": "NameError",
     "evalue": "name 'df' is not defined",
     "output_type": "error",
     "traceback": [
      "\u001b[1;31m---------------------------------------------------------------------------\u001b[0m",
      "\u001b[1;31mNameError\u001b[0m                                 Traceback (most recent call last)",
      "Cell \u001b[1;32mIn[28], line 1\u001b[0m\n\u001b[1;32m----> 1\u001b[0m df[\u001b[39m'\u001b[39m\u001b[39mDuration\u001b[39m\u001b[39m'\u001b[39m]\u001b[39m.\u001b[39mreplace({\u001b[39m'\u001b[39m\u001b[39m\\n\u001b[39;00m\u001b[39m        http://www.7thart.com/current/creature/creature.html\u001b[39m\u001b[39m\\n\u001b[39;00m\u001b[39m        \u001b[39m\u001b[39m'\u001b[39m: \u001b[39m'\u001b[39m\u001b[39m1 h 10m\u001b[39m\u001b[39m'\u001b[39m}, inplace \u001b[39m=\u001b[39m \u001b[39mTrue\u001b[39;00m)\n\u001b[0;32m      2\u001b[0m df[\u001b[39m'\u001b[39m\u001b[39mDuration\u001b[39m\u001b[39m'\u001b[39m]\u001b[39m.\u001b[39mreplace({\u001b[39m'\u001b[39m\u001b[39m\\n\u001b[39;00m\u001b[39m        http://www.killerofsheep.com/\u001b[39m\u001b[39m\\n\u001b[39;00m\u001b[39m        \u001b[39m\u001b[39m'\u001b[39m: \u001b[39m'\u001b[39m\u001b[39m1 h 10m\u001b[39m\u001b[39m'\u001b[39m}, inplace \u001b[39m=\u001b[39m \u001b[39mTrue\u001b[39;00m)\n\u001b[0;32m      3\u001b[0m df[\u001b[39m'\u001b[39m\u001b[39mDuration\u001b[39m\u001b[39m'\u001b[39m]\u001b[39m.\u001b[39mreplace({\u001b[39m'\u001b[39m\u001b[39m\\n\u001b[39;00m\u001b[39m        https://www.kinolorber.com/film/hit-the-road\u001b[39m\u001b[39m\\n\u001b[39;00m\u001b[39m        \u001b[39m\u001b[39m'\u001b[39m: \u001b[39m'\u001b[39m\u001b[39m1 h 10m\u001b[39m\u001b[39m'\u001b[39m}, inplace \u001b[39m=\u001b[39m \u001b[39mTrue\u001b[39;00m)\n",
      "\u001b[1;31mNameError\u001b[0m: name 'df' is not defined"
     ]
    }
   ],
   "source": [
    "df['Duration'].replace({'\\n        http://www.7thart.com/current/creature/creature.html\\n        ': '1 h 10m'}, inplace = True)\n",
    "df['Duration'].replace({'\\n        http://www.killerofsheep.com/\\n        ': '1 h 10m'}, inplace = True)\n",
    "df['Duration'].replace({'\\n        https://www.kinolorber.com/film/hit-the-road\\n        ': '1 h 10m'}, inplace = True)\n",
    "df['Duration'].replace({'\\n        https://www.kinolorber.com/film/hit-the-road\\n        ': '1 h 10m'}, inplace = True)\n",
    "df['Duration'].replace({'\\n        http://www.7thstreetmovie.com/\\n        ': '1 h 10m'}, inplace = True)\n",
    "\n",
    "df['Duration'].replace({'\\n        https://www.amazon.com/Boys-Men-Phillip-Bartell/dp/B00005UF80\\n        ': '1 h 10m'}, inplace = True)\n",
    "\n",
    "\n"
   ]
  },
  {
   "cell_type": "code",
   "execution_count": null,
   "metadata": {},
   "outputs": [
    {
     "ename": "NameError",
     "evalue": "name 'df' is not defined",
     "output_type": "error",
     "traceback": [
      "\u001b[1;31m---------------------------------------------------------------------------\u001b[0m",
      "\u001b[1;31mNameError\u001b[0m                                 Traceback (most recent call last)",
      "Cell \u001b[1;32mIn[29], line 1\u001b[0m\n\u001b[1;32m----> 1\u001b[0m df[\u001b[39m'\u001b[39m\u001b[39mDuration\u001b[39m\u001b[39m'\u001b[39m]\u001b[39m.\u001b[39munique()\n",
      "\u001b[1;31mNameError\u001b[0m: name 'df' is not defined"
     ]
    }
   ],
   "source": [
    "df['Duration'].unique()"
   ]
  },
  {
   "cell_type": "code",
   "execution_count": null,
   "metadata": {},
   "outputs": [],
   "source": [
    "df['Duration'].replace({'\\n        http://www.delicacyfilm.com/\\n        ': '1 h 10m'}, inplace = True)\n",
    "df['Duration'].replace({'\\n        http://www.filmmovement.com/libraries/index.asp?MerchandiseID=573\\n        ': '1 h 10m'}, inplace = True)\n",
    "df['Duration'].replace({'\\n        https://www.foxmovies.com/movies/once-upon-a-deadpool\\n        ': '1 h 10m'}, inplace = True)\n",
    "df['Duration'].replace({'\\n        http://www.dogsweatthefilm.com/\\n        ': '1 h 10m'}, inplace = True)\n",
    "df['Duration'].replace({'Unrated': '1 h 10m'}, inplace = True)\n",
    "df['Duration'].replace({      'TV-MA'\n",
    ": '1 h 10m'}, inplace = True)\n",
    "\n",
    "\n",
    "\n",
    "\n",
    "\n"
   ]
  },
  {
   "cell_type": "code",
   "execution_count": null,
   "metadata": {},
   "outputs": [
    {
     "ename": "NameError",
     "evalue": "name 'df' is not defined",
     "output_type": "error",
     "traceback": [
      "\u001b[1;31m---------------------------------------------------------------------------\u001b[0m",
      "\u001b[1;31mNameError\u001b[0m                                 Traceback (most recent call last)",
      "Cell \u001b[1;32mIn[30], line 1\u001b[0m\n\u001b[1;32m----> 1\u001b[0m df[\u001b[39m'\u001b[39m\u001b[39mDuration\u001b[39m\u001b[39m'\u001b[39m]\u001b[39m.\u001b[39munique()\n",
      "\u001b[1;31mNameError\u001b[0m: name 'df' is not defined"
     ]
    }
   ],
   "source": [
    "df['Duration'].unique()"
   ]
  },
  {
   "cell_type": "code",
   "execution_count": null,
   "metadata": {},
   "outputs": [],
   "source": [
    "       ,\n",
    "       ,\n",
    "       ,\n",
    "       '\\n        http://www.picturethisent.com/minisites/youilove/index.html\\n        ',\n",
    "df['Duration'].replace({'\\n        http://kabakovfilm.com/\\n        ': '1 h 10m'}, inplace = True)\n",
    "df['Duration'].replace({'Is the \" School of the Americas\" a force of democracy or a \"School of Assassins\"?': '1 h 10m'}, inplace = True)\n",
    "df['Duration'].replace({'\\n        http://www.tamala2010.com/\\n        ': '1 h 10m'}, inplace = True)\n",
    "df['Duration'].replace({'\\n        http://www.picturethisent.com/minisites/youilove/index.html\\n        ': '1 h 10m'}, inplace = True)\n"
   ]
  },
  {
   "cell_type": "code",
   "execution_count": null,
   "metadata": {},
   "outputs": [
    {
     "ename": "NameError",
     "evalue": "name 'df' is not defined",
     "output_type": "error",
     "traceback": [
      "\u001b[1;31m---------------------------------------------------------------------------\u001b[0m",
      "\u001b[1;31mNameError\u001b[0m                                 Traceback (most recent call last)",
      "Cell \u001b[1;32mIn[68], line 1\u001b[0m\n\u001b[1;32m----> 1\u001b[0m df[\u001b[39m'\u001b[39m\u001b[39mDuration\u001b[39m\u001b[39m'\u001b[39m]\u001b[39m.\u001b[39munique()\n",
      "\u001b[1;31mNameError\u001b[0m: name 'df' is not defined"
     ]
    }
   ],
   "source": [
    "df['Duration'].unique()"
   ]
  },
  {
   "cell_type": "code",
   "execution_count": null,
   "metadata": {},
   "outputs": [
    {
     "ename": "NameError",
     "evalue": "name 'df' is not defined",
     "output_type": "error",
     "traceback": [
      "\u001b[1;31m---------------------------------------------------------------------------\u001b[0m",
      "\u001b[1;31mNameError\u001b[0m                                 Traceback (most recent call last)",
      "Cell \u001b[1;32mIn[67], line 1\u001b[0m\n\u001b[1;32m----> 1\u001b[0m df[\u001b[39m'\u001b[39m\u001b[39mDuration\u001b[39m\u001b[39m'\u001b[39m]\u001b[39m.\u001b[39mreplace({\u001b[39m'\u001b[39m\u001b[39m\\n\u001b[39;00m\u001b[39m        http://www.pbs.org/pov/pov1998/sacrifice/index.html\u001b[39m\u001b[39m\\n\u001b[39;00m\u001b[39m        \u001b[39m\u001b[39m'\u001b[39m: \u001b[39m'\u001b[39m\u001b[39m1 h 10m\u001b[39m\u001b[39m'\u001b[39m}, inplace \u001b[39m=\u001b[39m \u001b[39mTrue\u001b[39;00m)\n\u001b[0;32m      2\u001b[0m df[\u001b[39m'\u001b[39m\u001b[39mDuration\u001b[39m\u001b[39m'\u001b[39m]\u001b[39m.\u001b[39mreplace({df[\u001b[39m'\u001b[39m\u001b[39mDuration\u001b[39m\u001b[39m'\u001b[39m]\u001b[39m.\u001b[39mreplace({\u001b[39m'\u001b[39m\u001b[39m\\n\u001b[39;00m\u001b[39m        http://www.pbs.org/pov/pov1998/sacrifice/index.html\u001b[39m\u001b[39m\\n\u001b[39;00m\u001b[39m        \u001b[39m\u001b[39m'\u001b[39m: \u001b[39m'\u001b[39m\u001b[39m1 h 10m\u001b[39m\u001b[39m'\u001b[39m}, inplace \u001b[39m=\u001b[39m \u001b[39mTrue\u001b[39;00m)\n\u001b[0;32m      3\u001b[0m : \u001b[39m'\u001b[39m\u001b[39m1 h 10m\u001b[39m\u001b[39m'\u001b[39m}, inplace \u001b[39m=\u001b[39m \u001b[39mTrue\u001b[39;00m)\n",
      "\u001b[1;31mNameError\u001b[0m: name 'df' is not defined"
     ]
    }
   ],
   "source": [
    "\n",
    "df['Duration'].replace({'\\n        http://www.pbs.org/pov/pov1998/sacrifice/index.html\\n        ': '1 h 10m'}, inplace = True)\n",
    "df['Duration'].replace({df['Duration'].replace({'\\n        http://www.pbs.org/pov/pov1998/sacrifice/index.html\\n        ': '1 h 10m'}, inplace = True)\n",
    ": '1 h 10m'}, inplace = True)\n"
   ]
  },
  {
   "cell_type": "code",
   "execution_count": null,
   "metadata": {},
   "outputs": [
    {
     "ename": "NameError",
     "evalue": "name 'df' is not defined",
     "output_type": "error",
     "traceback": [
      "\u001b[1;31m---------------------------------------------------------------------------\u001b[0m",
      "\u001b[1;31mNameError\u001b[0m                                 Traceback (most recent call last)",
      "Cell \u001b[1;32mIn[32], line 1\u001b[0m\n\u001b[1;32m----> 1\u001b[0m df[\u001b[39m'\u001b[39m\u001b[39mDuration\u001b[39m\u001b[39m'\u001b[39m]\u001b[39m.\u001b[39munique()\n",
      "\u001b[1;31mNameError\u001b[0m: name 'df' is not defined"
     ]
    }
   ],
   "source": [
    "df['Duration'].unique()"
   ]
  },
  {
   "cell_type": "code",
   "execution_count": null,
   "metadata": {},
   "outputs": [
    {
     "ename": "NameError",
     "evalue": "name 'df' is not defined",
     "output_type": "error",
     "traceback": [
      "\u001b[1;31m---------------------------------------------------------------------------\u001b[0m",
      "\u001b[1;31mNameError\u001b[0m                                 Traceback (most recent call last)",
      "Cell \u001b[1;32mIn[33], line 1\u001b[0m\n\u001b[1;32m----> 1\u001b[0m df\u001b[39m=\u001b[39mdf\u001b[39m.\u001b[39mdrop_duplicates()\n",
      "\u001b[1;31mNameError\u001b[0m: name 'df' is not defined"
     ]
    }
   ],
   "source": [
    "df=df.drop_duplicates()"
   ]
  },
  {
   "cell_type": "code",
   "execution_count": null,
   "metadata": {},
   "outputs": [
    {
     "ename": "NameError",
     "evalue": "name 'df' is not defined",
     "output_type": "error",
     "traceback": [
      "\u001b[1;31m---------------------------------------------------------------------------\u001b[0m",
      "\u001b[1;31mNameError\u001b[0m                                 Traceback (most recent call last)",
      "Cell \u001b[1;32mIn[34], line 1\u001b[0m\n\u001b[1;32m----> 1\u001b[0m df[\u001b[39m'\u001b[39m\u001b[39mDuration\u001b[39m\u001b[39m'\u001b[39m]\u001b[39m.\u001b[39munique()\n",
      "\u001b[1;31mNameError\u001b[0m: name 'df' is not defined"
     ]
    }
   ],
   "source": [
    "df['Duration'].unique()"
   ]
  },
  {
   "cell_type": "code",
   "execution_count": null,
   "metadata": {},
   "outputs": [
    {
     "name": "stderr",
     "output_type": "stream",
     "text": [
      "C:\\Users\\USER\\AppData\\Local\\Temp\\ipykernel_2296\\2489299340.py:1: FutureWarning: A value is trying to be set on a copy of a DataFrame or Series through chained assignment using an inplace method.\n",
      "The behavior will change in pandas 3.0. This inplace method will never work because the intermediate object on which we are setting values always behaves as a copy.\n",
      "\n",
      "For example, when doing 'df[col].method(value, inplace=True)', try using 'df.method({col: value}, inplace=True)' or df[col] = df[col].method(value) instead, to perform the operation inplace on the original object.\n",
      "\n",
      "\n",
      "  df['Duration'].replace({'\\n        https://www.factorytwentyfive.com/superior\\n        ': '1 h 10m'}, inplace = True)\n"
     ]
    }
   ],
   "source": [
    "  \n",
    "\n",
    "df['Duration'].replace({'\\n        https://www.factorytwentyfive.com/superior\\n        ': '1 h 10m'}, inplace = True)\n",
    "df['Duration'].replace({'\\n        http://www.maureengosling.com/ramo/about/about.html\\n        ': '1 h 10m'}, inplace = True)\n",
    "df['Duration'].replace({'\\n        http://combatobscura.oscilloscope.net/\\n        ': '1 h 10m'}, inplace = True)\n",
    "\n",
    "\n"
   ]
  },
  {
   "cell_type": "code",
   "execution_count": null,
   "metadata": {},
   "outputs": [
    {
     "ename": "NameError",
     "evalue": "name 'df' is not defined",
     "output_type": "error",
     "traceback": [
      "\u001b[1;31m---------------------------------------------------------------------------\u001b[0m",
      "\u001b[1;31mNameError\u001b[0m                                 Traceback (most recent call last)",
      "Cell \u001b[1;32mIn[35], line 1\u001b[0m\n\u001b[1;32m----> 1\u001b[0m df[\u001b[39m'\u001b[39m\u001b[39mDuration\u001b[39m\u001b[39m'\u001b[39m]\u001b[39m.\u001b[39munique()\n",
      "\u001b[1;31mNameError\u001b[0m: name 'df' is not defined"
     ]
    }
   ],
   "source": [
    "df['Duration'].unique()"
   ]
  },
  {
   "cell_type": "code",
   "execution_count": null,
   "metadata": {},
   "outputs": [],
   "source": [
    "  \n",
    "\n",
    "df['Duration'].replace({'\\n        https://www.kinolorber.com/film/chef-flynn\\n        ': '1 h 10m'}, inplace = True)\n",
    "df['Duration'].replace({'A history of the Mariel Boatlift': '1 h 10m'}, inplace = True)\n",
    "df['Duration'].replace({'The story of how truth became the first American casualty in Iraq.': '1 h 10m'}, inplace = True)\n",
    "\n"
   ]
  },
  {
   "cell_type": "code",
   "execution_count": null,
   "metadata": {},
   "outputs": [
    {
     "ename": "NameError",
     "evalue": "name 'df' is not defined",
     "output_type": "error",
     "traceback": [
      "\u001b[1;31m---------------------------------------------------------------------------\u001b[0m",
      "\u001b[1;31mNameError\u001b[0m                                 Traceback (most recent call last)",
      "Cell \u001b[1;32mIn[36], line 1\u001b[0m\n\u001b[1;32m----> 1\u001b[0m df[\u001b[39m'\u001b[39m\u001b[39mDuration\u001b[39m\u001b[39m'\u001b[39m]\u001b[39m.\u001b[39munique()\n",
      "\u001b[1;31mNameError\u001b[0m: name 'df' is not defined"
     ]
    }
   ],
   "source": [
    "df['Duration'].unique()"
   ]
  },
  {
   "cell_type": "code",
   "execution_count": null,
   "metadata": {},
   "outputs": [
    {
     "ename": "NameError",
     "evalue": "name 'df' is not defined",
     "output_type": "error",
     "traceback": [
      "\u001b[1;31m---------------------------------------------------------------------------\u001b[0m",
      "\u001b[1;31mNameError\u001b[0m                                 Traceback (most recent call last)",
      "Cell \u001b[1;32mIn[37], line 1\u001b[0m\n\u001b[1;32m----> 1\u001b[0m df[\u001b[39m'\u001b[39m\u001b[39mDuration\u001b[39m\u001b[39m'\u001b[39m]\u001b[39m.\u001b[39mreplace({\u001b[39m'\u001b[39m\u001b[39m\\n\u001b[39;00m\u001b[39m        https://www.lionsgate.com/movies/the-cotton-club-encore\u001b[39m\u001b[39m\\n\u001b[39;00m\u001b[39m        \u001b[39m\u001b[39m'\u001b[39m: \u001b[39m'\u001b[39m\u001b[39m1 h 10m\u001b[39m\u001b[39m'\u001b[39m}, inplace \u001b[39m=\u001b[39m \u001b[39mTrue\u001b[39;00m)\n\u001b[0;32m      2\u001b[0m df[\u001b[39m'\u001b[39m\u001b[39mDuration\u001b[39m\u001b[39m'\u001b[39m]\u001b[39m.\u001b[39mreplace({\u001b[39m'\u001b[39m\u001b[39mTV-G\u001b[39m\u001b[39m'\u001b[39m: \u001b[39m'\u001b[39m\u001b[39m1 h 10m\u001b[39m\u001b[39m'\u001b[39m}, inplace \u001b[39m=\u001b[39m \u001b[39mTrue\u001b[39;00m)\n\u001b[0;32m      3\u001b[0m df[\u001b[39m'\u001b[39m\u001b[39mDuration\u001b[39m\u001b[39m'\u001b[39m]\u001b[39m.\u001b[39mreplace({\u001b[39m'\u001b[39m\u001b[39m\\n\u001b[39;00m\u001b[39m        http://www.gracelee.net/\u001b[39m\u001b[39m\\n\u001b[39;00m\u001b[39m        \u001b[39m\u001b[39m'\u001b[39m: \u001b[39m'\u001b[39m\u001b[39m1 h 10m\u001b[39m\u001b[39m'\u001b[39m}, inplace \u001b[39m=\u001b[39m \u001b[39mTrue\u001b[39;00m)\n",
      "\u001b[1;31mNameError\u001b[0m: name 'df' is not defined"
     ]
    }
   ],
   "source": [
    "   \n",
    "\n",
    "df['Duration'].replace({'\\n        https://www.lionsgate.com/movies/the-cotton-club-encore\\n        ': '1 h 10m'}, inplace = True)\n",
    "df['Duration'].replace({'TV-G': '1 h 10m'}, inplace = True)\n",
    "df['Duration'].replace({'\\n        http://www.gracelee.net/\\n        ': '1 h 10m'}, inplace = True)\n",
    "df['Duration'].replace({'\\n        http://www.alma-films.com/\\n        ': '1 h 10m'}, inplace = True)\n"
   ]
  },
  {
   "cell_type": "code",
   "execution_count": null,
   "metadata": {},
   "outputs": [
    {
     "ename": "NameError",
     "evalue": "name 'df' is not defined",
     "output_type": "error",
     "traceback": [
      "\u001b[1;31m---------------------------------------------------------------------------\u001b[0m",
      "\u001b[1;31mNameError\u001b[0m                                 Traceback (most recent call last)",
      "Cell \u001b[1;32mIn[38], line 1\u001b[0m\n\u001b[1;32m----> 1\u001b[0m df[\u001b[39m'\u001b[39m\u001b[39mDuration\u001b[39m\u001b[39m'\u001b[39m]\u001b[39m.\u001b[39munique()\n",
      "\u001b[1;31mNameError\u001b[0m: name 'df' is not defined"
     ]
    }
   ],
   "source": [
    "df['Duration'].unique()"
   ]
  },
  {
   "cell_type": "code",
   "execution_count": null,
   "metadata": {},
   "outputs": [
    {
     "ename": "NameError",
     "evalue": "name 'df' is not defined",
     "output_type": "error",
     "traceback": [
      "\u001b[1;31m---------------------------------------------------------------------------\u001b[0m",
      "\u001b[1;31mNameError\u001b[0m                                 Traceback (most recent call last)",
      "Cell \u001b[1;32mIn[39], line 1\u001b[0m\n\u001b[1;32m----> 1\u001b[0m df[\u001b[39m'\u001b[39m\u001b[39mDuration\u001b[39m\u001b[39m'\u001b[39m]\u001b[39m.\u001b[39mreplace({\u001b[39m\"\u001b[39m\u001b[39mRADICAL WOLFE is the first feature film to explore Tom Wolfe\u001b[39m\u001b[39m'\u001b[39m\u001b[39ms life and work, a man who pioneered disruptive journalism, challenged American obsessions and overused punctuation way before it was cool. Tom didn\u001b[39m\u001b[39m'\u001b[39m\u001b[39mt just document America, he dipped his pen in acid and took readers on a vivid trip through the summer of love, landing on the moon and 1980s Wall Street money-grubbing.\u001b[39m\u001b[39m\"\u001b[39m: \u001b[39m'\u001b[39m\u001b[39m1 h 10m\u001b[39m\u001b[39m'\u001b[39m}, inplace \u001b[39m=\u001b[39m \u001b[39mTrue\u001b[39;00m)\n\u001b[0;32m      2\u001b[0m df[\u001b[39m'\u001b[39m\u001b[39mDuration\u001b[39m\u001b[39m'\u001b[39m]\u001b[39m.\u001b[39mreplace({\u001b[39m'\u001b[39m\u001b[39mInside the car is another world.\u001b[39m\u001b[39m'\u001b[39m: \u001b[39m'\u001b[39m\u001b[39m1 h 10m\u001b[39m\u001b[39m'\u001b[39m}, inplace \u001b[39m=\u001b[39m \u001b[39mTrue\u001b[39;00m)\n\u001b[0;32m      3\u001b[0m df[\u001b[39m'\u001b[39m\u001b[39mDuration\u001b[39m\u001b[39m'\u001b[39m]\u001b[39m.\u001b[39mreplace({\u001b[39m\"\u001b[39m\u001b[39mOnce you believe something is possible, it\u001b[39m\u001b[39m'\u001b[39m\u001b[39ms done already.\u001b[39m\u001b[39m\"\u001b[39m: \u001b[39m'\u001b[39m\u001b[39m1 h 10m\u001b[39m\u001b[39m'\u001b[39m}, inplace \u001b[39m=\u001b[39m \u001b[39mTrue\u001b[39;00m)\n",
      "\u001b[1;31mNameError\u001b[0m: name 'df' is not defined"
     ]
    }
   ],
   "source": [
    "\n",
    "\n",
    "\n",
    "\n",
    "df['Duration'].replace({\"RADICAL WOLFE is the first feature film to explore Tom Wolfe's life and work, a man who pioneered disruptive journalism, challenged American obsessions and overused punctuation way before it was cool. Tom didn't just document America, he dipped his pen in acid and took readers on a vivid trip through the summer of love, landing on the moon and 1980s Wall Street money-grubbing.\": '1 h 10m'}, inplace = True)\n",
    "df['Duration'].replace({'Inside the car is another world.': '1 h 10m'}, inplace = True)\n",
    "df['Duration'].replace({\"Once you believe something is possible, it's done already.\": '1 h 10m'}, inplace = True)\n"
   ]
  },
  {
   "cell_type": "code",
   "execution_count": null,
   "metadata": {},
   "outputs": [
    {
     "ename": "NameError",
     "evalue": "name 'df' is not defined",
     "output_type": "error",
     "traceback": [
      "\u001b[1;31m---------------------------------------------------------------------------\u001b[0m",
      "\u001b[1;31mNameError\u001b[0m                                 Traceback (most recent call last)",
      "Cell \u001b[1;32mIn[40], line 1\u001b[0m\n\u001b[1;32m----> 1\u001b[0m df[\u001b[39m'\u001b[39m\u001b[39mDuration\u001b[39m\u001b[39m'\u001b[39m]\u001b[39m.\u001b[39munique()\n",
      "\u001b[1;31mNameError\u001b[0m: name 'df' is not defined"
     ]
    }
   ],
   "source": [
    "df['Duration'].unique()"
   ]
  },
  {
   "cell_type": "code",
   "execution_count": null,
   "metadata": {},
   "outputs": [
    {
     "ename": "NameError",
     "evalue": "name 'df' is not defined",
     "output_type": "error",
     "traceback": [
      "\u001b[1;31m---------------------------------------------------------------------------\u001b[0m",
      "\u001b[1;31mNameError\u001b[0m                                 Traceback (most recent call last)",
      "Cell \u001b[1;32mIn[41], line 1\u001b[0m\n\u001b[1;32m----> 1\u001b[0m df[\u001b[39m'\u001b[39m\u001b[39mDuration\u001b[39m\u001b[39m'\u001b[39m]\u001b[39m.\u001b[39mreplace({\u001b[39m'\u001b[39m\u001b[39m\\n\u001b[39;00m\u001b[39m        http://www.samuelgoldwynfilms.com/cowboys/\u001b[39m\u001b[39m\\n\u001b[39;00m\u001b[39m        \u001b[39m\u001b[39m'\u001b[39m: \u001b[39m'\u001b[39m\u001b[39m1 h 10m\u001b[39m\u001b[39m'\u001b[39m}, inplace \u001b[39m=\u001b[39m \u001b[39mTrue\u001b[39;00m)\n\u001b[0;32m      2\u001b[0m df[\u001b[39m'\u001b[39m\u001b[39mDuration\u001b[39m\u001b[39m'\u001b[39m]\u001b[39m.\u001b[39mreplace({\u001b[39m'\u001b[39m\u001b[39m\\n\u001b[39;00m\u001b[39m        http://advancedstylefilm.com/\u001b[39m\u001b[39m\\n\u001b[39;00m\u001b[39m        \u001b[39m\u001b[39m'\u001b[39m: \u001b[39m'\u001b[39m\u001b[39m1 h 10m\u001b[39m\u001b[39m'\u001b[39m}, inplace \u001b[39m=\u001b[39m \u001b[39mTrue\u001b[39;00m)\n",
      "\u001b[1;31mNameError\u001b[0m: name 'df' is not defined"
     ]
    }
   ],
   "source": [
    "\n",
    "\n",
    "\n",
    "df['Duration'].replace({'\\n        http://www.samuelgoldwynfilms.com/cowboys/\\n        ': '1 h 10m'}, inplace = True)\n",
    "df['Duration'].replace({'\\n        http://advancedstylefilm.com/\\n        ': '1 h 10m'}, inplace = True)\n"
   ]
  },
  {
   "cell_type": "code",
   "execution_count": null,
   "metadata": {},
   "outputs": [
    {
     "ename": "NameError",
     "evalue": "name 'df' is not defined",
     "output_type": "error",
     "traceback": [
      "\u001b[1;31m---------------------------------------------------------------------------\u001b[0m",
      "\u001b[1;31mNameError\u001b[0m                                 Traceback (most recent call last)",
      "Cell \u001b[1;32mIn[42], line 1\u001b[0m\n\u001b[1;32m----> 1\u001b[0m df[\u001b[39m'\u001b[39m\u001b[39mDuration\u001b[39m\u001b[39m'\u001b[39m]\u001b[39m.\u001b[39munique()\n",
      "\u001b[1;31mNameError\u001b[0m: name 'df' is not defined"
     ]
    }
   ],
   "source": [
    "df['Duration'].unique()"
   ]
  },
  {
   "cell_type": "code",
   "execution_count": null,
   "metadata": {},
   "outputs": [
    {
     "ename": "NameError",
     "evalue": "name 'df' is not defined",
     "output_type": "error",
     "traceback": [
      "\u001b[1;31m---------------------------------------------------------------------------\u001b[0m",
      "\u001b[1;31mNameError\u001b[0m                                 Traceback (most recent call last)",
      "Cell \u001b[1;32mIn[43], line 1\u001b[0m\n\u001b[1;32m----> 1\u001b[0m df[\u001b[39m'\u001b[39m\u001b[39mDuration\u001b[39m\u001b[39m'\u001b[39m]\u001b[39m.\u001b[39mreplace({\u001b[39m'\u001b[39m\u001b[39m\\n\u001b[39;00m\u001b[39m        http://www.itvs.org/external/WGOOS/WGMAIN.html\u001b[39m\u001b[39m\\n\u001b[39;00m\u001b[39m        \u001b[39m\u001b[39m'\u001b[39m: \u001b[39m'\u001b[39m\u001b[39m1 h 10m\u001b[39m\u001b[39m'\u001b[39m}, inplace \u001b[39m=\u001b[39m \u001b[39mTrue\u001b[39;00m)\n\u001b[0;32m      2\u001b[0m df[\u001b[39m'\u001b[39m\u001b[39mDuration\u001b[39m\u001b[39m'\u001b[39m]\u001b[39m.\u001b[39mreplace({\u001b[39m'\u001b[39m\u001b[39mOn October 20, 2012, American Journalist Theo Padaos Was Kidnapped in Syria. This is His Story.\u001b[39m\u001b[39m'\u001b[39m: \u001b[39m'\u001b[39m\u001b[39m1 h 10m\u001b[39m\u001b[39m'\u001b[39m}, inplace \u001b[39m=\u001b[39m \u001b[39mTrue\u001b[39;00m)\n",
      "\u001b[1;31mNameError\u001b[0m: name 'df' is not defined"
     ]
    }
   ],
   "source": [
    "\n",
    "\n",
    "df['Duration'].replace({'\\n        http://www.itvs.org/external/WGOOS/WGMAIN.html\\n        ': '1 h 10m'}, inplace = True)\n",
    "df['Duration'].replace({'On October 20, 2012, American Journalist Theo Padaos Was Kidnapped in Syria. This is His Story.': '1 h 10m'}, inplace = True)\n"
   ]
  },
  {
   "cell_type": "code",
   "execution_count": null,
   "metadata": {},
   "outputs": [
    {
     "ename": "NameError",
     "evalue": "name 'df' is not defined",
     "output_type": "error",
     "traceback": [
      "\u001b[1;31m---------------------------------------------------------------------------\u001b[0m",
      "\u001b[1;31mNameError\u001b[0m                                 Traceback (most recent call last)",
      "Cell \u001b[1;32mIn[44], line 1\u001b[0m\n\u001b[1;32m----> 1\u001b[0m df[\u001b[39m'\u001b[39m\u001b[39mDuration\u001b[39m\u001b[39m'\u001b[39m]\u001b[39m.\u001b[39munique()\n",
      "\u001b[1;31mNameError\u001b[0m: name 'df' is not defined"
     ]
    }
   ],
   "source": [
    "df['Duration'].unique()"
   ]
  },
  {
   "cell_type": "code",
   "execution_count": null,
   "metadata": {},
   "outputs": [],
   "source": [
    "\n",
    "\n",
    "\n",
    "df['Duration'].replace({'\\n        http://aspaceprogram.com/\\n        ': '1 h 10m'}, inplace = True)\n",
    "df['Duration'].replace({'\\n        http://www.filmmovement.com/libraries/index.asp?MerchandiseID=462\\n        ': '1 h 10m'}, inplace = True)\n"
   ]
  },
  {
   "cell_type": "code",
   "execution_count": null,
   "metadata": {},
   "outputs": [
    {
     "ename": "NameError",
     "evalue": "name 'df' is not defined",
     "output_type": "error",
     "traceback": [
      "\u001b[1;31m---------------------------------------------------------------------------\u001b[0m",
      "\u001b[1;31mNameError\u001b[0m                                 Traceback (most recent call last)",
      "Cell \u001b[1;32mIn[45], line 1\u001b[0m\n\u001b[1;32m----> 1\u001b[0m df[\u001b[39m'\u001b[39m\u001b[39mDuration\u001b[39m\u001b[39m'\u001b[39m]\u001b[39m.\u001b[39munique()\n",
      "\u001b[1;31mNameError\u001b[0m: name 'df' is not defined"
     ]
    }
   ],
   "source": [
    "df['Duration'].unique()"
   ]
  },
  {
   "cell_type": "code",
   "execution_count": null,
   "metadata": {},
   "outputs": [
    {
     "ename": "NameError",
     "evalue": "name 'df' is not defined",
     "output_type": "error",
     "traceback": [
      "\u001b[1;31m---------------------------------------------------------------------------\u001b[0m",
      "\u001b[1;31mNameError\u001b[0m                                 Traceback (most recent call last)",
      "Cell \u001b[1;32mIn[46], line 1\u001b[0m\n\u001b[1;32m----> 1\u001b[0m df[\u001b[39m'\u001b[39m\u001b[39mDuration\u001b[39m\u001b[39m'\u001b[39m]\u001b[39m.\u001b[39mreplace({\u001b[39m'\u001b[39m\u001b[39m\\n\u001b[39;00m\u001b[39m        http://www.falloffujimori.com/\u001b[39m\u001b[39m\\n\u001b[39;00m\u001b[39m        \u001b[39m\u001b[39m'\u001b[39m: \u001b[39m'\u001b[39m\u001b[39m1 h 10m\u001b[39m\u001b[39m'\u001b[39m}, inplace \u001b[39m=\u001b[39m \u001b[39mTrue\u001b[39;00m)\n\u001b[0;32m      2\u001b[0m df[\u001b[39m'\u001b[39m\u001b[39mDuration\u001b[39m\u001b[39m'\u001b[39m]\u001b[39m.\u001b[39mreplace({\u001b[39m'\u001b[39m\u001b[39m\\n\u001b[39;00m\u001b[39m        http://www.facebook.com/pages/Iron-Crows-Movie/201713159275#!/pages/Iron-Crows-Movie/201713159275?sk=info\u001b[39m\u001b[39m\\n\u001b[39;00m\u001b[39m        \u001b[39m\u001b[39m'\u001b[39m: \u001b[39m'\u001b[39m\u001b[39m1 h 10m\u001b[39m\u001b[39m'\u001b[39m}, inplace \u001b[39m=\u001b[39m \u001b[39mTrue\u001b[39;00m)\n",
      "\u001b[1;31mNameError\u001b[0m: name 'df' is not defined"
     ]
    }
   ],
   "source": [
    "\n",
    "\n",
    "\n",
    "df['Duration'].replace({'\\n        http://www.falloffujimori.com/\\n        ': '1 h 10m'}, inplace = True)\n",
    "df['Duration'].replace({'\\n        http://www.facebook.com/pages/Iron-Crows-Movie/201713159275#!/pages/Iron-Crows-Movie/201713159275?sk=info\\n        ': '1 h 10m'}, inplace = True)\n"
   ]
  },
  {
   "cell_type": "code",
   "execution_count": null,
   "metadata": {},
   "outputs": [
    {
     "ename": "NameError",
     "evalue": "name 'df' is not defined",
     "output_type": "error",
     "traceback": [
      "\u001b[1;31m---------------------------------------------------------------------------\u001b[0m",
      "\u001b[1;31mNameError\u001b[0m                                 Traceback (most recent call last)",
      "Cell \u001b[1;32mIn[47], line 1\u001b[0m\n\u001b[1;32m----> 1\u001b[0m df[\u001b[39m'\u001b[39m\u001b[39mDuration\u001b[39m\u001b[39m'\u001b[39m]\u001b[39m.\u001b[39munique()\n",
      "\u001b[1;31mNameError\u001b[0m: name 'df' is not defined"
     ]
    }
   ],
   "source": [
    "df['Duration'].unique()"
   ]
  },
  {
   "cell_type": "code",
   "execution_count": null,
   "metadata": {},
   "outputs": [
    {
     "ename": "NameError",
     "evalue": "name 'df' is not defined",
     "output_type": "error",
     "traceback": [
      "\u001b[1;31m---------------------------------------------------------------------------\u001b[0m",
      "\u001b[1;31mNameError\u001b[0m                                 Traceback (most recent call last)",
      "Cell \u001b[1;32mIn[48], line 1\u001b[0m\n\u001b[1;32m----> 1\u001b[0m df[\u001b[39m'\u001b[39m\u001b[39mDuration\u001b[39m\u001b[39m'\u001b[39m]\u001b[39m.\u001b[39mreplace({\u001b[39m'\u001b[39m\u001b[39mTV-PG\u001b[39m\u001b[39m'\u001b[39m: \u001b[39m'\u001b[39m\u001b[39m1 h 10m\u001b[39m\u001b[39m'\u001b[39m}, inplace \u001b[39m=\u001b[39m \u001b[39mTrue\u001b[39;00m)\n\u001b[0;32m      2\u001b[0m df[\u001b[39m'\u001b[39m\u001b[39mDuration\u001b[39m\u001b[39m'\u001b[39m]\u001b[39m.\u001b[39mreplace({\u001b[39m'\u001b[39m\u001b[39m\\n\u001b[39;00m\u001b[39m        https://greenwichentertainment.com/film/hello-bookstore/\u001b[39m\u001b[39m\\n\u001b[39;00m\u001b[39m        \u001b[39m\u001b[39m'\u001b[39m: \u001b[39m'\u001b[39m\u001b[39m1 h 10m\u001b[39m\u001b[39m'\u001b[39m}, inplace \u001b[39m=\u001b[39m \u001b[39mTrue\u001b[39;00m)\n",
      "\u001b[1;31mNameError\u001b[0m: name 'df' is not defined"
     ]
    }
   ],
   "source": [
    "\n",
    "\n",
    "df['Duration'].replace({'TV-PG': '1 h 10m'}, inplace = True)\n",
    "df['Duration'].replace({'\\n        https://greenwichentertainment.com/film/hello-bookstore/\\n        ': '1 h 10m'}, inplace = True)\n",
    "\n"
   ]
  },
  {
   "cell_type": "code",
   "execution_count": null,
   "metadata": {},
   "outputs": [
    {
     "ename": "NameError",
     "evalue": "name 'df' is not defined",
     "output_type": "error",
     "traceback": [
      "\u001b[1;31m---------------------------------------------------------------------------\u001b[0m",
      "\u001b[1;31mNameError\u001b[0m                                 Traceback (most recent call last)",
      "Cell \u001b[1;32mIn[49], line 1\u001b[0m\n\u001b[1;32m----> 1\u001b[0m df[\u001b[39m'\u001b[39m\u001b[39mDuration\u001b[39m\u001b[39m'\u001b[39m]\u001b[39m.\u001b[39munique()\n",
      "\u001b[1;31mNameError\u001b[0m: name 'df' is not defined"
     ]
    }
   ],
   "source": [
    "df['Duration'].unique()"
   ]
  },
  {
   "cell_type": "code",
   "execution_count": null,
   "metadata": {},
   "outputs": [
    {
     "ename": "NameError",
     "evalue": "name 'df' is not defined",
     "output_type": "error",
     "traceback": [
      "\u001b[1;31m---------------------------------------------------------------------------\u001b[0m",
      "\u001b[1;31mNameError\u001b[0m                                 Traceback (most recent call last)",
      "Cell \u001b[1;32mIn[50], line 1\u001b[0m\n\u001b[1;32m----> 1\u001b[0m df[\u001b[39m'\u001b[39m\u001b[39mDuration\u001b[39m\u001b[39m'\u001b[39m]\u001b[39m.\u001b[39mreplace({\u001b[39m'\u001b[39m\u001b[39m\\n\u001b[39;00m\u001b[39m        http://www.youdontlikethetruth.com/\u001b[39m\u001b[39m\\n\u001b[39;00m\u001b[39m        \u001b[39m\u001b[39m'\u001b[39m: \u001b[39m'\u001b[39m\u001b[39m1 h 10m\u001b[39m\u001b[39m'\u001b[39m}, inplace \u001b[39m=\u001b[39m \u001b[39mTrue\u001b[39;00m)\n\u001b[0;32m      2\u001b[0m df[\u001b[39m'\u001b[39m\u001b[39mDuration\u001b[39m\u001b[39m'\u001b[39m]\u001b[39m.\u001b[39mreplace({\u001b[39m'\u001b[39m\u001b[39m\\n\u001b[39;00m\u001b[39m        http://karlmarxcity.com/\u001b[39m\u001b[39m\\n\u001b[39;00m\u001b[39m        \u001b[39m\u001b[39m'\u001b[39m: \u001b[39m'\u001b[39m\u001b[39m1 h 10m\u001b[39m\u001b[39m'\u001b[39m}, inplace \u001b[39m=\u001b[39m \u001b[39mTrue\u001b[39;00m)\n\u001b[0;32m      3\u001b[0m df[\u001b[39m'\u001b[39m\u001b[39mDuration\u001b[39m\u001b[39m'\u001b[39m]\u001b[39m.\u001b[39munique()\n",
      "\u001b[1;31mNameError\u001b[0m: name 'df' is not defined"
     ]
    }
   ],
   "source": [
    "\n",
    "\n",
    "df['Duration'].replace({'\\n        http://www.youdontlikethetruth.com/\\n        ': '1 h 10m'}, inplace = True)\n",
    "df['Duration'].replace({'\\n        http://karlmarxcity.com/\\n        ': '1 h 10m'}, inplace = True)\n",
    "df['Duration'].unique()\n"
   ]
  },
  {
   "cell_type": "code",
   "execution_count": null,
   "metadata": {},
   "outputs": [
    {
     "ename": "NameError",
     "evalue": "name 'df' is not defined",
     "output_type": "error",
     "traceback": [
      "\u001b[1;31m---------------------------------------------------------------------------\u001b[0m",
      "\u001b[1;31mNameError\u001b[0m                                 Traceback (most recent call last)",
      "Cell \u001b[1;32mIn[51], line 1\u001b[0m\n\u001b[1;32m----> 1\u001b[0m df[\u001b[39m'\u001b[39m\u001b[39mDuration\u001b[39m\u001b[39m'\u001b[39m]\u001b[39m.\u001b[39mreplace({\u001b[39m'\u001b[39m\u001b[39mOne war ends. Another begins.\u001b[39m\u001b[39m'\u001b[39m: \u001b[39m'\u001b[39m\u001b[39m1 h 10m\u001b[39m\u001b[39m'\u001b[39m}, inplace \u001b[39m=\u001b[39m \u001b[39mTrue\u001b[39;00m)\n",
      "\u001b[1;31mNameError\u001b[0m: name 'df' is not defined"
     ]
    }
   ],
   "source": [
    "\n",
    "df['Duration'].replace({'One war ends. Another begins.': '1 h 10m'}, inplace = True)\n"
   ]
  },
  {
   "cell_type": "code",
   "execution_count": 21,
   "metadata": {},
   "outputs": [
    {
     "data": {
      "text/plain": [
       "array(['9 h 32 m', '1 h 39 m', '1 h 47 m', '2 h 16 m', '3 h 7 m',\n",
       "       '2 h 55 m', '2 h 45 m', '3 h 36 m', '3 h 8 m', '2 h 35 m',\n",
       "       '2 h 25 m', '1 h 31 m', '1 h 34 m', '1 h 58 m', '2 h 50 m',\n",
       "       '2 h 33 m', '1 h 43 m', '2 h 42 m', '1 h 41 m', '2 h 2 m',\n",
       "       '1 h 53 m', '2 h 12 m', '1 h 50 m', '2 h 15 m', '2 h 5 m',\n",
       "       '1 h 21 m', '1 h 57 m', '2 h 14 m', '2 h 17 m', '2 h 1 m',\n",
       "       '\\n        http://www.killerofsheep.com/\\n        ', '2 h 40 m',\n",
       "       '1 h 51 m', '3 h 10 m', '1 h 52 m', '1 h 33 m', '1 h 8 m', '2 h',\n",
       "       'TV-MA', '2 h 43 m', '1 h 38 m', '2 h 7 m', '2 h 11 m', '2 h 34 m',\n",
       "       '2 h 37 m', '1 h 49 m', '2 h 3 m', '3 h 15 m', '1 h 46 m',\n",
       "       '1 h 35 m', '1 h 54 m', '2 h 58 m', '2 h 53 m', '2 h 30 m',\n",
       "       '3 h 29 m', '1 h 29 m', '1 h 23 m', '1 h 28 m', '2 h 6 m',\n",
       "       '1 h 30 m', '3 h 21 m', '2 h 13 m', '2 h 9 m', '5 h 25 m',\n",
       "       '1 h 44 m', '2 h 8 m', '3 h 22 m', '1 h 12 m', '1 h 45 m',\n",
       "       '4 h 33 m', '1 h 42 m', '2 h 48 m', '1 h 36 m', '2 h 38 m',\n",
       "       '1 h 22 m', '1 h 40 m', '1 h 59 m', '2 h 47 m', '1 h 48 m',\n",
       "       '1 h 10 m', '2 h 10 m', '3 h 2 m', '1 h 37 m', '1 h 56 m',\n",
       "       '1 h 55 m', nan, '1 h 27 m', '4 h', '2 h 20 m', '2 h 26 m',\n",
       "       '2 h 28 m', '2 h 59 m', '2 h 4 m', '2 h 52 m', '2 h 18 m',\n",
       "       '2 h 21 m', '1 h 18 m', '3 h 17 m',\n",
       "       '\\n        https://www.kinolorber.com/film/hit-the-road\\n        ',\n",
       "       '3 h 13 m', '1 h 20 m', '2 h 49 m', '1 h 32 m', '3 h 20 m',\n",
       "       '4 h 6 m', '1 h 15 m', '2 h 27 m', '3 h', '1 h 25 m', '2 h 19 m',\n",
       "       '3 h 26 m', '5 h 21 m', '4 h 15 m', '1 h 24 m', '3 h 4 m',\n",
       "       '3 h 37 m', '8 h 15 m', '1 h 9 m', '4 h 32 m', 'Not Rated',\n",
       "       '1 h 16 m', 'Unrated', '3 h 16 m', '1 h 5 m', '2 h 22 m', '30 m',\n",
       "       '12 h 9 m', '1 h 26 m', '1 h 3 m', '3 h 50 m', '1 h 17 m',\n",
       "       '2 h 24 m', '3 h 9 m', '2 h 31 m', '1 h 19 m', '37 m', '2 h 29 m',\n",
       "       '2 h 32 m',\n",
       "       '\\n        http://www.afterthestormfoundation.org/\\n        ',\n",
       "       '2 h 51 m', '3 h 44 m', '2 h 23 m',\n",
       "       '\\n        http://timemachinefilm.com/\\n        ', '1 h 13 m',\n",
       "       '1 h 11 m', '3 h 51 m', '53 m', '3 h 46 m', '2 h 39 m', '2 h 36 m',\n",
       "       '1 h', '3 h 6 m', '4 h 4 m', '2 h 44 m', '1 h 14 m', 'TV-14',\n",
       "       '4 h 10 m', '\\n        http://www.unrest.film/\\n        ', 'PG-13',\n",
       "       '2 h 54 m',\n",
       "       '\\n        https://www.kinolorber.com/film/theforce\\n        ',\n",
       "       '3 h 40 m', '2 h 41 m', '41 m', '3 h 11 m',\n",
       "       '\\n        http://collidingdreamsthemovie.com/\\n        ', '40 m',\n",
       "       '59 m', '3 h 58 m',\n",
       "       '\\n        https://strandreleasing.com/films/the-shadowless-tower/\\n        ',\n",
       "       '3 h 1 m', '3 h 57 m', 'PG', '44 m', '4 h 55 m', '1 h 6 m',\n",
       "       'What Will You Find if You Pin All Your Hopes Online?',\n",
       "       '13 h 28 m', '54 m', 'R', '3 h 3 m', '3 h 25 m',\n",
       "       '\\n        http://www.thegodfather.com/\\n        ', '3 h 59 m',\n",
       "       '3 h 49 m', '1 h 1 m', 'The one team that had a pair', '3 h 14 m',\n",
       "       '3 h 38 m',\n",
       "       'Four artists impacted by blindness. Four different paths to the imagination.',\n",
       "       'One war ends. Another begins.', '3 h 35 m', '58 m',\n",
       "       '\\n        http://www.youdontlikethetruth.com/\\n        ', '56 m',\n",
       "       '\\n        http://karlmarxcity.com/\\n        ', '4 h 20 m',\n",
       "       'TV-PG',\n",
       "       '\\n        https://greenwichentertainment.com/film/hello-bookstore/\\n        ',\n",
       "       '\\n        http://www.falloffujimori.com/\\n        ', '1 h 7 m',\n",
       "       '\\n        http://www.facebook.com/pages/Iron-Crows-Movie/201713159275#!/pages/Iron-Crows-Movie/201713159275?sk=info\\n        ',\n",
       "       '\\n        http://aspaceprogram.com/\\n        ', '2 h 56 m',\n",
       "       '\\n        http://www.filmmovement.com/libraries/index.asp?MerchandiseID=462\\n        ',\n",
       "       'On October 20, 2012, American Journalist Theo Padaos Was Kidnapped in Syria. This is His Story.',\n",
       "       '47 m', '3 h 18 m', '5 h 17 m', '2 h 46 m', '2 h 57 m',\n",
       "       '\\n        http://www.itvs.org/external/WGOOS/WGMAIN.html\\n        ',\n",
       "       '3 h 12 m', '39 m',\n",
       "       '\\n        http://www.samuelgoldwynfilms.com/cowboys/\\n        ',\n",
       "       '\\n        http://advancedstylefilm.com/\\n        ',\n",
       "       \"RADICAL WOLFE is the first feature film to explore Tom Wolfe's life and work, a man who pioneered disruptive journalism, challenged American obsessions and overused punctuation way before it was cool. Tom didn't just document America, he dipped his pen in acid and took readers on a vivid trip through the summer of love, landing on the moon and 1980s Wall Street money-grubbing.\",\n",
       "       '52 m', 'Inside the car is another world.',\n",
       "       \"Once you believe something is possible, it's done already.\",\n",
       "       '\\n        https://www.lionsgate.com/movies/the-cotton-club-encore\\n        ',\n",
       "       'TV-G', '\\n        http://www.gracelee.net/\\n        ',\n",
       "       '\\n        http://www.alma-films.com/\\n        ',\n",
       "       '\\n        https://www.kinolorber.com/film/chef-flynn\\n        ',\n",
       "       '21 m', 'A history of the Mariel Boatlift',\n",
       "       'The story of how truth became the first American casualty in Iraq.',\n",
       "       '51 m',\n",
       "       '\\n        https://www.factorytwentyfive.com/superior\\n        ',\n",
       "       '\\n        http://www.maureengosling.com/ramo/about/about.html\\n        ',\n",
       "       '4 h 30 m',\n",
       "       '\\n        http://www.pbs.org/pov/pov1998/sacrifice/index.html\\n        ',\n",
       "       '46 m',\n",
       "       '\\n        http://combatobscura.oscilloscope.net/\\n        ',\n",
       "       '\\n        http://kabakovfilm.com/\\n        ',\n",
       "       'Is the \" School of the Americas\" a force of democracy or a \"School of Assassins\"?',\n",
       "       '\\n        http://www.tamala2010.com/\\n        ',\n",
       "       '\\n        http://www.picturethisent.com/minisites/youilove/index.html\\n        ',\n",
       "       '\\n        http://www.delicacyfilm.com/\\n        ',\n",
       "       '\\n        http://www.filmmovement.com/libraries/index.asp?MerchandiseID=573\\n        ',\n",
       "       '\\n        https://www.foxmovies.com/movies/once-upon-a-deadpool\\n        ',\n",
       "       '45 m', '\\n        http://www.dogsweatthefilm.com/\\n        ',\n",
       "       '55 m', '48 m', '31 m',\n",
       "       '\\n        http://www.7thart.com/current/creature/creature.html\\n        ',\n",
       "       '3 h 39 m',\n",
       "       '\\n        https://www.amazon.com/Boys-Men-Phillip-Bartell/dp/B00005UF80\\n        ',\n",
       "       '\\n        http://www.7thstreetmovie.com/\\n        '], dtype=object)"
      ]
     },
     "execution_count": 21,
     "metadata": {},
     "output_type": "execute_result"
    }
   ],
   "source": [
    "df['Duration'].unique()"
   ]
  },
  {
   "cell_type": "code",
   "execution_count": null,
   "metadata": {},
   "outputs": [
    {
     "ename": "NameError",
     "evalue": "name 'df' is not defined",
     "output_type": "error",
     "traceback": [
      "\u001b[1;31m---------------------------------------------------------------------------\u001b[0m",
      "\u001b[1;31mNameError\u001b[0m                                 Traceback (most recent call last)",
      "Cell \u001b[1;32mIn[53], line 1\u001b[0m\n\u001b[1;32m----> 1\u001b[0m df[\u001b[39m'\u001b[39m\u001b[39mDuration\u001b[39m\u001b[39m'\u001b[39m]\u001b[39m.\u001b[39mreplace({\u001b[39m'\u001b[39m\u001b[39mFour artists impacted by blindness. Four different paths to the imagination.\u001b[39m\u001b[39m'\u001b[39m: \u001b[39m'\u001b[39m\u001b[39m3 h 30 m\u001b[39m\u001b[39m'\u001b[39m}, inplace \u001b[39m=\u001b[39m \u001b[39mTrue\u001b[39;00m)\n",
      "\u001b[1;31mNameError\u001b[0m: name 'df' is not defined"
     ]
    }
   ],
   "source": [
    "df['Duration'].replace({'Four artists impacted by blindness. Four different paths to the imagination.': '3 h 30 m'}, inplace = True)"
   ]
  },
  {
   "cell_type": "code",
   "execution_count": null,
   "metadata": {},
   "outputs": [
    {
     "ename": "NameError",
     "evalue": "name 'df' is not defined",
     "output_type": "error",
     "traceback": [
      "\u001b[1;31m---------------------------------------------------------------------------\u001b[0m",
      "\u001b[1;31mNameError\u001b[0m                                 Traceback (most recent call last)",
      "Cell \u001b[1;32mIn[54], line 1\u001b[0m\n\u001b[1;32m----> 1\u001b[0m df[\u001b[39m'\u001b[39m\u001b[39mDuration\u001b[39m\u001b[39m'\u001b[39m]\u001b[39m.\u001b[39munique()\n",
      "\u001b[1;31mNameError\u001b[0m: name 'df' is not defined"
     ]
    }
   ],
   "source": [
    "df['Duration'].unique()"
   ]
  },
  {
   "cell_type": "code",
   "execution_count": null,
   "metadata": {},
   "outputs": [
    {
     "ename": "NameError",
     "evalue": "name 'df' is not defined",
     "output_type": "error",
     "traceback": [
      "\u001b[1;31m---------------------------------------------------------------------------\u001b[0m",
      "\u001b[1;31mNameError\u001b[0m                                 Traceback (most recent call last)",
      "Cell \u001b[1;32mIn[55], line 1\u001b[0m\n\u001b[1;32m----> 1\u001b[0m df[\u001b[39m'\u001b[39m\u001b[39mDuration\u001b[39m\u001b[39m'\u001b[39m]\u001b[39m.\u001b[39mreplace({\u001b[39m'\u001b[39m\u001b[39mThe one team that had a pair\u001b[39m\u001b[39m'\u001b[39m: \u001b[39m'\u001b[39m\u001b[39m3 h 30 m\u001b[39m\u001b[39m'\u001b[39m}, inplace \u001b[39m=\u001b[39m \u001b[39mTrue\u001b[39;00m)\n",
      "\u001b[1;31mNameError\u001b[0m: name 'df' is not defined"
     ]
    }
   ],
   "source": [
    "\n",
    "df['Duration'].replace({'The one team that had a pair': '3 h 30 m'}, inplace = True)"
   ]
  },
  {
   "cell_type": "code",
   "execution_count": null,
   "metadata": {},
   "outputs": [
    {
     "ename": "NameError",
     "evalue": "name 'df' is not defined",
     "output_type": "error",
     "traceback": [
      "\u001b[1;31m---------------------------------------------------------------------------\u001b[0m",
      "\u001b[1;31mNameError\u001b[0m                                 Traceback (most recent call last)",
      "Cell \u001b[1;32mIn[56], line 1\u001b[0m\n\u001b[1;32m----> 1\u001b[0m df[\u001b[39m'\u001b[39m\u001b[39mDuration\u001b[39m\u001b[39m'\u001b[39m]\u001b[39m.\u001b[39munique()\n",
      "\u001b[1;31mNameError\u001b[0m: name 'df' is not defined"
     ]
    }
   ],
   "source": [
    "df['Duration'].unique()"
   ]
  },
  {
   "cell_type": "code",
   "execution_count": null,
   "metadata": {},
   "outputs": [
    {
     "ename": "NameError",
     "evalue": "name 'df' is not defined",
     "output_type": "error",
     "traceback": [
      "\u001b[1;31m---------------------------------------------------------------------------\u001b[0m",
      "\u001b[1;31mNameError\u001b[0m                                 Traceback (most recent call last)",
      "Cell \u001b[1;32mIn[57], line 1\u001b[0m\n\u001b[1;32m----> 1\u001b[0m df[\u001b[39m'\u001b[39m\u001b[39mDirected by\u001b[39m\u001b[39m'\u001b[39m]\u001b[39m.\u001b[39munique()\n",
      "\u001b[1;31mNameError\u001b[0m: name 'df' is not defined"
     ]
    }
   ],
   "source": [
    "df['Directed by'].unique()"
   ]
  },
  {
   "cell_type": "code",
   "execution_count": null,
   "metadata": {},
   "outputs": [],
   "source": [
    "df.drop('Unnamed: 0', axis = 1, inplace = True)"
   ]
  },
  {
   "cell_type": "code",
   "execution_count": null,
   "metadata": {},
   "outputs": [
    {
     "ename": "NameError",
     "evalue": "name 'df' is not defined",
     "output_type": "error",
     "traceback": [
      "\u001b[1;31m---------------------------------------------------------------------------\u001b[0m",
      "\u001b[1;31mNameError\u001b[0m                                 Traceback (most recent call last)",
      "Cell \u001b[1;32mIn[58], line 1\u001b[0m\n\u001b[1;32m----> 1\u001b[0m df\u001b[39m.\u001b[39mhead()\n",
      "\u001b[1;31mNameError\u001b[0m: name 'df' is not defined"
     ]
    }
   ],
   "source": [
    "df.head()"
   ]
  },
  {
   "cell_type": "code",
   "execution_count": null,
   "metadata": {},
   "outputs": [
    {
     "ename": "NameError",
     "evalue": "name 'df' is not defined",
     "output_type": "error",
     "traceback": [
      "\u001b[1;31m---------------------------------------------------------------------------\u001b[0m",
      "\u001b[1;31mNameError\u001b[0m                                 Traceback (most recent call last)",
      "Cell \u001b[1;32mIn[59], line 1\u001b[0m\n\u001b[1;32m----> 1\u001b[0m df\u001b[39m.\u001b[39minfo()\n",
      "\u001b[1;31mNameError\u001b[0m: name 'df' is not defined"
     ]
    }
   ],
   "source": [
    "df.info()"
   ]
  },
  {
   "cell_type": "code",
   "execution_count": null,
   "metadata": {},
   "outputs": [
    {
     "ename": "NameError",
     "evalue": "name 'df' is not defined",
     "output_type": "error",
     "traceback": [
      "\u001b[1;31m---------------------------------------------------------------------------\u001b[0m",
      "\u001b[1;31mNameError\u001b[0m                                 Traceback (most recent call last)",
      "Cell \u001b[1;32mIn[60], line 1\u001b[0m\n\u001b[1;32m----> 1\u001b[0m df[\u001b[39m'\u001b[39m\u001b[39mGenres\u001b[39m\u001b[39m'\u001b[39m]\u001b[39m.\u001b[39munique()\n",
      "\u001b[1;31mNameError\u001b[0m: name 'df' is not defined"
     ]
    }
   ],
   "source": [
    "df['Genres'].unique()"
   ]
  },
  {
   "cell_type": "code",
   "execution_count": null,
   "metadata": {},
   "outputs": [
    {
     "ename": "NameError",
     "evalue": "name 'df' is not defined",
     "output_type": "error",
     "traceback": [
      "\u001b[1;31m---------------------------------------------------------------------------\u001b[0m",
      "\u001b[1;31mNameError\u001b[0m                                 Traceback (most recent call last)",
      "Cell \u001b[1;32mIn[61], line 1\u001b[0m\n\u001b[1;32m----> 1\u001b[0m df[\u001b[39m'\u001b[39m\u001b[39mDuration\u001b[39m\u001b[39m'\u001b[39m]\u001b[39m.\u001b[39munique()\n",
      "\u001b[1;31mNameError\u001b[0m: name 'df' is not defined"
     ]
    }
   ],
   "source": [
    "df['Duration'].unique()"
   ]
  },
  {
   "cell_type": "code",
   "execution_count": null,
   "metadata": {},
   "outputs": [
    {
     "ename": "NameError",
     "evalue": "name 'df' is not defined",
     "output_type": "error",
     "traceback": [
      "\u001b[1;31m---------------------------------------------------------------------------\u001b[0m",
      "\u001b[1;31mNameError\u001b[0m                                 Traceback (most recent call last)",
      "Cell \u001b[1;32mIn[62], line 1\u001b[0m\n\u001b[1;32m----> 1\u001b[0m df[\u001b[39m'\u001b[39m\u001b[39mNo of Persons Voted\u001b[39m\u001b[39m'\u001b[39m]\u001b[39m.\u001b[39mdescribe()\n",
      "\u001b[1;31mNameError\u001b[0m: name 'df' is not defined"
     ]
    }
   ],
   "source": [
    "df['No of Persons Voted'].describe()"
   ]
  },
  {
   "cell_type": "code",
   "execution_count": null,
   "metadata": {},
   "outputs": [
    {
     "ename": "NameError",
     "evalue": "name 'df' is not defined",
     "output_type": "error",
     "traceback": [
      "\u001b[1;31m---------------------------------------------------------------------------\u001b[0m",
      "\u001b[1;31mNameError\u001b[0m                                 Traceback (most recent call last)",
      "Cell \u001b[1;32mIn[63], line 1\u001b[0m\n\u001b[1;32m----> 1\u001b[0m df[\u001b[39m'\u001b[39m\u001b[39mDuration\u001b[39m\u001b[39m'\u001b[39m]\u001b[39m.\u001b[39mdescribe()\n",
      "\u001b[1;31mNameError\u001b[0m: name 'df' is not defined"
     ]
    }
   ],
   "source": [
    "df['Duration'].describe()"
   ]
  },
  {
   "cell_type": "code",
   "execution_count": null,
   "metadata": {},
   "outputs": [
    {
     "ename": "NameError",
     "evalue": "name 'df' is not defined",
     "output_type": "error",
     "traceback": [
      "\u001b[1;31m---------------------------------------------------------------------------\u001b[0m",
      "\u001b[1;31mNameError\u001b[0m                                 Traceback (most recent call last)",
      "Cell \u001b[1;32mIn[64], line 1\u001b[0m\n\u001b[1;32m----> 1\u001b[0m df[\u001b[39m'\u001b[39m\u001b[39mDuration\u001b[39m\u001b[39m'\u001b[39m] \u001b[39m=\u001b[39m df[\u001b[39m'\u001b[39m\u001b[39mDuration\u001b[39m\u001b[39m'\u001b[39m]\u001b[39m.\u001b[39mstr\u001b[39m.\u001b[39mstrip(\u001b[39m'\u001b[39m\u001b[39mabc\u001b[39m\u001b[39m'\u001b[39m)\n",
      "\u001b[1;31mNameError\u001b[0m: name 'df' is not defined"
     ]
    }
   ],
   "source": [
    "df['Duration'] = df['Duration'].str.strip('abc')\n"
   ]
  },
  {
   "cell_type": "code",
   "execution_count": null,
   "metadata": {},
   "outputs": [
    {
     "ename": "NameError",
     "evalue": "name 'df' is not defined",
     "output_type": "error",
     "traceback": [
      "\u001b[1;31m---------------------------------------------------------------------------\u001b[0m",
      "\u001b[1;31mNameError\u001b[0m                                 Traceback (most recent call last)",
      "Cell \u001b[1;32mIn[65], line 1\u001b[0m\n\u001b[1;32m----> 1\u001b[0m df[\u001b[39m'\u001b[39m\u001b[39mDuration\u001b[39m\u001b[39m'\u001b[39m] \u001b[39m=\u001b[39m df[\u001b[39m'\u001b[39m\u001b[39mDuration\u001b[39m\u001b[39m'\u001b[39m]\u001b[39m.\u001b[39mstr\u001b[39m.\u001b[39mreplace(\u001b[39m'\u001b[39m\u001b[39mh m\u001b[39m\u001b[39m'\u001b[39m, \u001b[39m\"\u001b[39m\u001b[39m\"\u001b[39m)\n",
      "\u001b[1;31mNameError\u001b[0m: name 'df' is not defined"
     ]
    }
   ],
   "source": [
    "df['Duration'] = df['Duration'].str.replace('h m', \"\")"
   ]
  },
  {
   "cell_type": "code",
   "execution_count": null,
   "metadata": {},
   "outputs": [
    {
     "ename": "NameError",
     "evalue": "name 'df' is not defined",
     "output_type": "error",
     "traceback": [
      "\u001b[1;31m---------------------------------------------------------------------------\u001b[0m",
      "\u001b[1;31mNameError\u001b[0m                                 Traceback (most recent call last)",
      "Cell \u001b[1;32mIn[66], line 1\u001b[0m\n\u001b[1;32m----> 1\u001b[0m df[\u001b[39m'\u001b[39m\u001b[39mDuration\u001b[39m\u001b[39m'\u001b[39m]\u001b[39m.\u001b[39munique()\n",
      "\u001b[1;31mNameError\u001b[0m: name 'df' is not defined"
     ]
    }
   ],
   "source": [
    "df['Duration'].unique()"
   ]
  },
  {
   "cell_type": "code",
   "execution_count": null,
   "metadata": {},
   "outputs": [],
   "source": [
    "df['Duration'].rename({' h ': ':'}, inplace = True)"
   ]
  },
  {
   "cell_type": "code",
   "execution_count": null,
   "metadata": {},
   "outputs": [
    {
     "data": {
      "text/plain": [
       "array(['9 h 32', '1 h 39', '1 h 47', '2 h 16', '3 h 7', '2 h 55',\n",
       "       '2 h 45', '3 h 36', '3 h 8', '2 h 35', '2 h 25', '1 h 31',\n",
       "       '1 h 34', '1 h 58', '2 h 50', '2 h 33', '1 h 43', '2 h 42',\n",
       "       '1 h 41', '2 h 2', '1 h 53', '2 h 12', '1 h 50', '2 h 15', '2 h 5',\n",
       "       '1 h 21', '1 h 57', '2 h 14', '2 h 17', '2 h 1', '1 h 10',\n",
       "       '2 h 40', '1 h 51', '3 h 10', '1 h 52', '1 h 33', '1 h 8', '2',\n",
       "       '2 h 43', '1 h 38', '2 h 7', '2 h 11', '2 h 34', '2 h 37',\n",
       "       '1 h 49', '2 h 3', '3 h 15', '1 h 46', '1 h 35', '1 h 54',\n",
       "       '2 h 58', '2 h 53', '2 h 30', '3 h 29', '1 h 29', '1 h 23',\n",
       "       '1 h 28', '2 h 6', '1 h 30', '3 h 21', '2 h 13', '2 h 9', '5 h 25',\n",
       "       '1 h 44', '2 h 8', '3 h 22', '1 h 12', '1 h 45', '4 h 33',\n",
       "       '1 h 42', '2 h 48', '1 h 36', '2 h 38', '1 h 22', '1 h 40',\n",
       "       '1 h 59', '2 h 47', '1 h 48', '2 h 10', '3 h 2', '1 h 37',\n",
       "       '1 h 56', '1 h 55', '1 h 27', '4', '2 h 20', '2 h 26', '2 h 28',\n",
       "       '2 h 59', '2 h 4', '2 h 52', '2 h 18', '2 h 21', '1 h 18',\n",
       "       '3 h 17', '3 h 13', '1 h 20', '2 h 49', '1 h 32', '3 h 20',\n",
       "       '4 h 6', '1 h 15', '2 h 27', '3', '1 h 25', '2 h 19', '3 h 26',\n",
       "       '5 h 21', '4 h 15', '1 h 24', '3 h 4', '3 h 37', '8 h 15', '1 h 9',\n",
       "       '4 h 32', '1 h 16', '3 h 16', '1 h 5', '2 h 22', '30', '12 h 9',\n",
       "       '1 h 26', '1 h 3', '3 h 50', '1 h 17', '2 h 24', '3 h 9', '2 h 31',\n",
       "       '1 h 19', '37', '2 h 29', '2 h 32',\n",
       "       '\\n        http://www.afterthestormfoundation.org/\\n', '2 h 51',\n",
       "       '3 h 44', '2 h 23', '\\n        http://timemachinefilm.com/\\n',\n",
       "       '1 h 13', '1 h 11', '3 h 51', '53', '3 h 46', '2 h 39', '2 h 36',\n",
       "       '1', '3 h 6', '4 h 4', '2 h 44', '1 h 14', 'TV-14', '4 h 10',\n",
       "       '\\n        http://www.unrest.film/\\n', 'PG-13', '2 h 54',\n",
       "       '\\n        https://www.kinolorber.com/film/theforce\\n', '3 h 40',\n",
       "       '2 h 41', '41', '3 h 11',\n",
       "       '\\n        http://collidingdreamsthemovie.com/\\n', '40', '59',\n",
       "       '3 h 58',\n",
       "       '\\n        https://strandreleasing.com/films/the-shadowless-tower/\\n',\n",
       "       '3 h 1', '3 h 57', 'PG', '44', '4 h 55', '1 h 6',\n",
       "       'What Will You Find if You Pin All Your Hopes Online?', '13 h 28',\n",
       "       '54', 'R', '3 h 3', '3 h 25',\n",
       "       '\\n        http://www.thegodfather.com/\\n', '3 h 59', '3 h 49',\n",
       "       '1 h 1', '3 h 30', '3 h 14', '3 h 38', '3 h 35', '58', '56',\n",
       "       '4 h 20', '1 h 7', '2 h 56', '47', '3 h 18', '5 h 17', '2 h 46',\n",
       "       '2 h 57', '3 h 12', '39', '52', '21', '51', '4 h 30', '46', '45',\n",
       "       '55', '48', '31', '3 h 39'], dtype=object)"
      ]
     },
     "execution_count": 323,
     "metadata": {},
     "output_type": "execute_result"
    }
   ],
   "source": [
    "df['Duration'].unique()"
   ]
  },
  {
   "cell_type": "code",
   "execution_count": null,
   "metadata": {},
   "outputs": [],
   "source": [
    "df['Duration'] = df['Duration'].str.replace(' h ', ':')"
   ]
  },
  {
   "cell_type": "code",
   "execution_count": null,
   "metadata": {},
   "outputs": [
    {
     "data": {
      "text/plain": [
       "array(['9  32', '1  39', '1  47', '2  16', '3  7', '2  55', '2  45',\n",
       "       '3  36', '3  8', '2  35', '2  25', '1  31', '1  34', '1  58',\n",
       "       '2  50', '2  33', '1  43', '2  42', '1  41', '2  2', '1  53',\n",
       "       '2  12', '1  50', '2  15', '2  5', '1  21', '1  57', '2  14',\n",
       "       '2  17', '2  1', '1  10', '2  40', '1  51', '3  10', '1  52',\n",
       "       '1  33', '1  8', '2', '2  43', '1  38', '2  7', '2  11', '2  34',\n",
       "       '2  37', '1  49', '2  3', '3  15', '1  46', '1  35', '1  54',\n",
       "       '2  58', '2  53', '2  30', '3  29', '1  29', '1  23', '1  28',\n",
       "       '2  6', '1  30', '3  21', '2  13', '2  9', '5  25', '1  44',\n",
       "       '2  8', '3  22', '1  12', '1  45', '4  33', '1  42', '2  48',\n",
       "       '1  36', '2  38', '1  22', '1  40', '1  59', '2  47', '1  48',\n",
       "       '2  10', '3  2', '1  37', '1  56', '1  55', '1  27', '4', '2  20',\n",
       "       '2  26', '2  28', '2  59', '2  4', '2  52', '2  18', '2  21',\n",
       "       '1  18', '3  17', '3  13', '1  20', '2  49', '1  32', '3  20',\n",
       "       '4  6', '1  15', '2  27', '3', '1  25', '2  19', '3  26', '5  21',\n",
       "       '4  15', '1  24', '3  4', '3  37', '8  15', '1  9', '4  32',\n",
       "       '1  16', '3  16', '1  5', '2  22', '30', '12  9', '1  26', '1  3',\n",
       "       '3  50', '1  17', '2  24', '3  9', '2  31', '1  19', '37', '2  29',\n",
       "       '2  32', '\\n        ttp://www.aftertestormfoundation.org/\\n',\n",
       "       '2  51', '3  44', '2  23', '\\n        ttp://timemacinefilm.com/\\n',\n",
       "       '1  13', '1  11', '3  51', '53', '3  46', '2  39', '2  36', '1',\n",
       "       '3  6', '4  4', '2  44', '1  14', 'TV-14', '4  10',\n",
       "       '\\n        ttp://www.unrest.film/\\n', 'PG-13', '2  54',\n",
       "       '\\n        ttps://www.kinolorber.com/film/teforce\\n', '3  40',\n",
       "       '2  41', '41', '3  11',\n",
       "       '\\n        ttp://collidingdreamstemovie.com/\\n', '40', '59',\n",
       "       '3  58',\n",
       "       '\\n        ttps://strandreleasing.com/films/te-sadowless-tower/\\n',\n",
       "       '3  1', '3  57', 'PG', '44', '4  55', '1  6',\n",
       "       'Wat Will You Find if You Pin All Your Hopes Online?', '13  28',\n",
       "       '54', 'R', '3  3', '3  25',\n",
       "       '\\n        ttp://www.tegodfater.com/\\n', '3  59', '3  49', '1  1',\n",
       "       '3  30', '3  14', '3  38', '3  35', '58', '56', '4  20', '1  7',\n",
       "       '2  56', '47', '3  18', '5  17', '2  46', '2  57', '3  12', '39',\n",
       "       '52', '21', '51', '4  30', '46', '45', '55', '48', '31', '3  39'],\n",
       "      dtype=object)"
      ]
     },
     "execution_count": 326,
     "metadata": {},
     "output_type": "execute_result"
    }
   ],
   "source": [
    "df['Duration'].unique()"
   ]
  },
  {
   "cell_type": "code",
   "execution_count": null,
   "metadata": {},
   "outputs": [],
   "source": [
    "df['Duration'] = df['Duration'].str.replace('  ', ':')"
   ]
  },
  {
   "cell_type": "code",
   "execution_count": null,
   "metadata": {},
   "outputs": [
    {
     "data": {
      "text/plain": [
       "array(['9:32', '1:39', '1:47', '2:16', '3:7', '2:55', '2:45', '3:36',\n",
       "       '3:8', '2:35', '2:25', '1:31', '1:34', '1:58', '2:50', '2:33',\n",
       "       '1:43', '2:42', '1:41', '2:2', '1:53', '2:12', '1:50', '2:15',\n",
       "       '2:5', '1:21', '1:57', '2:14', '2:17', '2:1', '1:10', '2:40',\n",
       "       '1:51', '3:10', '1:52', '1:33', '1:8', '2', '2:43', '1:38', '2:7',\n",
       "       '2:11', '2:34', '2:37', '1:49', '2:3', '3:15', '1:46', '1:35',\n",
       "       '1:54', '2:58', '2:53', '2:30', '3:29', '1:29', '1:23', '1:28',\n",
       "       '2:6', '1:30', '3:21', '2:13', '2:9', '5:25', '1:44', '2:8',\n",
       "       '3:22', '1:12', '1:45', '4:33', '1:42', '2:48', '1:36', '2:38',\n",
       "       '1:22', '1:40', '1:59', '2:47', '1:48', '2:10', '3:2', '1:37',\n",
       "       '1:56', '1:55', '1:27', '4', '2:20', '2:26', '2:28', '2:59', '2:4',\n",
       "       '2:52', '2:18', '2:21', '1:18', '3:17', '3:13', '1:20', '2:49',\n",
       "       '1:32', '3:20', '4:6', '1:15', '2:27', '3', '1:25', '2:19', '3:26',\n",
       "       '5:21', '4:15', '1:24', '3:4', '3:37', '8:15', '1:9', '4:32',\n",
       "       '1:16', '3:16', '1:5', '2:22', '30', '12:9', '1:26', '1:3', '3:50',\n",
       "       '1:17', '2:24', '3:9', '2:31', '1:19', '37', '2:29', '2:32',\n",
       "       '\\n::::ttp://www.aftertestormfoundation.org/\\n', '2:51', '3:44',\n",
       "       '2:23', '\\n::::ttp://timemacinefilm.com/\\n', '1:13', '1:11',\n",
       "       '3:51', '53', '3:46', '2:39', '2:36', '1', '3:6', '4:4', '2:44',\n",
       "       '1:14', 'TV-14', '4:10', '\\n::::ttp://www.unrest.film/\\n', 'PG-13',\n",
       "       '2:54', '\\n::::ttps://www.kinolorber.com/film/teforce\\n', '3:40',\n",
       "       '2:41', '41', '3:11', '\\n::::ttp://collidingdreamstemovie.com/\\n',\n",
       "       '40', '59', '3:58',\n",
       "       '\\n::::ttps://strandreleasing.com/films/te-sadowless-tower/\\n',\n",
       "       '3:1', '3:57', 'PG', '44', '4:55', '1:6',\n",
       "       'Wat Will You Find if You Pin All Your Hopes Online?', '13:28',\n",
       "       '54', 'R', '3:3', '3:25', '\\n::::ttp://www.tegodfater.com/\\n',\n",
       "       '3:59', '3:49', '1:1', '3:30', '3:14', '3:38', '3:35', '58', '56',\n",
       "       '4:20', '1:7', '2:56', '47', '3:18', '5:17', '2:46', '2:57',\n",
       "       '3:12', '39', '52', '21', '51', '4:30', '46', '45', '55', '48',\n",
       "       '31', '3:39'], dtype=object)"
      ]
     },
     "execution_count": 328,
     "metadata": {},
     "output_type": "execute_result"
    }
   ],
   "source": [
    "df['Duration'].unique()"
   ]
  },
  {
   "cell_type": "code",
   "execution_count": null,
   "metadata": {},
   "outputs": [],
   "source": []
  }
 ],
 "metadata": {
  "kernelspec": {
   "display_name": "Python 3",
   "language": "python",
   "name": "python3"
  },
  "language_info": {
   "codemirror_mode": {
    "name": "ipython",
    "version": 3
   },
   "file_extension": ".py",
   "mimetype": "text/x-python",
   "name": "python",
   "nbconvert_exporter": "python",
   "pygments_lexer": "ipython3",
   "version": "3.11.3"
  },
  "orig_nbformat": 4
 },
 "nbformat": 4,
 "nbformat_minor": 2
}
