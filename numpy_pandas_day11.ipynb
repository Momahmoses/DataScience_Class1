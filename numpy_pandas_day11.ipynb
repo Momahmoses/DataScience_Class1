{
 "cells": [
  {
   "cell_type": "markdown",
   "id": "d50b3545-5538-48b9-9aff-28710c2d68c5",
   "metadata": {},
   "source": [
    "# COURSE OUTLINE"
   ]
  },
  {
   "cell_type": "markdown",
   "id": "b280c387-a130-48c5-9911-0f8827a3f5fb",
   "metadata": {},
   "source": [
    "# GET INFORMATION ABOUT THE BUSINESS OR THE ORGANIZATION\n",
    "# KNOW THE PROBLEM AT HAND\n",
    "# GETTING THE RIGHT DATA\n",
    "# EDA EXPLORATORY DATA ANALYSIS\n",
    "    # DATA CLEANING\n",
    "    # DATA TRANSFORMATION\n",
    "    # DESCRIPTIVE DATA ANALYSIS USING (PYTHON, POWERBI, TABLEAU)\n",
    "    # DATA VISUALIZATION (PYTHON, POWERBI, TABLEAU)\n",
    "    # MACHINE LEANRING (PYTHON) (LINEAR REGRESSION, BINARY CLASSIFICATION, MULTCLASSIFICATION, CLUSTERING, TEXT OR SENTIMENT ANALYSIS)\n",
    "    # PREPROCESSING\n",
    "    # MODEL BUILDING\n",
    "    # EVALUATION (VERIFICATION)\n",
    "    # MODEL DEPLOYMENT\n",
    "# DEEP LEARNING"
   ]
  },
  {
   "cell_type": "code",
   "execution_count": 2,
   "id": "d84fd4ac-286d-4f4b-9cf0-f1d6f0faae8b",
   "metadata": {},
   "outputs": [
    {
     "data": {
      "text/plain": [
       "array([78, 88, 56, 87, 43])"
      ]
     },
     "execution_count": 2,
     "metadata": {},
     "output_type": "execute_result"
    }
   ],
   "source": [
    "# NUMPY : NUMERICAL PYTHON\n",
    "import numpy as np\n",
    "arr1 = np.array([78,88,56,87,43])\n",
    "arr1"
   ]
  },
  {
   "cell_type": "code",
   "execution_count": 3,
   "id": "3d684f9a-6394-4f7a-a272-7562abcec970",
   "metadata": {},
   "outputs": [
    {
     "data": {
      "text/plain": [
       "1"
      ]
     },
     "execution_count": 3,
     "metadata": {},
     "output_type": "execute_result"
    }
   ],
   "source": [
    "arr1.ndim # checking the numbers of array dimension"
   ]
  },
  {
   "cell_type": "code",
   "execution_count": 4,
   "id": "9565668c-4cbd-46fd-8038-900c5ddf119c",
   "metadata": {},
   "outputs": [
    {
     "data": {
      "text/plain": [
       "(5,)"
      ]
     },
     "execution_count": 4,
     "metadata": {},
     "output_type": "execute_result"
    }
   ],
   "source": [
    "arr1.shape # checking the shape of the array. it could be two dimensional as a matrix or one dimensional"
   ]
  },
  {
   "cell_type": "code",
   "execution_count": 5,
   "id": "1f0fb195-812e-4bf6-86d4-19cc946d0aea",
   "metadata": {},
   "outputs": [
    {
     "data": {
      "text/plain": [
       "dtype('int32')"
      ]
     },
     "execution_count": 5,
     "metadata": {},
     "output_type": "execute_result"
    }
   ],
   "source": [
    "arr1.dtype # checking the data type of the array"
   ]
  },
  {
   "cell_type": "code",
   "execution_count": 6,
   "id": "6d39a32b-520a-4756-9a65-fb960d368d1c",
   "metadata": {},
   "outputs": [
    {
     "data": {
      "text/plain": [
       "array([[34, 56, 23, 66, 76],\n",
       "       [65, 77, 65, 34, 21]])"
      ]
     },
     "execution_count": 6,
     "metadata": {},
     "output_type": "execute_result"
    }
   ],
   "source": [
    "arr2 = np.array([[34,56,23,66,76], [65,77,65,34,21]])\n",
    "arr2"
   ]
  },
  {
   "cell_type": "code",
   "execution_count": 7,
   "id": "2336d470-0555-473b-874e-2e3c9b54c94e",
   "metadata": {},
   "outputs": [
    {
     "data": {
      "text/plain": [
       "2"
      ]
     },
     "execution_count": 7,
     "metadata": {},
     "output_type": "execute_result"
    }
   ],
   "source": [
    "arr2.ndim # this tells us that the array is two dimensional"
   ]
  },
  {
   "cell_type": "code",
   "execution_count": 8,
   "id": "b8dd6259-478d-4f02-9f47-02ac370cdb66",
   "metadata": {},
   "outputs": [
    {
     "data": {
      "text/plain": [
       "dtype('int32')"
      ]
     },
     "execution_count": 8,
     "metadata": {},
     "output_type": "execute_result"
    }
   ],
   "source": [
    "arr2.dtype"
   ]
  },
  {
   "cell_type": "code",
   "execution_count": 9,
   "id": "297de2c2-e115-4265-99d5-27bfe7050544",
   "metadata": {},
   "outputs": [
    {
     "data": {
      "text/plain": [
       "(2, 5)"
      ]
     },
     "execution_count": 9,
     "metadata": {},
     "output_type": "execute_result"
    }
   ],
   "source": [
    "arr2.shape"
   ]
  },
  {
   "cell_type": "code",
   "execution_count": 10,
   "id": "52b4e3af-5c5c-4f7f-937e-6e1d445e802b",
   "metadata": {},
   "outputs": [
    {
     "data": {
      "text/plain": [
       "array([0., 0., 0., 0., 0., 0., 0., 0., 0., 0., 0., 0., 0., 0., 0., 0., 0.,\n",
       "       0., 0., 0.])"
      ]
     },
     "execution_count": 10,
     "metadata": {},
     "output_type": "execute_result"
    }
   ],
   "source": [
    "# creating an array where all values are zero\n",
    "np.zeros(20)"
   ]
  },
  {
   "cell_type": "code",
   "execution_count": 11,
   "id": "f28ce22d-dc31-4828-942d-48ef336225c6",
   "metadata": {},
   "outputs": [
    {
     "data": {
      "text/plain": [
       "array([[0., 0., 0., 0., 0.],\n",
       "       [0., 0., 0., 0., 0.],\n",
       "       [0., 0., 0., 0., 0.],\n",
       "       [0., 0., 0., 0., 0.]])"
      ]
     },
     "execution_count": 11,
     "metadata": {},
     "output_type": "execute_result"
    }
   ],
   "source": [
    "np.zeros((4,5))"
   ]
  },
  {
   "cell_type": "code",
   "execution_count": 12,
   "id": "d7cb1327-261c-44f6-bb6f-970d2601e5ba",
   "metadata": {},
   "outputs": [
    {
     "data": {
      "text/plain": [
       "array([1., 1., 1., 1., 1., 1., 1., 1., 1., 1., 1., 1., 1., 1., 1., 1., 1.,\n",
       "       1., 1., 1., 1., 1., 1., 1., 1., 1., 1., 1., 1., 1., 1., 1., 1., 1.,\n",
       "       1., 1., 1., 1., 1., 1., 1., 1., 1., 1., 1., 1., 1., 1., 1., 1., 1.,\n",
       "       1., 1., 1., 1., 1., 1., 1., 1., 1., 1., 1., 1., 1., 1., 1., 1., 1.,\n",
       "       1., 1., 1., 1., 1., 1., 1., 1., 1., 1., 1., 1.])"
      ]
     },
     "execution_count": 12,
     "metadata": {},
     "output_type": "execute_result"
    }
   ],
   "source": [
    "# creating an array where all values are one\n",
    "np.ones(80)"
   ]
  },
  {
   "cell_type": "code",
   "execution_count": 13,
   "id": "84f5c2b4-9427-4823-ba7d-8a3804f1c008",
   "metadata": {},
   "outputs": [
    {
     "data": {
      "text/plain": [
       "array([[1., 1., 1., 1., 1., 1.],\n",
       "       [1., 1., 1., 1., 1., 1.],\n",
       "       [1., 1., 1., 1., 1., 1.],\n",
       "       [1., 1., 1., 1., 1., 1.],\n",
       "       [1., 1., 1., 1., 1., 1.],\n",
       "       [1., 1., 1., 1., 1., 1.]])"
      ]
     },
     "execution_count": 13,
     "metadata": {},
     "output_type": "execute_result"
    }
   ],
   "source": [
    "np.ones((6,6))"
   ]
  },
  {
   "cell_type": "code",
   "execution_count": 14,
   "id": "64024b26-86f8-47b4-b82e-d230c965ddcc",
   "metadata": {},
   "outputs": [
    {
     "data": {
      "text/plain": [
       "array([[15., 15., 15., 15., 15., 15.],\n",
       "       [15., 15., 15., 15., 15., 15.],\n",
       "       [15., 15., 15., 15., 15., 15.],\n",
       "       [15., 15., 15., 15., 15., 15.],\n",
       "       [15., 15., 15., 15., 15., 15.],\n",
       "       [15., 15., 15., 15., 15., 15.]])"
      ]
     },
     "execution_count": 14,
     "metadata": {},
     "output_type": "execute_result"
    }
   ],
   "source": [
    "np.ones((6,6)) * 15"
   ]
  },
  {
   "cell_type": "code",
   "execution_count": 15,
   "id": "658e5b35-c67f-45b0-9dec-c88782d1ca5e",
   "metadata": {},
   "outputs": [
    {
     "data": {
      "text/plain": [
       "array([30.        , 31.2244898 , 32.44897959, 33.67346939, 34.89795918,\n",
       "       36.12244898, 37.34693878, 38.57142857, 39.79591837, 41.02040816,\n",
       "       42.24489796, 43.46938776, 44.69387755, 45.91836735, 47.14285714,\n",
       "       48.36734694, 49.59183673, 50.81632653, 52.04081633, 53.26530612,\n",
       "       54.48979592, 55.71428571, 56.93877551, 58.16326531, 59.3877551 ,\n",
       "       60.6122449 , 61.83673469, 63.06122449, 64.28571429, 65.51020408,\n",
       "       66.73469388, 67.95918367, 69.18367347, 70.40816327, 71.63265306,\n",
       "       72.85714286, 74.08163265, 75.30612245, 76.53061224, 77.75510204,\n",
       "       78.97959184, 80.20408163, 81.42857143, 82.65306122, 83.87755102,\n",
       "       85.10204082, 86.32653061, 87.55102041, 88.7755102 , 90.        ])"
      ]
     },
     "execution_count": 15,
     "metadata": {},
     "output_type": "execute_result"
    }
   ],
   "source": [
    "# LIN SPACE: lin space generates arrays that are evenly spaced over an interval. over a specified interval. the interval must be set\n",
    "np.linspace(30,90)"
   ]
  },
  {
   "cell_type": "code",
   "execution_count": 17,
   "id": "5a377332-e5db-448f-a2f7-adcfa511ba84",
   "metadata": {},
   "outputs": [
    {
     "data": {
      "text/plain": [
       "array([[1., 0., 0., 0., 0., 0., 0., 0., 0.],\n",
       "       [0., 1., 0., 0., 0., 0., 0., 0., 0.],\n",
       "       [0., 0., 1., 0., 0., 0., 0., 0., 0.],\n",
       "       [0., 0., 0., 1., 0., 0., 0., 0., 0.],\n",
       "       [0., 0., 0., 0., 1., 0., 0., 0., 0.],\n",
       "       [0., 0., 0., 0., 0., 1., 0., 0., 0.],\n",
       "       [0., 0., 0., 0., 0., 0., 1., 0., 0.],\n",
       "       [0., 0., 0., 0., 0., 0., 0., 1., 0.],\n",
       "       [0., 0., 0., 0., 0., 0., 0., 0., 1.]])"
      ]
     },
     "execution_count": 17,
     "metadata": {},
     "output_type": "execute_result"
    }
   ],
   "source": [
    "np.eye(9) # the eye will create a 2D array having zero elsewhere and one on the diagonal"
   ]
  },
  {
   "cell_type": "markdown",
   "id": "6347b308-cca0-467b-897c-317fca4e7c46",
   "metadata": {},
   "source": [
    "# ARRAY RANGE (ARANGE)"
   ]
  },
  {
   "cell_type": "code",
   "execution_count": 21,
   "id": "f4a2553d-0a54-4958-a12b-64694c061b0d",
   "metadata": {},
   "outputs": [
    {
     "data": {
      "text/plain": [
       "array([  1,   2,   3,   4,   5,   6,   7,   8,   9,  10,  11,  12,  13,\n",
       "        14,  15,  16,  17,  18,  19,  20,  21,  22,  23,  24,  25,  26,\n",
       "        27,  28,  29,  30,  31,  32,  33,  34,  35,  36,  37,  38,  39,\n",
       "        40,  41,  42,  43,  44,  45,  46,  47,  48,  49,  50,  51,  52,\n",
       "        53,  54,  55,  56,  57,  58,  59,  60,  61,  62,  63,  64,  65,\n",
       "        66,  67,  68,  69,  70,  71,  72,  73,  74,  75,  76,  77,  78,\n",
       "        79,  80,  81,  82,  83,  84,  85,  86,  87,  88,  89,  90,  91,\n",
       "        92,  93,  94,  95,  96,  97,  98,  99, 100])"
      ]
     },
     "execution_count": 21,
     "metadata": {},
     "output_type": "execute_result"
    }
   ],
   "source": [
    "arr4 = np.arange(1,101) # arrange numbers in a array\n",
    "arr4"
   ]
  },
  {
   "cell_type": "code",
   "execution_count": 25,
   "id": "850214cd-93bf-4469-a20d-fbaf4e861a20",
   "metadata": {},
   "outputs": [
    {
     "data": {
      "text/plain": [
       "array([ 1. ,  3.5,  6. ,  8.5, 11. , 13.5, 16. , 18.5, 21. , 23.5, 26. ,\n",
       "       28.5, 31. , 33.5, 36. , 38.5, 41. , 43.5, 46. , 48.5, 51. , 53.5,\n",
       "       56. , 58.5, 61. , 63.5, 66. , 68.5, 71. , 73.5, 76. , 78.5, 81. ,\n",
       "       83.5, 86. , 88.5, 91. , 93.5, 96. , 98.5])"
      ]
     },
     "execution_count": 25,
     "metadata": {},
     "output_type": "execute_result"
    }
   ],
   "source": [
    "arr51 = np.arange(1,101,2.5) # arranges the array according to a specified interval\n",
    "arr5"
   ]
  },
  {
   "cell_type": "code",
   "execution_count": 31,
   "id": "48d6860c-c01b-452b-a88c-743969706823",
   "metadata": {},
   "outputs": [
    {
     "data": {
      "text/plain": [
       "array([ 69,  60,  61,  51,  37,  94,  71,  32,  92,  57,  94,  32,  80,\n",
       "        28,  89,  60,  65,  46,  22,  70,  62,  90,  33,  55,  35,  49,\n",
       "        95,  44,  53, 104,  29,  88,  23,  49,  59,  93,  26,  73,  62,\n",
       "        91,  70,  60,  86,  16,  96,  48,  31,  72,  78,  85,  41,  88,\n",
       "        43,  46,  44,  32,  59,  45,  60,  91,  76,  94,  48,  84,  46,\n",
       "        95,  99,  58,  37,  18,  81,  76,  47,  89,  97,  94,  90,  21,\n",
       "        94,  77,  51,  35,  70,  51,  67,  51,  40,  90,  25,  83,  44,\n",
       "        77,  52,  72, 101,  74,  58,  28,  16,  15])"
      ]
     },
     "execution_count": 31,
     "metadata": {},
     "output_type": "execute_result"
    }
   ],
   "source": [
    "arr5 = np.random.randint(15,105,100)\n",
    "arr5"
   ]
  },
  {
   "cell_type": "code",
   "execution_count": 32,
   "id": "fd34f539-d295-4912-8a50-d992ec3b4100",
   "metadata": {},
   "outputs": [
    {
     "data": {
      "text/plain": [
       "array([ 93,  76,  31,  88,  23,  77,  42,  45,  95,  22,  91,  30,  68,\n",
       "        95,  42,  59,  92,  90,  80,  62,  45,  99, 101,  33,  24,  56,\n",
       "        77,  16,  97,  31,  93,  20,  73,  15,  95,  19,  51,  66,  42,\n",
       "        46,  17,  83,  53,  98,  34,  33,  22,  45,  77,  26,  82,  80,\n",
       "        70,  18,  93,  42,  44,  48, 104, 100,  22,  31,  29,  46,  24,\n",
       "        53,  62,  31,  20,  49,  60,  74,  39,  28,  46,  47,  91,  59,\n",
       "        20,  29,  62,  97,  15,  22, 101,  31,  79,  23,  59,  52,  90,\n",
       "        20,  37,  67,  84,  97,  75,  44, 103,  94])"
      ]
     },
     "execution_count": 32,
     "metadata": {},
     "output_type": "execute_result"
    }
   ],
   "source": [
    "np.random.seed(5) # this is done to have a unique set of random arrays\n",
    "arr5 = np.random.randint(15,105,100)\n",
    "arr5"
   ]
  },
  {
   "cell_type": "markdown",
   "id": "c9c2cf39-ae85-4c8b-803a-8adb0e228bd0",
   "metadata": {},
   "source": [
    "# conversion of 1D array to 2D array"
   ]
  },
  {
   "cell_type": "code",
   "execution_count": 33,
   "id": "b3008c37-f07e-49bd-bea4-5b05c30060ff",
   "metadata": {},
   "outputs": [],
   "source": [
    "arr6 = arr5.reshape((10,10))"
   ]
  },
  {
   "cell_type": "code",
   "execution_count": 34,
   "id": "bd7dc9d3-6590-4a99-93d7-315880557689",
   "metadata": {},
   "outputs": [
    {
     "data": {
      "text/plain": [
       "array([[ 93,  76,  31,  88,  23,  77,  42,  45,  95,  22],\n",
       "       [ 91,  30,  68,  95,  42,  59,  92,  90,  80,  62],\n",
       "       [ 45,  99, 101,  33,  24,  56,  77,  16,  97,  31],\n",
       "       [ 93,  20,  73,  15,  95,  19,  51,  66,  42,  46],\n",
       "       [ 17,  83,  53,  98,  34,  33,  22,  45,  77,  26],\n",
       "       [ 82,  80,  70,  18,  93,  42,  44,  48, 104, 100],\n",
       "       [ 22,  31,  29,  46,  24,  53,  62,  31,  20,  49],\n",
       "       [ 60,  74,  39,  28,  46,  47,  91,  59,  20,  29],\n",
       "       [ 62,  97,  15,  22, 101,  31,  79,  23,  59,  52],\n",
       "       [ 90,  20,  37,  67,  84,  97,  75,  44, 103,  94]])"
      ]
     },
     "execution_count": 34,
     "metadata": {},
     "output_type": "execute_result"
    }
   ],
   "source": [
    "arr6"
   ]
  },
  {
   "cell_type": "code",
   "execution_count": 35,
   "id": "0ea75457-ef25-4f1c-a482-b56c13ce8065",
   "metadata": {},
   "outputs": [],
   "source": [
    "arr5 = arr6.reshape(100)"
   ]
  },
  {
   "cell_type": "code",
   "execution_count": 36,
   "id": "c782034f-6680-4b84-ab83-f03b33fa3722",
   "metadata": {},
   "outputs": [
    {
     "data": {
      "text/plain": [
       "array([ 93,  76,  31,  88,  23,  77,  42,  45,  95,  22,  91,  30,  68,\n",
       "        95,  42,  59,  92,  90,  80,  62,  45,  99, 101,  33,  24,  56,\n",
       "        77,  16,  97,  31,  93,  20,  73,  15,  95,  19,  51,  66,  42,\n",
       "        46,  17,  83,  53,  98,  34,  33,  22,  45,  77,  26,  82,  80,\n",
       "        70,  18,  93,  42,  44,  48, 104, 100,  22,  31,  29,  46,  24,\n",
       "        53,  62,  31,  20,  49,  60,  74,  39,  28,  46,  47,  91,  59,\n",
       "        20,  29,  62,  97,  15,  22, 101,  31,  79,  23,  59,  52,  90,\n",
       "        20,  37,  67,  84,  97,  75,  44, 103,  94])"
      ]
     },
     "execution_count": 36,
     "metadata": {},
     "output_type": "execute_result"
    }
   ],
   "source": [
    "arr5"
   ]
  },
  {
   "cell_type": "code",
   "execution_count": 37,
   "id": "89cfeb89-d0e6-4e59-a7dc-1102ef2edf6a",
   "metadata": {},
   "outputs": [
    {
     "data": {
      "text/plain": [
       "33"
      ]
     },
     "execution_count": 37,
     "metadata": {},
     "output_type": "execute_result"
    }
   ],
   "source": [
    "# calling a number from a 2D array\n",
    "arr6[4,5]"
   ]
  },
  {
   "cell_type": "code",
   "execution_count": 38,
   "id": "ce602b37-60c6-4fe7-839b-f2a3928720ee",
   "metadata": {},
   "outputs": [
    {
     "data": {
      "text/plain": [
       "array([[ 19,  51,  66,  42],\n",
       "       [ 33,  22,  45,  77],\n",
       "       [ 42,  44,  48, 104],\n",
       "       [ 53,  62,  31,  20]])"
      ]
     },
     "execution_count": 38,
     "metadata": {},
     "output_type": "execute_result"
    }
   ],
   "source": [
    "# selecting more than one value in a 2D array\n",
    "arr6[3:7,5:9] # row 3 to row 6 and column 5 to column 8"
   ]
  },
  {
   "cell_type": "code",
   "execution_count": 41,
   "id": "66b5afab-8b10-4b58-b06c-7622d3def644",
   "metadata": {},
   "outputs": [
    {
     "data": {
      "text/plain": [
       "array([[ 93,  76,  31,  88,  23,  77,  42,  45,  95,  22],\n",
       "       [ 91,  30,  68,  95,  42,  59,  92,  90,  80,  62],\n",
       "       [ 45,  99, 101, 100, 100, 100, 100, 100,  97,  31],\n",
       "       [ 93,  20,  73, 100, 100, 100, 100, 100,  42,  46],\n",
       "       [ 17,  83,  53, 100, 100, 100, 100, 100,  77,  26],\n",
       "       [ 82,  80,  70, 100, 100, 100, 100, 100, 104, 100],\n",
       "       [ 22,  31,  29, 100, 100, 100, 100, 100,  20,  49],\n",
       "       [ 60,  74,  39,  28,  46,  47,  91,  59,  20,  29],\n",
       "       [ 62,  97,  15,  22, 101,  31,  79,  23,  59,  52],\n",
       "       [ 90,  20,  37,  67,  84,  97,  75,  44, 103,  94]])"
      ]
     },
     "execution_count": 41,
     "metadata": {},
     "output_type": "execute_result"
    }
   ],
   "source": [
    "# BROADCASTING A VALUE TO THE 2D ARRAY\n",
    "arr6[2:7,3:8] = 100\n",
    "arr6"
   ]
  },
  {
   "cell_type": "code",
   "execution_count": 42,
   "id": "f2f0226e-4dd3-40d4-b9b7-13e8a66789fd",
   "metadata": {},
   "outputs": [],
   "source": [
    "arr7 = arr6.flatten()"
   ]
  },
  {
   "cell_type": "code",
   "execution_count": 43,
   "id": "74b6e127-a9a5-463b-8809-f1e51b81b211",
   "metadata": {},
   "outputs": [
    {
     "data": {
      "text/plain": [
       "array([ 93,  76,  31,  88,  23,  77,  42,  45,  95,  22,  91,  30,  68,\n",
       "        95,  42,  59,  92,  90,  80,  62,  45,  99, 101, 100, 100, 100,\n",
       "       100, 100,  97,  31,  93,  20,  73, 100, 100, 100, 100, 100,  42,\n",
       "        46,  17,  83,  53, 100, 100, 100, 100, 100,  77,  26,  82,  80,\n",
       "        70, 100, 100, 100, 100, 100, 104, 100,  22,  31,  29, 100, 100,\n",
       "       100, 100, 100,  20,  49,  60,  74,  39,  28,  46,  47,  91,  59,\n",
       "        20,  29,  62,  97,  15,  22, 101,  31,  79,  23,  59,  52,  90,\n",
       "        20,  37,  67,  84,  97,  75,  44, 103,  94])"
      ]
     },
     "execution_count": 43,
     "metadata": {},
     "output_type": "execute_result"
    }
   ],
   "source": [
    "arr7"
   ]
  },
  {
   "cell_type": "code",
   "execution_count": 44,
   "id": "0e5ada6d-83a2-411b-a276-68b16fda2c40",
   "metadata": {},
   "outputs": [
    {
     "data": {
      "text/plain": [
       "7036"
      ]
     },
     "execution_count": 44,
     "metadata": {},
     "output_type": "execute_result"
    }
   ],
   "source": [
    "np.sum(arr7)"
   ]
  },
  {
   "cell_type": "code",
   "execution_count": 46,
   "id": "e2f4b374-b906-4bb9-a267-a028354665f0",
   "metadata": {},
   "outputs": [
    {
     "data": {
      "text/plain": [
       "70.36"
      ]
     },
     "execution_count": 46,
     "metadata": {},
     "output_type": "execute_result"
    }
   ],
   "source": [
    "np.mean(arr7)"
   ]
  },
  {
   "cell_type": "code",
   "execution_count": 47,
   "id": "5816737f-ffd7-4e69-89c3-ca3135d8a801",
   "metadata": {},
   "outputs": [
    {
     "data": {
      "text/plain": [
       "29.750132772812965"
      ]
     },
     "execution_count": 47,
     "metadata": {},
     "output_type": "execute_result"
    }
   ],
   "source": [
    "np.std(arr7)"
   ]
  },
  {
   "cell_type": "code",
   "execution_count": 48,
   "id": "83f78ec9-ec3c-4fc7-9a7a-49cac59eccbf",
   "metadata": {},
   "outputs": [
    {
     "data": {
      "text/plain": [
       "885.0704"
      ]
     },
     "execution_count": 48,
     "metadata": {},
     "output_type": "execute_result"
    }
   ],
   "source": [
    "np.var(arr7)"
   ]
  },
  {
   "cell_type": "code",
   "execution_count": 49,
   "id": "41e8c659-598b-4163-89e5-1d74ddc70791",
   "metadata": {},
   "outputs": [
    {
     "data": {
      "text/plain": [
       "104"
      ]
     },
     "execution_count": 49,
     "metadata": {},
     "output_type": "execute_result"
    }
   ],
   "source": [
    "np.max(arr7)"
   ]
  },
  {
   "cell_type": "code",
   "execution_count": 50,
   "id": "a21d910e-373b-4342-8cbb-0e353f3a622e",
   "metadata": {},
   "outputs": [
    {
     "data": {
      "text/plain": [
       "15"
      ]
     },
     "execution_count": 50,
     "metadata": {},
     "output_type": "execute_result"
    }
   ],
   "source": [
    "np.min(arr7)"
   ]
  },
  {
   "cell_type": "code",
   "execution_count": 51,
   "id": "200a2e56-5862-4781-b6bd-10bd39237765",
   "metadata": {},
   "outputs": [
    {
     "data": {
      "text/plain": [
       "79.5"
      ]
     },
     "execution_count": 51,
     "metadata": {},
     "output_type": "execute_result"
    }
   ],
   "source": [
    "np.median(arr7)"
   ]
  },
  {
   "cell_type": "code",
   "execution_count": 52,
   "id": "5c5d7701-6f3c-4b18-823c-12c3637b7448",
   "metadata": {},
   "outputs": [
    {
     "data": {
      "text/plain": [
       "array([ 0.3174287 ,  0.82433133,  0.91474236,  0.99937328, -0.53283302,\n",
       "       -0.03097503, -0.39998531,  0.52532199,  0.73017356, -0.99996083,\n",
       "       -0.99436746,  0.15425145,  0.44014302,  0.73017356, -0.39998531,\n",
       "       -0.77108022, -0.62644445, -0.44807362, -0.11038724,  0.67350716,\n",
       "        0.52532199,  0.03982088,  0.89200487,  0.86231887,  0.86231887,\n",
       "        0.86231887,  0.86231887,  0.86231887, -0.92514754,  0.91474236,\n",
       "        0.3174287 ,  0.40808206, -0.73619272,  0.86231887,  0.86231887,\n",
       "        0.86231887,  0.86231887,  0.86231887, -0.39998531, -0.43217794,\n",
       "       -0.27516334,  0.24954012, -0.91828279,  0.86231887,  0.86231887,\n",
       "        0.86231887,  0.86231887,  0.86231887, -0.03097503,  0.64691932,\n",
       "        0.9496777 , -0.11038724,  0.6333192 ,  0.86231887,  0.86231887,\n",
       "        0.86231887,  0.86231887,  0.86231887, -0.94686801,  0.86231887,\n",
       "       -0.99996083,  0.91474236, -0.74805753,  0.86231887,  0.86231887,\n",
       "        0.86231887,  0.86231887,  0.86231887,  0.40808206,  0.30059254,\n",
       "       -0.95241298,  0.17171734,  0.26664293, -0.96260587, -0.43217794,\n",
       "       -0.99233547, -0.99436746, -0.77108022,  0.40808206, -0.74805753,\n",
       "        0.67350716, -0.92514754, -0.75968791, -0.99996083,  0.89200487,\n",
       "        0.91474236, -0.89597095, -0.53283302, -0.77108022, -0.16299078,\n",
       "       -0.44807362,  0.40808206,  0.76541405, -0.5177698 , -0.6800235 ,\n",
       "       -0.92514754,  0.92175127,  0.99984331, -0.78223089,  0.96945937])"
      ]
     },
     "execution_count": 52,
     "metadata": {},
     "output_type": "execute_result"
    }
   ],
   "source": [
    "np.cos(arr7)"
   ]
  },
  {
   "cell_type": "code",
   "execution_count": 53,
   "id": "587c76b0-b72c-4d70-b96d-a516569b5f5b",
   "metadata": {},
   "outputs": [
    {
     "data": {
      "text/plain": [
       "array([ 8649,  5776,   961,  7744,   529,  5929,  1764,  2025,  9025,\n",
       "         484,  8281,   900,  4624,  9025,  1764,  3481,  8464,  8100,\n",
       "        6400,  3844,  2025,  9801, 10201, 10000, 10000, 10000, 10000,\n",
       "       10000,  9409,   961,  8649,   400,  5329, 10000, 10000, 10000,\n",
       "       10000, 10000,  1764,  2116,   289,  6889,  2809, 10000, 10000,\n",
       "       10000, 10000, 10000,  5929,   676,  6724,  6400,  4900, 10000,\n",
       "       10000, 10000, 10000, 10000, 10816, 10000,   484,   961,   841,\n",
       "       10000, 10000, 10000, 10000, 10000,   400,  2401,  3600,  5476,\n",
       "        1521,   784,  2116,  2209,  8281,  3481,   400,   841,  3844,\n",
       "        9409,   225,   484, 10201,   961,  6241,   529,  3481,  2704,\n",
       "        8100,   400,  1369,  4489,  7056,  9409,  5625,  1936, 10609,\n",
       "        8836])"
      ]
     },
     "execution_count": 53,
     "metadata": {},
     "output_type": "execute_result"
    }
   ],
   "source": [
    "np.square(arr7)"
   ]
  },
  {
   "cell_type": "code",
   "execution_count": 54,
   "id": "3ee0e4bd-723f-4a68-b927-31ab8dee11ad",
   "metadata": {},
   "outputs": [
    {
     "data": {
      "text/plain": [
       "array([ 9.64365076,  8.71779789,  5.56776436,  9.38083152,  4.79583152,\n",
       "        8.77496439,  6.4807407 ,  6.70820393,  9.74679434,  4.69041576,\n",
       "        9.53939201,  5.47722558,  8.24621125,  9.74679434,  6.4807407 ,\n",
       "        7.68114575,  9.59166305,  9.48683298,  8.94427191,  7.87400787,\n",
       "        6.70820393,  9.94987437, 10.04987562, 10.        , 10.        ,\n",
       "       10.        , 10.        , 10.        ,  9.8488578 ,  5.56776436,\n",
       "        9.64365076,  4.47213595,  8.54400375, 10.        , 10.        ,\n",
       "       10.        , 10.        , 10.        ,  6.4807407 ,  6.78232998,\n",
       "        4.12310563,  9.11043358,  7.28010989, 10.        , 10.        ,\n",
       "       10.        , 10.        , 10.        ,  8.77496439,  5.09901951,\n",
       "        9.05538514,  8.94427191,  8.36660027, 10.        , 10.        ,\n",
       "       10.        , 10.        , 10.        , 10.19803903, 10.        ,\n",
       "        4.69041576,  5.56776436,  5.38516481, 10.        , 10.        ,\n",
       "       10.        , 10.        , 10.        ,  4.47213595,  7.        ,\n",
       "        7.74596669,  8.60232527,  6.244998  ,  5.29150262,  6.78232998,\n",
       "        6.8556546 ,  9.53939201,  7.68114575,  4.47213595,  5.38516481,\n",
       "        7.87400787,  9.8488578 ,  3.87298335,  4.69041576, 10.04987562,\n",
       "        5.56776436,  8.88819442,  4.79583152,  7.68114575,  7.21110255,\n",
       "        9.48683298,  4.47213595,  6.08276253,  8.18535277,  9.16515139,\n",
       "        9.8488578 ,  8.66025404,  6.63324958, 10.14889157,  9.69535971])"
      ]
     },
     "execution_count": 54,
     "metadata": {},
     "output_type": "execute_result"
    }
   ],
   "source": [
    "np.sqrt(arr7)"
   ]
  },
  {
   "cell_type": "code",
   "execution_count": 55,
   "id": "dc14c6c2-3ba7-451f-ba8f-b11151395e6e",
   "metadata": {},
   "outputs": [
    {
     "data": {
      "text/plain": [
       "79.5"
      ]
     },
     "execution_count": 55,
     "metadata": {},
     "output_type": "execute_result"
    }
   ],
   "source": [
    "np.percentile(arr7,50)"
   ]
  },
  {
   "cell_type": "code",
   "execution_count": 56,
   "id": "521da1a6-a6db-44d6-bfde-62f443443f24",
   "metadata": {},
   "outputs": [
    {
     "data": {
      "text/plain": [
       "58"
      ]
     },
     "execution_count": 56,
     "metadata": {},
     "output_type": "execute_result"
    }
   ],
   "source": [
    "np.argmax(arr7) # the position of the first highest value which is 104"
   ]
  },
  {
   "cell_type": "code",
   "execution_count": 57,
   "id": "22b7903d-bcf9-4115-a8dc-cb92bbe07d4b",
   "metadata": {},
   "outputs": [
    {
     "data": {
      "text/plain": [
       "82"
      ]
     },
     "execution_count": 57,
     "metadata": {},
     "output_type": "execute_result"
    }
   ],
   "source": [
    "np.argmin(arr7)  # the position of the first lowest value which is 104"
   ]
  },
  {
   "cell_type": "markdown",
   "id": "552903e5-38d2-4383-a5c6-90c1377e0754",
   "metadata": {},
   "source": [
    "# important read-ups"
   ]
  },
  {
   "cell_type": "code",
   "execution_count": null,
   "id": "cd4fa49c-814e-4c25-a9d0-15ad65543a98",
   "metadata": {},
   "outputs": [],
   "source": [
    "# 1. DOMAIN KNOWLEDGE\n",
    "# 2. COMMUNICATION SKILL\n",
    "# 3. PROBLEM SOLVING AND ERICTICAL THINKING\n",
    "# 4. COLLABORATION AND TEAM WORK\n",
    "# 5. ETHICS AND DATA PRIVACY\n",
    "# 6. PROJECT MANAGEMENT\n",
    "# 7. BUSINESS ACUMEN\n",
    "# 8. ADPATABILITY AND CONTIONOUR LEARNING\n",
    "# 9. THE ART OF COMMUNICATION\n",
    "# 10. TAILORING CPMMUNICATION TO YOUR AUDIENCE\n",
    "# 11. PERSUASIVE COMMUNICATION\n",
    "# 12. MASTERING VIDUALIZATION TOOLS\n",
    "# 13. CHOOSING THE RIGHT VISUALS\n",
    "# 14. DESIGN PRINCIPLES\n",
    "# 15. DATA STORYTELLING AND CONTEXT\n",
    "# 16. EMOTIONAL INTELLIGENCE IN COMMUNICATION\n",
    "# 17. VISUAL STORYTELLING\n",
    "# 18. USING DASHBOARD EFFECTIVELY\n",
    "# 19. "
   ]
  }
 ],
 "metadata": {
  "kernelspec": {
   "display_name": "Python 3 (ipykernel)",
   "language": "python",
   "name": "python3"
  },
  "language_info": {
   "codemirror_mode": {
    "name": "ipython",
    "version": 3
   },
   "file_extension": ".py",
   "mimetype": "text/x-python",
   "name": "python",
   "nbconvert_exporter": "python",
   "pygments_lexer": "ipython3",
   "version": "3.11.7"
  }
 },
 "nbformat": 4,
 "nbformat_minor": 5
}
