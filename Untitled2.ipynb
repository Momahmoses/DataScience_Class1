{
 "cells": [
  {
   "cell_type": "code",
   "execution_count": 1,
   "id": "660289f9-f6e9-4123-beea-f0f7f6050d31",
   "metadata": {},
   "outputs": [
    {
     "data": {
      "text/html": [
       "<div>\n",
       "<style scoped>\n",
       "    .dataframe tbody tr th:only-of-type {\n",
       "        vertical-align: middle;\n",
       "    }\n",
       "\n",
       "    .dataframe tbody tr th {\n",
       "        vertical-align: top;\n",
       "    }\n",
       "\n",
       "    .dataframe thead th {\n",
       "        text-align: right;\n",
       "    }\n",
       "</style>\n",
       "<table border=\"1\" class=\"dataframe\">\n",
       "  <thead>\n",
       "    <tr style=\"text-align: right;\">\n",
       "      <th></th>\n",
       "      <th>Rate Date</th>\n",
       "      <th>Currency</th>\n",
       "      <th>Rate Year</th>\n",
       "      <th>Rate Month</th>\n",
       "      <th>Buying Rate</th>\n",
       "      <th>Central Rate</th>\n",
       "      <th>Selling Rate</th>\n",
       "    </tr>\n",
       "  </thead>\n",
       "  <tbody>\n",
       "    <tr>\n",
       "      <th>9/19/2024</th>\n",
       "      <td>CFA</td>\n",
       "      <td>2024</td>\n",
       "      <td>September</td>\n",
       "      <td>2.7819</td>\n",
       "      <td>2.7919</td>\n",
       "      <td>2.8019</td>\n",
       "      <td>NaN</td>\n",
       "    </tr>\n",
       "    <tr>\n",
       "      <th>9/19/2024</th>\n",
       "      <td>YUAN/RENMINBI</td>\n",
       "      <td>2024</td>\n",
       "      <td>September</td>\n",
       "      <td>225.3505</td>\n",
       "      <td>225.4212</td>\n",
       "      <td>225.4919</td>\n",
       "      <td>NaN</td>\n",
       "    </tr>\n",
       "    <tr>\n",
       "      <th>9/19/2024</th>\n",
       "      <td>DANISH KRONA</td>\n",
       "      <td>2024</td>\n",
       "      <td>September</td>\n",
       "      <td>237.4456</td>\n",
       "      <td>237.5201</td>\n",
       "      <td>237.5946</td>\n",
       "      <td>NaN</td>\n",
       "    </tr>\n",
       "    <tr>\n",
       "      <th>9/19/2024</th>\n",
       "      <td>EURO</td>\n",
       "      <td>2024</td>\n",
       "      <td>September</td>\n",
       "      <td>1771.4938</td>\n",
       "      <td>1772.0498</td>\n",
       "      <td>1772.6058</td>\n",
       "      <td>NaN</td>\n",
       "    </tr>\n",
       "    <tr>\n",
       "      <th>9/19/2024</th>\n",
       "      <td>YEN</td>\n",
       "      <td>2024</td>\n",
       "      <td>September</td>\n",
       "      <td>11.1232</td>\n",
       "      <td>11.1267</td>\n",
       "      <td>11.1302</td>\n",
       "      <td>NaN</td>\n",
       "    </tr>\n",
       "  </tbody>\n",
       "</table>\n",
       "</div>"
      ],
      "text/plain": [
       "               Rate Date  Currency  Rate Year  Rate Month  Buying Rate  \\\n",
       "9/19/2024            CFA      2024  September      2.7819       2.7919   \n",
       "9/19/2024  YUAN/RENMINBI      2024  September    225.3505     225.4212   \n",
       "9/19/2024   DANISH KRONA      2024  September    237.4456     237.5201   \n",
       "9/19/2024           EURO      2024  September   1771.4938    1772.0498   \n",
       "9/19/2024            YEN      2024  September     11.1232      11.1267   \n",
       "\n",
       "           Central Rate  Selling Rate  \n",
       "9/19/2024        2.8019           NaN  \n",
       "9/19/2024      225.4919           NaN  \n",
       "9/19/2024      237.5946           NaN  \n",
       "9/19/2024     1772.6058           NaN  \n",
       "9/19/2024       11.1302           NaN  "
      ]
     },
     "execution_count": 1,
     "metadata": {},
     "output_type": "execute_result"
    }
   ],
   "source": [
    "import numpy as np\n",
    "import pandas as pd\n",
    "rate = pd.read_csv('exchange20092024.csv')\n",
    "rate.head()"
   ]
  },
  {
   "cell_type": "code",
   "execution_count": 3,
   "id": "7af6b380-40d2-4df2-bdd7-51da6f3c692b",
   "metadata": {},
   "outputs": [
    {
     "data": {
      "text/html": [
       "<div>\n",
       "<style scoped>\n",
       "    .dataframe tbody tr th:only-of-type {\n",
       "        vertical-align: middle;\n",
       "    }\n",
       "\n",
       "    .dataframe tbody tr th {\n",
       "        vertical-align: top;\n",
       "    }\n",
       "\n",
       "    .dataframe thead th {\n",
       "        text-align: right;\n",
       "    }\n",
       "</style>\n",
       "<table border=\"1\" class=\"dataframe\">\n",
       "  <thead>\n",
       "    <tr style=\"text-align: right;\">\n",
       "      <th></th>\n",
       "      <th>index</th>\n",
       "      <th>Rate Date</th>\n",
       "      <th>Currency</th>\n",
       "      <th>Rate Year</th>\n",
       "      <th>Rate Month</th>\n",
       "      <th>Buying Rate</th>\n",
       "      <th>Central Rate</th>\n",
       "      <th>Selling Rate</th>\n",
       "    </tr>\n",
       "  </thead>\n",
       "  <tbody>\n",
       "    <tr>\n",
       "      <th>0</th>\n",
       "      <td>9/19/2024</td>\n",
       "      <td>CFA</td>\n",
       "      <td>2024</td>\n",
       "      <td>September</td>\n",
       "      <td>2.7819</td>\n",
       "      <td>2.7919</td>\n",
       "      <td>2.8019</td>\n",
       "      <td>NaN</td>\n",
       "    </tr>\n",
       "    <tr>\n",
       "      <th>1</th>\n",
       "      <td>9/19/2024</td>\n",
       "      <td>YUAN/RENMINBI</td>\n",
       "      <td>2024</td>\n",
       "      <td>September</td>\n",
       "      <td>225.3505</td>\n",
       "      <td>225.4212</td>\n",
       "      <td>225.4919</td>\n",
       "      <td>NaN</td>\n",
       "    </tr>\n",
       "    <tr>\n",
       "      <th>2</th>\n",
       "      <td>9/19/2024</td>\n",
       "      <td>DANISH KRONA</td>\n",
       "      <td>2024</td>\n",
       "      <td>September</td>\n",
       "      <td>237.4456</td>\n",
       "      <td>237.5201</td>\n",
       "      <td>237.5946</td>\n",
       "      <td>NaN</td>\n",
       "    </tr>\n",
       "    <tr>\n",
       "      <th>3</th>\n",
       "      <td>9/19/2024</td>\n",
       "      <td>EURO</td>\n",
       "      <td>2024</td>\n",
       "      <td>September</td>\n",
       "      <td>1771.4938</td>\n",
       "      <td>1772.0498</td>\n",
       "      <td>1772.6058</td>\n",
       "      <td>NaN</td>\n",
       "    </tr>\n",
       "    <tr>\n",
       "      <th>4</th>\n",
       "      <td>9/19/2024</td>\n",
       "      <td>YEN</td>\n",
       "      <td>2024</td>\n",
       "      <td>September</td>\n",
       "      <td>11.1232</td>\n",
       "      <td>11.1267</td>\n",
       "      <td>11.1302</td>\n",
       "      <td>NaN</td>\n",
       "    </tr>\n",
       "  </tbody>\n",
       "</table>\n",
       "</div>"
      ],
      "text/plain": [
       "       index      Rate Date  Currency  Rate Year  Rate Month  Buying Rate  \\\n",
       "0  9/19/2024            CFA      2024  September      2.7819       2.7919   \n",
       "1  9/19/2024  YUAN/RENMINBI      2024  September    225.3505     225.4212   \n",
       "2  9/19/2024   DANISH KRONA      2024  September    237.4456     237.5201   \n",
       "3  9/19/2024           EURO      2024  September   1771.4938    1772.0498   \n",
       "4  9/19/2024            YEN      2024  September     11.1232      11.1267   \n",
       "\n",
       "   Central Rate  Selling Rate  \n",
       "0        2.8019           NaN  \n",
       "1      225.4919           NaN  \n",
       "2      237.5946           NaN  \n",
       "3     1772.6058           NaN  \n",
       "4       11.1302           NaN  "
      ]
     },
     "execution_count": 3,
     "metadata": {},
     "output_type": "execute_result"
    }
   ],
   "source": [
    "rate.reset_index(inplace = True)\n",
    "rate.head()"
   ]
  },
  {
   "cell_type": "code",
   "execution_count": 4,
   "id": "fd60aadf-775a-4011-bb16-6b630da966ac",
   "metadata": {},
   "outputs": [
    {
     "data": {
      "text/html": [
       "<div>\n",
       "<style scoped>\n",
       "    .dataframe tbody tr th:only-of-type {\n",
       "        vertical-align: middle;\n",
       "    }\n",
       "\n",
       "    .dataframe tbody tr th {\n",
       "        vertical-align: top;\n",
       "    }\n",
       "\n",
       "    .dataframe thead th {\n",
       "        text-align: right;\n",
       "    }\n",
       "</style>\n",
       "<table border=\"1\" class=\"dataframe\">\n",
       "  <thead>\n",
       "    <tr style=\"text-align: right;\">\n",
       "      <th></th>\n",
       "      <th>Rate Date</th>\n",
       "      <th>Currency</th>\n",
       "      <th>Rate Year</th>\n",
       "      <th>Rate Month</th>\n",
       "      <th>Buying Rate</th>\n",
       "      <th>Central Rate</th>\n",
       "      <th>Selling Rate</th>\n",
       "      <th>Nill</th>\n",
       "    </tr>\n",
       "  </thead>\n",
       "  <tbody>\n",
       "    <tr>\n",
       "      <th>0</th>\n",
       "      <td>9/19/2024</td>\n",
       "      <td>CFA</td>\n",
       "      <td>2024</td>\n",
       "      <td>September</td>\n",
       "      <td>2.7819</td>\n",
       "      <td>2.7919</td>\n",
       "      <td>2.8019</td>\n",
       "      <td>NaN</td>\n",
       "    </tr>\n",
       "    <tr>\n",
       "      <th>1</th>\n",
       "      <td>9/19/2024</td>\n",
       "      <td>YUAN/RENMINBI</td>\n",
       "      <td>2024</td>\n",
       "      <td>September</td>\n",
       "      <td>225.3505</td>\n",
       "      <td>225.4212</td>\n",
       "      <td>225.4919</td>\n",
       "      <td>NaN</td>\n",
       "    </tr>\n",
       "    <tr>\n",
       "      <th>2</th>\n",
       "      <td>9/19/2024</td>\n",
       "      <td>DANISH KRONA</td>\n",
       "      <td>2024</td>\n",
       "      <td>September</td>\n",
       "      <td>237.4456</td>\n",
       "      <td>237.5201</td>\n",
       "      <td>237.5946</td>\n",
       "      <td>NaN</td>\n",
       "    </tr>\n",
       "    <tr>\n",
       "      <th>3</th>\n",
       "      <td>9/19/2024</td>\n",
       "      <td>EURO</td>\n",
       "      <td>2024</td>\n",
       "      <td>September</td>\n",
       "      <td>1771.4938</td>\n",
       "      <td>1772.0498</td>\n",
       "      <td>1772.6058</td>\n",
       "      <td>NaN</td>\n",
       "    </tr>\n",
       "    <tr>\n",
       "      <th>4</th>\n",
       "      <td>9/19/2024</td>\n",
       "      <td>YEN</td>\n",
       "      <td>2024</td>\n",
       "      <td>September</td>\n",
       "      <td>11.1232</td>\n",
       "      <td>11.1267</td>\n",
       "      <td>11.1302</td>\n",
       "      <td>NaN</td>\n",
       "    </tr>\n",
       "  </tbody>\n",
       "</table>\n",
       "</div>"
      ],
      "text/plain": [
       "   Rate Date       Currency  Rate Year Rate Month  Buying Rate  Central Rate  \\\n",
       "0  9/19/2024            CFA       2024  September       2.7819        2.7919   \n",
       "1  9/19/2024  YUAN/RENMINBI       2024  September     225.3505      225.4212   \n",
       "2  9/19/2024   DANISH KRONA       2024  September     237.4456      237.5201   \n",
       "3  9/19/2024           EURO       2024  September    1771.4938     1772.0498   \n",
       "4  9/19/2024            YEN       2024  September      11.1232       11.1267   \n",
       "\n",
       "   Selling Rate  Nill  \n",
       "0        2.8019   NaN  \n",
       "1      225.4919   NaN  \n",
       "2      237.5946   NaN  \n",
       "3     1772.6058   NaN  \n",
       "4       11.1302   NaN  "
      ]
     },
     "execution_count": 4,
     "metadata": {},
     "output_type": "execute_result"
    }
   ],
   "source": [
    "rate.rename({'index' : 'Rate Date', 'Rate Date' : 'Currency', 'Currency' : 'Rate Year', 'Rate Year' : 'Rate Month', 'Rate Month': 'Buying Rate',\n",
    "       'Buying Rate' : 'Central Rate', 'Central Rate': 'Selling Rate', 'Selling Rate' : 'Nill'}, axis = 1, inplace = True)\n",
    "rate.head()"
   ]
  },
  {
   "cell_type": "code",
   "execution_count": 5,
   "id": "3acbef61-4921-40ab-97d6-d95364f42575",
   "metadata": {},
   "outputs": [],
   "source": [
    "g"
   ]
  },
  {
   "cell_type": "code",
   "execution_count": 6,
   "id": "5ddf831a-a329-41b8-9f7d-3681461a65a3",
   "metadata": {},
   "outputs": [
    {
     "data": {
      "text/html": [
       "<div>\n",
       "<style scoped>\n",
       "    .dataframe tbody tr th:only-of-type {\n",
       "        vertical-align: middle;\n",
       "    }\n",
       "\n",
       "    .dataframe tbody tr th {\n",
       "        vertical-align: top;\n",
       "    }\n",
       "\n",
       "    .dataframe thead th {\n",
       "        text-align: right;\n",
       "    }\n",
       "</style>\n",
       "<table border=\"1\" class=\"dataframe\">\n",
       "  <thead>\n",
       "    <tr style=\"text-align: right;\">\n",
       "      <th></th>\n",
       "      <th>Rate Date</th>\n",
       "      <th>Currency</th>\n",
       "      <th>Rate Year</th>\n",
       "      <th>Rate Month</th>\n",
       "      <th>Buying Rate</th>\n",
       "      <th>Central Rate</th>\n",
       "      <th>Selling Rate</th>\n",
       "    </tr>\n",
       "  </thead>\n",
       "  <tbody>\n",
       "    <tr>\n",
       "      <th>0</th>\n",
       "      <td>9/19/2024</td>\n",
       "      <td>CFA</td>\n",
       "      <td>2024</td>\n",
       "      <td>September</td>\n",
       "      <td>2.7819</td>\n",
       "      <td>2.7919</td>\n",
       "      <td>2.8019</td>\n",
       "    </tr>\n",
       "    <tr>\n",
       "      <th>1</th>\n",
       "      <td>9/19/2024</td>\n",
       "      <td>YUAN/RENMINBI</td>\n",
       "      <td>2024</td>\n",
       "      <td>September</td>\n",
       "      <td>225.3505</td>\n",
       "      <td>225.4212</td>\n",
       "      <td>225.4919</td>\n",
       "    </tr>\n",
       "    <tr>\n",
       "      <th>2</th>\n",
       "      <td>9/19/2024</td>\n",
       "      <td>DANISH KRONA</td>\n",
       "      <td>2024</td>\n",
       "      <td>September</td>\n",
       "      <td>237.4456</td>\n",
       "      <td>237.5201</td>\n",
       "      <td>237.5946</td>\n",
       "    </tr>\n",
       "    <tr>\n",
       "      <th>3</th>\n",
       "      <td>9/19/2024</td>\n",
       "      <td>EURO</td>\n",
       "      <td>2024</td>\n",
       "      <td>September</td>\n",
       "      <td>1771.4938</td>\n",
       "      <td>1772.0498</td>\n",
       "      <td>1772.6058</td>\n",
       "    </tr>\n",
       "    <tr>\n",
       "      <th>4</th>\n",
       "      <td>9/19/2024</td>\n",
       "      <td>YEN</td>\n",
       "      <td>2024</td>\n",
       "      <td>September</td>\n",
       "      <td>11.1232</td>\n",
       "      <td>11.1267</td>\n",
       "      <td>11.1302</td>\n",
       "    </tr>\n",
       "  </tbody>\n",
       "</table>\n",
       "</div>"
      ],
      "text/plain": [
       "   Rate Date       Currency  Rate Year Rate Month  Buying Rate  Central Rate  \\\n",
       "0  9/19/2024            CFA       2024  September       2.7819        2.7919   \n",
       "1  9/19/2024  YUAN/RENMINBI       2024  September     225.3505      225.4212   \n",
       "2  9/19/2024   DANISH KRONA       2024  September     237.4456      237.5201   \n",
       "3  9/19/2024           EURO       2024  September    1771.4938     1772.0498   \n",
       "4  9/19/2024            YEN       2024  September      11.1232       11.1267   \n",
       "\n",
       "   Selling Rate  \n",
       "0        2.8019  \n",
       "1      225.4919  \n",
       "2      237.5946  \n",
       "3     1772.6058  \n",
       "4       11.1302  "
      ]
     },
     "execution_count": 6,
     "metadata": {},
     "output_type": "execute_result"
    }
   ],
   "source": [
    "rate.head()"
   ]
  },
  {
   "cell_type": "code",
   "execution_count": 7,
   "id": "9688169a-02d7-4b92-ac6d-a97ed701bf26",
   "metadata": {},
   "outputs": [
    {
     "data": {
      "text/plain": [
       "0        False\n",
       "1        False\n",
       "2        False\n",
       "3        False\n",
       "4        False\n",
       "         ...  \n",
       "56063     True\n",
       "56064     True\n",
       "56065     True\n",
       "56066     True\n",
       "56067     True\n",
       "Name: Currency, Length: 56068, dtype: bool"
      ]
     },
     "execution_count": 7,
     "metadata": {},
     "output_type": "execute_result"
    }
   ],
   "source": [
    "rate['Currency'].duplicated()"
   ]
  },
  {
   "cell_type": "code",
   "execution_count": 8,
   "id": "e6519881-56c1-4017-9cfd-2cb86b5ec734",
   "metadata": {},
   "outputs": [
    {
     "data": {
      "text/plain": [
       "array(['CFA', 'YUAN/RENMINBI', 'DANISH KRONA', 'EURO', 'YEN', 'RIYAL',\n",
       "       'SOUTH AFRICAN RAND', 'SDR', 'SWISS FRANC', 'POUNDS STERLING',\n",
       "       'US DOLLAR', 'WAUA', 'POUND STERLING', 'DANISH KRONER',\n",
       "       'JAPANESE YEN', 'US DOLLAR ', 'YEN ', 'CFA ', 'WAUA ', 'SDR ',\n",
       "       'EURO\\t', 'EURO ', 'RIYAL ', 'SWISS FRANC\\t', 'SDR\\t', 'NAIRA',\n",
       "       'POESO'], dtype=object)"
      ]
     },
     "execution_count": 8,
     "metadata": {},
     "output_type": "execute_result"
    }
   ],
   "source": [
    "rate['Currency'].unique()"
   ]
  },
  {
   "cell_type": "code",
   "execution_count": 9,
   "id": "3ac4f5a8-34a9-4463-bf49-28bf68293baa",
   "metadata": {},
   "outputs": [
    {
     "data": {
      "text/plain": [
       "56041"
      ]
     },
     "execution_count": 9,
     "metadata": {},
     "output_type": "execute_result"
    }
   ],
   "source": [
    "rate['Currency'].duplicated().sum()"
   ]
  },
  {
   "cell_type": "code",
   "execution_count": 19,
   "id": "d64d225e-3859-4202-a5be-529a75428530",
   "metadata": {},
   "outputs": [
    {
     "data": {
      "text/plain": [
       "array(['duplicated'], dtype=object)"
      ]
     },
     "execution_count": 19,
     "metadata": {},
     "output_type": "execute_result"
    }
   ],
   "source": [
    "rate['Currency'].unique()"
   ]
  },
  {
   "cell_type": "code",
   "execution_count": null,
   "id": "9f477fb6-e851-4f7c-8fd0-a0f69ac9db49",
   "metadata": {},
   "outputs": [],
   "source": [
    " "
   ]
  }
 ],
 "metadata": {
  "kernelspec": {
   "display_name": "Python 3 (ipykernel)",
   "language": "python",
   "name": "python3"
  },
  "language_info": {
   "codemirror_mode": {
    "name": "ipython",
    "version": 3
   },
   "file_extension": ".py",
   "mimetype": "text/x-python",
   "name": "python",
   "nbconvert_exporter": "python",
   "pygments_lexer": "ipython3",
   "version": "3.11.7"
  }
 },
 "nbformat": 4,
 "nbformat_minor": 5
}
