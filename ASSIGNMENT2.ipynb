{
 "cells": [
  {
   "cell_type": "markdown",
   "id": "02319359-1de9-4ca0-8cae-5f11e424ef91",
   "metadata": {},
   "source": [
    "# 1"
   ]
  },
  {
   "cell_type": "code",
   "execution_count": 4,
   "id": "51357cae-119e-464a-b7d4-aa9da946af53",
   "metadata": {},
   "outputs": [
    {
     "name": "stdin",
     "output_type": "stream",
     "text": [
      "kindly enter your membership level: [Non Member], [Bronze], [Silver], [Gold], [Platinium] Bronze\n"
     ]
    },
    {
     "name": "stdout",
     "output_type": "stream",
     "text": [
      "You have a discount of 5%\n"
     ]
    }
   ],
   "source": [
    "membership_level = str(input('kindly enter your membership level: [Non Member], [Bronze], [Silver], [Gold], [Platinium]'))\n",
    "if membership_level == 'Non Member':\n",
    "        print(f'you have no discount, kindly register and become a member to enjoy the discount benefits')\n",
    "elif membership_level == 'Bronze':\n",
    "        print(f'You have a discount of 5%')\n",
    "elif membership_level == 'Silver':\n",
    "        print(f'You have a discount of 10%')\n",
    "elif membership_level == 'Gold':\n",
    "        print(f'You have a discount of 15%')\n",
    "elif membership_level == 'Platinium':\n",
    "        print(f'You have a discount of 20%')"
   ]
  },
  {
   "cell_type": "markdown",
   "id": "fb22e7e6-157a-4aa9-9a69-7776c0dc92da",
   "metadata": {},
   "source": [
    "# 2"
   ]
  },
  {
   "cell_type": "code",
   "execution_count": 9,
   "id": "8fdd17e8-a483-4e48-be42-158328e684a5",
   "metadata": {},
   "outputs": [
    {
     "name": "stdin",
     "output_type": "stream",
     "text": [
      "Kindly enter your car MPG in %:  32\n"
     ]
    },
    {
     "name": "stdout",
     "output_type": "stream",
     "text": [
      "You have a Poor car fuel efficiency\n"
     ]
    }
   ],
   "source": [
    "mpg = int(input('Kindly enter your car MPG in %: '))\n",
    "if mpg >= 60:\n",
    "    print(f'You have an Excellent car fuel efficiency')\n",
    "elif mpg >= 50 and mpg <60:\n",
    "    print(f'You have a Good car fuel efficiency')\n",
    "elif mpg >=40 and mpg <50:\n",
    "    print(f'You have a Fair car fuel efficiency')\n",
    "elif mpg >=30 and mpg <40:\n",
    "    print(f'You have a Poor car fuel efficiency')\n",
    "elif mpg <30:\n",
    "    print(f'You have a Very Poor car fuel efficiency')"
   ]
  },
  {
   "cell_type": "markdown",
   "id": "bd5d0e1f-3be7-4fe3-8ccd-a70eb543882d",
   "metadata": {},
   "source": [
    "# 3"
   ]
  },
  {
   "cell_type": "code",
   "execution_count": 12,
   "id": "5ca3d7f7-fe63-4f40-9ff7-7e28e4866586",
   "metadata": {},
   "outputs": [
    {
     "name": "stdin",
     "output_type": "stream",
     "text": [
      "Enter your password:  hd\n"
     ]
    },
    {
     "name": "stdout",
     "output_type": "stream",
     "text": [
      "Your password is very weak\n"
     ]
    }
   ],
   "source": [
    "password = str(input('Enter your password: '))\n",
    "if len(password) >= 15:\n",
    "    print(f'Your password is very strong')\n",
    "elif len(password) >= 11 and len(password) < 15:\n",
    "    print(f'Your password is strong')\n",
    "elif len(password) >= 8 and len(password) < 10:\n",
    "    print(f'Your password is moderate')\n",
    "elif len(password) >= 5 and len(password) < 7:\n",
    "    print(f'Your password is weak')\n",
    "elif len(password) < 5:\n",
    "    print(f'Your password is very weak')"
   ]
  },
  {
   "cell_type": "markdown",
   "id": "a7d5137e-651e-4f64-9f19-d00a3ecd89a1",
   "metadata": {},
   "source": [
    "# 4"
   ]
  },
  {
   "cell_type": "code",
   "execution_count": 13,
   "id": "ec83725c-7c63-4c5a-acf3-83655efea51d",
   "metadata": {},
   "outputs": [
    {
     "name": "stdin",
     "output_type": "stream",
     "text": [
      "Enter your total year of experience:  8\n"
     ]
    },
    {
     "name": "stdout",
     "output_type": "stream",
     "text": [
      "You are appointed the Senior Manager\n"
     ]
    }
   ],
   "source": [
    "year_of_experience = int(input('Enter your total year of experience: '))\n",
    "if year_of_experience >= 10:\n",
    "    print(f'You are appointed the Lead Head')\n",
    "elif year_of_experience >= 6 and year_of_experience < 9:\n",
    "    print(f'You are appointed the Senior Manager')\n",
    "elif year_of_experience >= 4 and year_of_experience < 5:\n",
    "    print(f'You are appointed the Mid Level Staff')\n",
    "elif year_of_experience >= 2 and year_of_experience < 3:\n",
    "    print(f'You are appointed the Junior Staff')\n",
    "elif year_of_experience >= 0 and year_of_experience < 1:\n",
    "    print(f'You are appointed the intern')"
   ]
  },
  {
   "cell_type": "markdown",
   "id": "a429eabe-78d3-4158-b47f-38189dd9aa7d",
   "metadata": {},
   "source": [
    "# 5"
   ]
  },
  {
   "cell_type": "code",
   "execution_count": 14,
   "id": "fba1edc7-b897-4d4f-a2fb-42b99677026b",
   "metadata": {},
   "outputs": [
    {
     "name": "stdin",
     "output_type": "stream",
     "text": [
      "Enter your income in $ :  77\n"
     ]
    },
    {
     "name": "stdout",
     "output_type": "stream",
     "text": [
      "Your tax is 10%\n"
     ]
    }
   ],
   "source": [
    "income = float(input('Enter your income in $ : '))\n",
    "if income >= 100000:\n",
    "    print(f'Your tax is 35%')\n",
    "elif income >= 75000 and income < 100000 :\n",
    "    print(f'Your tax is 30%')\n",
    "elif income >= 50001 and income < 75001 :\n",
    "    print(f'Your tax is 25%')\n",
    "elif income >= 25001 and income < 50001 :\n",
    "    print(f'Your tax is 20%')\n",
    "elif income >= 10000 and income < 25001 :\n",
    "    print(f'Your tax is 15%')\n",
    "elif income < 10000:\n",
    "    print(f'Your tax is 10%')"
   ]
  },
  {
   "cell_type": "markdown",
   "id": "0d3c0af6-5ac5-40f8-bace-59233a07b712",
   "metadata": {},
   "source": [
    "# 6"
   ]
  },
  {
   "cell_type": "code",
   "execution_count": 15,
   "id": "69777614-27d2-41fc-911e-0f9f8b1e981e",
   "metadata": {},
   "outputs": [
    {
     "name": "stdin",
     "output_type": "stream",
     "text": [
      "Enter your feedback score[0-10]:  8\n"
     ]
    },
    {
     "name": "stdout",
     "output_type": "stream",
     "text": [
      "Customer is Satisfied\n"
     ]
    }
   ],
   "source": [
    "feedback_score = int(input('Enter your feedback score[0-10]: '))\n",
    "if feedback_score == 10: \n",
    "    print('Customer is Extremely Satisfied')\n",
    "elif feedback_score == 9: \n",
    "    print('Customer is Very Satisfied')\n",
    "elif feedback_score >= 7 and feedback_score < 9: \n",
    "    print('Customer is Satisfied')\n",
    "elif feedback_score >= 5 and feedback_score < 6: \n",
    "    print('Customer is Neutral')\n",
    "elif feedback_score >= 3 and feedback_score < 4: \n",
    "    print('Customer is Dissatisfied')\n",
    "elif feedback_score >= 1 and feedback_score < 2: \n",
    "    print('Customer is Very Dissatisfied')"
   ]
  },
  {
   "cell_type": "markdown",
   "id": "6b77d8bd-cd2f-4df9-8395-0a7a4d3117b9",
   "metadata": {},
   "source": [
    "# 7"
   ]
  },
  {
   "cell_type": "code",
   "execution_count": 16,
   "id": "94fa5727-95fe-4434-bff1-f2072f12be91",
   "metadata": {},
   "outputs": [
    {
     "name": "stdin",
     "output_type": "stream",
     "text": [
      "Enter your exam result in %:  75\n"
     ]
    },
    {
     "name": "stdout",
     "output_type": "stream",
     "text": [
      "Your result is High Distinction\n"
     ]
    }
   ],
   "source": [
    "exam_result = float(input('Enter your exam result in %: '))\n",
    "if exam_result >= 90:\n",
    "    print(f'Your result is Outstanding')\n",
    "elif exam_result >= 75 and exam_result < 90:\n",
    "    print(f'Your result is High Distinction')\n",
    "elif exam_result >= 60 and exam_result < 75:\n",
    "    print(f'Your result is Distinction')\n",
    "elif exam_result >= 40 and exam_result < 50:\n",
    "    print(f'Your result is Merit')\n",
    "elif exam_result < 40:\n",
    "    print(f'Your result is Fail')"
   ]
  },
  {
   "cell_type": "markdown",
   "id": "85ce3422-5097-439c-bc51-4c34bac790e2",
   "metadata": {},
   "source": [
    "# 8"
   ]
  },
  {
   "cell_type": "code",
   "execution_count": null,
   "id": "b40f95a7-e5da-4231-98c3-745e5be5d44d",
   "metadata": {},
   "outputs": [],
   "source": [
    "amenities = int(input('How many amenities does the Hotel have? '))\n",
    "if amenities == 1:\n",
    "    print(f'the hotel has a 1 star')\n",
    "elif amenities == 2:\n",
    "    print(f'the hotel has a 2 star')\n",
    "\n",
    "    "
   ]
  },
  {
   "cell_type": "markdown",
   "id": "08b1b095-22fd-4889-a32e-e5a40f60915f",
   "metadata": {},
   "source": [
    "# 9"
   ]
  },
  {
   "cell_type": "code",
   "execution_count": 21,
   "id": "dceaeee6-5b4c-42fb-a1b6-1a61f5544a7c",
   "metadata": {},
   "outputs": [
    {
     "name": "stdin",
     "output_type": "stream",
     "text": [
      "Enter your running time at the gym:  90\n"
     ]
    },
    {
     "name": "stdout",
     "output_type": "stream",
     "text": [
      "The user is a newbie\n"
     ]
    }
   ],
   "source": [
    "running_time = int(input('Enter your running time at the gym: '))\n",
    "if running_time > 40:\n",
    "    print(f'The user is a newbie')\n",
    "elif running_time >= 36 and running_time <= 40:\n",
    "    print(f'The user is a very beginner')\n",
    "elif running_time >= 31 and running_time <= 35:\n",
    "    print(f'The user is a beginner')\n",
    "elif running_time >= 26 and running_time <= 30:\n",
    "    print(f'The user is a Novice')\n",
    "elif running_time >= 21 and running_time <= 25:\n",
    "    print(f'The user is intermediate')\n",
    "elif running_time >= 16 and running_time <= 20:\n",
    "    print(f'The user is advanced')\n",
    "elif running_time < 15:\n",
    "    print(f'The user is an elite')"
   ]
  },
  {
   "cell_type": "markdown",
   "id": "6d88f46c-3b19-40dd-a210-0e80aa376c8e",
   "metadata": {},
   "source": [
    "# ASSIGNMENT 3"
   ]
  },
  {
   "cell_type": "code",
   "execution_count": 34,
   "id": "a66ea8fc-cf16-4ba7-8c0a-b1b094ac7d7d",
   "metadata": {},
   "outputs": [
    {
     "ename": "AttributeError",
     "evalue": "module 'random' has no attribute 'randit'",
     "output_type": "error",
     "traceback": [
      "\u001b[1;31m---------------------------------------------------------------------------\u001b[0m",
      "\u001b[1;31mAttributeError\u001b[0m                            Traceback (most recent call last)",
      "Cell \u001b[1;32mIn[34], line 5\u001b[0m\n\u001b[0;32m      3\u001b[0m counter \u001b[38;5;241m=\u001b[39m \u001b[38;5;241m1\u001b[39m\n\u001b[0;32m      4\u001b[0m \u001b[38;5;28;01mwhile\u001b[39;00m counter \u001b[38;5;241m<\u001b[39m\u001b[38;5;241m=\u001b[39m \u001b[38;5;241m50\u001b[39m:\n\u001b[1;32m----> 5\u001b[0m     num \u001b[38;5;241m=\u001b[39m random\u001b[38;5;241m.\u001b[39mrandit(\u001b[38;5;241m15\u001b[39m,\u001b[38;5;241m85\u001b[39m)\n\u001b[0;32m      6\u001b[0m     numbers\u001b[38;5;241m.\u001b[39mappend(num)\n\u001b[0;32m      7\u001b[0m     counter \u001b[38;5;241m=\u001b[39m counter \u001b[38;5;241m+\u001b[39m \u001b[38;5;241m1\u001b[39m \n",
      "\u001b[1;31mAttributeError\u001b[0m: module 'random' has no attribute 'randit'"
     ]
    }
   ],
   "source": [
    "import random\n",
    "numbers = []\n",
    "counter = 1\n",
    "while counter <= 50:\n",
    "    num = random.randit(15,85)\n",
    "    numbers.append(num)\n",
    "    counter = counter + 1 \n",
    "print(numbers)"
   ]
  },
  {
   "cell_type": "code",
   "execution_count": null,
   "id": "5f7ebf5b-d01e-4b52-afac-d132da759629",
   "metadata": {},
   "outputs": [],
   "source": []
  }
 ],
 "metadata": {
  "kernelspec": {
   "display_name": "Python 3 (ipykernel)",
   "language": "python",
   "name": "python3"
  },
  "language_info": {
   "codemirror_mode": {
    "name": "ipython",
    "version": 3
   },
   "file_extension": ".py",
   "mimetype": "text/x-python",
   "name": "python",
   "nbconvert_exporter": "python",
   "pygments_lexer": "ipython3",
   "version": "3.11.7"
  }
 },
 "nbformat": 4,
 "nbformat_minor": 5
}
